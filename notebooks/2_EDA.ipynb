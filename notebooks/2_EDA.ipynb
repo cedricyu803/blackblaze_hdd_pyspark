{
 "cells": [
  {
   "cell_type": "code",
   "execution_count": 1,
   "metadata": {},
   "outputs": [],
   "source": [
    "import os\n",
    "import gc\n",
    "from copy import deepcopy\n",
    "\n",
    "import pandas as pd\n",
    "from pyspark.sql import SparkSession\n",
    "from pyspark.sql import functions as F\n",
    "from pyspark.sql.window import Window\n",
    "\n",
    "pd.set_option('display.max_rows', 100)\n",
    "pd.set_option('display.max_columns', 200)\n",
    "\n",
    "%load_ext autoreload\n",
    "%autoreload 2"
   ]
  },
  {
   "cell_type": "code",
   "execution_count": 2,
   "metadata": {},
   "outputs": [
    {
     "data": {
      "text/plain": [
       "True"
      ]
     },
     "execution_count": 2,
     "metadata": {},
     "output_type": "execute_result"
    }
   ],
   "source": [
    "data_dir = '../data'\n",
    "data_filepath = os.path.join(data_dir, 'harddrive_nodup')\n",
    "os.path.exists(data_filepath)"
   ]
  },
  {
   "cell_type": "markdown",
   "metadata": {},
   "source": [
    "## Load data with PySpark session"
   ]
  },
  {
   "cell_type": "code",
   "execution_count": 3,
   "metadata": {},
   "outputs": [
    {
     "name": "stderr",
     "output_type": "stream",
     "text": [
      "your 131072x1 screen size is bogus. expect trouble\n",
      "24/08/23 19:39:44 WARN Utils: Your hostname, cedric-yu-work resolves to a loopback address: 127.0.1.1; using 10.255.255.254 instead (on interface lo)\n",
      "24/08/23 19:39:44 WARN Utils: Set SPARK_LOCAL_IP if you need to bind to another address\n",
      "Setting default log level to \"WARN\".\n",
      "To adjust logging level use sc.setLogLevel(newLevel). For SparkR, use setLogLevel(newLevel).\n",
      "24/08/23 19:39:44 WARN NativeCodeLoader: Unable to load native-hadoop library for your platform... using builtin-java classes where applicable\n"
     ]
    }
   ],
   "source": [
    "spark = (SparkSession.builder\n",
    "         .config(\"spark.driver.memory\", \"12g\")\n",
    "         .appName(\"SparkSQL\").getOrCreate())"
   ]
  },
  {
   "cell_type": "code",
   "execution_count": 4,
   "metadata": {},
   "outputs": [],
   "source": [
    "date_col = 'date'\n",
    "target_label = 'failure'\n",
    "id_cols = ['serial_number', 'model']\n"
   ]
  },
  {
   "cell_type": "code",
   "execution_count": 5,
   "metadata": {},
   "outputs": [
    {
     "name": "stderr",
     "output_type": "stream",
     "text": [
      "                                                                                \r"
     ]
    }
   ],
   "source": [
    "df = (spark.read.option(\"header\", \"true\")\n",
    "      .option(\"inferSchema\", \"true\")\n",
    "      .csv(data_filepath))"
   ]
  },
  {
   "cell_type": "code",
   "execution_count": 6,
   "metadata": {},
   "outputs": [],
   "source": [
    "# replace \"NA\" by None\n",
    "df = (df\n",
    "      .select([F.when(F.col(c) == \"NA\", None)\n",
    "               .otherwise(F.col(c))\n",
    "               .alias(c)\n",
    "               for c in df.columns]))\n"
   ]
  },
  {
   "cell_type": "code",
   "execution_count": 7,
   "metadata": {},
   "outputs": [],
   "source": [
    "\n",
    "def get_less_na_cols(df, na_frac_cutoff: float = 0.4):\n",
    "    num_samples = df.count()\n",
    "    na_frac = df.select([F.count(F.when(F.col(c).isNull(), c)).alias(c)\n",
    "                         for c in df.columns]).cache()\n",
    "    for field in na_frac.schema.fields:\n",
    "        name = str(field.name)\n",
    "        na_frac = na_frac.withColumn(name, F.col(name) / num_samples)\n",
    "    cols_to_keep = [date_col, target_label] + id_cols\n",
    "    for key, value in na_frac.first().asDict().items():\n",
    "        if value > na_frac_cutoff:\n",
    "            continue\n",
    "        elif key not in cols_to_keep:\n",
    "            cols_to_keep.append(key)\n",
    "    return cols_to_keep\n"
   ]
  },
  {
   "cell_type": "code",
   "execution_count": 9,
   "metadata": {},
   "outputs": [
    {
     "name": "stderr",
     "output_type": "stream",
     "text": [
      "24/08/23 19:40:22 WARN SparkStringUtils: Truncated the string representation of a plan since it was too large. This behavior can be adjusted by setting 'spark.sql.debug.maxToStringFields'.\n",
      "                                                                                \r"
     ]
    }
   ],
   "source": [
    "cols_to_keep = get_less_na_cols(df, na_frac_cutoff=0.4)"
   ]
  },
  {
   "cell_type": "code",
   "execution_count": 11,
   "metadata": {},
   "outputs": [
    {
     "data": {
      "text/plain": [
       "37"
      ]
     },
     "execution_count": 11,
     "metadata": {},
     "output_type": "execute_result"
    }
   ],
   "source": [
    "len(cols_to_keep)"
   ]
  },
  {
   "cell_type": "code",
   "execution_count": 16,
   "metadata": {},
   "outputs": [
    {
     "data": {
      "text/plain": [
       "['date',\n",
       " 'failure',\n",
       " 'serial_number',\n",
       " 'model',\n",
       " 'capacity_bytes',\n",
       " 'smart_1_normalized',\n",
       " 'smart_1_raw',\n",
       " 'smart_3_normalized',\n",
       " 'smart_3_raw',\n",
       " 'smart_4_normalized',\n",
       " 'smart_4_raw',\n",
       " 'smart_5_normalized',\n",
       " 'smart_5_raw',\n",
       " 'smart_7_normalized',\n",
       " 'smart_7_raw',\n",
       " 'smart_9_normalized',\n",
       " 'smart_9_raw',\n",
       " 'smart_10_normalized',\n",
       " 'smart_10_raw',\n",
       " 'smart_12_normalized',\n",
       " 'smart_12_raw',\n",
       " 'smart_188_raw',\n",
       " 'smart_192_normalized',\n",
       " 'smart_192_raw',\n",
       " 'smart_193_normalized',\n",
       " 'smart_193_raw',\n",
       " 'smart_194_normalized',\n",
       " 'smart_194_raw',\n",
       " 'smart_197_normalized',\n",
       " 'smart_197_raw',\n",
       " 'smart_198_normalized',\n",
       " 'smart_198_raw',\n",
       " 'smart_199_normalized',\n",
       " 'smart_199_raw',\n",
       " 'smart_240_raw',\n",
       " 'smart_241_raw',\n",
       " 'smart_242_raw']"
      ]
     },
     "execution_count": 16,
     "metadata": {},
     "output_type": "execute_result"
    }
   ],
   "source": [
    "cols_to_keep"
   ]
  },
  {
   "cell_type": "code",
   "execution_count": 17,
   "metadata": {},
   "outputs": [
    {
     "data": {
      "text/plain": [
       "['smart_2_normalized',\n",
       " 'smart_2_raw',\n",
       " 'smart_8_normalized',\n",
       " 'smart_8_raw',\n",
       " 'smart_11_normalized',\n",
       " 'smart_11_raw',\n",
       " 'smart_13_normalized',\n",
       " 'smart_13_raw',\n",
       " 'smart_15_normalized',\n",
       " 'smart_15_raw',\n",
       " 'smart_22_normalized',\n",
       " 'smart_22_raw',\n",
       " 'smart_183_normalized',\n",
       " 'smart_183_raw',\n",
       " 'smart_184_normalized',\n",
       " 'smart_184_raw',\n",
       " 'smart_187_normalized',\n",
       " 'smart_187_raw',\n",
       " 'smart_188_normalized',\n",
       " 'smart_189_normalized',\n",
       " 'smart_189_raw',\n",
       " 'smart_190_normalized',\n",
       " 'smart_190_raw',\n",
       " 'smart_191_normalized',\n",
       " 'smart_191_raw',\n",
       " 'smart_195_normalized',\n",
       " 'smart_195_raw',\n",
       " 'smart_196_normalized',\n",
       " 'smart_196_raw',\n",
       " 'smart_200_normalized',\n",
       " 'smart_200_raw',\n",
       " 'smart_201_normalized',\n",
       " 'smart_201_raw',\n",
       " 'smart_220_normalized',\n",
       " 'smart_220_raw',\n",
       " 'smart_222_normalized',\n",
       " 'smart_222_raw',\n",
       " 'smart_223_normalized',\n",
       " 'smart_223_raw',\n",
       " 'smart_224_normalized',\n",
       " 'smart_224_raw',\n",
       " 'smart_225_normalized',\n",
       " 'smart_225_raw',\n",
       " 'smart_226_normalized',\n",
       " 'smart_226_raw',\n",
       " 'smart_240_normalized',\n",
       " 'smart_241_normalized',\n",
       " 'smart_242_normalized',\n",
       " 'smart_250_normalized',\n",
       " 'smart_250_raw',\n",
       " 'smart_251_normalized',\n",
       " 'smart_251_raw',\n",
       " 'smart_252_normalized',\n",
       " 'smart_252_raw',\n",
       " 'smart_254_normalized',\n",
       " 'smart_254_raw',\n",
       " 'smart_255_normalized',\n",
       " 'smart_255_raw']"
      ]
     },
     "execution_count": 17,
     "metadata": {},
     "output_type": "execute_result"
    }
   ],
   "source": [
    "[col for col in df.columns if col not in cols_to_keep]"
   ]
  },
  {
   "cell_type": "code",
   "execution_count": 6,
   "metadata": {},
   "outputs": [
    {
     "name": "stdout",
     "output_type": "stream",
     "text": [
      "root\n",
      " |-- date: date (nullable = true)\n",
      " |-- serial_number: string (nullable = true)\n",
      " |-- model: string (nullable = true)\n",
      " |-- capacity_bytes: double (nullable = true)\n",
      " |-- failure: integer (nullable = true)\n",
      " |-- smart_1_normalized: integer (nullable = true)\n",
      " |-- smart_1_raw: integer (nullable = true)\n",
      " |-- smart_2_normalized: string (nullable = true)\n",
      " |-- smart_2_raw: string (nullable = true)\n",
      " |-- smart_3_normalized: integer (nullable = true)\n",
      " |-- smart_3_raw: integer (nullable = true)\n",
      " |-- smart_4_normalized: integer (nullable = true)\n",
      " |-- smart_4_raw: integer (nullable = true)\n",
      " |-- smart_5_normalized: integer (nullable = true)\n",
      " |-- smart_5_raw: integer (nullable = true)\n",
      " |-- smart_7_normalized: integer (nullable = true)\n",
      " |-- smart_7_raw: double (nullable = true)\n",
      " |-- smart_8_normalized: string (nullable = true)\n",
      " |-- smart_8_raw: string (nullable = true)\n",
      " |-- smart_9_normalized: integer (nullable = true)\n",
      " |-- smart_9_raw: integer (nullable = true)\n",
      " |-- smart_10_normalized: integer (nullable = true)\n",
      " |-- smart_10_raw: integer (nullable = true)\n",
      " |-- smart_11_normalized: string (nullable = true)\n",
      " |-- smart_11_raw: string (nullable = true)\n",
      " |-- smart_12_normalized: integer (nullable = true)\n",
      " |-- smart_12_raw: integer (nullable = true)\n",
      " |-- smart_13_normalized: string (nullable = true)\n",
      " |-- smart_13_raw: string (nullable = true)\n",
      " |-- smart_15_normalized: string (nullable = true)\n",
      " |-- smart_15_raw: string (nullable = true)\n",
      " |-- smart_22_normalized: string (nullable = true)\n",
      " |-- smart_22_raw: string (nullable = true)\n",
      " |-- smart_183_normalized: string (nullable = true)\n",
      " |-- smart_183_raw: string (nullable = true)\n",
      " |-- smart_184_normalized: string (nullable = true)\n",
      " |-- smart_184_raw: string (nullable = true)\n",
      " |-- smart_187_normalized: string (nullable = true)\n",
      " |-- smart_187_raw: string (nullable = true)\n",
      " |-- smart_188_normalized: string (nullable = true)\n",
      " |-- smart_188_raw: double (nullable = true)\n",
      " |-- smart_189_normalized: string (nullable = true)\n",
      " |-- smart_189_raw: string (nullable = true)\n",
      " |-- smart_190_normalized: string (nullable = true)\n",
      " |-- smart_190_raw: string (nullable = true)\n",
      " |-- smart_191_normalized: string (nullable = true)\n",
      " |-- smart_191_raw: string (nullable = true)\n",
      " |-- smart_192_normalized: string (nullable = true)\n",
      " |-- smart_192_raw: string (nullable = true)\n",
      " |-- smart_193_normalized: string (nullable = true)\n",
      " |-- smart_193_raw: string (nullable = true)\n",
      " |-- smart_194_normalized: string (nullable = true)\n",
      " |-- smart_194_raw: string (nullable = true)\n",
      " |-- smart_195_normalized: string (nullable = true)\n",
      " |-- smart_195_raw: string (nullable = true)\n",
      " |-- smart_196_normalized: string (nullable = true)\n",
      " |-- smart_196_raw: string (nullable = true)\n",
      " |-- smart_197_normalized: integer (nullable = true)\n",
      " |-- smart_197_raw: integer (nullable = true)\n",
      " |-- smart_198_normalized: integer (nullable = true)\n",
      " |-- smart_198_raw: integer (nullable = true)\n",
      " |-- smart_199_normalized: integer (nullable = true)\n",
      " |-- smart_199_raw: integer (nullable = true)\n",
      " |-- smart_200_normalized: string (nullable = true)\n",
      " |-- smart_200_raw: string (nullable = true)\n",
      " |-- smart_201_normalized: string (nullable = true)\n",
      " |-- smart_201_raw: string (nullable = true)\n",
      " |-- smart_220_normalized: string (nullable = true)\n",
      " |-- smart_220_raw: string (nullable = true)\n",
      " |-- smart_222_normalized: string (nullable = true)\n",
      " |-- smart_222_raw: string (nullable = true)\n",
      " |-- smart_223_normalized: string (nullable = true)\n",
      " |-- smart_223_raw: string (nullable = true)\n",
      " |-- smart_224_normalized: string (nullable = true)\n",
      " |-- smart_224_raw: string (nullable = true)\n",
      " |-- smart_225_normalized: string (nullable = true)\n",
      " |-- smart_225_raw: string (nullable = true)\n",
      " |-- smart_226_normalized: string (nullable = true)\n",
      " |-- smart_226_raw: string (nullable = true)\n",
      " |-- smart_240_normalized: string (nullable = true)\n",
      " |-- smart_240_raw: double (nullable = true)\n",
      " |-- smart_241_normalized: string (nullable = true)\n",
      " |-- smart_241_raw: double (nullable = true)\n",
      " |-- smart_242_normalized: string (nullable = true)\n",
      " |-- smart_242_raw: double (nullable = true)\n",
      " |-- smart_250_normalized: string (nullable = true)\n",
      " |-- smart_250_raw: string (nullable = true)\n",
      " |-- smart_251_normalized: string (nullable = true)\n",
      " |-- smart_251_raw: string (nullable = true)\n",
      " |-- smart_252_normalized: string (nullable = true)\n",
      " |-- smart_252_raw: string (nullable = true)\n",
      " |-- smart_254_normalized: string (nullable = true)\n",
      " |-- smart_254_raw: string (nullable = true)\n",
      " |-- smart_255_normalized: string (nullable = true)\n",
      " |-- smart_255_raw: string (nullable = true)\n",
      "\n"
     ]
    }
   ],
   "source": [
    "df.printSchema()"
   ]
  },
  {
   "cell_type": "code",
   "execution_count": 7,
   "metadata": {},
   "outputs": [
    {
     "name": "stderr",
     "output_type": "stream",
     "text": [
      "24/08/23 16:29:15 WARN SparkStringUtils: Truncated the string representation of a plan since it was too large. This behavior can be adjusted by setting 'spark.sql.debug.maxToStringFields'.\n"
     ]
    },
    {
     "name": "stdout",
     "output_type": "stream",
     "text": [
      "+----------+-------------+--------------------+-------------------+-------+------------------+-----------+------------------+-----------+------------------+-----------+------------------+-----------+------------------+-----------+------------------+-----------+------------------+-----------+------------------+-----------+-------------------+------------+-------------------+------------+-------------------+------------+-------------------+------------+-------------------+------------+-------------------+------------+--------------------+-------------+--------------------+-------------+--------------------+-------------+--------------------+-------------+--------------------+-------------+--------------------+-------------+--------------------+-------------+--------------------+-------------+--------------------+-------------+--------------------+-------------+--------------------+-------------+--------------------+-------------+--------------------+-------------+--------------------+-------------+--------------------+-------------+--------------------+-------------+--------------------+-------------+--------------------+-------------+--------------------+-------------+--------------------+-------------+--------------------+-------------+--------------------+-------------+--------------------+-------------+--------------------+-------------+--------------------+-------------+--------------------+-------------+--------------------+-------------+--------------------+-------------+--------------------+-------------+--------------------+-------------+--------------------+-------------+\n",
      "|      date|serial_number|               model|     capacity_bytes|failure|smart_1_normalized|smart_1_raw|smart_2_normalized|smart_2_raw|smart_3_normalized|smart_3_raw|smart_4_normalized|smart_4_raw|smart_5_normalized|smart_5_raw|smart_7_normalized|smart_7_raw|smart_8_normalized|smart_8_raw|smart_9_normalized|smart_9_raw|smart_10_normalized|smart_10_raw|smart_11_normalized|smart_11_raw|smart_12_normalized|smart_12_raw|smart_13_normalized|smart_13_raw|smart_15_normalized|smart_15_raw|smart_22_normalized|smart_22_raw|smart_183_normalized|smart_183_raw|smart_184_normalized|smart_184_raw|smart_187_normalized|smart_187_raw|smart_188_normalized|smart_188_raw|smart_189_normalized|smart_189_raw|smart_190_normalized|smart_190_raw|smart_191_normalized|smart_191_raw|smart_192_normalized|smart_192_raw|smart_193_normalized|smart_193_raw|smart_194_normalized|smart_194_raw|smart_195_normalized|smart_195_raw|smart_196_normalized|smart_196_raw|smart_197_normalized|smart_197_raw|smart_198_normalized|smart_198_raw|smart_199_normalized|smart_199_raw|smart_200_normalized|smart_200_raw|smart_201_normalized|smart_201_raw|smart_220_normalized|smart_220_raw|smart_222_normalized|smart_222_raw|smart_223_normalized|smart_223_raw|smart_224_normalized|smart_224_raw|smart_225_normalized|smart_225_raw|smart_226_normalized|smart_226_raw|smart_240_normalized|smart_240_raw|smart_241_normalized|smart_241_raw|smart_242_normalized|smart_242_raw|smart_250_normalized|smart_250_raw|smart_251_normalized|smart_251_raw|smart_252_normalized|smart_252_raw|smart_254_normalized|smart_254_raw|smart_255_normalized|smart_255_raw|\n",
      "+----------+-------------+--------------------+-------------------+-------+------------------+-----------+------------------+-----------+------------------+-----------+------------------+-----------+------------------+-----------+------------------+-----------+------------------+-----------+------------------+-----------+-------------------+------------+-------------------+------------+-------------------+------------+-------------------+------------+-------------------+------------+-------------------+------------+--------------------+-------------+--------------------+-------------+--------------------+-------------+--------------------+-------------+--------------------+-------------+--------------------+-------------+--------------------+-------------+--------------------+-------------+--------------------+-------------+--------------------+-------------+--------------------+-------------+--------------------+-------------+--------------------+-------------+--------------------+-------------+--------------------+-------------+--------------------+-------------+--------------------+-------------+--------------------+-------------+--------------------+-------------+--------------------+-------------+--------------------+-------------+--------------------+-------------+--------------------+-------------+--------------------+-------------+--------------------+-------------+--------------------+-------------+--------------------+-------------+--------------------+-------------+--------------------+-------------+--------------------+-------------+--------------------+-------------+\n",
      "|2016-01-01| 2511K0QAFMYB| TOSHIBA MD04ABA400V|1.976651427858E-311|      0|               100|          0|               100|          0|               100|       5452|               100|          3|               100|          0|               100|        0.0|               100|          0|                82|       7399|                100|           0|                 NA|          NA|                100|           3|                 NA|          NA|                 NA|          NA|                 NA|          NA|                  NA|           NA|                  NA|           NA|                  NA|           NA|                  NA|          0.0|                  NA|           NA|                  NA|           NA|                 100|            0|                 100|            0|                 100|          136|                 100|           33|                  NA|           NA|                 100|            0|                 100|            0|                 100|            0|                 200|            0|                  NA|           NA|                  NA|           NA|                 100|            0|                  82|         7374|                 100|            0|                 100|            0|                  NA|           NA|                 100|          370|                 100|          0.0|                  NA|          0.0|                  NA|          0.0|                  NA|           NA|                  NA|           NA|                  NA|           NA|                  NA|           NA|                  NA|           NA|\n",
      "|2016-01-01| 2544K0HKFMYB| TOSHIBA MD04ABA400V|1.976651427858E-311|      0|               100|          0|               100|          0|               100|       5393|               100|          3|               100|          0|               100|        0.0|               100|          0|                82|       7400|                100|           0|                 NA|          NA|                100|           3|                 NA|          NA|                 NA|          NA|                 NA|          NA|                  NA|           NA|                  NA|           NA|                  NA|           NA|                  NA|          0.0|                  NA|           NA|                  NA|           NA|                 100|            0|                 100|            0|                 100|          324|                 100|           32|                  NA|           NA|                 100|            0|                 100|            0|                 100|            0|                 200|            0|                  NA|           NA|                  NA|           NA|                 100|            0|                  82|         7358|                 100|            0|                 100|            0|                  NA|           NA|                 100|          384|                 100|          0.0|                  NA|          0.0|                  NA|          0.0|                  NA|           NA|                  NA|           NA|                  NA|           NA|                  NA|           NA|                  NA|           NA|\n",
      "|2016-01-01| 2544K0HNFMYB| TOSHIBA MD04ABA400V|1.976651427858E-311|      0|               100|          0|               100|          0|               100|       5337|               100|          3|               100|          0|               100|        0.0|               100|          0|                82|       7398|                100|           0|                 NA|          NA|                100|           3|                 NA|          NA|                 NA|          NA|                 NA|          NA|                  NA|           NA|                  NA|           NA|                  NA|           NA|                  NA|          0.0|                  NA|           NA|                  NA|           NA|                 100|            0|                 100|            0|                 100|          140|                 100|           32|                  NA|           NA|                 100|            0|                 100|            0|                 100|            0|                 200|            0|                  NA|           NA|                  NA|           NA|                 100|            0|                  82|         7374|                 100|            0|                 100|            0|                  NA|           NA|                 100|          388|                 100|          0.0|                  NA|          0.0|                  NA|          0.0|                  NA|           NA|                  NA|           NA|                  NA|           NA|                  NA|           NA|                  NA|           NA|\n",
      "|2016-01-01|     2EG3LU3J|HGST HUH728080ALE600|3.953297501025E-311|      0|               100|          0|               134|        104|               100|          0|               100|          7|               100|          0|               100|        0.0|               128|         18|                99|       7928|                100|           0|                 NA|          NA|                100|           7|                 NA|          NA|                 NA|          NA|                100|         100|                  NA|           NA|                  NA|           NA|                  NA|           NA|                  NA|          0.0|                  NA|           NA|                  NA|           NA|                  NA|           NA|                 100|          732|                 100|          732|                 187|           32|                  NA|           NA|                 100|            0|                 100|            0|                 100|            0|                 200|            0|                  NA|           NA|                  NA|           NA|                  NA|           NA|                  NA|           NA|                  NA|           NA|                  NA|           NA|                  NA|           NA|                  NA|           NA|                  NA|          0.0|                  NA|          0.0|                  NA|          0.0|                  NA|           NA|                  NA|           NA|                  NA|           NA|                  NA|           NA|                  NA|           NA|\n",
      "|2016-01-01|     2EG4K5MP|HGST HUH728080ALE600|3.953297501025E-311|      0|               100|          0|               134|        104|               100|          0|               100|          7|               100|          0|               100|        0.0|               128|         18|                99|       7928|                100|           0|                 NA|          NA|                100|           7|                 NA|          NA|                 NA|          NA|                100|         100|                  NA|           NA|                  NA|           NA|                  NA|           NA|                  NA|          0.0|                  NA|           NA|                  NA|           NA|                  NA|           NA|                 100|          697|                 100|          697|                 162|           37|                  NA|           NA|                 100|            0|                 100|            0|                 100|            0|                 200|            0|                  NA|           NA|                  NA|           NA|                  NA|           NA|                  NA|           NA|                  NA|           NA|                  NA|           NA|                  NA|           NA|                  NA|           NA|                  NA|          0.0|                  NA|          0.0|                  NA|          0.0|                  NA|           NA|                  NA|           NA|                  NA|           NA|                  NA|           NA|                  NA|           NA|\n",
      "|2016-01-01|     2EG4M8BR|HGST HUH728080ALE600|3.953297501025E-311|      0|               100|          0|               134|        104|               100|          0|               100|          6|               100|          0|               100|        0.0|               128|         18|                99|       7928|                100|           0|                 NA|          NA|                100|           6|                 NA|          NA|                 NA|          NA|                100|         100|                  NA|           NA|                  NA|           NA|                  NA|           NA|                  NA|          0.0|                  NA|           NA|                  NA|           NA|                  NA|           NA|                 100|          781|                 100|          781|                 157|           38|                  NA|           NA|                 100|            0|                 100|            0|                 100|            0|                 200|            0|                  NA|           NA|                  NA|           NA|                  NA|           NA|                  NA|           NA|                  NA|           NA|                  NA|           NA|                  NA|           NA|                  NA|           NA|                  NA|          0.0|                  NA|          0.0|                  NA|          0.0|                  NA|           NA|                  NA|           NA|                  NA|           NA|                  NA|           NA|                  NA|           NA|\n",
      "|2016-01-01|     2EG4MH7R|HGST HUH728080ALE600|3.953297501025E-311|      0|               100|          0|               134|        104|               100|          0|               100|          6|               100|          0|               100|        0.0|               128|         18|                99|       7928|                100|           0|                 NA|          NA|                100|           6|                 NA|          NA|                 NA|          NA|                100|         100|                  NA|           NA|                  NA|           NA|                  NA|           NA|                  NA|          0.0|                  NA|           NA|                  NA|           NA|                  NA|           NA|                 100|          676|                 100|          676|                 157|           38|                  NA|           NA|                 100|            0|                 100|            0|                 100|            0|                 200|            0|                  NA|           NA|                  NA|           NA|                  NA|           NA|                  NA|           NA|                  NA|           NA|                  NA|           NA|                  NA|           NA|                  NA|           NA|                  NA|          0.0|                  NA|          0.0|                  NA|          0.0|                  NA|           NA|                  NA|           NA|                  NA|           NA|                  NA|           NA|                  NA|           NA|\n",
      "|2016-01-01| 45A6K0YOFMYB| TOSHIBA MD04ABA400V|1.976651427858E-311|      0|               100|          0|               100|          0|               100|       5386|               100|          7|               100|          0|               100|        0.0|               100|          0|                87|       5505|                100|           0|                 NA|          NA|                100|           7|                 NA|          NA|                 NA|          NA|                 NA|          NA|                  NA|           NA|                  NA|           NA|                  NA|           NA|                  NA|          0.0|                  NA|           NA|                  NA|           NA|                 100|            3|                 100|            0|                 100|          204|                 100|           18|                  NA|           NA|                 100|            0|                 100|            0|                 100|            0|                 200|            0|                  NA|           NA|                  NA|           NA|                 100|            0|                  87|         5458|                 100|            0|                 100|            0|                  NA|           NA|                 100|          370|                 100|          0.0|                  NA|          0.0|                  NA|          0.0|                  NA|           NA|                  NA|           NA|                  NA|           NA|                  NA|           NA|                  NA|           NA|\n",
      "|2016-01-01| 45CHK122FMYB| TOSHIBA MD04ABA400V|1.976651427858E-311|      0|               100|          0|               100|          0|               100|       5268|               100|          9|               100|          0|               100|        0.0|               100|          0|                87|       5505|                100|           0|                 NA|          NA|                100|           9|                 NA|          NA|                 NA|          NA|                 NA|          NA|                  NA|           NA|                  NA|           NA|                  NA|           NA|                  NA|          0.0|                  NA|           NA|                  NA|           NA|                 100|            2|                 100|            1|                 100|          234|                 100|           21|                  NA|           NA|                 100|            0|                 100|            0|                 100|            0|                 200|            0|                  NA|           NA|                  NA|           NA|                 100|            0|                  87|         5455|                 100|            0|                 100|            0|                  NA|           NA|                 100|          369|                 100|          0.0|                  NA|          0.0|                  NA|          0.0|                  NA|           NA|                  NA|           NA|                  NA|           NA|                  NA|           NA|                  NA|           NA|\n",
      "|2016-01-01| 45CIK0M6FMYB| TOSHIBA MD04ABA400V|1.976651427858E-311|      0|               100|          0|               100|          0|               100|       5422|               100|          8|               100|          0|               100|        0.0|               100|          0|                87|       5506|                100|           0|                 NA|          NA|                100|           8|                 NA|          NA|                 NA|          NA|                 NA|          NA|                  NA|           NA|                  NA|           NA|                  NA|           NA|                  NA|          0.0|                  NA|           NA|                  NA|           NA|                 100|           11|                 100|            1|                 100|          213|                 100|           17|                  NA|           NA|                 100|            0|                 100|            0|                 100|            0|                 200|            0|                  NA|           NA|                  NA|           NA|                 100|            0|                  87|         5456|                 100|            0|                 100|            0|                  NA|           NA|                 100|          390|                 100|          0.0|                  NA|          0.0|                  NA|          0.0|                  NA|           NA|                  NA|           NA|                  NA|           NA|                  NA|           NA|                  NA|           NA|\n",
      "+----------+-------------+--------------------+-------------------+-------+------------------+-----------+------------------+-----------+------------------+-----------+------------------+-----------+------------------+-----------+------------------+-----------+------------------+-----------+------------------+-----------+-------------------+------------+-------------------+------------+-------------------+------------+-------------------+------------+-------------------+------------+-------------------+------------+--------------------+-------------+--------------------+-------------+--------------------+-------------+--------------------+-------------+--------------------+-------------+--------------------+-------------+--------------------+-------------+--------------------+-------------+--------------------+-------------+--------------------+-------------+--------------------+-------------+--------------------+-------------+--------------------+-------------+--------------------+-------------+--------------------+-------------+--------------------+-------------+--------------------+-------------+--------------------+-------------+--------------------+-------------+--------------------+-------------+--------------------+-------------+--------------------+-------------+--------------------+-------------+--------------------+-------------+--------------------+-------------+--------------------+-------------+--------------------+-------------+--------------------+-------------+--------------------+-------------+--------------------+-------------+--------------------+-------------+\n",
      "only showing top 10 rows\n",
      "\n"
     ]
    }
   ],
   "source": [
    "df.show(10)"
   ]
  },
  {
   "cell_type": "code",
   "execution_count": 6,
   "metadata": {},
   "outputs": [],
   "source": [
    "num_samples = df.count()"
   ]
  },
  {
   "cell_type": "code",
   "execution_count": 33,
   "metadata": {},
   "outputs": [
    {
     "data": {
      "text/plain": [
       "3058798"
      ]
     },
     "execution_count": 33,
     "metadata": {},
     "output_type": "execute_result"
    }
   ],
   "source": [
    "num_samples"
   ]
  },
  {
   "cell_type": "code",
   "execution_count": 7,
   "metadata": {},
   "outputs": [
    {
     "data": {
      "text/plain": [
       "112"
      ]
     },
     "execution_count": 7,
     "metadata": {},
     "output_type": "execute_result"
    }
   ],
   "source": [
    "gc.collect()"
   ]
  },
  {
   "cell_type": "markdown",
   "metadata": {},
   "source": [
    "## Null values"
   ]
  },
  {
   "cell_type": "markdown",
   "metadata": {},
   "source": [
    "Null values are 'NA'. Replace 'NA' by NULL"
   ]
  },
  {
   "cell_type": "code",
   "execution_count": 8,
   "metadata": {},
   "outputs": [],
   "source": [
    "df = (df\n",
    "      .select([F.when(F.col(c)==\"NA\", None)\n",
    "               .otherwise(F.col(c))\n",
    "               .alias(c)\n",
    "               for c in df.columns]))"
   ]
  },
  {
   "cell_type": "code",
   "execution_count": 9,
   "metadata": {},
   "outputs": [
    {
     "name": "stderr",
     "output_type": "stream",
     "text": [
      "24/08/23 17:21:31 WARN SparkStringUtils: Truncated the string representation of a plan since it was too large. This behavior can be adjusted by setting 'spark.sql.debug.maxToStringFields'.\n"
     ]
    },
    {
     "name": "stdout",
     "output_type": "stream",
     "text": [
      "+----------+-------------+--------------------+-------------------+-------+------------------+-----------+------------------+-----------+------------------+-----------+------------------+-----------+------------------+-----------+------------------+-----------+------------------+-----------+------------------+-----------+-------------------+------------+-------------------+------------+-------------------+------------+-------------------+------------+-------------------+------------+-------------------+------------+--------------------+-------------+--------------------+-------------+--------------------+-------------+--------------------+-------------+--------------------+-------------+--------------------+-------------+--------------------+-------------+--------------------+-------------+--------------------+-------------+--------------------+-------------+--------------------+-------------+--------------------+-------------+--------------------+-------------+--------------------+-------------+--------------------+-------------+--------------------+-------------+--------------------+-------------+--------------------+-------------+--------------------+-------------+--------------------+-------------+--------------------+-------------+--------------------+-------------+--------------------+-------------+--------------------+-------------+--------------------+-------------+--------------------+-------------+--------------------+-------------+--------------------+-------------+--------------------+-------------+--------------------+-------------+--------------------+-------------+\n",
      "|      date|serial_number|               model|     capacity_bytes|failure|smart_1_normalized|smart_1_raw|smart_2_normalized|smart_2_raw|smart_3_normalized|smart_3_raw|smart_4_normalized|smart_4_raw|smart_5_normalized|smart_5_raw|smart_7_normalized|smart_7_raw|smart_8_normalized|smart_8_raw|smart_9_normalized|smart_9_raw|smart_10_normalized|smart_10_raw|smart_11_normalized|smart_11_raw|smart_12_normalized|smart_12_raw|smart_13_normalized|smart_13_raw|smart_15_normalized|smart_15_raw|smart_22_normalized|smart_22_raw|smart_183_normalized|smart_183_raw|smart_184_normalized|smart_184_raw|smart_187_normalized|smart_187_raw|smart_188_normalized|smart_188_raw|smart_189_normalized|smart_189_raw|smart_190_normalized|smart_190_raw|smart_191_normalized|smart_191_raw|smart_192_normalized|smart_192_raw|smart_193_normalized|smart_193_raw|smart_194_normalized|smart_194_raw|smart_195_normalized|smart_195_raw|smart_196_normalized|smart_196_raw|smart_197_normalized|smart_197_raw|smart_198_normalized|smart_198_raw|smart_199_normalized|smart_199_raw|smart_200_normalized|smart_200_raw|smart_201_normalized|smart_201_raw|smart_220_normalized|smart_220_raw|smart_222_normalized|smart_222_raw|smart_223_normalized|smart_223_raw|smart_224_normalized|smart_224_raw|smart_225_normalized|smart_225_raw|smart_226_normalized|smart_226_raw|smart_240_normalized|smart_240_raw|smart_241_normalized|smart_241_raw|smart_242_normalized|smart_242_raw|smart_250_normalized|smart_250_raw|smart_251_normalized|smart_251_raw|smart_252_normalized|smart_252_raw|smart_254_normalized|smart_254_raw|smart_255_normalized|smart_255_raw|\n",
      "+----------+-------------+--------------------+-------------------+-------+------------------+-----------+------------------+-----------+------------------+-----------+------------------+-----------+------------------+-----------+------------------+-----------+------------------+-----------+------------------+-----------+-------------------+------------+-------------------+------------+-------------------+------------+-------------------+------------+-------------------+------------+-------------------+------------+--------------------+-------------+--------------------+-------------+--------------------+-------------+--------------------+-------------+--------------------+-------------+--------------------+-------------+--------------------+-------------+--------------------+-------------+--------------------+-------------+--------------------+-------------+--------------------+-------------+--------------------+-------------+--------------------+-------------+--------------------+-------------+--------------------+-------------+--------------------+-------------+--------------------+-------------+--------------------+-------------+--------------------+-------------+--------------------+-------------+--------------------+-------------+--------------------+-------------+--------------------+-------------+--------------------+-------------+--------------------+-------------+--------------------+-------------+--------------------+-------------+--------------------+-------------+--------------------+-------------+--------------------+-------------+--------------------+-------------+\n",
      "|2016-01-01| 2511K0QAFMYB| TOSHIBA MD04ABA400V|1.976651427858E-311|      0|               100|          0|               100|          0|               100|       5452|               100|          3|               100|          0|               100|        0.0|               100|          0|                82|       7399|                100|           0|               NULL|        NULL|                100|           3|               NULL|        NULL|               NULL|        NULL|               NULL|        NULL|                NULL|         NULL|                NULL|         NULL|                NULL|         NULL|                NULL|          0.0|                NULL|         NULL|                NULL|         NULL|                 100|            0|                 100|            0|                 100|          136|                 100|           33|                NULL|         NULL|                 100|            0|                 100|            0|                 100|            0|                 200|            0|                NULL|         NULL|                NULL|         NULL|                 100|            0|                  82|         7374|                 100|            0|                 100|            0|                NULL|         NULL|                 100|          370|                 100|          0.0|                NULL|          0.0|                NULL|          0.0|                NULL|         NULL|                NULL|         NULL|                NULL|         NULL|                NULL|         NULL|                NULL|         NULL|\n",
      "|2016-01-01| 2544K0HKFMYB| TOSHIBA MD04ABA400V|1.976651427858E-311|      0|               100|          0|               100|          0|               100|       5393|               100|          3|               100|          0|               100|        0.0|               100|          0|                82|       7400|                100|           0|               NULL|        NULL|                100|           3|               NULL|        NULL|               NULL|        NULL|               NULL|        NULL|                NULL|         NULL|                NULL|         NULL|                NULL|         NULL|                NULL|          0.0|                NULL|         NULL|                NULL|         NULL|                 100|            0|                 100|            0|                 100|          324|                 100|           32|                NULL|         NULL|                 100|            0|                 100|            0|                 100|            0|                 200|            0|                NULL|         NULL|                NULL|         NULL|                 100|            0|                  82|         7358|                 100|            0|                 100|            0|                NULL|         NULL|                 100|          384|                 100|          0.0|                NULL|          0.0|                NULL|          0.0|                NULL|         NULL|                NULL|         NULL|                NULL|         NULL|                NULL|         NULL|                NULL|         NULL|\n",
      "|2016-01-01| 2544K0HNFMYB| TOSHIBA MD04ABA400V|1.976651427858E-311|      0|               100|          0|               100|          0|               100|       5337|               100|          3|               100|          0|               100|        0.0|               100|          0|                82|       7398|                100|           0|               NULL|        NULL|                100|           3|               NULL|        NULL|               NULL|        NULL|               NULL|        NULL|                NULL|         NULL|                NULL|         NULL|                NULL|         NULL|                NULL|          0.0|                NULL|         NULL|                NULL|         NULL|                 100|            0|                 100|            0|                 100|          140|                 100|           32|                NULL|         NULL|                 100|            0|                 100|            0|                 100|            0|                 200|            0|                NULL|         NULL|                NULL|         NULL|                 100|            0|                  82|         7374|                 100|            0|                 100|            0|                NULL|         NULL|                 100|          388|                 100|          0.0|                NULL|          0.0|                NULL|          0.0|                NULL|         NULL|                NULL|         NULL|                NULL|         NULL|                NULL|         NULL|                NULL|         NULL|\n",
      "|2016-01-01|     2EG3LU3J|HGST HUH728080ALE600|3.953297501025E-311|      0|               100|          0|               134|        104|               100|          0|               100|          7|               100|          0|               100|        0.0|               128|         18|                99|       7928|                100|           0|               NULL|        NULL|                100|           7|               NULL|        NULL|               NULL|        NULL|                100|         100|                NULL|         NULL|                NULL|         NULL|                NULL|         NULL|                NULL|          0.0|                NULL|         NULL|                NULL|         NULL|                NULL|         NULL|                 100|          732|                 100|          732|                 187|           32|                NULL|         NULL|                 100|            0|                 100|            0|                 100|            0|                 200|            0|                NULL|         NULL|                NULL|         NULL|                NULL|         NULL|                NULL|         NULL|                NULL|         NULL|                NULL|         NULL|                NULL|         NULL|                NULL|         NULL|                NULL|          0.0|                NULL|          0.0|                NULL|          0.0|                NULL|         NULL|                NULL|         NULL|                NULL|         NULL|                NULL|         NULL|                NULL|         NULL|\n",
      "|2016-01-01|     2EG4K5MP|HGST HUH728080ALE600|3.953297501025E-311|      0|               100|          0|               134|        104|               100|          0|               100|          7|               100|          0|               100|        0.0|               128|         18|                99|       7928|                100|           0|               NULL|        NULL|                100|           7|               NULL|        NULL|               NULL|        NULL|                100|         100|                NULL|         NULL|                NULL|         NULL|                NULL|         NULL|                NULL|          0.0|                NULL|         NULL|                NULL|         NULL|                NULL|         NULL|                 100|          697|                 100|          697|                 162|           37|                NULL|         NULL|                 100|            0|                 100|            0|                 100|            0|                 200|            0|                NULL|         NULL|                NULL|         NULL|                NULL|         NULL|                NULL|         NULL|                NULL|         NULL|                NULL|         NULL|                NULL|         NULL|                NULL|         NULL|                NULL|          0.0|                NULL|          0.0|                NULL|          0.0|                NULL|         NULL|                NULL|         NULL|                NULL|         NULL|                NULL|         NULL|                NULL|         NULL|\n",
      "|2016-01-01|     2EG4M8BR|HGST HUH728080ALE600|3.953297501025E-311|      0|               100|          0|               134|        104|               100|          0|               100|          6|               100|          0|               100|        0.0|               128|         18|                99|       7928|                100|           0|               NULL|        NULL|                100|           6|               NULL|        NULL|               NULL|        NULL|                100|         100|                NULL|         NULL|                NULL|         NULL|                NULL|         NULL|                NULL|          0.0|                NULL|         NULL|                NULL|         NULL|                NULL|         NULL|                 100|          781|                 100|          781|                 157|           38|                NULL|         NULL|                 100|            0|                 100|            0|                 100|            0|                 200|            0|                NULL|         NULL|                NULL|         NULL|                NULL|         NULL|                NULL|         NULL|                NULL|         NULL|                NULL|         NULL|                NULL|         NULL|                NULL|         NULL|                NULL|          0.0|                NULL|          0.0|                NULL|          0.0|                NULL|         NULL|                NULL|         NULL|                NULL|         NULL|                NULL|         NULL|                NULL|         NULL|\n",
      "|2016-01-01|     2EG4MH7R|HGST HUH728080ALE600|3.953297501025E-311|      0|               100|          0|               134|        104|               100|          0|               100|          6|               100|          0|               100|        0.0|               128|         18|                99|       7928|                100|           0|               NULL|        NULL|                100|           6|               NULL|        NULL|               NULL|        NULL|                100|         100|                NULL|         NULL|                NULL|         NULL|                NULL|         NULL|                NULL|          0.0|                NULL|         NULL|                NULL|         NULL|                NULL|         NULL|                 100|          676|                 100|          676|                 157|           38|                NULL|         NULL|                 100|            0|                 100|            0|                 100|            0|                 200|            0|                NULL|         NULL|                NULL|         NULL|                NULL|         NULL|                NULL|         NULL|                NULL|         NULL|                NULL|         NULL|                NULL|         NULL|                NULL|         NULL|                NULL|          0.0|                NULL|          0.0|                NULL|          0.0|                NULL|         NULL|                NULL|         NULL|                NULL|         NULL|                NULL|         NULL|                NULL|         NULL|\n",
      "|2016-01-01| 45A6K0YOFMYB| TOSHIBA MD04ABA400V|1.976651427858E-311|      0|               100|          0|               100|          0|               100|       5386|               100|          7|               100|          0|               100|        0.0|               100|          0|                87|       5505|                100|           0|               NULL|        NULL|                100|           7|               NULL|        NULL|               NULL|        NULL|               NULL|        NULL|                NULL|         NULL|                NULL|         NULL|                NULL|         NULL|                NULL|          0.0|                NULL|         NULL|                NULL|         NULL|                 100|            3|                 100|            0|                 100|          204|                 100|           18|                NULL|         NULL|                 100|            0|                 100|            0|                 100|            0|                 200|            0|                NULL|         NULL|                NULL|         NULL|                 100|            0|                  87|         5458|                 100|            0|                 100|            0|                NULL|         NULL|                 100|          370|                 100|          0.0|                NULL|          0.0|                NULL|          0.0|                NULL|         NULL|                NULL|         NULL|                NULL|         NULL|                NULL|         NULL|                NULL|         NULL|\n",
      "|2016-01-01| 45CHK122FMYB| TOSHIBA MD04ABA400V|1.976651427858E-311|      0|               100|          0|               100|          0|               100|       5268|               100|          9|               100|          0|               100|        0.0|               100|          0|                87|       5505|                100|           0|               NULL|        NULL|                100|           9|               NULL|        NULL|               NULL|        NULL|               NULL|        NULL|                NULL|         NULL|                NULL|         NULL|                NULL|         NULL|                NULL|          0.0|                NULL|         NULL|                NULL|         NULL|                 100|            2|                 100|            1|                 100|          234|                 100|           21|                NULL|         NULL|                 100|            0|                 100|            0|                 100|            0|                 200|            0|                NULL|         NULL|                NULL|         NULL|                 100|            0|                  87|         5455|                 100|            0|                 100|            0|                NULL|         NULL|                 100|          369|                 100|          0.0|                NULL|          0.0|                NULL|          0.0|                NULL|         NULL|                NULL|         NULL|                NULL|         NULL|                NULL|         NULL|                NULL|         NULL|\n",
      "|2016-01-01| 45CIK0M6FMYB| TOSHIBA MD04ABA400V|1.976651427858E-311|      0|               100|          0|               100|          0|               100|       5422|               100|          8|               100|          0|               100|        0.0|               100|          0|                87|       5506|                100|           0|               NULL|        NULL|                100|           8|               NULL|        NULL|               NULL|        NULL|               NULL|        NULL|                NULL|         NULL|                NULL|         NULL|                NULL|         NULL|                NULL|          0.0|                NULL|         NULL|                NULL|         NULL|                 100|           11|                 100|            1|                 100|          213|                 100|           17|                NULL|         NULL|                 100|            0|                 100|            0|                 100|            0|                 200|            0|                NULL|         NULL|                NULL|         NULL|                 100|            0|                  87|         5456|                 100|            0|                 100|            0|                NULL|         NULL|                 100|          390|                 100|          0.0|                NULL|          0.0|                NULL|          0.0|                NULL|         NULL|                NULL|         NULL|                NULL|         NULL|                NULL|         NULL|                NULL|         NULL|\n",
      "+----------+-------------+--------------------+-------------------+-------+------------------+-----------+------------------+-----------+------------------+-----------+------------------+-----------+------------------+-----------+------------------+-----------+------------------+-----------+------------------+-----------+-------------------+------------+-------------------+------------+-------------------+------------+-------------------+------------+-------------------+------------+-------------------+------------+--------------------+-------------+--------------------+-------------+--------------------+-------------+--------------------+-------------+--------------------+-------------+--------------------+-------------+--------------------+-------------+--------------------+-------------+--------------------+-------------+--------------------+-------------+--------------------+-------------+--------------------+-------------+--------------------+-------------+--------------------+-------------+--------------------+-------------+--------------------+-------------+--------------------+-------------+--------------------+-------------+--------------------+-------------+--------------------+-------------+--------------------+-------------+--------------------+-------------+--------------------+-------------+--------------------+-------------+--------------------+-------------+--------------------+-------------+--------------------+-------------+--------------------+-------------+--------------------+-------------+--------------------+-------------+--------------------+-------------+\n",
      "only showing top 10 rows\n",
      "\n"
     ]
    }
   ],
   "source": [
    "df.show(10)"
   ]
  },
  {
   "cell_type": "code",
   "execution_count": 10,
   "metadata": {},
   "outputs": [
    {
     "name": "stderr",
     "output_type": "stream",
     "text": [
      "                                                                                \r"
     ]
    },
    {
     "data": {
      "text/plain": [
       "3058798"
      ]
     },
     "execution_count": 10,
     "metadata": {},
     "output_type": "execute_result"
    }
   ],
   "source": [
    "df.where(df['smart_255_raw'].isNull()).count()"
   ]
  },
  {
   "cell_type": "code",
   "execution_count": 11,
   "metadata": {},
   "outputs": [
    {
     "name": "stderr",
     "output_type": "stream",
     "text": [
      "24/08/23 17:21:36 WARN CacheManager: Asked to cache already cached data.\n"
     ]
    }
   ],
   "source": [
    "na_count = df.select([F.count(F.when(F.col(c).isNull(), c)).alias(c) for c in df.columns]).cache()\n",
    "na_frac = df.select([F.count(F.when(F.col(c).isNull(), c)).alias(c) for c in df.columns]).cache()"
   ]
  },
  {
   "cell_type": "code",
   "execution_count": 12,
   "metadata": {},
   "outputs": [
    {
     "name": "stderr",
     "output_type": "stream",
     "text": [
      "[Stage 9:=====================================================>   (16 + 1) / 17]\r"
     ]
    },
    {
     "name": "stdout",
     "output_type": "stream",
     "text": [
      "+----+-------------+-----+--------------+-------+------------------+-----------+------------------+-----------+------------------+-----------+------------------+-----------+------------------+-----------+------------------+-----------+------------------+-----------+------------------+-----------+-------------------+------------+-------------------+------------+-------------------+------------+-------------------+------------+-------------------+------------+-------------------+------------+--------------------+-------------+--------------------+-------------+--------------------+-------------+--------------------+-------------+--------------------+-------------+--------------------+-------------+--------------------+-------------+--------------------+-------------+--------------------+-------------+--------------------+-------------+--------------------+-------------+--------------------+-------------+--------------------+-------------+--------------------+-------------+--------------------+-------------+--------------------+-------------+--------------------+-------------+--------------------+-------------+--------------------+-------------+--------------------+-------------+--------------------+-------------+--------------------+-------------+--------------------+-------------+--------------------+-------------+--------------------+-------------+--------------------+-------------+--------------------+-------------+--------------------+-------------+--------------------+-------------+--------------------+-------------+--------------------+-------------+\n",
      "|date|serial_number|model|capacity_bytes|failure|smart_1_normalized|smart_1_raw|smart_2_normalized|smart_2_raw|smart_3_normalized|smart_3_raw|smart_4_normalized|smart_4_raw|smart_5_normalized|smart_5_raw|smart_7_normalized|smart_7_raw|smart_8_normalized|smart_8_raw|smart_9_normalized|smart_9_raw|smart_10_normalized|smart_10_raw|smart_11_normalized|smart_11_raw|smart_12_normalized|smart_12_raw|smart_13_normalized|smart_13_raw|smart_15_normalized|smart_15_raw|smart_22_normalized|smart_22_raw|smart_183_normalized|smart_183_raw|smart_184_normalized|smart_184_raw|smart_187_normalized|smart_187_raw|smart_188_normalized|smart_188_raw|smart_189_normalized|smart_189_raw|smart_190_normalized|smart_190_raw|smart_191_normalized|smart_191_raw|smart_192_normalized|smart_192_raw|smart_193_normalized|smart_193_raw|smart_194_normalized|smart_194_raw|smart_195_normalized|smart_195_raw|smart_196_normalized|smart_196_raw|smart_197_normalized|smart_197_raw|smart_198_normalized|smart_198_raw|smart_199_normalized|smart_199_raw|smart_200_normalized|smart_200_raw|smart_201_normalized|smart_201_raw|smart_220_normalized|smart_220_raw|smart_222_normalized|smart_222_raw|smart_223_normalized|smart_223_raw|smart_224_normalized|smart_224_raw|smart_225_normalized|smart_225_raw|smart_226_normalized|smart_226_raw|smart_240_normalized|smart_240_raw|smart_241_normalized|smart_241_raw|smart_242_normalized|smart_242_raw|smart_250_normalized|smart_250_raw|smart_251_normalized|smart_251_raw|smart_252_normalized|smart_252_raw|smart_254_normalized|smart_254_raw|smart_255_normalized|smart_255_raw|\n",
      "+----+-------------+-----+--------------+-------+------------------+-----------+------------------+-----------+------------------+-----------+------------------+-----------+------------------+-----------+------------------+-----------+------------------+-----------+------------------+-----------+-------------------+------------+-------------------+------------+-------------------+------------+-------------------+------------+-------------------+------------+-------------------+------------+--------------------+-------------+--------------------+-------------+--------------------+-------------+--------------------+-------------+--------------------+-------------+--------------------+-------------+--------------------+-------------+--------------------+-------------+--------------------+-------------+--------------------+-------------+--------------------+-------------+--------------------+-------------+--------------------+-------------+--------------------+-------------+--------------------+-------------+--------------------+-------------+--------------------+-------------+--------------------+-------------+--------------------+-------------+--------------------+-------------+--------------------+-------------+--------------------+-------------+--------------------+-------------+--------------------+-------------+--------------------+-------------+--------------------+-------------+--------------------+-------------+--------------------+-------------+--------------------+-------------+--------------------+-------------+--------------------+-------------+\n",
      "|   0|            0|    0|             0|      0|                 0|          0|           1847198|    1847198|                 0|          0|                 0|          0|                 0|          0|                 0|          0|           1847193|    1847193|                 0|          0|                  0|           0|            2917521|     2917521|                  0|           0|            3058793|     3058793|            3058798|     3058798|            3056548|     3056548|             1327730|      1327730|             1320951|      1320951|             1320951|      1320951|             1320951|            0|             1321006|      1321006|             1320930|      1320930|             1279996|      1279996|                9114|         9114|               40985|        40985|                  50|           50|             2907122|      2907122|             1737792|      1737792|                   0|            0|                   0|            0|                   0|            0|             2917521|      2917521|             3058793|      3058793|             3049269|      3049269|             3049269|      3049269|             3017398|      3017398|             3049269|      3049269|             3026927|      3026927|             3049269|      3049269|             1311380|            0|             1323720|            0|             1323720|            0|             3056078|      3056078|             3056078|      3056078|             3056078|      3056078|             3051176|      3051176|             3058798|      3058798|\n",
      "+----+-------------+-----+--------------+-------+------------------+-----------+------------------+-----------+------------------+-----------+------------------+-----------+------------------+-----------+------------------+-----------+------------------+-----------+------------------+-----------+-------------------+------------+-------------------+------------+-------------------+------------+-------------------+------------+-------------------+------------+-------------------+------------+--------------------+-------------+--------------------+-------------+--------------------+-------------+--------------------+-------------+--------------------+-------------+--------------------+-------------+--------------------+-------------+--------------------+-------------+--------------------+-------------+--------------------+-------------+--------------------+-------------+--------------------+-------------+--------------------+-------------+--------------------+-------------+--------------------+-------------+--------------------+-------------+--------------------+-------------+--------------------+-------------+--------------------+-------------+--------------------+-------------+--------------------+-------------+--------------------+-------------+--------------------+-------------+--------------------+-------------+--------------------+-------------+--------------------+-------------+--------------------+-------------+--------------------+-------------+--------------------+-------------+--------------------+-------------+--------------------+-------------+\n",
      "\n"
     ]
    },
    {
     "name": "stderr",
     "output_type": "stream",
     "text": [
      "                                                                                \r"
     ]
    }
   ],
   "source": [
    "na_count.show()"
   ]
  },
  {
   "cell_type": "code",
   "execution_count": 13,
   "metadata": {},
   "outputs": [
    {
     "name": "stdout",
     "output_type": "stream",
     "text": [
      "+----+-------------+-----+--------------+-------+------------------+-----------+------------------+------------------+------------------+-----------+------------------+-----------+------------------+-----------+------------------+-----------+------------------+------------------+------------------+-----------+-------------------+------------+-------------------+-----------------+-------------------+------------+-------------------+------------------+-------------------+------------+-------------------+------------------+--------------------+-------------------+--------------------+------------------+--------------------+------------------+--------------------+-------------+--------------------+-------------------+--------------------+-----------------+--------------------+-------------------+--------------------+--------------------+--------------------+--------------------+--------------------+--------------------+--------------------+------------------+--------------------+------------------+--------------------+-------------+--------------------+-------------+--------------------+-------------+--------------------+-----------------+--------------------+------------------+--------------------+------------------+--------------------+------------------+--------------------+------------------+--------------------+------------------+--------------------+------------------+--------------------+------------------+--------------------+-------------+--------------------+-------------+--------------------+-------------+--------------------+------------------+--------------------+------------------+--------------------+------------------+--------------------+------------------+--------------------+-------------+\n",
      "|date|serial_number|model|capacity_bytes|failure|smart_1_normalized|smart_1_raw|smart_2_normalized|       smart_2_raw|smart_3_normalized|smart_3_raw|smart_4_normalized|smart_4_raw|smart_5_normalized|smart_5_raw|smart_7_normalized|smart_7_raw|smart_8_normalized|       smart_8_raw|smart_9_normalized|smart_9_raw|smart_10_normalized|smart_10_raw|smart_11_normalized|     smart_11_raw|smart_12_normalized|smart_12_raw|smart_13_normalized|      smart_13_raw|smart_15_normalized|smart_15_raw|smart_22_normalized|      smart_22_raw|smart_183_normalized|      smart_183_raw|smart_184_normalized|     smart_184_raw|smart_187_normalized|     smart_187_raw|smart_188_normalized|smart_188_raw|smart_189_normalized|      smart_189_raw|smart_190_normalized|    smart_190_raw|smart_191_normalized|      smart_191_raw|smart_192_normalized|       smart_192_raw|smart_193_normalized|       smart_193_raw|smart_194_normalized|       smart_194_raw|smart_195_normalized|     smart_195_raw|smart_196_normalized|     smart_196_raw|smart_197_normalized|smart_197_raw|smart_198_normalized|smart_198_raw|smart_199_normalized|smart_199_raw|smart_200_normalized|    smart_200_raw|smart_201_normalized|     smart_201_raw|smart_220_normalized|     smart_220_raw|smart_222_normalized|     smart_222_raw|smart_223_normalized|     smart_223_raw|smart_224_normalized|     smart_224_raw|smart_225_normalized|     smart_225_raw|smart_226_normalized|     smart_226_raw|smart_240_normalized|smart_240_raw|smart_241_normalized|smart_241_raw|smart_242_normalized|smart_242_raw|smart_250_normalized|     smart_250_raw|smart_251_normalized|     smart_251_raw|smart_252_normalized|     smart_252_raw|smart_254_normalized|     smart_254_raw|smart_255_normalized|smart_255_raw|\n",
      "+----+-------------+-----+--------------+-------+------------------+-----------+------------------+------------------+------------------+-----------+------------------+-----------+------------------+-----------+------------------+-----------+------------------+------------------+------------------+-----------+-------------------+------------+-------------------+-----------------+-------------------+------------+-------------------+------------------+-------------------+------------+-------------------+------------------+--------------------+-------------------+--------------------+------------------+--------------------+------------------+--------------------+-------------+--------------------+-------------------+--------------------+-----------------+--------------------+-------------------+--------------------+--------------------+--------------------+--------------------+--------------------+--------------------+--------------------+------------------+--------------------+------------------+--------------------+-------------+--------------------+-------------+--------------------+-------------+--------------------+-----------------+--------------------+------------------+--------------------+------------------+--------------------+------------------+--------------------+------------------+--------------------+------------------+--------------------+------------------+--------------------+------------------+--------------------+-------------+--------------------+-------------+--------------------+-------------+--------------------+------------------+--------------------+------------------+--------------------+------------------+--------------------+------------------+--------------------+-------------+\n",
      "| 0.0|          0.0|  0.0|           0.0|    0.0|               0.0|        0.0|0.6038966940608697|0.6038966940608697|               0.0|        0.0|               0.0|        0.0|               0.0|        0.0|               0.0|        0.0|0.6038950594318422|0.6038950594318422|               0.0|        0.0|                0.0|         0.0|  0.953812902976921|0.953812902976921|                0.0|         0.0| 0.9999983653709725|0.9999983653709725|                1.0|         1.0| 0.9992644169376337|0.9992644169376337| 0.43406919973139774|0.43406919973139774|  0.4318529696959394|0.4318529696959394|  0.4318529696959394|0.4318529696959394|  0.4318529696959394|          0.0| 0.43187095061524167|0.43187095061524167|   0.431846104254024|0.431846104254024| 0.41846372333184473|0.41846372333184473|0.002979601791291...|0.002979601791291...|0.013399054138259538|0.013399054138259538|1.634629027480729...|1.634629027480729...|  0.9504132015255666|0.9504132015255666|  0.5681290493847583|0.5681290493847583|                 0.0|          0.0|                 0.0|          0.0|                 0.0|          0.0|   0.953812902976921|0.953812902976921|  0.9999983653709725|0.9999983653709725|  0.9968847239994272|0.9968847239994272|  0.9968847239994272|0.9968847239994272|  0.9864652716524596|0.9864652716524596|  0.9968847239994272|0.9968847239994272|  0.9895805476530324|0.9895805476530324|  0.9968847239994272|0.9968847239994272|  0.4287239628115358|          0.0|  0.4327582272513582|          0.0|  0.4327582272513582|          0.0|  0.9991107618090505|0.9991107618090505|  0.9991107618090505|0.9991107618090505|  0.9991107618090505|0.9991107618090505|  0.9975081715105084|0.9975081715105084|                 1.0|          1.0|\n",
      "+----+-------------+-----+--------------+-------+------------------+-----------+------------------+------------------+------------------+-----------+------------------+-----------+------------------+-----------+------------------+-----------+------------------+------------------+------------------+-----------+-------------------+------------+-------------------+-----------------+-------------------+------------+-------------------+------------------+-------------------+------------+-------------------+------------------+--------------------+-------------------+--------------------+------------------+--------------------+------------------+--------------------+-------------+--------------------+-------------------+--------------------+-----------------+--------------------+-------------------+--------------------+--------------------+--------------------+--------------------+--------------------+--------------------+--------------------+------------------+--------------------+------------------+--------------------+-------------+--------------------+-------------+--------------------+-------------+--------------------+-----------------+--------------------+------------------+--------------------+------------------+--------------------+------------------+--------------------+------------------+--------------------+------------------+--------------------+------------------+--------------------+------------------+--------------------+-------------+--------------------+-------------+--------------------+-------------+--------------------+------------------+--------------------+------------------+--------------------+------------------+--------------------+------------------+--------------------+-------------+\n",
      "\n"
     ]
    }
   ],
   "source": [
    "for field in na_frac.schema.fields:\n",
    "    name = str(field.name)\n",
    "    na_frac = na_frac.withColumn(name, F.col(name) / num_samples)\n",
    "\n",
    "\n",
    "na_frac.show()"
   ]
  },
  {
   "cell_type": "markdown",
   "metadata": {},
   "source": [
    "Number of columns to keep if we put cutoff on fraction of NULL elements"
   ]
  },
  {
   "cell_type": "code",
   "execution_count": 14,
   "metadata": {},
   "outputs": [],
   "source": [
    "na_frac_cutoff = 0.4\n",
    "cols_to_keep = [date_col, target_label] + id_cols\n",
    "for key, value in na_frac.first().asDict().items():\n",
    "    if value > na_frac_cutoff:\n",
    "        continue\n",
    "    elif key not in cols_to_keep:\n",
    "        cols_to_keep.append(key)"
   ]
  },
  {
   "cell_type": "code",
   "execution_count": 15,
   "metadata": {},
   "outputs": [
    {
     "data": {
      "text/plain": [
       "37"
      ]
     },
     "execution_count": 15,
     "metadata": {},
     "output_type": "execute_result"
    }
   ],
   "source": [
    "len(cols_to_keep)"
   ]
  },
  {
   "cell_type": "code",
   "execution_count": 16,
   "metadata": {},
   "outputs": [
    {
     "data": {
      "text/plain": [
       "95"
      ]
     },
     "execution_count": 16,
     "metadata": {},
     "output_type": "execute_result"
    }
   ],
   "source": [
    "len(df.columns)"
   ]
  },
  {
   "cell_type": "code",
   "execution_count": 17,
   "metadata": {},
   "outputs": [
    {
     "data": {
      "text/plain": [
       "['date',\n",
       " 'failure',\n",
       " 'serial_number',\n",
       " 'model',\n",
       " 'capacity_bytes',\n",
       " 'smart_1_normalized',\n",
       " 'smart_1_raw',\n",
       " 'smart_3_normalized',\n",
       " 'smart_3_raw',\n",
       " 'smart_4_normalized',\n",
       " 'smart_4_raw',\n",
       " 'smart_5_normalized',\n",
       " 'smart_5_raw',\n",
       " 'smart_7_normalized',\n",
       " 'smart_7_raw',\n",
       " 'smart_9_normalized',\n",
       " 'smart_9_raw',\n",
       " 'smart_10_normalized',\n",
       " 'smart_10_raw',\n",
       " 'smart_12_normalized',\n",
       " 'smart_12_raw',\n",
       " 'smart_188_raw',\n",
       " 'smart_192_normalized',\n",
       " 'smart_192_raw',\n",
       " 'smart_193_normalized',\n",
       " 'smart_193_raw',\n",
       " 'smart_194_normalized',\n",
       " 'smart_194_raw',\n",
       " 'smart_197_normalized',\n",
       " 'smart_197_raw',\n",
       " 'smart_198_normalized',\n",
       " 'smart_198_raw',\n",
       " 'smart_199_normalized',\n",
       " 'smart_199_raw',\n",
       " 'smart_240_raw',\n",
       " 'smart_241_raw',\n",
       " 'smart_242_raw']"
      ]
     },
     "execution_count": 17,
     "metadata": {},
     "output_type": "execute_result"
    }
   ],
   "source": [
    "cols_to_keep"
   ]
  },
  {
   "cell_type": "code",
   "execution_count": 18,
   "metadata": {},
   "outputs": [],
   "source": [
    "df1 = df.select(cols_to_keep)"
   ]
  },
  {
   "cell_type": "markdown",
   "metadata": {},
   "source": [
    "## Constant columns"
   ]
  },
  {
   "cell_type": "code",
   "execution_count": 19,
   "metadata": {},
   "outputs": [
    {
     "name": "stderr",
     "output_type": "stream",
     "text": [
      "[Stage 20:====================================================>   (16 + 1) / 17]\r"
     ]
    },
    {
     "name": "stdout",
     "output_type": "stream",
     "text": [
      "+----+-------+-------------+-----+--------------+------------------+-----------+------------------+-----------+------------------+-----------+------------------+-----------+------------------+-----------+------------------+-----------+-------------------+------------+-------------------+------------+-------------+--------------------+-------------+--------------------+-------------+--------------------+-------------+--------------------+-------------+--------------------+-------------+--------------------+-------------+-------------+-------------+-------------+\n",
      "|date|failure|serial_number|model|capacity_bytes|smart_1_normalized|smart_1_raw|smart_3_normalized|smart_3_raw|smart_4_normalized|smart_4_raw|smart_5_normalized|smart_5_raw|smart_7_normalized|smart_7_raw|smart_9_normalized|smart_9_raw|smart_10_normalized|smart_10_raw|smart_12_normalized|smart_12_raw|smart_188_raw|smart_192_normalized|smart_192_raw|smart_193_normalized|smart_193_raw|smart_194_normalized|smart_194_raw|smart_197_normalized|smart_197_raw|smart_198_normalized|smart_198_raw|smart_199_normalized|smart_199_raw|smart_240_raw|smart_241_raw|smart_242_raw|\n",
      "+----+-------+-------------+-----+--------------+------------------+-----------+------------------+-----------+------------------+-----------+------------------+-----------+------------------+-----------+------------------+-----------+-------------------+------------+-------------------+------------+-------------+--------------------+-------------+--------------------+-------------+--------------------+-------------+--------------------+-------------+--------------------+-------------+--------------------+-------------+-------------+-------------+-------------+\n",
      "|  50|      2|        65993|   69|            14|                87|    1674543|               129|       1508|                 8|        623|                67|        534|                59|    1734848|                91|      49817|                  6|           8|                  3|         195|          207|                  20|         2259|                 200|        76807|                 111|           37|                  10|           42|                   8|           36|                   2|          381|       261133|      1732998|      1733679|\n",
      "+----+-------+-------------+-----+--------------+------------------+-----------+------------------+-----------+------------------+-----------+------------------+-----------+------------------+-----------+------------------+-----------+-------------------+------------+-------------------+------------+-------------+--------------------+-------------+--------------------+-------------+--------------------+-------------+--------------------+-------------+--------------------+-------------+--------------------+-------------+-------------+-------------+-------------+\n",
      "\n"
     ]
    },
    {
     "name": "stderr",
     "output_type": "stream",
     "text": [
      "                                                                                \r"
     ]
    }
   ],
   "source": [
    "df1.agg(*(F.countDistinct(F.col(c)).alias(c) for c in df1.columns)).show()"
   ]
  },
  {
   "cell_type": "code",
   "execution_count": null,
   "metadata": {},
   "outputs": [],
   "source": []
  },
  {
   "cell_type": "markdown",
   "metadata": {},
   "source": [
    "## Date range"
   ]
  },
  {
   "cell_type": "code",
   "execution_count": 22,
   "metadata": {},
   "outputs": [
    {
     "name": "stderr",
     "output_type": "stream",
     "text": [
      "                                                                                \r"
     ]
    },
    {
     "name": "stdout",
     "output_type": "stream",
     "text": [
      "Row(min(date)=datetime.date(2016, 1, 1))\n"
     ]
    },
    {
     "name": "stderr",
     "output_type": "stream",
     "text": [
      "[Stage 33:====================================================>   (16 + 1) / 17]\r"
     ]
    },
    {
     "name": "stdout",
     "output_type": "stream",
     "text": [
      "Row(max(date)=datetime.date(2016, 4, 29))\n"
     ]
    },
    {
     "name": "stderr",
     "output_type": "stream",
     "text": [
      "                                                                                \r"
     ]
    }
   ],
   "source": [
    "print(df1.agg({date_col: \"min\"}).collect()[0])\n",
    "print(df1.agg({date_col: \"max\"}).collect()[0])"
   ]
  },
  {
   "cell_type": "code",
   "execution_count": 24,
   "metadata": {},
   "outputs": [],
   "source": [
    "df1 = df1.sort(id_cols + [date_col])"
   ]
  },
  {
   "cell_type": "code",
   "execution_count": 82,
   "metadata": {},
   "outputs": [
    {
     "name": "stderr",
     "output_type": "stream",
     "text": [
      "                                                                                \r"
     ]
    }
   ],
   "source": [
    "all_dates = df1.select(date_col).dropDuplicates().toPandas()"
   ]
  },
  {
   "cell_type": "code",
   "execution_count": 85,
   "metadata": {},
   "outputs": [
    {
     "data": {
      "text/html": [
       "<div>\n",
       "<style scoped>\n",
       "    .dataframe tbody tr th:only-of-type {\n",
       "        vertical-align: middle;\n",
       "    }\n",
       "\n",
       "    .dataframe tbody tr th {\n",
       "        vertical-align: top;\n",
       "    }\n",
       "\n",
       "    .dataframe thead th {\n",
       "        text-align: right;\n",
       "    }\n",
       "</style>\n",
       "<table border=\"1\" class=\"dataframe\">\n",
       "  <thead>\n",
       "    <tr style=\"text-align: right;\">\n",
       "      <th></th>\n",
       "      <th>date</th>\n",
       "    </tr>\n",
       "  </thead>\n",
       "  <tbody>\n",
       "    <tr>\n",
       "      <th>2</th>\n",
       "      <td>2016-01-01</td>\n",
       "    </tr>\n",
       "    <tr>\n",
       "      <th>37</th>\n",
       "      <td>2016-01-02</td>\n",
       "    </tr>\n",
       "    <tr>\n",
       "      <th>22</th>\n",
       "      <td>2016-01-03</td>\n",
       "    </tr>\n",
       "    <tr>\n",
       "      <th>40</th>\n",
       "      <td>2016-01-04</td>\n",
       "    </tr>\n",
       "    <tr>\n",
       "      <th>11</th>\n",
       "      <td>2016-01-05</td>\n",
       "    </tr>\n",
       "    <tr>\n",
       "      <th>12</th>\n",
       "      <td>2016-01-06</td>\n",
       "    </tr>\n",
       "    <tr>\n",
       "      <th>46</th>\n",
       "      <td>2016-01-07</td>\n",
       "    </tr>\n",
       "    <tr>\n",
       "      <th>32</th>\n",
       "      <td>2016-01-08</td>\n",
       "    </tr>\n",
       "    <tr>\n",
       "      <th>47</th>\n",
       "      <td>2016-01-09</td>\n",
       "    </tr>\n",
       "    <tr>\n",
       "      <th>44</th>\n",
       "      <td>2016-01-10</td>\n",
       "    </tr>\n",
       "    <tr>\n",
       "      <th>7</th>\n",
       "      <td>2016-01-11</td>\n",
       "    </tr>\n",
       "    <tr>\n",
       "      <th>31</th>\n",
       "      <td>2016-01-12</td>\n",
       "    </tr>\n",
       "    <tr>\n",
       "      <th>1</th>\n",
       "      <td>2016-01-13</td>\n",
       "    </tr>\n",
       "    <tr>\n",
       "      <th>26</th>\n",
       "      <td>2016-01-14</td>\n",
       "    </tr>\n",
       "    <tr>\n",
       "      <th>41</th>\n",
       "      <td>2016-01-15</td>\n",
       "    </tr>\n",
       "    <tr>\n",
       "      <th>42</th>\n",
       "      <td>2016-01-16</td>\n",
       "    </tr>\n",
       "    <tr>\n",
       "      <th>30</th>\n",
       "      <td>2016-01-17</td>\n",
       "    </tr>\n",
       "    <tr>\n",
       "      <th>45</th>\n",
       "      <td>2016-01-18</td>\n",
       "    </tr>\n",
       "    <tr>\n",
       "      <th>4</th>\n",
       "      <td>2016-01-19</td>\n",
       "    </tr>\n",
       "    <tr>\n",
       "      <th>14</th>\n",
       "      <td>2016-01-20</td>\n",
       "    </tr>\n",
       "    <tr>\n",
       "      <th>23</th>\n",
       "      <td>2016-01-21</td>\n",
       "    </tr>\n",
       "    <tr>\n",
       "      <th>25</th>\n",
       "      <td>2016-04-01</td>\n",
       "    </tr>\n",
       "    <tr>\n",
       "      <th>18</th>\n",
       "      <td>2016-04-02</td>\n",
       "    </tr>\n",
       "    <tr>\n",
       "      <th>29</th>\n",
       "      <td>2016-04-03</td>\n",
       "    </tr>\n",
       "    <tr>\n",
       "      <th>6</th>\n",
       "      <td>2016-04-04</td>\n",
       "    </tr>\n",
       "    <tr>\n",
       "      <th>38</th>\n",
       "      <td>2016-04-05</td>\n",
       "    </tr>\n",
       "    <tr>\n",
       "      <th>39</th>\n",
       "      <td>2016-04-06</td>\n",
       "    </tr>\n",
       "    <tr>\n",
       "      <th>27</th>\n",
       "      <td>2016-04-07</td>\n",
       "    </tr>\n",
       "    <tr>\n",
       "      <th>17</th>\n",
       "      <td>2016-04-08</td>\n",
       "    </tr>\n",
       "    <tr>\n",
       "      <th>21</th>\n",
       "      <td>2016-04-09</td>\n",
       "    </tr>\n",
       "    <tr>\n",
       "      <th>48</th>\n",
       "      <td>2016-04-10</td>\n",
       "    </tr>\n",
       "    <tr>\n",
       "      <th>10</th>\n",
       "      <td>2016-04-11</td>\n",
       "    </tr>\n",
       "    <tr>\n",
       "      <th>28</th>\n",
       "      <td>2016-04-12</td>\n",
       "    </tr>\n",
       "    <tr>\n",
       "      <th>20</th>\n",
       "      <td>2016-04-13</td>\n",
       "    </tr>\n",
       "    <tr>\n",
       "      <th>16</th>\n",
       "      <td>2016-04-14</td>\n",
       "    </tr>\n",
       "    <tr>\n",
       "      <th>33</th>\n",
       "      <td>2016-04-15</td>\n",
       "    </tr>\n",
       "    <tr>\n",
       "      <th>8</th>\n",
       "      <td>2016-04-16</td>\n",
       "    </tr>\n",
       "    <tr>\n",
       "      <th>24</th>\n",
       "      <td>2016-04-17</td>\n",
       "    </tr>\n",
       "    <tr>\n",
       "      <th>9</th>\n",
       "      <td>2016-04-18</td>\n",
       "    </tr>\n",
       "    <tr>\n",
       "      <th>15</th>\n",
       "      <td>2016-04-19</td>\n",
       "    </tr>\n",
       "    <tr>\n",
       "      <th>19</th>\n",
       "      <td>2016-04-20</td>\n",
       "    </tr>\n",
       "    <tr>\n",
       "      <th>43</th>\n",
       "      <td>2016-04-21</td>\n",
       "    </tr>\n",
       "    <tr>\n",
       "      <th>3</th>\n",
       "      <td>2016-04-22</td>\n",
       "    </tr>\n",
       "    <tr>\n",
       "      <th>36</th>\n",
       "      <td>2016-04-23</td>\n",
       "    </tr>\n",
       "    <tr>\n",
       "      <th>35</th>\n",
       "      <td>2016-04-24</td>\n",
       "    </tr>\n",
       "    <tr>\n",
       "      <th>0</th>\n",
       "      <td>2016-04-25</td>\n",
       "    </tr>\n",
       "    <tr>\n",
       "      <th>5</th>\n",
       "      <td>2016-04-26</td>\n",
       "    </tr>\n",
       "    <tr>\n",
       "      <th>49</th>\n",
       "      <td>2016-04-27</td>\n",
       "    </tr>\n",
       "    <tr>\n",
       "      <th>34</th>\n",
       "      <td>2016-04-28</td>\n",
       "    </tr>\n",
       "    <tr>\n",
       "      <th>13</th>\n",
       "      <td>2016-04-29</td>\n",
       "    </tr>\n",
       "  </tbody>\n",
       "</table>\n",
       "</div>"
      ],
      "text/plain": [
       "          date\n",
       "2   2016-01-01\n",
       "37  2016-01-02\n",
       "22  2016-01-03\n",
       "40  2016-01-04\n",
       "11  2016-01-05\n",
       "12  2016-01-06\n",
       "46  2016-01-07\n",
       "32  2016-01-08\n",
       "47  2016-01-09\n",
       "44  2016-01-10\n",
       "7   2016-01-11\n",
       "31  2016-01-12\n",
       "1   2016-01-13\n",
       "26  2016-01-14\n",
       "41  2016-01-15\n",
       "42  2016-01-16\n",
       "30  2016-01-17\n",
       "45  2016-01-18\n",
       "4   2016-01-19\n",
       "14  2016-01-20\n",
       "23  2016-01-21\n",
       "25  2016-04-01\n",
       "18  2016-04-02\n",
       "29  2016-04-03\n",
       "6   2016-04-04\n",
       "38  2016-04-05\n",
       "39  2016-04-06\n",
       "27  2016-04-07\n",
       "17  2016-04-08\n",
       "21  2016-04-09\n",
       "48  2016-04-10\n",
       "10  2016-04-11\n",
       "28  2016-04-12\n",
       "20  2016-04-13\n",
       "16  2016-04-14\n",
       "33  2016-04-15\n",
       "8   2016-04-16\n",
       "24  2016-04-17\n",
       "9   2016-04-18\n",
       "15  2016-04-19\n",
       "19  2016-04-20\n",
       "43  2016-04-21\n",
       "3   2016-04-22\n",
       "36  2016-04-23\n",
       "35  2016-04-24\n",
       "0   2016-04-25\n",
       "5   2016-04-26\n",
       "49  2016-04-27\n",
       "34  2016-04-28\n",
       "13  2016-04-29"
      ]
     },
     "execution_count": 85,
     "metadata": {},
     "output_type": "execute_result"
    }
   ],
   "source": [
    "all_dates.sort_values(date_col)"
   ]
  },
  {
   "cell_type": "markdown",
   "metadata": {},
   "source": [
    "Data only in Jan and April 2016"
   ]
  },
  {
   "cell_type": "markdown",
   "metadata": {},
   "source": [
    "Now look at date differences"
   ]
  },
  {
   "cell_type": "code",
   "execution_count": 60,
   "metadata": {},
   "outputs": [],
   "source": [
    "datediff_by_id_cols = (df1.select(*(id_cols + [date_col]))\n",
    " .withColumn(\n",
    "    date_col + \"_lag_1\", F.lag(date_col).over(Window.partitionBy(id_cols).orderBy(date_col))\n",
    ")\n",
    ".withColumn(\n",
    "        \"datediff\",\n",
    "        F.when(\n",
    "            F.col(date_col + \"_lag_1\").isNotNull(),\n",
    "            F.datediff(F.col(date_col), F.col(date_col + \"_lag_1\")),\n",
    "        ).otherwise(F.lit(None)),\n",
    "    )\n",
    "    .drop(date_col + \"_lag_1\"))"
   ]
  },
  {
   "cell_type": "code",
   "execution_count": 61,
   "metadata": {},
   "outputs": [
    {
     "name": "stderr",
     "output_type": "stream",
     "text": [
      "[Stage 109:===================================================>   (16 + 1) / 17]\r"
     ]
    },
    {
     "name": "stdout",
     "output_type": "stream",
     "text": [
      "+-------------+------------------+----------+--------+\n",
      "|serial_number|             model|      date|datediff|\n",
      "+-------------+------------------+----------+--------+\n",
      "|    13H85BMGS|TOSHIBA DT01ACA300|2016-01-01|    NULL|\n",
      "|    13H85BMGS|TOSHIBA DT01ACA300|2016-01-02|       1|\n",
      "|    13H85BMGS|TOSHIBA DT01ACA300|2016-01-03|       1|\n",
      "|    13H85BMGS|TOSHIBA DT01ACA300|2016-01-04|       1|\n",
      "|    13H85BMGS|TOSHIBA DT01ACA300|2016-01-05|       1|\n",
      "|    13H85BMGS|TOSHIBA DT01ACA300|2016-01-06|       1|\n",
      "|    13H85BMGS|TOSHIBA DT01ACA300|2016-01-07|       1|\n",
      "|    13H85BMGS|TOSHIBA DT01ACA300|2016-01-08|       1|\n",
      "|    13H85BMGS|TOSHIBA DT01ACA300|2016-01-09|       1|\n",
      "|    13H85BMGS|TOSHIBA DT01ACA300|2016-01-10|       1|\n",
      "|    13H85BMGS|TOSHIBA DT01ACA300|2016-01-11|       1|\n",
      "|    13H85BMGS|TOSHIBA DT01ACA300|2016-01-12|       1|\n",
      "|    13H85BMGS|TOSHIBA DT01ACA300|2016-01-13|       1|\n",
      "|    13H85BMGS|TOSHIBA DT01ACA300|2016-01-14|       1|\n",
      "|    13H85BMGS|TOSHIBA DT01ACA300|2016-01-15|       1|\n",
      "|    13H85BMGS|TOSHIBA DT01ACA300|2016-01-16|       1|\n",
      "|    13H85BMGS|TOSHIBA DT01ACA300|2016-01-17|       1|\n",
      "|    13H85BMGS|TOSHIBA DT01ACA300|2016-01-18|       1|\n",
      "|    13H85BMGS|TOSHIBA DT01ACA300|2016-01-19|       1|\n",
      "|    13H85BMGS|TOSHIBA DT01ACA300|2016-01-20|       1|\n",
      "+-------------+------------------+----------+--------+\n",
      "only showing top 20 rows\n",
      "\n"
     ]
    },
    {
     "name": "stderr",
     "output_type": "stream",
     "text": [
      "                                                                                \r"
     ]
    }
   ],
   "source": [
    "datediff_by_id_cols.show()"
   ]
  },
  {
   "cell_type": "code",
   "execution_count": 68,
   "metadata": {},
   "outputs": [
    {
     "name": "stderr",
     "output_type": "stream",
     "text": [
      "[Stage 130:===================================================>   (16 + 1) / 17]\r"
     ]
    },
    {
     "name": "stdout",
     "output_type": "stream",
     "text": [
      "+-------------+--------------------+------------------------+\n",
      "|serial_number|               model|count(DISTINCT datediff)|\n",
      "+-------------+--------------------+------------------------+\n",
      "|    13H85BMGS|  TOSHIBA DT01ACA300|                       2|\n",
      "|     2EG3NZ2P|HGST HUH728080ALE600|                       2|\n",
      "|     2EG4B1VR|HGST HUH728080ALE600|                       2|\n",
      "|     2EG4L4VP|HGST HUH728080ALE600|                       2|\n",
      "| 4596K0X6FMYB| TOSHIBA MD04ABA400V|                       2|\n",
      "| 45CAK0Q9FMYB| TOSHIBA MD04ABA400V|                       2|\n",
      "| 45D7K132FMYB| TOSHIBA MD04ABA400V|                       2|\n",
      "|     5VY50QZF|         ST3160318AS|                       2|\n",
      "|     5XW004Q0|        ST31500541AS|                       1|\n",
      "|     5XW00K1P|        ST31500541AS|                       1|\n",
      "|     5XW00SQX|        ST31500541AS|                       1|\n",
      "|     5XW00T9F|        ST31500541AS|                       1|\n",
      "|     5XW01DHS|        ST31500541AS|                       1|\n",
      "|     5XW05CNJ|        ST31500541AS|                       1|\n",
      "|     6VDHZ7NR|         ST9320325AS|                       2|\n",
      "|     6VDHZA4H|         ST9320325AS|                       2|\n",
      "|     6VDHZATY|         ST9320325AS|                       2|\n",
      "|     6VMNE9BG|         ST3160318AS|                       2|\n",
      "|     6XW00SPC|        ST31500541AS|                       2|\n",
      "|     6XW01PTD|        ST31500541AS|                       1|\n",
      "+-------------+--------------------+------------------------+\n",
      "only showing top 20 rows\n",
      "\n"
     ]
    },
    {
     "name": "stderr",
     "output_type": "stream",
     "text": [
      "                                                                                \r"
     ]
    }
   ],
   "source": [
    "datediff_by_id_cols.dropna().groupby(id_cols).agg(F.countDistinct('datediff')).show()"
   ]
  },
  {
   "cell_type": "code",
   "execution_count": 101,
   "metadata": {},
   "outputs": [],
   "source": [
    "df_cycle_id = (datediff_by_id_cols.fillna(1, subset='datediff').dropDuplicates(subset=id_cols + ['datediff'])\n",
    "               .sort(id_cols + [date_col])\n",
    "               .withColumn(\"cycle_id\", F.row_number().over(Window().orderBy(F.lit('A')))))"
   ]
  },
  {
   "cell_type": "code",
   "execution_count": 102,
   "metadata": {},
   "outputs": [
    {
     "name": "stderr",
     "output_type": "stream",
     "text": [
      "24/08/23 18:53:44 WARN WindowExec: No Partition Defined for Window operation! Moving all data to a single partition, this can cause serious performance degradation.\n",
      "24/08/23 18:53:44 WARN WindowExec: No Partition Defined for Window operation! Moving all data to a single partition, this can cause serious performance degradation.\n",
      "24/08/23 18:53:44 WARN WindowExec: No Partition Defined for Window operation! Moving all data to a single partition, this can cause serious performance degradation.\n",
      "24/08/23 18:53:47 WARN WindowExec: No Partition Defined for Window operation! Moving all data to a single partition, this can cause serious performance degradation.\n",
      "24/08/23 18:53:47 WARN WindowExec: No Partition Defined for Window operation! Moving all data to a single partition, this can cause serious performance degradation.\n",
      "24/08/23 18:53:47 WARN WindowExec: No Partition Defined for Window operation! Moving all data to a single partition, this can cause serious performance degradation.\n",
      "24/08/23 18:53:47 WARN WindowExec: No Partition Defined for Window operation! Moving all data to a single partition, this can cause serious performance degradation.\n",
      "24/08/23 18:53:47 WARN WindowExec: No Partition Defined for Window operation! Moving all data to a single partition, this can cause serious performance degradation.\n"
     ]
    },
    {
     "name": "stdout",
     "output_type": "stream",
     "text": [
      "+-------------+------------------+----------+--------+--------+\n",
      "|serial_number|             model|      date|datediff|cycle_id|\n",
      "+-------------+------------------+----------+--------+--------+\n",
      "|    13H2B97AS|TOSHIBA DT01ACA300|2016-01-01|       1|       1|\n",
      "|    13H2B97AS|TOSHIBA DT01ACA300|2016-04-01|      71|       2|\n",
      "|    13H32WEAS|TOSHIBA DT01ACA300|2016-01-01|       1|       3|\n",
      "|    13H32WEAS|TOSHIBA DT01ACA300|2016-04-01|      71|       4|\n",
      "|    13H6A21GS|TOSHIBA DT01ACA300|2016-01-01|       1|       5|\n",
      "|    13H6A21GS|TOSHIBA DT01ACA300|2016-04-01|      71|       6|\n",
      "|    13H7X2HAS|TOSHIBA DT01ACA300|2016-01-01|       1|       7|\n",
      "|    13H7X2HAS|TOSHIBA DT01ACA300|2016-04-01|      71|       8|\n",
      "|    13H85BMGS|TOSHIBA DT01ACA300|2016-01-01|       1|       9|\n",
      "|    13H85BMGS|TOSHIBA DT01ACA300|2016-04-01|      71|      10|\n",
      "|    13H87YWAS|TOSHIBA DT01ACA300|2016-01-01|       1|      11|\n",
      "|    13H87YWAS|TOSHIBA DT01ACA300|2016-04-01|      71|      12|\n",
      "|    13H883WAS|TOSHIBA DT01ACA300|2016-01-01|       1|      13|\n",
      "|    13H883WAS|TOSHIBA DT01ACA300|2016-04-01|      71|      14|\n",
      "|    13H89KSGS|TOSHIBA DT01ACA300|2016-01-01|       1|      15|\n",
      "|    13H89KSGS|TOSHIBA DT01ACA300|2016-04-01|      71|      16|\n",
      "|    13H89U2GS|TOSHIBA DT01ACA300|2016-01-01|       1|      17|\n",
      "|    13H89U2GS|TOSHIBA DT01ACA300|2016-04-01|      71|      18|\n",
      "|    13H8AB0GS|TOSHIBA DT01ACA300|2016-01-01|       1|      19|\n",
      "|    13H8AB0GS|TOSHIBA DT01ACA300|2016-04-01|      71|      20|\n",
      "+-------------+------------------+----------+--------+--------+\n",
      "only showing top 20 rows\n",
      "\n"
     ]
    },
    {
     "name": "stderr",
     "output_type": "stream",
     "text": [
      "                                                                                \r"
     ]
    }
   ],
   "source": [
    "df_cycle_id.show()"
   ]
  },
  {
   "cell_type": "code",
   "execution_count": 106,
   "metadata": {},
   "outputs": [
    {
     "name": "stderr",
     "output_type": "stream",
     "text": [
      "24/08/23 18:57:05 WARN WindowExec: No Partition Defined for Window operation! Moving all data to a single partition, this can cause serious performance degradation.\n",
      "24/08/23 18:57:05 WARN WindowExec: No Partition Defined for Window operation! Moving all data to a single partition, this can cause serious performance degradation.\n"
     ]
    }
   ],
   "source": [
    "df_cycle_id2 = datediff_by_id_cols.fillna(1, subset='datediff').join(df_cycle_id,\n",
    " on=id_cols + [date_col, 'datediff'],\n",
    " how='left').sort(id_cols + [date_col]).cache()"
   ]
  },
  {
   "cell_type": "code",
   "execution_count": 110,
   "metadata": {},
   "outputs": [
    {
     "name": "stdout",
     "output_type": "stream",
     "text": [
      "+-------------+------------------+----------+--------+--------+\n",
      "|serial_number|             model|      date|datediff|cycle_id|\n",
      "+-------------+------------------+----------+--------+--------+\n",
      "|    13H2B97AS|TOSHIBA DT01ACA300|2016-01-01|       1|       1|\n",
      "|    13H2B97AS|TOSHIBA DT01ACA300|2016-01-02|       1|    NULL|\n",
      "|    13H2B97AS|TOSHIBA DT01ACA300|2016-01-03|       1|    NULL|\n",
      "|    13H2B97AS|TOSHIBA DT01ACA300|2016-01-04|       1|    NULL|\n",
      "|    13H2B97AS|TOSHIBA DT01ACA300|2016-01-05|       1|    NULL|\n",
      "|    13H2B97AS|TOSHIBA DT01ACA300|2016-01-06|       1|    NULL|\n",
      "|    13H2B97AS|TOSHIBA DT01ACA300|2016-01-07|       1|    NULL|\n",
      "|    13H2B97AS|TOSHIBA DT01ACA300|2016-01-08|       1|    NULL|\n",
      "|    13H2B97AS|TOSHIBA DT01ACA300|2016-01-09|       1|    NULL|\n",
      "|    13H2B97AS|TOSHIBA DT01ACA300|2016-01-10|       1|    NULL|\n",
      "|    13H2B97AS|TOSHIBA DT01ACA300|2016-01-11|       1|    NULL|\n",
      "|    13H2B97AS|TOSHIBA DT01ACA300|2016-01-12|       1|    NULL|\n",
      "|    13H2B97AS|TOSHIBA DT01ACA300|2016-01-13|       1|    NULL|\n",
      "|    13H2B97AS|TOSHIBA DT01ACA300|2016-01-14|       1|    NULL|\n",
      "|    13H2B97AS|TOSHIBA DT01ACA300|2016-01-15|       1|    NULL|\n",
      "|    13H2B97AS|TOSHIBA DT01ACA300|2016-01-16|       1|    NULL|\n",
      "|    13H2B97AS|TOSHIBA DT01ACA300|2016-01-17|       1|    NULL|\n",
      "|    13H2B97AS|TOSHIBA DT01ACA300|2016-01-18|       1|    NULL|\n",
      "|    13H2B97AS|TOSHIBA DT01ACA300|2016-01-19|       1|    NULL|\n",
      "|    13H2B97AS|TOSHIBA DT01ACA300|2016-01-20|       1|    NULL|\n",
      "+-------------+------------------+----------+--------+--------+\n",
      "only showing top 20 rows\n",
      "\n"
     ]
    }
   ],
   "source": [
    "df_cycle_id2.show()"
   ]
  },
  {
   "cell_type": "code",
   "execution_count": 116,
   "metadata": {},
   "outputs": [
    {
     "name": "stderr",
     "output_type": "stream",
     "text": [
      "24/08/23 19:20:01 WARN WindowExec: No Partition Defined for Window operation! Moving all data to a single partition, this can cause serious performance degradation.\n",
      "24/08/23 19:20:01 WARN WindowExec: No Partition Defined for Window operation! Moving all data to a single partition, this can cause serious performance degradation.\n",
      "24/08/23 19:20:01 WARN WindowExec: No Partition Defined for Window operation! Moving all data to a single partition, this can cause serious performance degradation.\n"
     ]
    }
   ],
   "source": [
    "df_cycle_id2 = df_cycle_id2.withColumn(\"cycle_id\", F.last(\"cycle_id\", ignorenulls=True).over(Window.orderBy(id_cols + [date_col]))).drop('datediff').cache()"
   ]
  },
  {
   "cell_type": "code",
   "execution_count": 118,
   "metadata": {},
   "outputs": [
    {
     "name": "stdout",
     "output_type": "stream",
     "text": [
      "+-------------+------------------+----------+--------+\n",
      "|serial_number|             model|      date|cycle_id|\n",
      "+-------------+------------------+----------+--------+\n",
      "|    13H2B97AS|TOSHIBA DT01ACA300|2016-01-01|       1|\n",
      "|    13H2B97AS|TOSHIBA DT01ACA300|2016-01-02|       1|\n",
      "|    13H2B97AS|TOSHIBA DT01ACA300|2016-01-03|       1|\n",
      "|    13H2B97AS|TOSHIBA DT01ACA300|2016-01-04|       1|\n",
      "|    13H2B97AS|TOSHIBA DT01ACA300|2016-01-05|       1|\n",
      "|    13H2B97AS|TOSHIBA DT01ACA300|2016-01-06|       1|\n",
      "|    13H2B97AS|TOSHIBA DT01ACA300|2016-01-07|       1|\n",
      "|    13H2B97AS|TOSHIBA DT01ACA300|2016-01-08|       1|\n",
      "|    13H2B97AS|TOSHIBA DT01ACA300|2016-01-09|       1|\n",
      "|    13H2B97AS|TOSHIBA DT01ACA300|2016-01-10|       1|\n",
      "|    13H2B97AS|TOSHIBA DT01ACA300|2016-01-11|       1|\n",
      "|    13H2B97AS|TOSHIBA DT01ACA300|2016-01-12|       1|\n",
      "|    13H2B97AS|TOSHIBA DT01ACA300|2016-01-13|       1|\n",
      "|    13H2B97AS|TOSHIBA DT01ACA300|2016-01-14|       1|\n",
      "|    13H2B97AS|TOSHIBA DT01ACA300|2016-01-15|       1|\n",
      "|    13H2B97AS|TOSHIBA DT01ACA300|2016-01-16|       1|\n",
      "|    13H2B97AS|TOSHIBA DT01ACA300|2016-01-17|       1|\n",
      "|    13H2B97AS|TOSHIBA DT01ACA300|2016-01-18|       1|\n",
      "|    13H2B97AS|TOSHIBA DT01ACA300|2016-01-19|       1|\n",
      "|    13H2B97AS|TOSHIBA DT01ACA300|2016-01-20|       1|\n",
      "+-------------+------------------+----------+--------+\n",
      "only showing top 20 rows\n",
      "\n"
     ]
    }
   ],
   "source": [
    "df_cycle_id2.show()"
   ]
  },
  {
   "cell_type": "code",
   "execution_count": null,
   "metadata": {},
   "outputs": [],
   "source": [
    "df_cycle_id2.toPandas().to_csv('mycsv.csv')"
   ]
  },
  {
   "cell_type": "markdown",
   "metadata": {},
   "source": [
    "## Target class distribution"
   ]
  },
  {
   "cell_type": "code",
   "execution_count": 23,
   "metadata": {},
   "outputs": [
    {
     "name": "stderr",
     "output_type": "stream",
     "text": [
      "[Stage 36:=========>                                              (3 + 14) / 17]\r"
     ]
    },
    {
     "name": "stdout",
     "output_type": "stream",
     "text": [
      "+-------+-------+\n",
      "|failure|  count|\n",
      "+-------+-------+\n",
      "|      1|    205|\n",
      "|      0|3058593|\n",
      "+-------+-------+\n",
      "\n"
     ]
    },
    {
     "name": "stderr",
     "output_type": "stream",
     "text": [
      "                                                                                \r"
     ]
    }
   ],
   "source": [
    "df1.groupby([target_label]).count().show()"
   ]
  },
  {
   "cell_type": "code",
   "execution_count": 15,
   "metadata": {},
   "outputs": [
    {
     "data": {
      "text/plain": [
       "0.0067019790126709895"
      ]
     },
     "execution_count": 15,
     "metadata": {},
     "output_type": "execute_result"
    }
   ],
   "source": [
    "205 / (205 + 3058593) * 100"
   ]
  },
  {
   "cell_type": "markdown",
   "metadata": {},
   "source": [
    "Large class imbalance"
   ]
  },
  {
   "cell_type": "markdown",
   "metadata": {},
   "source": [
    "## Model and serial numbers"
   ]
  },
  {
   "cell_type": "code",
   "execution_count": 12,
   "metadata": {},
   "outputs": [
    {
     "name": "stderr",
     "output_type": "stream",
     "text": [
      "                                                                                \r"
     ]
    },
    {
     "data": {
      "text/plain": [
       "[Row(count(DISTINCT model)=69)]"
      ]
     },
     "execution_count": 12,
     "metadata": {},
     "output_type": "execute_result"
    }
   ],
   "source": [
    "df.agg(F.countDistinct(df['model'])).collect()"
   ]
  },
  {
   "cell_type": "code",
   "execution_count": 13,
   "metadata": {},
   "outputs": [
    {
     "name": "stderr",
     "output_type": "stream",
     "text": [
      "[Stage 20:=======================================>                (12 + 5) / 17]\r"
     ]
    },
    {
     "name": "stdout",
     "output_type": "stream",
     "text": [
      "+--------------------+\n",
      "|               model|\n",
      "+--------------------+\n",
      "|         ST9250315AS|\n",
      "|         ST4000DM000|\n",
      "|          ST320LT007|\n",
      "|         ST3500320AS|\n",
      "|      WDC WD5002ABYS|\n",
      "|      WDC WD2500BEVT|\n",
      "|Hitachi HDS5C3030...|\n",
      "|        WDC WD60EFRX|\n",
      "|       WDC WD800AAJB|\n",
      "|Hitachi HDS722020...|\n",
      "+--------------------+\n",
      "only showing top 10 rows\n",
      "\n"
     ]
    },
    {
     "name": "stderr",
     "output_type": "stream",
     "text": [
      "                                                                                \r"
     ]
    }
   ],
   "source": [
    "df.select('model').distinct().show(10)"
   ]
  },
  {
   "cell_type": "code",
   "execution_count": 16,
   "metadata": {},
   "outputs": [
    {
     "name": "stderr",
     "output_type": "stream",
     "text": [
      "                                                                                \r"
     ]
    },
    {
     "data": {
      "text/html": [
       "<div>\n",
       "<style scoped>\n",
       "    .dataframe tbody tr th:only-of-type {\n",
       "        vertical-align: middle;\n",
       "    }\n",
       "\n",
       "    .dataframe tbody tr th {\n",
       "        vertical-align: top;\n",
       "    }\n",
       "\n",
       "    .dataframe thead th {\n",
       "        text-align: right;\n",
       "    }\n",
       "</style>\n",
       "<table border=\"1\" class=\"dataframe\">\n",
       "  <thead>\n",
       "    <tr style=\"text-align: right;\">\n",
       "      <th></th>\n",
       "      <th>count(DISTINCT serial_number)</th>\n",
       "    </tr>\n",
       "  </thead>\n",
       "  <tbody>\n",
       "    <tr>\n",
       "      <th>0</th>\n",
       "      <td>65993</td>\n",
       "    </tr>\n",
       "  </tbody>\n",
       "</table>\n",
       "</div>"
      ],
      "text/plain": [
       "   count(DISTINCT serial_number)\n",
       "0                          65993"
      ]
     },
     "execution_count": 16,
     "metadata": {},
     "output_type": "execute_result"
    }
   ],
   "source": [
    "df.agg(F.countDistinct(df['serial_number'])).toPandas()"
   ]
  },
  {
   "cell_type": "code",
   "execution_count": 17,
   "metadata": {},
   "outputs": [
    {
     "name": "stderr",
     "output_type": "stream",
     "text": [
      "[Stage 29:================================>                       (10 + 7) / 17]\r"
     ]
    },
    {
     "name": "stdout",
     "output_type": "stream",
     "text": [
      "+--------------+\n",
      "| serial_number|\n",
      "+--------------+\n",
      "|JK11A8B9J7AAKF|\n",
      "|PL1331LAGM029H|\n",
      "|PL1331LAGR24XH|\n",
      "|PL1331LAGTUP5H|\n",
      "|      S300XDVP|\n",
      "|      S300Z47R|\n",
      "|      Z300CNRB|\n",
      "|      Z300HLWD|\n",
      "|      Z3010T5F|\n",
      "|      Z3014A7H|\n",
      "+--------------+\n",
      "only showing top 10 rows\n",
      "\n"
     ]
    },
    {
     "name": "stderr",
     "output_type": "stream",
     "text": [
      "                                                                                \r"
     ]
    }
   ],
   "source": [
    "df.select('serial_number').distinct().show(10)"
   ]
  },
  {
   "cell_type": "markdown",
   "metadata": {},
   "source": [
    "Number of serial number with failure"
   ]
  },
  {
   "cell_type": "code",
   "execution_count": 25,
   "metadata": {},
   "outputs": [
    {
     "name": "stderr",
     "output_type": "stream",
     "text": [
      "[Stage 39:====================================================>   (16 + 1) / 17]\r"
     ]
    },
    {
     "name": "stdout",
     "output_type": "stream",
     "text": [
      "+-----------------------------+\n",
      "|count(DISTINCT serial_number)|\n",
      "+-----------------------------+\n",
      "|                          205|\n",
      "+-----------------------------+\n",
      "\n"
     ]
    },
    {
     "name": "stderr",
     "output_type": "stream",
     "text": [
      "                                                                                \r"
     ]
    }
   ],
   "source": [
    "df1.where(df1[target_label] == 1).agg(F.countDistinct('serial_number')).show()"
   ]
  },
  {
   "cell_type": "markdown",
   "metadata": {},
   "source": [
    "Count of failed HDD by model"
   ]
  },
  {
   "cell_type": "code",
   "execution_count": 26,
   "metadata": {},
   "outputs": [
    {
     "name": "stderr",
     "output_type": "stream",
     "text": [
      "[Stage 45:====================================================>   (16 + 1) / 17]\r"
     ]
    },
    {
     "name": "stdout",
     "output_type": "stream",
     "text": [
      "+--------------------+-----+\n",
      "|               model|count|\n",
      "+--------------------+-----+\n",
      "|         ST4000DM000|  131|\n",
      "|          ST320LT007|   15|\n",
      "|Hitachi HDS722020...|   13|\n",
      "|       WDC WD800AAJS|    6|\n",
      "|        WDC WD30EFRX|    6|\n",
      "|Hitachi HDS5C3030...|    5|\n",
      "|Hitachi HDS5C4040...|    3|\n",
      "|HGST HMS5C4040ALE640|    2|\n",
      "|      WDC WD1600AAJB|    2|\n",
      "|         ST6000DX000|    2|\n",
      "|         ST4000DX000|    2|\n",
      "|      WDC WD1600AAJS|    2|\n",
      "|        WDC WD20EFRX|    2|\n",
      "|         ST3160318AS|    2|\n",
      "|        WDC WD10EADS|    2|\n",
      "|         ST9250315AS|    1|\n",
      "|        WDC WD60EFRX|    1|\n",
      "|       WDC WD800AAJB|    1|\n",
      "|  TOSHIBA DT01ACA300|    1|\n",
      "|      WDC WD3200BEKT|    1|\n",
      "+--------------------+-----+\n",
      "only showing top 20 rows\n",
      "\n"
     ]
    },
    {
     "name": "stderr",
     "output_type": "stream",
     "text": [
      "                                                                                \r"
     ]
    }
   ],
   "source": [
    "df1.where(df1[target_label] == 1).select(id_cols).dropDuplicates().groupby('model').count().sort('count', ascending=False).show()"
   ]
  },
  {
   "cell_type": "code",
   "execution_count": 27,
   "metadata": {},
   "outputs": [
    {
     "name": "stderr",
     "output_type": "stream",
     "text": [
      "[Stage 51:====================================================>   (16 + 1) / 17]\r"
     ]
    },
    {
     "name": "stdout",
     "output_type": "stream",
     "text": [
      "+---------------+-----+\n",
      "|  serial_number|count|\n",
      "+---------------+-----+\n",
      "|       W300STTQ|    1|\n",
      "|       Z300PMEL|    1|\n",
      "|       W0Q26EE1|    1|\n",
      "| JK1105B8J10GXX|    1|\n",
      "|       Z300X5WP|    1|\n",
      "| MJ1321YNG0JKMA|    1|\n",
      "|       Z303RK24|    1|\n",
      "|       Z304R6NY|    1|\n",
      "|       Z30111VL|    1|\n",
      "|       W0Q6WJGE|    1|\n",
      "|       Z300ZQYJ|    1|\n",
      "|       S300Z46R|    1|\n",
      "|WD-WMC4N0727496|    1|\n",
      "|       Z4D04BH9|    1|\n",
      "|       Z302G5F6|    1|\n",
      "| JK11A8B9J388ZF|    1|\n",
      "|       Z30250YD|    1|\n",
      "|       W300T1YZ|    1|\n",
      "|       Z304JFAQ|    1|\n",
      "|       Z304QCQL|    1|\n",
      "+---------------+-----+\n",
      "only showing top 20 rows\n",
      "\n"
     ]
    },
    {
     "name": "stderr",
     "output_type": "stream",
     "text": [
      "                                                                                \r"
     ]
    }
   ],
   "source": [
    "df1.where(df1[target_label] == 1).select(id_cols).dropDuplicates().groupby('serial_number').count().sort('count', ascending=False).show()"
   ]
  },
  {
   "cell_type": "markdown",
   "metadata": {},
   "source": [
    "## Number of samples by serial number"
   ]
  },
  {
   "cell_type": "code",
   "execution_count": 51,
   "metadata": {},
   "outputs": [
    {
     "name": "stderr",
     "output_type": "stream",
     "text": [
      "[Stage 116:>                                                      (0 + 16) / 16]\r"
     ]
    },
    {
     "name": "stdout",
     "output_type": "stream",
     "text": [
      "+---------------+--------------------+-----+\n",
      "|  serial_number|               model|count|\n",
      "+---------------+--------------------+-----+\n",
      "| MJ1311YNG7BH3A|Hitachi HDS5C3030...|   52|\n",
      "|       S300Z6K9|         ST4000DM000|   52|\n",
      "|       S300ZVMZ|         ST4000DM000|   52|\n",
      "|       S3010TR7|         ST4000DM000|   52|\n",
      "| PL2331LAGM7YGJ|HGST HMS5C4040BLE640|   52|\n",
      "|       S30088X7|         ST4000DM000|   52|\n",
      "|       Z305BT2T|         ST4000DM000|   52|\n",
      "| PL1331LAGT94SH|HGST HMS5C4040ALE640|   52|\n",
      "|WD-WX41D94RNV69|        WDC WD60EFRX|   52|\n",
      "| JK11A8B9J9KYXF|Hitachi HDS722020...|   52|\n",
      "+---------------+--------------------+-----+\n",
      "only showing top 10 rows\n",
      "\n"
     ]
    },
    {
     "name": "stderr",
     "output_type": "stream",
     "text": [
      "                                                                                \r"
     ]
    }
   ],
   "source": [
    "df.groupby(id_cols).count().sort('count', ascending=False).show(10)"
   ]
  },
  {
   "cell_type": "markdown",
   "metadata": {},
   "source": [
    "## Statistics"
   ]
  },
  {
   "cell_type": "code",
   "execution_count": 21,
   "metadata": {},
   "outputs": [],
   "source": [
    "num_cols = [c for c in df1.columns if c not in [date_col, target_label] + id_cols]"
   ]
  },
  {
   "cell_type": "code",
   "execution_count": 84,
   "metadata": {},
   "outputs": [
    {
     "data": {
      "text/plain": [
       "Row(date=datetime.date(2016, 1, 1), failure=0, serial_number='2511K0QAFMYB', model='TOSHIBA MD04ABA400V', capacity_bytes=1.976651427858e-311, smart_1_normalized=100, smart_1_raw=0, smart_3_normalized=100, smart_3_raw=5452, smart_4_normalized=100, smart_4_raw=3, smart_5_normalized=100, smart_5_raw=0, smart_7_normalized=100, smart_7_raw=0.0, smart_9_normalized=82, smart_9_raw=7399, smart_10_normalized=100, smart_10_raw=0, smart_12_normalized=100, smart_12_raw=3, smart_188_raw=0.0, smart_192_normalized='100', smart_192_raw='0', smart_193_normalized='100', smart_193_raw='136', smart_194_normalized='100', smart_194_raw='33', smart_197_normalized=100, smart_197_raw=0, smart_198_normalized=100, smart_198_raw=0, smart_199_normalized=200, smart_199_raw=0, smart_240_raw=0.0, smart_241_raw=0.0, smart_242_raw=0.0)"
      ]
     },
     "execution_count": 84,
     "metadata": {},
     "output_type": "execute_result"
    }
   ],
   "source": [
    "df1.first()"
   ]
  },
  {
   "cell_type": "code",
   "execution_count": 90,
   "metadata": {},
   "outputs": [
    {
     "name": "stderr",
     "output_type": "stream",
     "text": [
      "[Stage 279:===================================================>   (16 + 1) / 17]\r"
     ]
    },
    {
     "name": "stdout",
     "output_type": "stream",
     "text": [
      "+-------+--------------------+-------------+--------------------+--------------------+------------------+-------------------+------------------+------------------+------------------+-----------------+------------------+------------------+------------------+--------------------+------------------+------------------+-------------------+------------------+-------------------+------------------+--------------------+--------------------+------------------+--------------------+------------------+--------------------+------------------+--------------------+-------------------+--------------------+------------------+--------------------+------------------+--------------------+------------------+--------------------+\n",
      "|summary|             failure|serial_number|               model|      capacity_bytes|smart_1_normalized|        smart_1_raw|smart_3_normalized|       smart_3_raw|smart_4_normalized|      smart_4_raw|smart_5_normalized|       smart_5_raw|smart_7_normalized|         smart_7_raw|smart_9_normalized|       smart_9_raw|smart_10_normalized|      smart_10_raw|smart_12_normalized|      smart_12_raw|       smart_188_raw|smart_192_normalized|     smart_192_raw|smart_193_normalized|     smart_193_raw|smart_194_normalized|     smart_194_raw|smart_197_normalized|      smart_197_raw|smart_198_normalized|     smart_198_raw|smart_199_normalized|     smart_199_raw|       smart_240_raw|     smart_241_raw|       smart_242_raw|\n",
      "+-------+--------------------+-------------+--------------------+--------------------+------------------+-------------------+------------------+------------------+------------------+-----------------+------------------+------------------+------------------+--------------------+------------------+------------------+-------------------+------------------+-------------------+------------------+--------------------+--------------------+------------------+--------------------+------------------+--------------------+------------------+--------------------+-------------------+--------------------+------------------+--------------------+------------------+--------------------+------------------+--------------------+\n",
      "|  count|             3058798|      3058798|             3058798|             3058798|           3058798|            3058798|           3058798|           3058798|           3058798|          3058798|           3058798|           3058798|           3058798|             3058798|           3058798|           3058798|            3058798|           3058798|            3058798|           3058798|             3058798|             3049684|           3049684|             3017813|           3017813|             3058748|           3058748|             3058798|            3058798|             3058798|           3058798|             3058798|           3058798|             3058798|           3058798|             3058798|\n",
      "|   mean| 6.70197901267099E-5|         NULL|                NULL|1.8496587939013E-311|112.18209375055169|6.859434842137925E7|105.29298142603729| 365.5422165831153| 99.99833104376295|13.53109456721235|105.14147845003168|2.0431793796125146|  93.0559971596686|   4.6002410155E-314| 91.99236203240619|15954.458333633016| 101.58082913615087| 25.26311184981813|  99.99973584394915|11.306056169776493|     5.48611615E-316|  104.81855923433379|166.26065749762927|   97.79835430492214|14288.661475048322|  102.17953064456438|27.735424101625895|  105.16003148949359|0.08457178277218698|  101.80303275992726|0.0742383119120648|  199.98561526455816|26.583879680841953|  5.34105839769E-311|  5.480027353E-314|  2.39996087604E-313|\n",
      "| stddev|0.008186288559749105|         NULL|                NULL|                 0.0|18.713575146993858|8.005162530021136E7|  18.6999354767106|1089.2638454985195|0.1410678461016087|149.7087530317752|23.928599945954197|137.26394967555217|22.210379732423338|                 0.0| 8.385351069534138|12547.195932933693| 15.436354798960137|2722.4614957693593|0.06470855667744695|  68.1543094896271|                 0.0|  23.089960521381524| 503.6420607484227|  20.850271071255598|113848.19500648056|   90.89728472999512| 5.122488224748417|  23.911768962874987| 14.508078648336975|  16.107159600549227| 10.81771384629158|   1.199277738380875| 1873.160936526917|                 0.0|               0.0|                 0.0|\n",
      "|    min|                   0|    13H2B97AS|HGST HDS5C4040ALE630|  3.95382761547E-313|                33|                  0|                70|                 0|                74|                1|                 1|                 0|                39|                 0.0|                 1|                 4|                 70|                 0|                 84|                 0|                 0.0|                 100|                 0|                   1|                 0|                 100|                13|                   1|                  0|                  81|                 0|                 100|                 0|                 0.0|               0.0|                 0.0|\n",
      "|    max|                   1|     Z4E09KB7|         WDC WD800LB| 3.953297501025E-311|               200|         1916484654|               253|              9708|               100|            26674|               252|             55360|               252|1.39065316241766E...|               100|             89159|                252|            393216|                100|             16415|4.4138185947376E-311|                  99|               999|                  99|             99999|                  99|                49|                 252|              16896|                 252|              3128|                 200|            402729|1.39064994169813E...|2.15828597707E-313|1.5970719573567E-310|\n",
      "+-------+--------------------+-------------+--------------------+--------------------+------------------+-------------------+------------------+------------------+------------------+-----------------+------------------+------------------+------------------+--------------------+------------------+------------------+-------------------+------------------+-------------------+------------------+--------------------+--------------------+------------------+--------------------+------------------+--------------------+------------------+--------------------+-------------------+--------------------+------------------+--------------------+------------------+--------------------+------------------+--------------------+\n",
      "\n"
     ]
    },
    {
     "name": "stderr",
     "output_type": "stream",
     "text": [
      "                                                                                \r"
     ]
    }
   ],
   "source": [
    "df1.describe().show()"
   ]
  },
  {
   "cell_type": "code",
   "execution_count": null,
   "metadata": {},
   "outputs": [],
   "source": []
  },
  {
   "cell_type": "code",
   "execution_count": null,
   "metadata": {},
   "outputs": [],
   "source": []
  },
  {
   "cell_type": "code",
   "execution_count": 71,
   "metadata": {},
   "outputs": [],
   "source": [
    "mean_by_class = df1.drop(*[date_col] + id_cols).groupby(target_label).mean()"
   ]
  },
  {
   "cell_type": "code",
   "execution_count": 72,
   "metadata": {},
   "outputs": [
    {
     "name": "stderr",
     "output_type": "stream",
     "text": [
      "[Stage 256:===================================================>   (16 + 1) / 17]\r"
     ]
    },
    {
     "name": "stdout",
     "output_type": "stream",
     "text": [
      "+-------+------------+--------------------+-----------------------+-------------------+-----------------------+------------------+-----------------------+----------------+-----------------------+-----------------+-----------------------+-----------------+-----------------------+------------------+------------------------+--------------------+------------------------+------------------+------------------+-------------------------+-------------------+-------------------------+------------------+-------------------------+------------------+--------------------+------------------+------------------+\n",
      "|failure|avg(failure)| avg(capacity_bytes)|avg(smart_1_normalized)|   avg(smart_1_raw)|avg(smart_3_normalized)|  avg(smart_3_raw)|avg(smart_4_normalized)|avg(smart_4_raw)|avg(smart_5_normalized)| avg(smart_5_raw)|avg(smart_7_normalized)| avg(smart_7_raw)|avg(smart_9_normalized)|  avg(smart_9_raw)|avg(smart_10_normalized)|   avg(smart_10_raw)|avg(smart_12_normalized)| avg(smart_12_raw)|avg(smart_188_raw)|avg(smart_197_normalized)| avg(smart_197_raw)|avg(smart_198_normalized)|avg(smart_198_raw)|avg(smart_199_normalized)|avg(smart_199_raw)|  avg(smart_240_raw)|avg(smart_241_raw)|avg(smart_242_raw)|\n",
      "+-------+------------+--------------------+-----------------------+-------------------+-----------------------+------------------+-----------------------+----------------+-----------------------+-----------------+-----------------------+-----------------+-----------------------+------------------+------------------------+--------------------+------------------------+------------------+------------------+-------------------------+-------------------+-------------------------+------------------+-------------------------+------------------+--------------------+------------------+------------------+\n",
      "|      1|         1.0|1.5775858700377E-311|     121.82439024390244|9.569214049756098E7|     103.61463414634146|509.29756097560977|      99.99512195121952|25.4390243902439|     110.11219512195122|354.4829268292683|      95.00975609756098| 2.991612115E-315|      81.57560975609756|19444.043902439025|       99.97560975609755|0.004878048780487805|       99.99512195121952|20.741463414634147|  1.107595193E-314|                    111.6| 114.37073170731708|       103.30243902439024|31.458536585365852|                    200.0|62.678048780487806|1.3621008178453E-310| 7.1293306103E-314|9.46725256374E-313|\n",
      "|      0|         0.0| 1.849677029394E-311|     112.18144748255162|6.859253221131939E7|      105.2930939160588|365.53258148436225|      99.99833125885007|13.5302964467649|     105.14114529131533|2.019557358563235|      93.05586621037843|4.6005292925E-314|      91.99306020774912|15954.224446665508|       101.5809367248274|  25.264804764805255|         99.999736153192|11.305423768379775|   5.47906025E-316|       105.15959985522755|0.07691183495156106|       101.80293226329884|0.0721348018517011|        199.9856143004316|26.581460495070772|5.3405034400003E-311| 5.4799168096E-314| 2.3994871959E-313|\n",
      "+-------+------------+--------------------+-----------------------+-------------------+-----------------------+------------------+-----------------------+----------------+-----------------------+-----------------+-----------------------+-----------------+-----------------------+------------------+------------------------+--------------------+------------------------+------------------+------------------+-------------------------+-------------------+-------------------------+------------------+-------------------------+------------------+--------------------+------------------+------------------+\n",
      "\n"
     ]
    },
    {
     "name": "stderr",
     "output_type": "stream",
     "text": [
      "                                                                                \r"
     ]
    }
   ],
   "source": [
    "mean_by_class.show()"
   ]
  },
  {
   "cell_type": "code",
   "execution_count": 11,
   "metadata": {},
   "outputs": [],
   "source": [
    "spark.stop()"
   ]
  }
 ],
 "metadata": {
  "kernelspec": {
   "display_name": "Python 3",
   "language": "python",
   "name": "python3"
  },
  "language_info": {
   "codemirror_mode": {
    "name": "ipython",
    "version": 3
   },
   "file_extension": ".py",
   "mimetype": "text/x-python",
   "name": "python",
   "nbconvert_exporter": "python",
   "pygments_lexer": "ipython3",
   "version": "3.10.12"
  }
 },
 "nbformat": 4,
 "nbformat_minor": 2
}
