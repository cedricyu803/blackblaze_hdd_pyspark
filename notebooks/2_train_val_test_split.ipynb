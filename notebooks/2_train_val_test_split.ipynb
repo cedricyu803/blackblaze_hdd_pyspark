{
 "cells": [
  {
   "cell_type": "code",
   "execution_count": 1,
   "metadata": {},
   "outputs": [],
   "source": [
    "import os\n",
    "import gc\n",
    "\n",
    "import pandas as pd\n",
    "from pyspark.sql import SparkSession\n",
    "from pyspark.sql import functions as F\n",
    "from pyspark.sql.window import Window\n",
    "\n",
    "pd.set_option('display.max_rows', 20)\n",
    "pd.set_option('display.max_columns', 200)\n",
    "\n",
    "%load_ext autoreload\n",
    "%autoreload 2"
   ]
  },
  {
   "cell_type": "code",
   "execution_count": 2,
   "metadata": {},
   "outputs": [
    {
     "data": {
      "text/plain": [
       "True"
      ]
     },
     "execution_count": 2,
     "metadata": {},
     "output_type": "execute_result"
    }
   ],
   "source": [
    "data_dir = '../data'\n",
    "data_filepath = os.path.join(data_dir, 'harddrive_nodup')\n",
    "os.path.exists(data_filepath)"
   ]
  },
  {
   "cell_type": "markdown",
   "metadata": {},
   "source": [
    "## Random seed"
   ]
  },
  {
   "cell_type": "code",
   "execution_count": 3,
   "metadata": {},
   "outputs": [],
   "source": [
    "RANDOM_SEED = 42\n",
    "test_frac = 0.1"
   ]
  },
  {
   "cell_type": "markdown",
   "metadata": {},
   "source": [
    "## Load data with PySpark session"
   ]
  },
  {
   "cell_type": "code",
   "execution_count": 4,
   "metadata": {},
   "outputs": [
    {
     "name": "stderr",
     "output_type": "stream",
     "text": [
      "your 131072x1 screen size is bogus. expect trouble\n",
      "24/08/23 16:00:26 WARN Utils: Your hostname, cedric-yu-work resolves to a loopback address: 127.0.1.1; using 10.255.255.254 instead (on interface lo)\n",
      "24/08/23 16:00:26 WARN Utils: Set SPARK_LOCAL_IP if you need to bind to another address\n",
      "Setting default log level to \"WARN\".\n",
      "To adjust logging level use sc.setLogLevel(newLevel). For SparkR, use setLogLevel(newLevel).\n",
      "24/08/23 16:00:27 WARN NativeCodeLoader: Unable to load native-hadoop library for your platform... using builtin-java classes where applicable\n"
     ]
    }
   ],
   "source": [
    "spark = (SparkSession.builder\n",
    "         .config(\"spark.driver.memory\", \"12g\")\n",
    "         .appName(\"SparkSQL\").getOrCreate())"
   ]
  },
  {
   "cell_type": "code",
   "execution_count": 5,
   "metadata": {},
   "outputs": [],
   "source": [
    "date_col = 'date'\n",
    "target_label = 'failure'\n",
    "id_cols = ['serial_number', 'model']\n"
   ]
  },
  {
   "cell_type": "code",
   "execution_count": 6,
   "metadata": {},
   "outputs": [
    {
     "name": "stderr",
     "output_type": "stream",
     "text": [
      "                                                                                \r"
     ]
    }
   ],
   "source": [
    "df = (spark.read.option(\"header\", \"true\")\n",
    "      .option(\"inferSchema\", \"true\")\n",
    "      .csv(data_filepath))\n",
    "df = df.sort(id_cols + [date_col])\n"
   ]
  },
  {
   "cell_type": "code",
   "execution_count": 7,
   "metadata": {},
   "outputs": [
    {
     "name": "stderr",
     "output_type": "stream",
     "text": [
      "24/08/23 16:00:41 WARN SparkStringUtils: Truncated the string representation of a plan since it was too large. This behavior can be adjusted by setting 'spark.sql.debug.maxToStringFields'.\n",
      "[Stage 2:=====================================================>   (16 + 1) / 17]\r"
     ]
    },
    {
     "name": "stdout",
     "output_type": "stream",
     "text": [
      "+----------+-------------+------------------+--------------------+-------+------------------+-----------+------------------+-----------+------------------+-----------+------------------+-----------+------------------+-----------+------------------+-----------+------------------+-----------+------------------+-----------+-------------------+------------+-------------------+------------+-------------------+------------+-------------------+------------+-------------------+------------+-------------------+------------+--------------------+-------------+--------------------+-------------+--------------------+-------------+--------------------+-------------+--------------------+-------------+--------------------+-------------+--------------------+-------------+--------------------+-------------+--------------------+-------------+--------------------+-------------+--------------------+-------------+--------------------+-------------+--------------------+-------------+--------------------+-------------+--------------------+-------------+--------------------+-------------+--------------------+-------------+--------------------+-------------+--------------------+-------------+--------------------+-------------+--------------------+-------------+--------------------+-------------+--------------------+-------------+--------------------+-------------+--------------------+-------------+--------------------+-------------+--------------------+-------------+--------------------+-------------+--------------------+-------------+--------------------+-------------+--------------------+-------------+\n",
      "|      date|serial_number|             model|      capacity_bytes|failure|smart_1_normalized|smart_1_raw|smart_2_normalized|smart_2_raw|smart_3_normalized|smart_3_raw|smart_4_normalized|smart_4_raw|smart_5_normalized|smart_5_raw|smart_7_normalized|smart_7_raw|smart_8_normalized|smart_8_raw|smart_9_normalized|smart_9_raw|smart_10_normalized|smart_10_raw|smart_11_normalized|smart_11_raw|smart_12_normalized|smart_12_raw|smart_13_normalized|smart_13_raw|smart_15_normalized|smart_15_raw|smart_22_normalized|smart_22_raw|smart_183_normalized|smart_183_raw|smart_184_normalized|smart_184_raw|smart_187_normalized|smart_187_raw|smart_188_normalized|smart_188_raw|smart_189_normalized|smart_189_raw|smart_190_normalized|smart_190_raw|smart_191_normalized|smart_191_raw|smart_192_normalized|smart_192_raw|smart_193_normalized|smart_193_raw|smart_194_normalized|smart_194_raw|smart_195_normalized|smart_195_raw|smart_196_normalized|smart_196_raw|smart_197_normalized|smart_197_raw|smart_198_normalized|smart_198_raw|smart_199_normalized|smart_199_raw|smart_200_normalized|smart_200_raw|smart_201_normalized|smart_201_raw|smart_220_normalized|smart_220_raw|smart_222_normalized|smart_222_raw|smart_223_normalized|smart_223_raw|smart_224_normalized|smart_224_raw|smart_225_normalized|smart_225_raw|smart_226_normalized|smart_226_raw|smart_240_normalized|smart_240_raw|smart_241_normalized|smart_241_raw|smart_242_normalized|smart_242_raw|smart_250_normalized|smart_250_raw|smart_251_normalized|smart_251_raw|smart_252_normalized|smart_252_raw|smart_254_normalized|smart_254_raw|smart_255_normalized|smart_255_raw|\n",
      "+----------+-------------+------------------+--------------------+-------+------------------+-----------+------------------+-----------+------------------+-----------+------------------+-----------+------------------+-----------+------------------+-----------+------------------+-----------+------------------+-----------+-------------------+------------+-------------------+------------+-------------------+------------+-------------------+------------+-------------------+------------+-------------------+------------+--------------------+-------------+--------------------+-------------+--------------------+-------------+--------------------+-------------+--------------------+-------------+--------------------+-------------+--------------------+-------------+--------------------+-------------+--------------------+-------------+--------------------+-------------+--------------------+-------------+--------------------+-------------+--------------------+-------------+--------------------+-------------+--------------------+-------------+--------------------+-------------+--------------------+-------------+--------------------+-------------+--------------------+-------------+--------------------+-------------+--------------------+-------------+--------------------+-------------+--------------------+-------------+--------------------+-------------+--------------------+-------------+--------------------+-------------+--------------------+-------------+--------------------+-------------+--------------------+-------------+--------------------+-------------+--------------------+-------------+\n",
      "|2016-01-01|    13H2B97AS|TOSHIBA DT01ACA300|1.4824899095664E-311|      0|                99|     131072|               138|         75|               134|        429|               100|         18|               100|          0|               100|        0.0|               121|         34|                98|      16274|                100|           0|                 NA|          NA|                100|          18|                 NA|          NA|                 NA|          NA|                 NA|          NA|                  NA|           NA|                  NA|           NA|                  NA|           NA|                  NA|          0.0|                  NA|           NA|                  NA|           NA|                  NA|           NA|                 100|           26|                 100|           26|                 187|           32|                  NA|           NA|                 100|            0|                 100|            0|                 100|            0|                 200|           10|                  NA|           NA|                  NA|           NA|                  NA|           NA|                  NA|           NA|                  NA|           NA|                  NA|           NA|                  NA|           NA|                  NA|           NA|                  NA|          0.0|                  NA|          0.0|                  NA|          0.0|                  NA|           NA|                  NA|           NA|                  NA|           NA|                  NA|           NA|                  NA|           NA|\n",
      "|2016-01-02|    13H2B97AS|TOSHIBA DT01ACA300|1.4824899095664E-311|      0|               100|          1|               138|         75|               134|        429|               100|         18|               100|          0|               100|        0.0|               121|         34|                98|      16298|                100|           0|                 NA|          NA|                100|          18|                 NA|          NA|                 NA|          NA|                 NA|          NA|                  NA|           NA|                  NA|           NA|                  NA|           NA|                  NA|          0.0|                  NA|           NA|                  NA|           NA|                  NA|           NA|                 100|           26|                 100|           26|                 187|           32|                  NA|           NA|                 100|            0|                 100|            0|                 100|            0|                 200|           10|                  NA|           NA|                  NA|           NA|                  NA|           NA|                  NA|           NA|                  NA|           NA|                  NA|           NA|                  NA|           NA|                  NA|           NA|                  NA|          0.0|                  NA|          0.0|                  NA|          0.0|                  NA|           NA|                  NA|           NA|                  NA|           NA|                  NA|           NA|                  NA|           NA|\n",
      "|2016-01-03|    13H2B97AS|TOSHIBA DT01ACA300|1.4824899095664E-311|      0|               100|          1|               138|         75|               134|        429|               100|         18|               100|          0|               100|        0.0|               121|         34|                98|      16322|                100|           0|                 NA|          NA|                100|          18|                 NA|          NA|                 NA|          NA|                 NA|          NA|                  NA|           NA|                  NA|           NA|                  NA|           NA|                  NA|          0.0|                  NA|           NA|                  NA|           NA|                  NA|           NA|                 100|           26|                 100|           26|                 187|           32|                  NA|           NA|                 100|            0|                 100|            0|                 100|            0|                 200|           10|                  NA|           NA|                  NA|           NA|                  NA|           NA|                  NA|           NA|                  NA|           NA|                  NA|           NA|                  NA|           NA|                  NA|           NA|                  NA|          0.0|                  NA|          0.0|                  NA|          0.0|                  NA|           NA|                  NA|           NA|                  NA|           NA|                  NA|           NA|                  NA|           NA|\n",
      "|2016-01-04|    13H2B97AS|TOSHIBA DT01ACA300|1.4824899095664E-311|      0|               100|          0|               138|         75|               134|        429|               100|         18|               100|          0|               100|        0.0|               121|         34|                98|      16346|                100|           0|                 NA|          NA|                100|          18|                 NA|          NA|                 NA|          NA|                 NA|          NA|                  NA|           NA|                  NA|           NA|                  NA|           NA|                  NA|          0.0|                  NA|           NA|                  NA|           NA|                  NA|           NA|                 100|           26|                 100|           26|                 187|           32|                  NA|           NA|                 100|            0|                 100|            0|                 100|            0|                 200|           10|                  NA|           NA|                  NA|           NA|                  NA|           NA|                  NA|           NA|                  NA|           NA|                  NA|           NA|                  NA|           NA|                  NA|           NA|                  NA|          0.0|                  NA|          0.0|                  NA|          0.0|                  NA|           NA|                  NA|           NA|                  NA|           NA|                  NA|           NA|                  NA|           NA|\n",
      "|2016-01-05|    13H2B97AS|TOSHIBA DT01ACA300|1.4824899095664E-311|      0|               100|          0|               138|         75|               134|        429|               100|         18|               100|          0|               100|        0.0|               121|         34|                98|      16370|                100|           0|                 NA|          NA|                100|          18|                 NA|          NA|                 NA|          NA|                 NA|          NA|                  NA|           NA|                  NA|           NA|                  NA|           NA|                  NA|          0.0|                  NA|           NA|                  NA|           NA|                  NA|           NA|                 100|           26|                 100|           26|                 181|           33|                  NA|           NA|                 100|            0|                 100|            0|                 100|            0|                 200|           10|                  NA|           NA|                  NA|           NA|                  NA|           NA|                  NA|           NA|                  NA|           NA|                  NA|           NA|                  NA|           NA|                  NA|           NA|                  NA|          0.0|                  NA|          0.0|                  NA|          0.0|                  NA|           NA|                  NA|           NA|                  NA|           NA|                  NA|           NA|                  NA|           NA|\n",
      "|2016-01-06|    13H2B97AS|TOSHIBA DT01ACA300|1.4824899095664E-311|      0|                99|     131073|               138|         75|               134|        429|               100|         18|               100|          0|               100|        0.0|               121|         34|                98|      16395|                100|           0|                 NA|          NA|                100|          18|                 NA|          NA|                 NA|          NA|                 NA|          NA|                  NA|           NA|                  NA|           NA|                  NA|           NA|                  NA|          0.0|                  NA|           NA|                  NA|           NA|                  NA|           NA|                 100|           26|                 100|           26|                 187|           32|                  NA|           NA|                 100|            0|                 100|            0|                 100|            0|                 200|           10|                  NA|           NA|                  NA|           NA|                  NA|           NA|                  NA|           NA|                  NA|           NA|                  NA|           NA|                  NA|           NA|                  NA|           NA|                  NA|          0.0|                  NA|          0.0|                  NA|          0.0|                  NA|           NA|                  NA|           NA|                  NA|           NA|                  NA|           NA|                  NA|           NA|\n",
      "|2016-01-07|    13H2B97AS|TOSHIBA DT01ACA300|1.4824899095664E-311|      0|                96|     458753|               138|         75|               134|        429|               100|         18|               100|          0|               100|        0.0|               121|         34|                98|      16418|                100|           0|                 NA|          NA|                100|          18|                 NA|          NA|                 NA|          NA|                 NA|          NA|                  NA|           NA|                  NA|           NA|                  NA|           NA|                  NA|          0.0|                  NA|           NA|                  NA|           NA|                  NA|           NA|                 100|           26|                 100|           26|                 181|           33|                  NA|           NA|                 100|            0|                 100|            0|                 100|            0|                 200|           10|                  NA|           NA|                  NA|           NA|                  NA|           NA|                  NA|           NA|                  NA|           NA|                  NA|           NA|                  NA|           NA|                  NA|           NA|                  NA|          0.0|                  NA|          0.0|                  NA|          0.0|                  NA|           NA|                  NA|           NA|                  NA|           NA|                  NA|           NA|                  NA|           NA|\n",
      "|2016-01-08|    13H2B97AS|TOSHIBA DT01ACA300|1.4824899095664E-311|      0|               100|          0|               138|         75|               134|        429|               100|         18|               100|          0|               100|        0.0|               121|         34|                98|      16442|                100|           0|                 NA|          NA|                100|          18|                 NA|          NA|                 NA|          NA|                 NA|          NA|                  NA|           NA|                  NA|           NA|                  NA|           NA|                  NA|          0.0|                  NA|           NA|                  NA|           NA|                  NA|           NA|                 100|           26|                 100|           26|                 187|           32|                  NA|           NA|                 100|            0|                 100|            0|                 100|            0|                 200|           10|                  NA|           NA|                  NA|           NA|                  NA|           NA|                  NA|           NA|                  NA|           NA|                  NA|           NA|                  NA|           NA|                  NA|           NA|                  NA|          0.0|                  NA|          0.0|                  NA|          0.0|                  NA|           NA|                  NA|           NA|                  NA|           NA|                  NA|           NA|                  NA|           NA|\n",
      "|2016-01-09|    13H2B97AS|TOSHIBA DT01ACA300|1.4824899095664E-311|      0|                98|     131075|               138|         75|               134|        429|               100|         18|               100|          0|               100|        0.0|               121|         34|                98|      16467|                100|           0|                 NA|          NA|                100|          18|                 NA|          NA|                 NA|          NA|                 NA|          NA|                  NA|           NA|                  NA|           NA|                  NA|           NA|                  NA|          0.0|                  NA|           NA|                  NA|           NA|                  NA|           NA|                 100|           26|                 100|           26|                 187|           32|                  NA|           NA|                 100|            0|                 100|            0|                 100|            0|                 200|           10|                  NA|           NA|                  NA|           NA|                  NA|           NA|                  NA|           NA|                  NA|           NA|                  NA|           NA|                  NA|           NA|                  NA|           NA|                  NA|          0.0|                  NA|          0.0|                  NA|          0.0|                  NA|           NA|                  NA|           NA|                  NA|           NA|                  NA|           NA|                  NA|           NA|\n",
      "|2016-01-10|    13H2B97AS|TOSHIBA DT01ACA300|1.4824899095664E-311|      0|               100|          0|               138|         75|               134|        429|               100|         18|               100|          0|               100|        0.0|               121|         34|                98|      16490|                100|           0|                 NA|          NA|                100|          18|                 NA|          NA|                 NA|          NA|                 NA|          NA|                  NA|           NA|                  NA|           NA|                  NA|           NA|                  NA|          0.0|                  NA|           NA|                  NA|           NA|                  NA|           NA|                 100|           26|                 100|           26|                 181|           33|                  NA|           NA|                 100|            0|                 100|            0|                 100|            0|                 200|           10|                  NA|           NA|                  NA|           NA|                  NA|           NA|                  NA|           NA|                  NA|           NA|                  NA|           NA|                  NA|           NA|                  NA|           NA|                  NA|          0.0|                  NA|          0.0|                  NA|          0.0|                  NA|           NA|                  NA|           NA|                  NA|           NA|                  NA|           NA|                  NA|           NA|\n",
      "+----------+-------------+------------------+--------------------+-------+------------------+-----------+------------------+-----------+------------------+-----------+------------------+-----------+------------------+-----------+------------------+-----------+------------------+-----------+------------------+-----------+-------------------+------------+-------------------+------------+-------------------+------------+-------------------+------------+-------------------+------------+-------------------+------------+--------------------+-------------+--------------------+-------------+--------------------+-------------+--------------------+-------------+--------------------+-------------+--------------------+-------------+--------------------+-------------+--------------------+-------------+--------------------+-------------+--------------------+-------------+--------------------+-------------+--------------------+-------------+--------------------+-------------+--------------------+-------------+--------------------+-------------+--------------------+-------------+--------------------+-------------+--------------------+-------------+--------------------+-------------+--------------------+-------------+--------------------+-------------+--------------------+-------------+--------------------+-------------+--------------------+-------------+--------------------+-------------+--------------------+-------------+--------------------+-------------+--------------------+-------------+--------------------+-------------+--------------------+-------------+--------------------+-------------+\n",
      "only showing top 10 rows\n",
      "\n"
     ]
    },
    {
     "name": "stderr",
     "output_type": "stream",
     "text": [
      "                                                                                \r"
     ]
    }
   ],
   "source": [
    "df.show(10)"
   ]
  },
  {
   "cell_type": "code",
   "execution_count": 8,
   "metadata": {},
   "outputs": [
    {
     "data": {
      "text/plain": [
       "3058798"
      ]
     },
     "execution_count": 8,
     "metadata": {},
     "output_type": "execute_result"
    }
   ],
   "source": [
    "df.count()"
   ]
  },
  {
   "cell_type": "code",
   "execution_count": 9,
   "metadata": {},
   "outputs": [
    {
     "data": {
      "text/plain": [
       "166"
      ]
     },
     "execution_count": 9,
     "metadata": {},
     "output_type": "execute_result"
    }
   ],
   "source": [
    "gc.collect()"
   ]
  },
  {
   "cell_type": "code",
   "execution_count": 10,
   "metadata": {},
   "outputs": [
    {
     "name": "stderr",
     "output_type": "stream",
     "text": [
      "[Stage 6:=====================================================>   (16 + 1) / 17]\r"
     ]
    },
    {
     "name": "stdout",
     "output_type": "stream",
     "text": [
      "+-------+-------+\n",
      "|failure|  count|\n",
      "+-------+-------+\n",
      "|      1|    205|\n",
      "|      0|3058593|\n",
      "+-------+-------+\n",
      "\n"
     ]
    },
    {
     "name": "stderr",
     "output_type": "stream",
     "text": [
      "                                                                                \r"
     ]
    }
   ],
   "source": [
    "df.groupby([target_label]).count().show()"
   ]
  },
  {
   "cell_type": "markdown",
   "metadata": {},
   "source": [
    "Missing values by column"
   ]
  },
  {
   "cell_type": "code",
   "execution_count": 28,
   "metadata": {},
   "outputs": [
    {
     "name": "stderr",
     "output_type": "stream",
     "text": [
      "[Stage 79:====================================================>   (16 + 1) / 17]\r"
     ]
    },
    {
     "name": "stdout",
     "output_type": "stream",
     "text": [
      "+-------------+-----+--------------+-------+------------------+-----------+------------------+-----------+------------------+-----------+------------------+-----------+------------------+-----------+------------------+-----------+------------------+-----------+------------------+-----------+-------------------+------------+-------------------+------------+-------------------+------------+-------------------+------------+-------------------+------------+-------------------+------------+--------------------+-------------+--------------------+-------------+--------------------+-------------+--------------------+-------------+--------------------+-------------+--------------------+-------------+--------------------+-------------+--------------------+-------------+--------------------+-------------+--------------------+-------------+--------------------+-------------+--------------------+-------------+--------------------+-------------+--------------------+-------------+--------------------+-------------+--------------------+-------------+--------------------+-------------+--------------------+-------------+--------------------+-------------+--------------------+-------------+--------------------+-------------+--------------------+-------------+--------------------+-------------+--------------------+-------------+--------------------+-------------+--------------------+-------------+--------------------+-------------+--------------------+-------------+--------------------+-------------+--------------------+-------------+--------------------+-------------+--------+\n",
      "|serial_number|model|capacity_bytes|failure|smart_1_normalized|smart_1_raw|smart_2_normalized|smart_2_raw|smart_3_normalized|smart_3_raw|smart_4_normalized|smart_4_raw|smart_5_normalized|smart_5_raw|smart_7_normalized|smart_7_raw|smart_8_normalized|smart_8_raw|smart_9_normalized|smart_9_raw|smart_10_normalized|smart_10_raw|smart_11_normalized|smart_11_raw|smart_12_normalized|smart_12_raw|smart_13_normalized|smart_13_raw|smart_15_normalized|smart_15_raw|smart_22_normalized|smart_22_raw|smart_183_normalized|smart_183_raw|smart_184_normalized|smart_184_raw|smart_187_normalized|smart_187_raw|smart_188_normalized|smart_188_raw|smart_189_normalized|smart_189_raw|smart_190_normalized|smart_190_raw|smart_191_normalized|smart_191_raw|smart_192_normalized|smart_192_raw|smart_193_normalized|smart_193_raw|smart_194_normalized|smart_194_raw|smart_195_normalized|smart_195_raw|smart_196_normalized|smart_196_raw|smart_197_normalized|smart_197_raw|smart_198_normalized|smart_198_raw|smart_199_normalized|smart_199_raw|smart_200_normalized|smart_200_raw|smart_201_normalized|smart_201_raw|smart_220_normalized|smart_220_raw|smart_222_normalized|smart_222_raw|smart_223_normalized|smart_223_raw|smart_224_normalized|smart_224_raw|smart_225_normalized|smart_225_raw|smart_226_normalized|smart_226_raw|smart_240_normalized|smart_240_raw|smart_241_normalized|smart_241_raw|smart_242_normalized|smart_242_raw|smart_250_normalized|smart_250_raw|smart_251_normalized|smart_251_raw|smart_252_normalized|smart_252_raw|smart_254_normalized|smart_254_raw|smart_255_normalized|smart_255_raw|id_index|\n",
      "+-------------+-----+--------------+-------+------------------+-----------+------------------+-----------+------------------+-----------+------------------+-----------+------------------+-----------+------------------+-----------+------------------+-----------+------------------+-----------+-------------------+------------+-------------------+------------+-------------------+------------+-------------------+------------+-------------------+------------+-------------------+------------+--------------------+-------------+--------------------+-------------+--------------------+-------------+--------------------+-------------+--------------------+-------------+--------------------+-------------+--------------------+-------------+--------------------+-------------+--------------------+-------------+--------------------+-------------+--------------------+-------------+--------------------+-------------+--------------------+-------------+--------------------+-------------+--------------------+-------------+--------------------+-------------+--------------------+-------------+--------------------+-------------+--------------------+-------------+--------------------+-------------+--------------------+-------------+--------------------+-------------+--------------------+-------------+--------------------+-------------+--------------------+-------------+--------------------+-------------+--------------------+-------------+--------------------+-------------+--------------------+-------------+--------------------+-------------+--------------------+-------------+--------+\n",
      "|            0|    0|             0|      0|                 0|          0|                 0|          0|                 0|          0|                 0|          0|                 0|          0|                 0|          0|                 0|          0|                 0|          0|                  0|           0|                  0|           0|                  0|           0|                  0|           0|                  0|           0|                  0|           0|                   0|            0|                   0|            0|                   0|            0|                   0|            0|                   0|            0|                   0|            0|                   0|            0|                   0|            0|                   0|            0|                   0|            0|                   0|            0|                   0|            0|                   0|            0|                   0|            0|                   0|            0|                   0|            0|                   0|            0|                   0|            0|                   0|            0|                   0|            0|                   0|            0|                   0|            0|                   0|            0|                   0|            0|                   0|            0|                   0|            0|                   0|            0|                   0|            0|                   0|            0|                   0|            0|                   0|            0|       0|\n",
      "+-------------+-----+--------------+-------+------------------+-----------+------------------+-----------+------------------+-----------+------------------+-----------+------------------+-----------+------------------+-----------+------------------+-----------+------------------+-----------+-------------------+------------+-------------------+------------+-------------------+------------+-------------------+------------+-------------------+------------+-------------------+------------+--------------------+-------------+--------------------+-------------+--------------------+-------------+--------------------+-------------+--------------------+-------------+--------------------+-------------+--------------------+-------------+--------------------+-------------+--------------------+-------------+--------------------+-------------+--------------------+-------------+--------------------+-------------+--------------------+-------------+--------------------+-------------+--------------------+-------------+--------------------+-------------+--------------------+-------------+--------------------+-------------+--------------------+-------------+--------------------+-------------+--------------------+-------------+--------------------+-------------+--------------------+-------------+--------------------+-------------+--------------------+-------------+--------------------+-------------+--------------------+-------------+--------------------+-------------+--------------------+-------------+--------------------+-------------+--------------------+-------------+--------+\n",
      "\n"
     ]
    },
    {
     "name": "stderr",
     "output_type": "stream",
     "text": [
      "                                                                                \r"
     ]
    }
   ],
   "source": [
    "df.select([F.count(F.when(F.isnan(c), c)).alias(c) for c in df.columns\n",
    "           if c != 'date']).show()"
   ]
  },
  {
   "cell_type": "code",
   "execution_count": null,
   "metadata": {},
   "outputs": [],
   "source": []
  },
  {
   "cell_type": "code",
   "execution_count": null,
   "metadata": {},
   "outputs": [],
   "source": []
  },
  {
   "cell_type": "markdown",
   "metadata": {},
   "source": [
    "## Add 'id_index' column corresponding to unique id column values and identify existence of failure for each"
   ]
  },
  {
   "cell_type": "code",
   "execution_count": 11,
   "metadata": {},
   "outputs": [
    {
     "name": "stderr",
     "output_type": "stream",
     "text": [
      "24/08/23 16:00:59 WARN WindowExec: No Partition Defined for Window operation! Moving all data to a single partition, this can cause serious performance degradation.\n",
      "24/08/23 16:00:59 WARN WindowExec: No Partition Defined for Window operation! Moving all data to a single partition, this can cause serious performance degradation.\n",
      "24/08/23 16:00:59 WARN WindowExec: No Partition Defined for Window operation! Moving all data to a single partition, this can cause serious performance degradation.\n"
     ]
    }
   ],
   "source": [
    "id_cols_hasfailure = df.where(df[target_label] == 1).select(id_cols).distinct().sort('model', ascending=False)\n",
    "id_cols_hasfailure = id_cols_hasfailure.withColumn(\"has_failure\", F.lit(1))\n",
    "\n",
    "id_cols_unique = df.select(id_cols).distinct().sort('model', ascending=False)\n",
    "\n",
    "id_cols_unique = id_cols_unique.join(id_cols_hasfailure, on=id_cols, how='outer')\n",
    "id_cols_unique = id_cols_unique.na.fill(0, subset='has_failure')\n",
    "w = Window().orderBy(F.lit('A'))\n",
    "id_cols_unique = id_cols_unique.withColumn(\"id_index\", F.row_number().over(w))\n",
    "id_cols_unique = id_cols_unique.cache()"
   ]
  },
  {
   "cell_type": "code",
   "execution_count": 12,
   "metadata": {},
   "outputs": [
    {
     "name": "stderr",
     "output_type": "stream",
     "text": [
      "24/08/23 16:01:03 WARN WindowExec: No Partition Defined for Window operation! Moving all data to a single partition, this can cause serious performance degradation.\n",
      "24/08/23 16:01:03 WARN WindowExec: No Partition Defined for Window operation! Moving all data to a single partition, this can cause serious performance degradation.\n",
      "24/08/23 16:01:03 WARN WindowExec: No Partition Defined for Window operation! Moving all data to a single partition, this can cause serious performance degradation.\n",
      "24/08/23 16:01:03 WARN WindowExec: No Partition Defined for Window operation! Moving all data to a single partition, this can cause serious performance degradation.\n",
      "24/08/23 16:01:04 WARN WindowExec: No Partition Defined for Window operation! Moving all data to a single partition, this can cause serious performance degradation.\n",
      "24/08/23 16:01:04 WARN WindowExec: No Partition Defined for Window operation! Moving all data to a single partition, this can cause serious performance degradation.\n",
      "                                                                                \r"
     ]
    },
    {
     "data": {
      "text/html": [
       "<div>\n",
       "<style scoped>\n",
       "    .dataframe tbody tr th:only-of-type {\n",
       "        vertical-align: middle;\n",
       "    }\n",
       "\n",
       "    .dataframe tbody tr th {\n",
       "        vertical-align: top;\n",
       "    }\n",
       "\n",
       "    .dataframe thead th {\n",
       "        text-align: right;\n",
       "    }\n",
       "</style>\n",
       "<table border=\"1\" class=\"dataframe\">\n",
       "  <thead>\n",
       "    <tr style=\"text-align: right;\">\n",
       "      <th></th>\n",
       "      <th>serial_number</th>\n",
       "      <th>model</th>\n",
       "      <th>has_failure</th>\n",
       "      <th>id_index</th>\n",
       "    </tr>\n",
       "  </thead>\n",
       "  <tbody>\n",
       "    <tr>\n",
       "      <th>0</th>\n",
       "      <td>13H85BMGS</td>\n",
       "      <td>TOSHIBA DT01ACA300</td>\n",
       "      <td>0</td>\n",
       "      <td>1</td>\n",
       "    </tr>\n",
       "    <tr>\n",
       "      <th>1</th>\n",
       "      <td>2EG3NZ2P</td>\n",
       "      <td>HGST HUH728080ALE600</td>\n",
       "      <td>0</td>\n",
       "      <td>2</td>\n",
       "    </tr>\n",
       "    <tr>\n",
       "      <th>2</th>\n",
       "      <td>2EG4B1VR</td>\n",
       "      <td>HGST HUH728080ALE600</td>\n",
       "      <td>0</td>\n",
       "      <td>3</td>\n",
       "    </tr>\n",
       "    <tr>\n",
       "      <th>3</th>\n",
       "      <td>2EG4L4VP</td>\n",
       "      <td>HGST HUH728080ALE600</td>\n",
       "      <td>0</td>\n",
       "      <td>4</td>\n",
       "    </tr>\n",
       "    <tr>\n",
       "      <th>4</th>\n",
       "      <td>4596K0X6FMYB</td>\n",
       "      <td>TOSHIBA MD04ABA400V</td>\n",
       "      <td>0</td>\n",
       "      <td>5</td>\n",
       "    </tr>\n",
       "    <tr>\n",
       "      <th>...</th>\n",
       "      <td>...</td>\n",
       "      <td>...</td>\n",
       "      <td>...</td>\n",
       "      <td>...</td>\n",
       "    </tr>\n",
       "    <tr>\n",
       "      <th>65988</th>\n",
       "      <td>Z4D0DNLY</td>\n",
       "      <td>ST6000DX000</td>\n",
       "      <td>0</td>\n",
       "      <td>65989</td>\n",
       "    </tr>\n",
       "    <tr>\n",
       "      <th>65989</th>\n",
       "      <td>Z4D0E5MF</td>\n",
       "      <td>ST6000DX000</td>\n",
       "      <td>0</td>\n",
       "      <td>65990</td>\n",
       "    </tr>\n",
       "    <tr>\n",
       "      <th>65990</th>\n",
       "      <td>Z4D0E7MS</td>\n",
       "      <td>ST6000DX000</td>\n",
       "      <td>0</td>\n",
       "      <td>65991</td>\n",
       "    </tr>\n",
       "    <tr>\n",
       "      <th>65991</th>\n",
       "      <td>Z4D1CBVD</td>\n",
       "      <td>ST6000DX000</td>\n",
       "      <td>0</td>\n",
       "      <td>65992</td>\n",
       "    </tr>\n",
       "    <tr>\n",
       "      <th>65992</th>\n",
       "      <td>Z4D1WWEN</td>\n",
       "      <td>ST6000DX000</td>\n",
       "      <td>0</td>\n",
       "      <td>65993</td>\n",
       "    </tr>\n",
       "  </tbody>\n",
       "</table>\n",
       "<p>65993 rows × 4 columns</p>\n",
       "</div>"
      ],
      "text/plain": [
       "      serial_number                 model  has_failure  id_index\n",
       "0         13H85BMGS    TOSHIBA DT01ACA300            0         1\n",
       "1          2EG3NZ2P  HGST HUH728080ALE600            0         2\n",
       "2          2EG4B1VR  HGST HUH728080ALE600            0         3\n",
       "3          2EG4L4VP  HGST HUH728080ALE600            0         4\n",
       "4      4596K0X6FMYB   TOSHIBA MD04ABA400V            0         5\n",
       "...             ...                   ...          ...       ...\n",
       "65988      Z4D0DNLY           ST6000DX000            0     65989\n",
       "65989      Z4D0E5MF           ST6000DX000            0     65990\n",
       "65990      Z4D0E7MS           ST6000DX000            0     65991\n",
       "65991      Z4D1CBVD           ST6000DX000            0     65992\n",
       "65992      Z4D1WWEN           ST6000DX000            0     65993\n",
       "\n",
       "[65993 rows x 4 columns]"
      ]
     },
     "execution_count": 12,
     "metadata": {},
     "output_type": "execute_result"
    }
   ],
   "source": [
    "id_cols_unique.toPandas()"
   ]
  },
  {
   "cell_type": "code",
   "execution_count": 13,
   "metadata": {},
   "outputs": [],
   "source": [
    "df = df.join(id_cols_unique.drop('has_failure'), on=id_cols, how='left')"
   ]
  },
  {
   "cell_type": "code",
   "execution_count": 14,
   "metadata": {},
   "outputs": [
    {
     "name": "stdout",
     "output_type": "stream",
     "text": [
      "+-------------+--------------------+----------+-------------------+-------+------------------+-----------+------------------+-----------+------------------+-----------+------------------+-----------+------------------+-----------+------------------+-----------+------------------+-----------+------------------+-----------+-------------------+------------+-------------------+------------+-------------------+------------+-------------------+------------+-------------------+------------+-------------------+------------+--------------------+-------------+--------------------+-------------+--------------------+-------------+--------------------+-------------+--------------------+-------------+--------------------+-------------+--------------------+-------------+--------------------+-------------+--------------------+-------------+--------------------+-------------+--------------------+-------------+--------------------+-------------+--------------------+-------------+--------------------+-------------+--------------------+-------------+--------------------+-------------+--------------------+-------------+--------------------+-------------+--------------------+-------------+--------------------+-------------+--------------------+-------------+--------------------+-------------+--------------------+-------------+--------------------+-------------+--------------------+-------------+--------------------+-------------+--------------------+-------------+--------------------+-------------+--------------------+-------------+--------------------+-------------+--------------------+-------------+--------+\n",
      "|serial_number|               model|      date|     capacity_bytes|failure|smart_1_normalized|smart_1_raw|smart_2_normalized|smart_2_raw|smart_3_normalized|smart_3_raw|smart_4_normalized|smart_4_raw|smart_5_normalized|smart_5_raw|smart_7_normalized|smart_7_raw|smart_8_normalized|smart_8_raw|smart_9_normalized|smart_9_raw|smart_10_normalized|smart_10_raw|smart_11_normalized|smart_11_raw|smart_12_normalized|smart_12_raw|smart_13_normalized|smart_13_raw|smart_15_normalized|smart_15_raw|smart_22_normalized|smart_22_raw|smart_183_normalized|smart_183_raw|smart_184_normalized|smart_184_raw|smart_187_normalized|smart_187_raw|smart_188_normalized|smart_188_raw|smart_189_normalized|smart_189_raw|smart_190_normalized|smart_190_raw|smart_191_normalized|smart_191_raw|smart_192_normalized|smart_192_raw|smart_193_normalized|smart_193_raw|smart_194_normalized|smart_194_raw|smart_195_normalized|smart_195_raw|smart_196_normalized|smart_196_raw|smart_197_normalized|smart_197_raw|smart_198_normalized|smart_198_raw|smart_199_normalized|smart_199_raw|smart_200_normalized|smart_200_raw|smart_201_normalized|smart_201_raw|smart_220_normalized|smart_220_raw|smart_222_normalized|smart_222_raw|smart_223_normalized|smart_223_raw|smart_224_normalized|smart_224_raw|smart_225_normalized|smart_225_raw|smart_226_normalized|smart_226_raw|smart_240_normalized|smart_240_raw|smart_241_normalized|smart_241_raw|smart_242_normalized|smart_242_raw|smart_250_normalized|smart_250_raw|smart_251_normalized|smart_251_raw|smart_252_normalized|smart_252_raw|smart_254_normalized|smart_254_raw|smart_255_normalized|smart_255_raw|id_index|\n",
      "+-------------+--------------------+----------+-------------------+-------+------------------+-----------+------------------+-----------+------------------+-----------+------------------+-----------+------------------+-----------+------------------+-----------+------------------+-----------+------------------+-----------+-------------------+------------+-------------------+------------+-------------------+------------+-------------------+------------+-------------------+------------+-------------------+------------+--------------------+-------------+--------------------+-------------+--------------------+-------------+--------------------+-------------+--------------------+-------------+--------------------+-------------+--------------------+-------------+--------------------+-------------+--------------------+-------------+--------------------+-------------+--------------------+-------------+--------------------+-------------+--------------------+-------------+--------------------+-------------+--------------------+-------------+--------------------+-------------+--------------------+-------------+--------------------+-------------+--------------------+-------------+--------------------+-------------+--------------------+-------------+--------------------+-------------+--------------------+-------------+--------------------+-------------+--------------------+-------------+--------------------+-------------+--------------------+-------------+--------------------+-------------+--------------------+-------------+--------------------+-------------+--------------------+-------------+--------+\n",
      "| 2511K0QAFMYB| TOSHIBA MD04ABA400V|2016-01-01|1.976651427858E-311|      0|               100|          0|               100|          0|               100|       5452|               100|          3|               100|          0|               100|        0.0|               100|          0|                82|       7399|                100|           0|                 NA|          NA|                100|           3|                 NA|          NA|                 NA|          NA|                 NA|          NA|                  NA|           NA|                  NA|           NA|                  NA|           NA|                  NA|          0.0|                  NA|           NA|                  NA|           NA|                 100|            0|                 100|            0|                 100|          136|                 100|           33|                  NA|           NA|                 100|            0|                 100|            0|                 100|            0|                 200|            0|                  NA|           NA|                  NA|           NA|                 100|            0|                  82|         7374|                 100|            0|                 100|            0|                  NA|           NA|                 100|          370|                 100|          0.0|                  NA|          0.0|                  NA|          0.0|                  NA|           NA|                  NA|           NA|                  NA|           NA|                  NA|           NA|                  NA|           NA|   15027|\n",
      "| 2544K0HKFMYB| TOSHIBA MD04ABA400V|2016-01-01|1.976651427858E-311|      0|               100|          0|               100|          0|               100|       5393|               100|          3|               100|          0|               100|        0.0|               100|          0|                82|       7400|                100|           0|                 NA|          NA|                100|           3|                 NA|          NA|                 NA|          NA|                 NA|          NA|                  NA|           NA|                  NA|           NA|                  NA|           NA|                  NA|          0.0|                  NA|           NA|                  NA|           NA|                 100|            0|                 100|            0|                 100|          324|                 100|           32|                  NA|           NA|                 100|            0|                 100|            0|                 100|            0|                 200|            0|                  NA|           NA|                  NA|           NA|                 100|            0|                  82|         7358|                 100|            0|                 100|            0|                  NA|           NA|                 100|          384|                 100|          0.0|                  NA|          0.0|                  NA|          0.0|                  NA|           NA|                  NA|           NA|                  NA|           NA|                  NA|           NA|                  NA|           NA|   15029|\n",
      "| 2544K0HNFMYB| TOSHIBA MD04ABA400V|2016-01-01|1.976651427858E-311|      0|               100|          0|               100|          0|               100|       5337|               100|          3|               100|          0|               100|        0.0|               100|          0|                82|       7398|                100|           0|                 NA|          NA|                100|           3|                 NA|          NA|                 NA|          NA|                 NA|          NA|                  NA|           NA|                  NA|           NA|                  NA|           NA|                  NA|          0.0|                  NA|           NA|                  NA|           NA|                 100|            0|                 100|            0|                 100|          140|                 100|           32|                  NA|           NA|                 100|            0|                 100|            0|                 100|            0|                 200|            0|                  NA|           NA|                  NA|           NA|                 100|            0|                  82|         7374|                 100|            0|                 100|            0|                  NA|           NA|                 100|          388|                 100|          0.0|                  NA|          0.0|                  NA|          0.0|                  NA|           NA|                  NA|           NA|                  NA|           NA|                  NA|           NA|                  NA|           NA|   10019|\n",
      "|     2EG3LU3J|HGST HUH728080ALE600|2016-01-01|3.953297501025E-311|      0|               100|          0|               134|        104|               100|          0|               100|          7|               100|          0|               100|        0.0|               128|         18|                99|       7928|                100|           0|                 NA|          NA|                100|           7|                 NA|          NA|                 NA|          NA|                100|         100|                  NA|           NA|                  NA|           NA|                  NA|           NA|                  NA|          0.0|                  NA|           NA|                  NA|           NA|                  NA|           NA|                 100|          732|                 100|          732|                 187|           32|                  NA|           NA|                 100|            0|                 100|            0|                 100|            0|                 200|            0|                  NA|           NA|                  NA|           NA|                  NA|           NA|                  NA|           NA|                  NA|           NA|                  NA|           NA|                  NA|           NA|                  NA|           NA|                  NA|          0.0|                  NA|          0.0|                  NA|          0.0|                  NA|           NA|                  NA|           NA|                  NA|           NA|                  NA|           NA|                  NA|           NA|   19911|\n",
      "|     2EG4K5MP|HGST HUH728080ALE600|2016-01-01|3.953297501025E-311|      0|               100|          0|               134|        104|               100|          0|               100|          7|               100|          0|               100|        0.0|               128|         18|                99|       7928|                100|           0|                 NA|          NA|                100|           7|                 NA|          NA|                 NA|          NA|                100|         100|                  NA|           NA|                  NA|           NA|                  NA|           NA|                  NA|          0.0|                  NA|           NA|                  NA|           NA|                  NA|           NA|                 100|          697|                 100|          697|                 162|           37|                  NA|           NA|                 100|            0|                 100|            0|                 100|            0|                 200|            0|                  NA|           NA|                  NA|           NA|                  NA|           NA|                  NA|           NA|                  NA|           NA|                  NA|           NA|                  NA|           NA|                  NA|           NA|                  NA|          0.0|                  NA|          0.0|                  NA|          0.0|                  NA|           NA|                  NA|           NA|                  NA|           NA|                  NA|           NA|                  NA|           NA|   49451|\n",
      "|     2EG4M8BR|HGST HUH728080ALE600|2016-01-01|3.953297501025E-311|      0|               100|          0|               134|        104|               100|          0|               100|          6|               100|          0|               100|        0.0|               128|         18|                99|       7928|                100|           0|                 NA|          NA|                100|           6|                 NA|          NA|                 NA|          NA|                100|         100|                  NA|           NA|                  NA|           NA|                  NA|           NA|                  NA|          0.0|                  NA|           NA|                  NA|           NA|                  NA|           NA|                 100|          781|                 100|          781|                 157|           38|                  NA|           NA|                 100|            0|                 100|            0|                 100|            0|                 200|            0|                  NA|           NA|                  NA|           NA|                  NA|           NA|                  NA|           NA|                  NA|           NA|                  NA|           NA|                  NA|           NA|                  NA|           NA|                  NA|          0.0|                  NA|          0.0|                  NA|          0.0|                  NA|           NA|                  NA|           NA|                  NA|           NA|                  NA|           NA|                  NA|           NA|   29693|\n",
      "|     2EG4MH7R|HGST HUH728080ALE600|2016-01-01|3.953297501025E-311|      0|               100|          0|               134|        104|               100|          0|               100|          6|               100|          0|               100|        0.0|               128|         18|                99|       7928|                100|           0|                 NA|          NA|                100|           6|                 NA|          NA|                 NA|          NA|                100|         100|                  NA|           NA|                  NA|           NA|                  NA|           NA|                  NA|          0.0|                  NA|           NA|                  NA|           NA|                  NA|           NA|                 100|          676|                 100|          676|                 157|           38|                  NA|           NA|                 100|            0|                 100|            0|                 100|            0|                 200|            0|                  NA|           NA|                  NA|           NA|                  NA|           NA|                  NA|           NA|                  NA|           NA|                  NA|           NA|                  NA|           NA|                  NA|           NA|                  NA|          0.0|                  NA|          0.0|                  NA|          0.0|                  NA|           NA|                  NA|           NA|                  NA|           NA|                  NA|           NA|                  NA|           NA|    5010|\n",
      "| 45A6K0YOFMYB| TOSHIBA MD04ABA400V|2016-01-01|1.976651427858E-311|      0|               100|          0|               100|          0|               100|       5386|               100|          7|               100|          0|               100|        0.0|               100|          0|                87|       5505|                100|           0|                 NA|          NA|                100|           7|                 NA|          NA|                 NA|          NA|                 NA|          NA|                  NA|           NA|                  NA|           NA|                  NA|           NA|                  NA|          0.0|                  NA|           NA|                  NA|           NA|                 100|            3|                 100|            0|                 100|          204|                 100|           18|                  NA|           NA|                 100|            0|                 100|            0|                 100|            0|                 200|            0|                  NA|           NA|                  NA|           NA|                 100|            0|                  87|         5458|                 100|            0|                 100|            0|                  NA|           NA|                 100|          370|                 100|          0.0|                  NA|          0.0|                  NA|          0.0|                  NA|           NA|                  NA|           NA|                  NA|           NA|                  NA|           NA|                  NA|           NA|   15033|\n",
      "| 45CHK122FMYB| TOSHIBA MD04ABA400V|2016-01-01|1.976651427858E-311|      0|               100|          0|               100|          0|               100|       5268|               100|          9|               100|          0|               100|        0.0|               100|          0|                87|       5505|                100|           0|                 NA|          NA|                100|           9|                 NA|          NA|                 NA|          NA|                 NA|          NA|                  NA|           NA|                  NA|           NA|                  NA|           NA|                  NA|          0.0|                  NA|           NA|                  NA|           NA|                 100|            2|                 100|            1|                 100|          234|                 100|           21|                  NA|           NA|                 100|            0|                 100|            0|                 100|            0|                 200|            0|                  NA|           NA|                  NA|           NA|                 100|            0|                  87|         5455|                 100|            0|                 100|            0|                  NA|           NA|                 100|          369|                 100|          0.0|                  NA|          0.0|                  NA|          0.0|                  NA|           NA|                  NA|           NA|                  NA|           NA|                  NA|           NA|                  NA|           NA|   59400|\n",
      "| 45CIK0M6FMYB| TOSHIBA MD04ABA400V|2016-01-01|1.976651427858E-311|      0|               100|          0|               100|          0|               100|       5422|               100|          8|               100|          0|               100|        0.0|               100|          0|                87|       5506|                100|           0|                 NA|          NA|                100|           8|                 NA|          NA|                 NA|          NA|                 NA|          NA|                  NA|           NA|                  NA|           NA|                  NA|           NA|                  NA|          0.0|                  NA|           NA|                  NA|           NA|                 100|           11|                 100|            1|                 100|          213|                 100|           17|                  NA|           NA|                 100|            0|                 100|            0|                 100|            0|                 200|            0|                  NA|           NA|                  NA|           NA|                 100|            0|                  87|         5456|                 100|            0|                 100|            0|                  NA|           NA|                 100|          390|                 100|          0.0|                  NA|          0.0|                  NA|          0.0|                  NA|           NA|                  NA|           NA|                  NA|           NA|                  NA|           NA|                  NA|           NA|   10032|\n",
      "+-------------+--------------------+----------+-------------------+-------+------------------+-----------+------------------+-----------+------------------+-----------+------------------+-----------+------------------+-----------+------------------+-----------+------------------+-----------+------------------+-----------+-------------------+------------+-------------------+------------+-------------------+------------+-------------------+------------+-------------------+------------+-------------------+------------+--------------------+-------------+--------------------+-------------+--------------------+-------------+--------------------+-------------+--------------------+-------------+--------------------+-------------+--------------------+-------------+--------------------+-------------+--------------------+-------------+--------------------+-------------+--------------------+-------------+--------------------+-------------+--------------------+-------------+--------------------+-------------+--------------------+-------------+--------------------+-------------+--------------------+-------------+--------------------+-------------+--------------------+-------------+--------------------+-------------+--------------------+-------------+--------------------+-------------+--------------------+-------------+--------------------+-------------+--------------------+-------------+--------------------+-------------+--------------------+-------------+--------------------+-------------+--------------------+-------------+--------------------+-------------+--------------------+-------------+--------+\n",
      "only showing top 10 rows\n",
      "\n"
     ]
    }
   ],
   "source": [
    "df.show(10)"
   ]
  },
  {
   "cell_type": "code",
   "execution_count": 15,
   "metadata": {},
   "outputs": [
    {
     "name": "stdout",
     "output_type": "stream",
     "text": [
      "+-----------+-----+\n",
      "|has_failure|count|\n",
      "+-----------+-----+\n",
      "|          0|65788|\n",
      "|          1|  205|\n",
      "+-----------+-----+\n",
      "\n"
     ]
    }
   ],
   "source": [
    "id_cols_unique.groupby(['has_failure']).count().show()"
   ]
  },
  {
   "cell_type": "markdown",
   "metadata": {},
   "source": [
    "## Train-validation-test split, grouped by id_index and stratified by target label"
   ]
  },
  {
   "cell_type": "code",
   "execution_count": 16,
   "metadata": {},
   "outputs": [],
   "source": [
    "yes_failure_ind = id_cols_unique.where(id_cols_unique['has_failure'] == 1).select('id_index')\n",
    "no_failure_ind = id_cols_unique.where(id_cols_unique['has_failure'] == 0).select('id_index')\n",
    "\n",
    "[yes_failure_ind_train, yes_failure_ind_val, yes_failure_ind_test] = (\n",
    "    yes_failure_ind\n",
    "    .randomSplit([1.- 2 * test_frac, test_frac, test_frac],\n",
    "                 seed=RANDOM_SEED))\n",
    "[no_failure_ind_train, no_failure_ind_val, no_failure_ind_test] = (\n",
    "    no_failure_ind\n",
    "    .randomSplit([1.- 2 * test_frac, test_frac, test_frac],\n",
    "                 seed=RANDOM_SEED))"
   ]
  },
  {
   "cell_type": "code",
   "execution_count": 17,
   "metadata": {},
   "outputs": [
    {
     "name": "stdout",
     "output_type": "stream",
     "text": [
      "173\n",
      "18\n",
      "14\n",
      "52482\n",
      "6629\n",
      "6677\n"
     ]
    }
   ],
   "source": [
    "for ind_ in [yes_failure_ind_train, yes_failure_ind_val, yes_failure_ind_test,\n",
    "             no_failure_ind_train, no_failure_ind_val, no_failure_ind_test]:\n",
    "    print(ind_.count())"
   ]
  },
  {
   "cell_type": "code",
   "execution_count": 18,
   "metadata": {},
   "outputs": [
    {
     "name": "stdout",
     "output_type": "stream",
     "text": [
      "+--------+\n",
      "|id_index|\n",
      "+--------+\n",
      "|      85|\n",
      "|     353|\n",
      "|    2100|\n",
      "|    2567|\n",
      "|    2627|\n",
      "|    2756|\n",
      "|    2917|\n",
      "|    2940|\n",
      "|    3338|\n",
      "|    3383|\n",
      "|    4094|\n",
      "|    5003|\n",
      "|    5153|\n",
      "|    7307|\n",
      "|    7428|\n",
      "|    8012|\n",
      "|    8255|\n",
      "|    8811|\n",
      "|    9011|\n",
      "|    9700|\n",
      "+--------+\n",
      "only showing top 20 rows\n",
      "\n"
     ]
    }
   ],
   "source": [
    "yes_failure_ind_train.show(20)"
   ]
  },
  {
   "cell_type": "code",
   "execution_count": 22,
   "metadata": {},
   "outputs": [
    {
     "name": "stdout",
     "output_type": "stream",
     "text": [
      "+-------------+--------------------+----------+-------------------+-------+------------------+-----------+------------------+-----------+------------------+-----------+------------------+-----------+------------------+-----------+------------------+-----------+------------------+-----------+------------------+-----------+-------------------+------------+-------------------+------------+-------------------+------------+-------------------+------------+-------------------+------------+-------------------+------------+--------------------+-------------+--------------------+-------------+--------------------+-------------+--------------------+-------------+--------------------+-------------+--------------------+-------------+--------------------+-------------+--------------------+-------------+--------------------+-------------+--------------------+-------------+--------------------+-------------+--------------------+-------------+--------------------+-------------+--------------------+-------------+--------------------+-------------+--------------------+-------------+--------------------+-------------+--------------------+-------------+--------------------+-------------+--------------------+-------------+--------------------+-------------+--------------------+-------------+--------------------+-------------+--------------------+-------------+--------------------+-------------+--------------------+-------------+--------------------+-------------+--------------------+-------------+--------------------+-------------+--------------------+-------------+--------------------+-------------+--------+\n",
      "|serial_number|               model|      date|     capacity_bytes|failure|smart_1_normalized|smart_1_raw|smart_2_normalized|smart_2_raw|smart_3_normalized|smart_3_raw|smart_4_normalized|smart_4_raw|smart_5_normalized|smart_5_raw|smart_7_normalized|smart_7_raw|smart_8_normalized|smart_8_raw|smart_9_normalized|smart_9_raw|smart_10_normalized|smart_10_raw|smart_11_normalized|smart_11_raw|smart_12_normalized|smart_12_raw|smart_13_normalized|smart_13_raw|smart_15_normalized|smart_15_raw|smart_22_normalized|smart_22_raw|smart_183_normalized|smart_183_raw|smart_184_normalized|smart_184_raw|smart_187_normalized|smart_187_raw|smart_188_normalized|smart_188_raw|smart_189_normalized|smart_189_raw|smart_190_normalized|smart_190_raw|smart_191_normalized|smart_191_raw|smart_192_normalized|smart_192_raw|smart_193_normalized|smart_193_raw|smart_194_normalized|smart_194_raw|smart_195_normalized|smart_195_raw|smart_196_normalized|smart_196_raw|smart_197_normalized|smart_197_raw|smart_198_normalized|smart_198_raw|smart_199_normalized|smart_199_raw|smart_200_normalized|smart_200_raw|smart_201_normalized|smart_201_raw|smart_220_normalized|smart_220_raw|smart_222_normalized|smart_222_raw|smart_223_normalized|smart_223_raw|smart_224_normalized|smart_224_raw|smart_225_normalized|smart_225_raw|smart_226_normalized|smart_226_raw|smart_240_normalized|smart_240_raw|smart_241_normalized|smart_241_raw|smart_242_normalized|smart_242_raw|smart_250_normalized|smart_250_raw|smart_251_normalized|smart_251_raw|smart_252_normalized|smart_252_raw|smart_254_normalized|smart_254_raw|smart_255_normalized|smart_255_raw|id_index|\n",
      "+-------------+--------------------+----------+-------------------+-------+------------------+-----------+------------------+-----------+------------------+-----------+------------------+-----------+------------------+-----------+------------------+-----------+------------------+-----------+------------------+-----------+-------------------+------------+-------------------+------------+-------------------+------------+-------------------+------------+-------------------+------------+-------------------+------------+--------------------+-------------+--------------------+-------------+--------------------+-------------+--------------------+-------------+--------------------+-------------+--------------------+-------------+--------------------+-------------+--------------------+-------------+--------------------+-------------+--------------------+-------------+--------------------+-------------+--------------------+-------------+--------------------+-------------+--------------------+-------------+--------------------+-------------+--------------------+-------------+--------------------+-------------+--------------------+-------------+--------------------+-------------+--------------------+-------------+--------------------+-------------+--------------------+-------------+--------------------+-------------+--------------------+-------------+--------------------+-------------+--------------------+-------------+--------------------+-------------+--------------------+-------------+--------------------+-------------+--------------------+-------------+--------------------+-------------+--------+\n",
      "| 2511K0QAFMYB| TOSHIBA MD04ABA400V|2016-01-01|1.976651427858E-311|      0|               100|          0|               100|          0|               100|       5452|               100|          3|               100|          0|               100|        0.0|               100|          0|                82|       7399|                100|           0|                 NA|          NA|                100|           3|                 NA|          NA|                 NA|          NA|                 NA|          NA|                  NA|           NA|                  NA|           NA|                  NA|           NA|                  NA|          0.0|                  NA|           NA|                  NA|           NA|                 100|            0|                 100|            0|                 100|          136|                 100|           33|                  NA|           NA|                 100|            0|                 100|            0|                 100|            0|                 200|            0|                  NA|           NA|                  NA|           NA|                 100|            0|                  82|         7374|                 100|            0|                 100|            0|                  NA|           NA|                 100|          370|                 100|          0.0|                  NA|          0.0|                  NA|          0.0|                  NA|           NA|                  NA|           NA|                  NA|           NA|                  NA|           NA|                  NA|           NA|   15027|\n",
      "| 2544K0HKFMYB| TOSHIBA MD04ABA400V|2016-01-01|1.976651427858E-311|      0|               100|          0|               100|          0|               100|       5393|               100|          3|               100|          0|               100|        0.0|               100|          0|                82|       7400|                100|           0|                 NA|          NA|                100|           3|                 NA|          NA|                 NA|          NA|                 NA|          NA|                  NA|           NA|                  NA|           NA|                  NA|           NA|                  NA|          0.0|                  NA|           NA|                  NA|           NA|                 100|            0|                 100|            0|                 100|          324|                 100|           32|                  NA|           NA|                 100|            0|                 100|            0|                 100|            0|                 200|            0|                  NA|           NA|                  NA|           NA|                 100|            0|                  82|         7358|                 100|            0|                 100|            0|                  NA|           NA|                 100|          384|                 100|          0.0|                  NA|          0.0|                  NA|          0.0|                  NA|           NA|                  NA|           NA|                  NA|           NA|                  NA|           NA|                  NA|           NA|   15029|\n",
      "| 2544K0HNFMYB| TOSHIBA MD04ABA400V|2016-01-01|1.976651427858E-311|      0|               100|          0|               100|          0|               100|       5337|               100|          3|               100|          0|               100|        0.0|               100|          0|                82|       7398|                100|           0|                 NA|          NA|                100|           3|                 NA|          NA|                 NA|          NA|                 NA|          NA|                  NA|           NA|                  NA|           NA|                  NA|           NA|                  NA|          0.0|                  NA|           NA|                  NA|           NA|                 100|            0|                 100|            0|                 100|          140|                 100|           32|                  NA|           NA|                 100|            0|                 100|            0|                 100|            0|                 200|            0|                  NA|           NA|                  NA|           NA|                 100|            0|                  82|         7374|                 100|            0|                 100|            0|                  NA|           NA|                 100|          388|                 100|          0.0|                  NA|          0.0|                  NA|          0.0|                  NA|           NA|                  NA|           NA|                  NA|           NA|                  NA|           NA|                  NA|           NA|   10019|\n",
      "|     2EG3LU3J|HGST HUH728080ALE600|2016-01-01|3.953297501025E-311|      0|               100|          0|               134|        104|               100|          0|               100|          7|               100|          0|               100|        0.0|               128|         18|                99|       7928|                100|           0|                 NA|          NA|                100|           7|                 NA|          NA|                 NA|          NA|                100|         100|                  NA|           NA|                  NA|           NA|                  NA|           NA|                  NA|          0.0|                  NA|           NA|                  NA|           NA|                  NA|           NA|                 100|          732|                 100|          732|                 187|           32|                  NA|           NA|                 100|            0|                 100|            0|                 100|            0|                 200|            0|                  NA|           NA|                  NA|           NA|                  NA|           NA|                  NA|           NA|                  NA|           NA|                  NA|           NA|                  NA|           NA|                  NA|           NA|                  NA|          0.0|                  NA|          0.0|                  NA|          0.0|                  NA|           NA|                  NA|           NA|                  NA|           NA|                  NA|           NA|                  NA|           NA|   19911|\n",
      "|     2EG4K5MP|HGST HUH728080ALE600|2016-01-01|3.953297501025E-311|      0|               100|          0|               134|        104|               100|          0|               100|          7|               100|          0|               100|        0.0|               128|         18|                99|       7928|                100|           0|                 NA|          NA|                100|           7|                 NA|          NA|                 NA|          NA|                100|         100|                  NA|           NA|                  NA|           NA|                  NA|           NA|                  NA|          0.0|                  NA|           NA|                  NA|           NA|                  NA|           NA|                 100|          697|                 100|          697|                 162|           37|                  NA|           NA|                 100|            0|                 100|            0|                 100|            0|                 200|            0|                  NA|           NA|                  NA|           NA|                  NA|           NA|                  NA|           NA|                  NA|           NA|                  NA|           NA|                  NA|           NA|                  NA|           NA|                  NA|          0.0|                  NA|          0.0|                  NA|          0.0|                  NA|           NA|                  NA|           NA|                  NA|           NA|                  NA|           NA|                  NA|           NA|   49451|\n",
      "|     2EG4M8BR|HGST HUH728080ALE600|2016-01-01|3.953297501025E-311|      0|               100|          0|               134|        104|               100|          0|               100|          6|               100|          0|               100|        0.0|               128|         18|                99|       7928|                100|           0|                 NA|          NA|                100|           6|                 NA|          NA|                 NA|          NA|                100|         100|                  NA|           NA|                  NA|           NA|                  NA|           NA|                  NA|          0.0|                  NA|           NA|                  NA|           NA|                  NA|           NA|                 100|          781|                 100|          781|                 157|           38|                  NA|           NA|                 100|            0|                 100|            0|                 100|            0|                 200|            0|                  NA|           NA|                  NA|           NA|                  NA|           NA|                  NA|           NA|                  NA|           NA|                  NA|           NA|                  NA|           NA|                  NA|           NA|                  NA|          0.0|                  NA|          0.0|                  NA|          0.0|                  NA|           NA|                  NA|           NA|                  NA|           NA|                  NA|           NA|                  NA|           NA|   29693|\n",
      "|     2EG4MH7R|HGST HUH728080ALE600|2016-01-01|3.953297501025E-311|      0|               100|          0|               134|        104|               100|          0|               100|          6|               100|          0|               100|        0.0|               128|         18|                99|       7928|                100|           0|                 NA|          NA|                100|           6|                 NA|          NA|                 NA|          NA|                100|         100|                  NA|           NA|                  NA|           NA|                  NA|           NA|                  NA|          0.0|                  NA|           NA|                  NA|           NA|                  NA|           NA|                 100|          676|                 100|          676|                 157|           38|                  NA|           NA|                 100|            0|                 100|            0|                 100|            0|                 200|            0|                  NA|           NA|                  NA|           NA|                  NA|           NA|                  NA|           NA|                  NA|           NA|                  NA|           NA|                  NA|           NA|                  NA|           NA|                  NA|          0.0|                  NA|          0.0|                  NA|          0.0|                  NA|           NA|                  NA|           NA|                  NA|           NA|                  NA|           NA|                  NA|           NA|    5010|\n",
      "| 45A6K0YOFMYB| TOSHIBA MD04ABA400V|2016-01-01|1.976651427858E-311|      0|               100|          0|               100|          0|               100|       5386|               100|          7|               100|          0|               100|        0.0|               100|          0|                87|       5505|                100|           0|                 NA|          NA|                100|           7|                 NA|          NA|                 NA|          NA|                 NA|          NA|                  NA|           NA|                  NA|           NA|                  NA|           NA|                  NA|          0.0|                  NA|           NA|                  NA|           NA|                 100|            3|                 100|            0|                 100|          204|                 100|           18|                  NA|           NA|                 100|            0|                 100|            0|                 100|            0|                 200|            0|                  NA|           NA|                  NA|           NA|                 100|            0|                  87|         5458|                 100|            0|                 100|            0|                  NA|           NA|                 100|          370|                 100|          0.0|                  NA|          0.0|                  NA|          0.0|                  NA|           NA|                  NA|           NA|                  NA|           NA|                  NA|           NA|                  NA|           NA|   15033|\n",
      "| 45CHK122FMYB| TOSHIBA MD04ABA400V|2016-01-01|1.976651427858E-311|      0|               100|          0|               100|          0|               100|       5268|               100|          9|               100|          0|               100|        0.0|               100|          0|                87|       5505|                100|           0|                 NA|          NA|                100|           9|                 NA|          NA|                 NA|          NA|                 NA|          NA|                  NA|           NA|                  NA|           NA|                  NA|           NA|                  NA|          0.0|                  NA|           NA|                  NA|           NA|                 100|            2|                 100|            1|                 100|          234|                 100|           21|                  NA|           NA|                 100|            0|                 100|            0|                 100|            0|                 200|            0|                  NA|           NA|                  NA|           NA|                 100|            0|                  87|         5455|                 100|            0|                 100|            0|                  NA|           NA|                 100|          369|                 100|          0.0|                  NA|          0.0|                  NA|          0.0|                  NA|           NA|                  NA|           NA|                  NA|           NA|                  NA|           NA|                  NA|           NA|   59400|\n",
      "| 45CIK0M6FMYB| TOSHIBA MD04ABA400V|2016-01-01|1.976651427858E-311|      0|               100|          0|               100|          0|               100|       5422|               100|          8|               100|          0|               100|        0.0|               100|          0|                87|       5506|                100|           0|                 NA|          NA|                100|           8|                 NA|          NA|                 NA|          NA|                 NA|          NA|                  NA|           NA|                  NA|           NA|                  NA|           NA|                  NA|          0.0|                  NA|           NA|                  NA|           NA|                 100|           11|                 100|            1|                 100|          213|                 100|           17|                  NA|           NA|                 100|            0|                 100|            0|                 100|            0|                 200|            0|                  NA|           NA|                  NA|           NA|                 100|            0|                  87|         5456|                 100|            0|                 100|            0|                  NA|           NA|                 100|          390|                 100|          0.0|                  NA|          0.0|                  NA|          0.0|                  NA|           NA|                  NA|           NA|                  NA|           NA|                  NA|           NA|                  NA|           NA|   10032|\n",
      "+-------------+--------------------+----------+-------------------+-------+------------------+-----------+------------------+-----------+------------------+-----------+------------------+-----------+------------------+-----------+------------------+-----------+------------------+-----------+------------------+-----------+-------------------+------------+-------------------+------------+-------------------+------------+-------------------+------------+-------------------+------------+-------------------+------------+--------------------+-------------+--------------------+-------------+--------------------+-------------+--------------------+-------------+--------------------+-------------+--------------------+-------------+--------------------+-------------+--------------------+-------------+--------------------+-------------+--------------------+-------------+--------------------+-------------+--------------------+-------------+--------------------+-------------+--------------------+-------------+--------------------+-------------+--------------------+-------------+--------------------+-------------+--------------------+-------------+--------------------+-------------+--------------------+-------------+--------------------+-------------+--------------------+-------------+--------------------+-------------+--------------------+-------------+--------------------+-------------+--------------------+-------------+--------------------+-------------+--------------------+-------------+--------------------+-------------+--------------------+-------------+--------------------+-------------+--------+\n",
      "only showing top 10 rows\n",
      "\n"
     ]
    }
   ],
   "source": [
    "df.where(df['id_index'].isin(yes_failure_ind_train['id_index'])).show(10)"
   ]
  },
  {
   "cell_type": "code",
   "execution_count": null,
   "metadata": {},
   "outputs": [],
   "source": []
  },
  {
   "cell_type": "code",
   "execution_count": null,
   "metadata": {},
   "outputs": [],
   "source": []
  },
  {
   "cell_type": "code",
   "execution_count": null,
   "metadata": {},
   "outputs": [],
   "source": []
  },
  {
   "cell_type": "code",
   "execution_count": 2,
   "metadata": {},
   "outputs": [
    {
     "ename": "NameError",
     "evalue": "name 'spark' is not defined",
     "output_type": "error",
     "traceback": [
      "\u001b[0;31m---------------------------------------------------------------------------\u001b[0m",
      "\u001b[0;31mNameError\u001b[0m                                 Traceback (most recent call last)",
      "Cell \u001b[0;32mIn[2], line 1\u001b[0m\n\u001b[0;32m----> 1\u001b[0m \u001b[43mspark\u001b[49m\u001b[38;5;241m.\u001b[39mstop()\n",
      "\u001b[0;31mNameError\u001b[0m: name 'spark' is not defined"
     ]
    }
   ],
   "source": [
    "spark.stop()"
   ]
  }
 ],
 "metadata": {
  "kernelspec": {
   "display_name": "Python 3",
   "language": "python",
   "name": "python3"
  },
  "language_info": {
   "codemirror_mode": {
    "name": "ipython",
    "version": 3
   },
   "file_extension": ".py",
   "mimetype": "text/x-python",
   "name": "python",
   "nbconvert_exporter": "python",
   "pygments_lexer": "ipython3",
   "version": "3.10.12"
  }
 },
 "nbformat": 4,
 "nbformat_minor": 2
}
