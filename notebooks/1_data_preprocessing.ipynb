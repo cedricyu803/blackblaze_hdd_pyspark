{
 "cells": [
  {
   "cell_type": "code",
   "execution_count": 1,
   "metadata": {},
   "outputs": [],
   "source": [
    "import os\n",
    "import gc\n",
    "\n",
    "import pandas as pd\n",
    "from pyspark.sql import SparkSession\n",
    "from pyspark.sql import functions as F\n",
    "\n",
    "pd.set_option('display.max_rows', 20)\n",
    "pd.set_option('display.max_columns', 200)\n",
    "\n",
    "%load_ext autoreload\n",
    "%autoreload 2"
   ]
  },
  {
   "cell_type": "code",
   "execution_count": 2,
   "metadata": {},
   "outputs": [
    {
     "data": {
      "text/plain": [
       "True"
      ]
     },
     "execution_count": 2,
     "metadata": {},
     "output_type": "execute_result"
    }
   ],
   "source": [
    "data_dir = '../data'\n",
    "data_filepath = os.path.join(data_dir, 'harddrive.csv')\n",
    "os.path.exists(data_filepath)"
   ]
  },
  {
   "cell_type": "markdown",
   "metadata": {},
   "source": [
    "## Load data with PySpark session"
   ]
  },
  {
   "cell_type": "code",
   "execution_count": 3,
   "metadata": {},
   "outputs": [
    {
     "name": "stderr",
     "output_type": "stream",
     "text": [
      "your 131072x1 screen size is bogus. expect trouble\n",
      "24/08/23 16:10:36 WARN Utils: Your hostname, cedric-yu-work resolves to a loopback address: 127.0.1.1; using 10.255.255.254 instead (on interface lo)\n",
      "24/08/23 16:10:36 WARN Utils: Set SPARK_LOCAL_IP if you need to bind to another address\n",
      "Setting default log level to \"WARN\".\n",
      "To adjust logging level use sc.setLogLevel(newLevel). For SparkR, use setLogLevel(newLevel).\n",
      "24/08/23 16:10:37 WARN NativeCodeLoader: Unable to load native-hadoop library for your platform... using builtin-java classes where applicable\n"
     ]
    }
   ],
   "source": [
    "spark = (SparkSession.builder\n",
    "         .config(\"spark.driver.memory\", \"12g\")\n",
    "         .appName(\"SparkSQL\").getOrCreate())"
   ]
  },
  {
   "cell_type": "code",
   "execution_count": 4,
   "metadata": {},
   "outputs": [],
   "source": [
    "date_col = 'date'\n",
    "target_label = 'failure'\n",
    "id_cols = ['serial_number', 'model']\n"
   ]
  },
  {
   "cell_type": "code",
   "execution_count": 5,
   "metadata": {},
   "outputs": [
    {
     "name": "stderr",
     "output_type": "stream",
     "text": [
      "                                                                                \r"
     ]
    }
   ],
   "source": [
    "df = (spark.read.option(\"header\", \"true\")\n",
    "      .option(\"inferSchema\", \"true\")\n",
    "      .csv(data_filepath))"
   ]
  },
  {
   "cell_type": "code",
   "execution_count": 6,
   "metadata": {},
   "outputs": [
    {
     "name": "stdout",
     "output_type": "stream",
     "text": [
      "root\n",
      " |-- date: date (nullable = true)\n",
      " |-- serial_number: string (nullable = true)\n",
      " |-- model: string (nullable = true)\n",
      " |-- capacity_bytes: double (nullable = true)\n",
      " |-- failure: integer (nullable = true)\n",
      " |-- smart_1_normalized: integer (nullable = true)\n",
      " |-- smart_1_raw: integer (nullable = true)\n",
      " |-- smart_2_normalized: string (nullable = true)\n",
      " |-- smart_2_raw: string (nullable = true)\n",
      " |-- smart_3_normalized: integer (nullable = true)\n",
      " |-- smart_3_raw: integer (nullable = true)\n",
      " |-- smart_4_normalized: integer (nullable = true)\n",
      " |-- smart_4_raw: integer (nullable = true)\n",
      " |-- smart_5_normalized: integer (nullable = true)\n",
      " |-- smart_5_raw: integer (nullable = true)\n",
      " |-- smart_7_normalized: integer (nullable = true)\n",
      " |-- smart_7_raw: double (nullable = true)\n",
      " |-- smart_8_normalized: string (nullable = true)\n",
      " |-- smart_8_raw: string (nullable = true)\n",
      " |-- smart_9_normalized: integer (nullable = true)\n",
      " |-- smart_9_raw: integer (nullable = true)\n",
      " |-- smart_10_normalized: integer (nullable = true)\n",
      " |-- smart_10_raw: integer (nullable = true)\n",
      " |-- smart_11_normalized: string (nullable = true)\n",
      " |-- smart_11_raw: string (nullable = true)\n",
      " |-- smart_12_normalized: integer (nullable = true)\n",
      " |-- smart_12_raw: integer (nullable = true)\n",
      " |-- smart_13_normalized: string (nullable = true)\n",
      " |-- smart_13_raw: string (nullable = true)\n",
      " |-- smart_15_normalized: string (nullable = true)\n",
      " |-- smart_15_raw: string (nullable = true)\n",
      " |-- smart_22_normalized: string (nullable = true)\n",
      " |-- smart_22_raw: string (nullable = true)\n",
      " |-- smart_183_normalized: string (nullable = true)\n",
      " |-- smart_183_raw: string (nullable = true)\n",
      " |-- smart_184_normalized: string (nullable = true)\n",
      " |-- smart_184_raw: string (nullable = true)\n",
      " |-- smart_187_normalized: string (nullable = true)\n",
      " |-- smart_187_raw: string (nullable = true)\n",
      " |-- smart_188_normalized: string (nullable = true)\n",
      " |-- smart_188_raw: double (nullable = true)\n",
      " |-- smart_189_normalized: string (nullable = true)\n",
      " |-- smart_189_raw: string (nullable = true)\n",
      " |-- smart_190_normalized: string (nullable = true)\n",
      " |-- smart_190_raw: string (nullable = true)\n",
      " |-- smart_191_normalized: string (nullable = true)\n",
      " |-- smart_191_raw: string (nullable = true)\n",
      " |-- smart_192_normalized: string (nullable = true)\n",
      " |-- smart_192_raw: string (nullable = true)\n",
      " |-- smart_193_normalized: string (nullable = true)\n",
      " |-- smart_193_raw: string (nullable = true)\n",
      " |-- smart_194_normalized: string (nullable = true)\n",
      " |-- smart_194_raw: string (nullable = true)\n",
      " |-- smart_195_normalized: string (nullable = true)\n",
      " |-- smart_195_raw: string (nullable = true)\n",
      " |-- smart_196_normalized: string (nullable = true)\n",
      " |-- smart_196_raw: string (nullable = true)\n",
      " |-- smart_197_normalized: integer (nullable = true)\n",
      " |-- smart_197_raw: integer (nullable = true)\n",
      " |-- smart_198_normalized: integer (nullable = true)\n",
      " |-- smart_198_raw: integer (nullable = true)\n",
      " |-- smart_199_normalized: integer (nullable = true)\n",
      " |-- smart_199_raw: integer (nullable = true)\n",
      " |-- smart_200_normalized: string (nullable = true)\n",
      " |-- smart_200_raw: string (nullable = true)\n",
      " |-- smart_201_normalized: string (nullable = true)\n",
      " |-- smart_201_raw: string (nullable = true)\n",
      " |-- smart_220_normalized: string (nullable = true)\n",
      " |-- smart_220_raw: string (nullable = true)\n",
      " |-- smart_222_normalized: string (nullable = true)\n",
      " |-- smart_222_raw: string (nullable = true)\n",
      " |-- smart_223_normalized: string (nullable = true)\n",
      " |-- smart_223_raw: string (nullable = true)\n",
      " |-- smart_224_normalized: string (nullable = true)\n",
      " |-- smart_224_raw: string (nullable = true)\n",
      " |-- smart_225_normalized: string (nullable = true)\n",
      " |-- smart_225_raw: string (nullable = true)\n",
      " |-- smart_226_normalized: string (nullable = true)\n",
      " |-- smart_226_raw: string (nullable = true)\n",
      " |-- smart_240_normalized: string (nullable = true)\n",
      " |-- smart_240_raw: double (nullable = true)\n",
      " |-- smart_241_normalized: string (nullable = true)\n",
      " |-- smart_241_raw: double (nullable = true)\n",
      " |-- smart_242_normalized: string (nullable = true)\n",
      " |-- smart_242_raw: double (nullable = true)\n",
      " |-- smart_250_normalized: string (nullable = true)\n",
      " |-- smart_250_raw: string (nullable = true)\n",
      " |-- smart_251_normalized: string (nullable = true)\n",
      " |-- smart_251_raw: string (nullable = true)\n",
      " |-- smart_252_normalized: string (nullable = true)\n",
      " |-- smart_252_raw: string (nullable = true)\n",
      " |-- smart_254_normalized: string (nullable = true)\n",
      " |-- smart_254_raw: string (nullable = true)\n",
      " |-- smart_255_normalized: string (nullable = true)\n",
      " |-- smart_255_raw: string (nullable = true)\n",
      "\n"
     ]
    }
   ],
   "source": [
    "df.printSchema()"
   ]
  },
  {
   "cell_type": "code",
   "execution_count": 7,
   "metadata": {},
   "outputs": [
    {
     "data": {
      "text/plain": [
       "3179295"
      ]
     },
     "execution_count": 7,
     "metadata": {},
     "output_type": "execute_result"
    }
   ],
   "source": [
    "df.count()"
   ]
  },
  {
   "cell_type": "code",
   "execution_count": 8,
   "metadata": {},
   "outputs": [],
   "source": [
    "df1 = df.dropDuplicates([date_col] + id_cols)"
   ]
  },
  {
   "cell_type": "code",
   "execution_count": 9,
   "metadata": {},
   "outputs": [
    {
     "name": "stderr",
     "output_type": "stream",
     "text": [
      "24/08/23 15:57:39 WARN SparkStringUtils: Truncated the string representation of a plan since it was too large. This behavior can be adjusted by setting 'spark.sql.debug.maxToStringFields'.\n",
      "[Stage 5:=====================================================>   (15 + 1) / 16]\r"
     ]
    },
    {
     "name": "stdout",
     "output_type": "stream",
     "text": [
      "+----------+-------------+--------------------+-------------------+-------+------------------+-----------+------------------+-----------+------------------+-----------+------------------+-----------+------------------+-----------+------------------+-----------+------------------+-----------+------------------+-----------+-------------------+------------+-------------------+------------+-------------------+------------+-------------------+------------+-------------------+------------+-------------------+------------+--------------------+-------------+--------------------+-------------+--------------------+-------------+--------------------+-------------+--------------------+-------------+--------------------+-------------+--------------------+-------------+--------------------+-------------+--------------------+-------------+--------------------+-------------+--------------------+-------------+--------------------+-------------+--------------------+-------------+--------------------+-------------+--------------------+-------------+--------------------+-------------+--------------------+-------------+--------------------+-------------+--------------------+-------------+--------------------+-------------+--------------------+-------------+--------------------+-------------+--------------------+-------------+--------------------+-------------+--------------------+-------------+--------------------+-------------+--------------------+-------------+--------------------+-------------+--------------------+-------------+--------------------+-------------+--------------------+-------------+\n",
      "|      date|serial_number|               model|     capacity_bytes|failure|smart_1_normalized|smart_1_raw|smart_2_normalized|smart_2_raw|smart_3_normalized|smart_3_raw|smart_4_normalized|smart_4_raw|smart_5_normalized|smart_5_raw|smart_7_normalized|smart_7_raw|smart_8_normalized|smart_8_raw|smart_9_normalized|smart_9_raw|smart_10_normalized|smart_10_raw|smart_11_normalized|smart_11_raw|smart_12_normalized|smart_12_raw|smart_13_normalized|smart_13_raw|smart_15_normalized|smart_15_raw|smart_22_normalized|smart_22_raw|smart_183_normalized|smart_183_raw|smart_184_normalized|smart_184_raw|smart_187_normalized|smart_187_raw|smart_188_normalized|smart_188_raw|smart_189_normalized|smart_189_raw|smart_190_normalized|smart_190_raw|smart_191_normalized|smart_191_raw|smart_192_normalized|smart_192_raw|smart_193_normalized|smart_193_raw|smart_194_normalized|smart_194_raw|smart_195_normalized|smart_195_raw|smart_196_normalized|smart_196_raw|smart_197_normalized|smart_197_raw|smart_198_normalized|smart_198_raw|smart_199_normalized|smart_199_raw|smart_200_normalized|smart_200_raw|smart_201_normalized|smart_201_raw|smart_220_normalized|smart_220_raw|smart_222_normalized|smart_222_raw|smart_223_normalized|smart_223_raw|smart_224_normalized|smart_224_raw|smart_225_normalized|smart_225_raw|smart_226_normalized|smart_226_raw|smart_240_normalized|smart_240_raw|smart_241_normalized|smart_241_raw|smart_242_normalized|smart_242_raw|smart_250_normalized|smart_250_raw|smart_251_normalized|smart_251_raw|smart_252_normalized|smart_252_raw|smart_254_normalized|smart_254_raw|smart_255_normalized|smart_255_raw|\n",
      "+----------+-------------+--------------------+-------------------+-------+------------------+-----------+------------------+-----------+------------------+-----------+------------------+-----------+------------------+-----------+------------------+-----------+------------------+-----------+------------------+-----------+-------------------+------------+-------------------+------------+-------------------+------------+-------------------+------------+-------------------+------------+-------------------+------------+--------------------+-------------+--------------------+-------------+--------------------+-------------+--------------------+-------------+--------------------+-------------+--------------------+-------------+--------------------+-------------+--------------------+-------------+--------------------+-------------+--------------------+-------------+--------------------+-------------+--------------------+-------------+--------------------+-------------+--------------------+-------------+--------------------+-------------+--------------------+-------------+--------------------+-------------+--------------------+-------------+--------------------+-------------+--------------------+-------------+--------------------+-------------+--------------------+-------------+--------------------+-------------+--------------------+-------------+--------------------+-------------+--------------------+-------------+--------------------+-------------+--------------------+-------------+--------------------+-------------+--------------------+-------------+--------------------+-------------+\n",
      "|2016-01-01| 2511K0Q9FMYB| TOSHIBA MD04ABA400V|1.976651427858E-311|      0|               100|          0|               100|          0|               100|       5437|               100|          3|               100|          0|               100|        0.0|               100|          0|                82|       7399|                100|           0|                 NA|          NA|                100|           3|                 NA|          NA|                 NA|          NA|                 NA|          NA|                  NA|           NA|                  NA|           NA|                  NA|           NA|                  NA|          0.0|                  NA|           NA|                  NA|           NA|                 100|            0|                 100|            0|                 100|          138|                 100|           34|                  NA|           NA|                 100|            0|                 100|            0|                 100|            0|                 200|            0|                  NA|           NA|                  NA|           NA|                 100|            0|                  82|         7374|                 100|            0|                 100|            0|                  NA|           NA|                 100|          375|                 100|          0.0|                  NA|          0.0|                  NA|          0.0|                  NA|           NA|                  NA|           NA|                  NA|           NA|                  NA|           NA|                  NA|           NA|\n",
      "|2016-01-01| 2514K0GZFMYB| TOSHIBA MD04ABA400V|1.976651427858E-311|      0|               100|          0|               100|          0|               100|       5453|               100|          3|               100|          0|               100|        0.0|               100|          0|                82|       7398|                100|           0|                 NA|          NA|                100|           3|                 NA|          NA|                 NA|          NA|                 NA|          NA|                  NA|           NA|                  NA|           NA|                  NA|           NA|                  NA|          0.0|                  NA|           NA|                  NA|           NA|                 100|            2|                 100|            0|                 100|          176|                 100|           32|                  NA|           NA|                 100|            0|                 100|            0|                 100|            0|                 200|            0|                  NA|           NA|                  NA|           NA|                 100|            0|                  82|         7369|                 100|            0|                 100|            0|                  NA|           NA|                 100|          389|                 100|          0.0|                  NA|          0.0|                  NA|          0.0|                  NA|           NA|                  NA|           NA|                  NA|           NA|                  NA|           NA|                  NA|           NA|\n",
      "|2016-01-01|     2EG16MZJ|HGST HUH728080ALE600|3.953297501025E-311|      0|               100|          0|               131|        116|               100|          0|               100|          7|               100|          0|               100|        0.0|               128|         18|                99|       7928|                100|           0|                 NA|          NA|                100|           7|                 NA|          NA|                 NA|          NA|                100|         100|                  NA|           NA|                  NA|           NA|                  NA|           NA|                  NA|          0.0|                  NA|           NA|                  NA|           NA|                  NA|           NA|                 100|          729|                 100|          729|                 176|           34|                  NA|           NA|                 100|            0|                 100|            0|                 100|            0|                 200|            0|                  NA|           NA|                  NA|           NA|                  NA|           NA|                  NA|           NA|                  NA|           NA|                  NA|           NA|                  NA|           NA|                  NA|           NA|                  NA|          0.0|                  NA|          0.0|                  NA|          0.0|                  NA|           NA|                  NA|           NA|                  NA|           NA|                  NA|           NA|                  NA|           NA|\n",
      "|2016-01-01|     2EG3P72P|HGST HUH728080ALE600|3.953297501025E-311|      0|               100|          0|               133|        108|               100|          0|               100|          6|               100|          0|               100|        0.0|               128|         18|                99|       7928|                100|           0|                 NA|          NA|                100|           6|                 NA|          NA|                 NA|          NA|                100|         100|                  NA|           NA|                  NA|           NA|                  NA|           NA|                  NA|          0.0|                  NA|           NA|                  NA|           NA|                  NA|           NA|                 100|          697|                 100|          697|                 162|           37|                  NA|           NA|                 100|            0|                 100|            0|                 100|            0|                 200|            0|                  NA|           NA|                  NA|           NA|                  NA|           NA|                  NA|           NA|                  NA|           NA|                  NA|           NA|                  NA|           NA|                  NA|           NA|                  NA|          0.0|                  NA|          0.0|                  NA|          0.0|                  NA|           NA|                  NA|           NA|                  NA|           NA|                  NA|           NA|                  NA|           NA|\n",
      "|2016-01-01|     2EG4L4VP|HGST HUH728080ALE600|3.953297501025E-311|      0|               100|          0|               133|        108|               100|          0|               100|          7|               100|          0|               100|        0.0|               128|         18|                99|       7928|                100|           0|                 NA|          NA|                100|           7|                 NA|          NA|                 NA|          NA|                100|         100|                  NA|           NA|                  NA|           NA|                  NA|           NA|                  NA|          0.0|                  NA|           NA|                  NA|           NA|                  NA|           NA|                 100|          850|                 100|          850|                 157|           38|                  NA|           NA|                 100|            0|                 100|            0|                 100|            0|                 200|            0|                  NA|           NA|                  NA|           NA|                  NA|           NA|                  NA|           NA|                  NA|           NA|                  NA|           NA|                  NA|           NA|                  NA|           NA|                  NA|          0.0|                  NA|          0.0|                  NA|          0.0|                  NA|           NA|                  NA|           NA|                  NA|           NA|                  NA|           NA|                  NA|           NA|\n",
      "|2016-01-01| 4582K1CJFMYB| TOSHIBA MD04ABA400V|1.976651427858E-311|      0|               100|          0|               100|          0|               100|       5546|               100|          7|               100|          0|               100|        0.0|               100|          0|                87|       5530|                100|           0|                 NA|          NA|                100|           7|                 NA|          NA|                 NA|          NA|                 NA|          NA|                  NA|           NA|                  NA|           NA|                  NA|           NA|                  NA|          0.0|                  NA|           NA|                  NA|           NA|                 100|            6|                 100|            0|                 100|          248|                 100|           21|                  NA|           NA|                 100|            0|                 100|            0|                 100|            0|                 200|            0|                  NA|           NA|                  NA|           NA|                 100|            0|                  87|         5470|                 100|            0|                 100|            0|                  NA|           NA|                 100|          301|                 100|          0.0|                  NA|          0.0|                  NA|          0.0|                  NA|           NA|                  NA|           NA|                  NA|           NA|                  NA|           NA|                  NA|           NA|\n",
      "|2016-01-01| 45C8K0QJFMYB| TOSHIBA MD04ABA400V|1.976651427858E-311|      0|               100|          0|               100|          0|               100|       5261|               100|          9|               100|          0|               100|        0.0|               100|          0|                87|       5459|                100|           0|                 NA|          NA|                100|           9|                 NA|          NA|                 NA|          NA|                 NA|          NA|                  NA|           NA|                  NA|           NA|                  NA|           NA|                  NA|          0.0|                  NA|           NA|                  NA|           NA|                 100|            1|                 100|            1|                 100|          142|                 100|           15|                  NA|           NA|                 100|            0|                 100|            0|                 100|            0|                 200|            0|                  NA|           NA|                  NA|           NA|                 100|            0|                  87|         5431|                 100|            0|                 100|            0|                  NA|           NA|                 100|          375|                 100|          0.0|                  NA|          0.0|                  NA|          0.0|                  NA|           NA|                  NA|           NA|                  NA|           NA|                  NA|           NA|                  NA|           NA|\n",
      "|2016-01-01| 45CHK125FMYB| TOSHIBA MD04ABA400V|1.976651427858E-311|      0|               100|          0|               100|          0|               100|       5317|               100|          8|               100|          0|               100|        0.0|               100|          0|                87|       5458|                100|           0|                 NA|          NA|                100|           8|                 NA|          NA|                 NA|          NA|                 NA|          NA|                  NA|           NA|                  NA|           NA|                  NA|           NA|                  NA|          0.0|                  NA|           NA|                  NA|           NA|                 100|            1|                 100|            1|                 100|          111|                 100|           19|                  NA|           NA|                 100|            0|                 100|            0|                 100|            0|                 200|            0|                  NA|           NA|                  NA|           NA|                 100|            0|                  87|         5433|                 100|            0|                 100|            0|                  NA|           NA|                 100|          295|                 100|          0.0|                  NA|          0.0|                  NA|          0.0|                  NA|           NA|                  NA|           NA|                  NA|           NA|                  NA|           NA|                  NA|           NA|\n",
      "|2016-01-01| 45CIK0M7FMYB| TOSHIBA MD04ABA400V|1.976651427858E-311|      0|               100|          0|               100|          0|               100|       5422|               100|          3|               100|          0|               100|        0.0|               100|          0|                87|       5528|                100|           0|                 NA|          NA|                100|           3|                 NA|          NA|                 NA|          NA|                 NA|          NA|                  NA|           NA|                  NA|           NA|                  NA|           NA|                  NA|          0.0|                  NA|           NA|                  NA|           NA|                 100|            5|                 100|            0|                 100|          247|                 100|           17|                  NA|           NA|                 100|            0|                 100|            0|                 100|            0|                 200|            0|                  NA|           NA|                  NA|           NA|                 100|            0|                  87|         5470|                 100|            0|                 100|            0|                  NA|           NA|                 100|          381|                 100|          0.0|                  NA|          0.0|                  NA|          0.0|                  NA|           NA|                  NA|           NA|                  NA|           NA|                  NA|           NA|                  NA|           NA|\n",
      "|2016-01-01| 45D7K12YFMYB| TOSHIBA MD04ABA400V|1.976651427858E-311|      0|               100|          0|               100|          0|               100|       5258|               100|          1|               100|          0|               100|        0.0|               100|          0|                87|       5527|                100|           0|                 NA|          NA|                100|           1|                 NA|          NA|                 NA|          NA|                 NA|          NA|                  NA|           NA|                  NA|           NA|                  NA|           NA|                  NA|          0.0|                  NA|           NA|                  NA|           NA|                 100|            3|                 100|            0|                 100|          247|                 100|           16|                  NA|           NA|                 100|            0|                 100|            0|                 100|            0|                 200|            0|                  NA|           NA|                  NA|           NA|                 100|            0|                  87|         5469|                 100|            0|                 100|            0|                  NA|           NA|                 100|          383|                 100|          0.0|                  NA|          0.0|                  NA|          0.0|                  NA|           NA|                  NA|           NA|                  NA|           NA|                  NA|           NA|                  NA|           NA|\n",
      "+----------+-------------+--------------------+-------------------+-------+------------------+-----------+------------------+-----------+------------------+-----------+------------------+-----------+------------------+-----------+------------------+-----------+------------------+-----------+------------------+-----------+-------------------+------------+-------------------+------------+-------------------+------------+-------------------+------------+-------------------+------------+-------------------+------------+--------------------+-------------+--------------------+-------------+--------------------+-------------+--------------------+-------------+--------------------+-------------+--------------------+-------------+--------------------+-------------+--------------------+-------------+--------------------+-------------+--------------------+-------------+--------------------+-------------+--------------------+-------------+--------------------+-------------+--------------------+-------------+--------------------+-------------+--------------------+-------------+--------------------+-------------+--------------------+-------------+--------------------+-------------+--------------------+-------------+--------------------+-------------+--------------------+-------------+--------------------+-------------+--------------------+-------------+--------------------+-------------+--------------------+-------------+--------------------+-------------+--------------------+-------------+--------------------+-------------+--------------------+-------------+--------------------+-------------+\n",
      "only showing top 10 rows\n",
      "\n"
     ]
    },
    {
     "name": "stderr",
     "output_type": "stream",
     "text": [
      "                                                                                \r"
     ]
    }
   ],
   "source": [
    "df1.show(10)"
   ]
  },
  {
   "cell_type": "code",
   "execution_count": 10,
   "metadata": {},
   "outputs": [
    {
     "name": "stderr",
     "output_type": "stream",
     "text": [
      "                                                                                \r"
     ]
    }
   ],
   "source": [
    "df1.write.csv(os.path.join(data_dir, 'harddrive_nodup'), header=True)"
   ]
  },
  {
   "cell_type": "code",
   "execution_count": null,
   "metadata": {},
   "outputs": [],
   "source": []
  },
  {
   "cell_type": "code",
   "execution_count": 10,
   "metadata": {},
   "outputs": [
    {
     "data": {
      "text/plain": [
       "161"
      ]
     },
     "execution_count": 10,
     "metadata": {},
     "output_type": "execute_result"
    }
   ],
   "source": [
    "gc.collect()"
   ]
  },
  {
   "cell_type": "code",
   "execution_count": 11,
   "metadata": {},
   "outputs": [
    {
     "name": "stderr",
     "output_type": "stream",
     "text": [
      "                                                                                \r"
     ]
    },
    {
     "name": "stdout",
     "output_type": "stream",
     "text": [
      "Row(min(date)=datetime.date(2016, 1, 1))\n"
     ]
    },
    {
     "name": "stderr",
     "output_type": "stream",
     "text": [
      "[Stage 6:>                                                        (0 + 16) / 16]\r"
     ]
    },
    {
     "name": "stdout",
     "output_type": "stream",
     "text": [
      "Row(max(date)=datetime.date(2016, 4, 29))\n"
     ]
    },
    {
     "name": "stderr",
     "output_type": "stream",
     "text": [
      "                                                                                \r"
     ]
    }
   ],
   "source": [
    "print(df.agg({date_col: \"min\"}).collect()[0])\n",
    "print(df.agg({date_col: \"max\"}).collect()[0])"
   ]
  },
  {
   "cell_type": "code",
   "execution_count": 45,
   "metadata": {},
   "outputs": [
    {
     "name": "stderr",
     "output_type": "stream",
     "text": [
      "                                                                                \r"
     ]
    },
    {
     "data": {
      "text/plain": [
       "[Row(count(DISTINCT failure)=2)]"
      ]
     },
     "execution_count": 45,
     "metadata": {},
     "output_type": "execute_result"
    }
   ],
   "source": [
    "df.agg(F.countDistinct(df[target_label])).collect()"
   ]
  },
  {
   "cell_type": "code",
   "execution_count": 18,
   "metadata": {},
   "outputs": [
    {
     "name": "stderr",
     "output_type": "stream",
     "text": [
      "[Stage 27:>                                                       (0 + 16) / 16]\r"
     ]
    },
    {
     "name": "stdout",
     "output_type": "stream",
     "text": [
      "+-------+-------+\n",
      "|failure|  count|\n",
      "+-------+-------+\n",
      "|      1|    215|\n",
      "|      0|3179080|\n",
      "+-------+-------+\n",
      "\n"
     ]
    },
    {
     "name": "stderr",
     "output_type": "stream",
     "text": [
      "                                                                                \r"
     ]
    }
   ],
   "source": [
    "df.groupby([target_label]).count().show()"
   ]
  },
  {
   "cell_type": "code",
   "execution_count": 46,
   "metadata": {},
   "outputs": [
    {
     "name": "stderr",
     "output_type": "stream",
     "text": [
      "                                                                                \r"
     ]
    },
    {
     "data": {
      "text/plain": [
       "[Row(count(DISTINCT model)=69)]"
      ]
     },
     "execution_count": 46,
     "metadata": {},
     "output_type": "execute_result"
    }
   ],
   "source": [
    "df.agg(F.countDistinct(df['model'])).collect()"
   ]
  },
  {
   "cell_type": "code",
   "execution_count": 23,
   "metadata": {},
   "outputs": [
    {
     "name": "stderr",
     "output_type": "stream",
     "text": [
      "[Stage 36:>                                                       (0 + 16) / 16]\r"
     ]
    },
    {
     "name": "stdout",
     "output_type": "stream",
     "text": [
      "+--------------------+\n",
      "|               model|\n",
      "+--------------------+\n",
      "|         ST9250315AS|\n",
      "|         ST4000DM000|\n",
      "|          ST320LT007|\n",
      "|         ST3500320AS|\n",
      "|      WDC WD5002ABYS|\n",
      "|      WDC WD2500BEVT|\n",
      "|Hitachi HDS5C3030...|\n",
      "|        WDC WD60EFRX|\n",
      "|       WDC WD800AAJB|\n",
      "|Hitachi HDS722020...|\n",
      "+--------------------+\n",
      "only showing top 10 rows\n",
      "\n"
     ]
    },
    {
     "name": "stderr",
     "output_type": "stream",
     "text": [
      "                                                                                \r"
     ]
    }
   ],
   "source": [
    "df.select('model').distinct().show(10)"
   ]
  },
  {
   "cell_type": "code",
   "execution_count": 47,
   "metadata": {},
   "outputs": [
    {
     "name": "stderr",
     "output_type": "stream",
     "text": [
      "                                                                                \r"
     ]
    },
    {
     "data": {
      "text/html": [
       "<div>\n",
       "<style scoped>\n",
       "    .dataframe tbody tr th:only-of-type {\n",
       "        vertical-align: middle;\n",
       "    }\n",
       "\n",
       "    .dataframe tbody tr th {\n",
       "        vertical-align: top;\n",
       "    }\n",
       "\n",
       "    .dataframe thead th {\n",
       "        text-align: right;\n",
       "    }\n",
       "</style>\n",
       "<table border=\"1\" class=\"dataframe\">\n",
       "  <thead>\n",
       "    <tr style=\"text-align: right;\">\n",
       "      <th></th>\n",
       "      <th>count(DISTINCT serial_number)</th>\n",
       "    </tr>\n",
       "  </thead>\n",
       "  <tbody>\n",
       "    <tr>\n",
       "      <th>0</th>\n",
       "      <td>65993</td>\n",
       "    </tr>\n",
       "  </tbody>\n",
       "</table>\n",
       "</div>"
      ],
      "text/plain": [
       "   count(DISTINCT serial_number)\n",
       "0                          65993"
      ]
     },
     "execution_count": 47,
     "metadata": {},
     "output_type": "execute_result"
    }
   ],
   "source": [
    "df.agg(F.countDistinct(df['serial_number'])).toPandas()"
   ]
  },
  {
   "cell_type": "code",
   "execution_count": 25,
   "metadata": {},
   "outputs": [
    {
     "name": "stderr",
     "output_type": "stream",
     "text": [
      "[Stage 45:>                                                       (0 + 16) / 16]\r"
     ]
    },
    {
     "name": "stdout",
     "output_type": "stream",
     "text": [
      "+---------------+\n",
      "|  serial_number|\n",
      "+---------------+\n",
      "|       S300Z60P|\n",
      "|WD-WMAYUU472236|\n",
      "| PL2331LAGMNX6J|\n",
      "| S2ZYJ9BF508152|\n",
      "|       Z300CNRB|\n",
      "| PL2331LAGU9EYJ|\n",
      "| PL1331LAGSAE0H|\n",
      "|       Z305B6JC|\n",
      "| JK11A8B9J7AAKF|\n",
      "| JK11A8B9J7W9AF|\n",
      "+---------------+\n",
      "only showing top 10 rows\n",
      "\n"
     ]
    },
    {
     "name": "stderr",
     "output_type": "stream",
     "text": [
      "                                                                                \r"
     ]
    }
   ],
   "source": [
    "df.select('serial_number').distinct().show(10)"
   ]
  },
  {
   "cell_type": "code",
   "execution_count": 50,
   "metadata": {},
   "outputs": [
    {
     "name": "stderr",
     "output_type": "stream",
     "text": [
      "[Stage 110:======>                                                (2 + 14) / 16]\r"
     ]
    },
    {
     "name": "stdout",
     "output_type": "stream",
     "text": [
      "+-----------------------------+\n",
      "|count(DISTINCT serial_number)|\n",
      "+-----------------------------+\n",
      "|                          205|\n",
      "+-----------------------------+\n",
      "\n"
     ]
    },
    {
     "name": "stderr",
     "output_type": "stream",
     "text": [
      "                                                                                \r"
     ]
    }
   ],
   "source": [
    "df.where(df[target_label] == 1).agg(F.countDistinct('serial_number')).show()"
   ]
  },
  {
   "cell_type": "code",
   "execution_count": 51,
   "metadata": {},
   "outputs": [
    {
     "name": "stderr",
     "output_type": "stream",
     "text": [
      "[Stage 116:>                                                      (0 + 16) / 16]\r"
     ]
    },
    {
     "name": "stdout",
     "output_type": "stream",
     "text": [
      "+---------------+--------------------+-----+\n",
      "|  serial_number|               model|count|\n",
      "+---------------+--------------------+-----+\n",
      "| MJ1311YNG7BH3A|Hitachi HDS5C3030...|   52|\n",
      "|       S300Z6K9|         ST4000DM000|   52|\n",
      "|       S300ZVMZ|         ST4000DM000|   52|\n",
      "|       S3010TR7|         ST4000DM000|   52|\n",
      "| PL2331LAGM7YGJ|HGST HMS5C4040BLE640|   52|\n",
      "|       S30088X7|         ST4000DM000|   52|\n",
      "|       Z305BT2T|         ST4000DM000|   52|\n",
      "| PL1331LAGT94SH|HGST HMS5C4040ALE640|   52|\n",
      "|WD-WX41D94RNV69|        WDC WD60EFRX|   52|\n",
      "| JK11A8B9J9KYXF|Hitachi HDS722020...|   52|\n",
      "+---------------+--------------------+-----+\n",
      "only showing top 10 rows\n",
      "\n"
     ]
    },
    {
     "name": "stderr",
     "output_type": "stream",
     "text": [
      "                                                                                \r"
     ]
    }
   ],
   "source": [
    "df.groupby(id_cols).count().sort('count', ascending=False).show(10)"
   ]
  },
  {
   "cell_type": "code",
   "execution_count": null,
   "metadata": {},
   "outputs": [],
   "source": []
  },
  {
   "cell_type": "code",
   "execution_count": null,
   "metadata": {},
   "outputs": [],
   "source": []
  },
  {
   "cell_type": "code",
   "execution_count": null,
   "metadata": {},
   "outputs": [],
   "source": []
  },
  {
   "cell_type": "code",
   "execution_count": 11,
   "metadata": {},
   "outputs": [],
   "source": [
    "spark.stop()"
   ]
  }
 ],
 "metadata": {
  "kernelspec": {
   "display_name": "Python 3",
   "language": "python",
   "name": "python3"
  },
  "language_info": {
   "codemirror_mode": {
    "name": "ipython",
    "version": 3
   },
   "file_extension": ".py",
   "mimetype": "text/x-python",
   "name": "python",
   "nbconvert_exporter": "python",
   "pygments_lexer": "ipython3",
   "version": "3.10.12"
  }
 },
 "nbformat": 4,
 "nbformat_minor": 2
}
