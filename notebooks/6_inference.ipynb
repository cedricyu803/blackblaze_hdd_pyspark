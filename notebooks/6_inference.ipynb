{
 "cells": [
  {
   "cell_type": "code",
   "execution_count": 34,
   "metadata": {},
   "outputs": [
    {
     "name": "stdout",
     "output_type": "stream",
     "text": [
      "The autoreload extension is already loaded. To reload it, use:\n",
      "  %reload_ext autoreload\n"
     ]
    }
   ],
   "source": [
    "import os\n",
    "import gc\n",
    "import json\n",
    "import pandas as pd\n",
    "import pyspark\n",
    "from pyspark.sql import SparkSession\n",
    "from pyspark.sql import functions as F\n",
    "from pyspark.sql.window import Window\n",
    "from pyspark.ml.feature import VectorAssembler, MinMaxScaler, RobustScaler\n",
    "from pyspark.ml.pipeline import PipelineModel\n",
    "from pyspark.ml.functions import vector_to_array\n",
    "from pyspark.ml.classification import GBTClassifier, GBTClassificationModel\n",
    "from pyspark.ml.evaluation import MulticlassClassificationEvaluator\n",
    "\n",
    "from utils import (\n",
    "    CYCLE_ID_FAILURE_FILEPATH,\n",
    "    CYCLE_ID_FILEPATH,\n",
    "    NO_DUP_FILEPATH,\n",
    "    PREPROCESSED_FILEPATH,\n",
    "    RANDOM_SEED,\n",
    "    SPARK_MEMORY,\n",
    "    TRAINING_FILEPATH,\n",
    "    cycle_id_col,\n",
    "    date_col,\n",
    "    get_const_columns,\n",
    "    get_failed_cycles,\n",
    "    get_less_na_cols,\n",
    "    id_cols,\n",
    "    make_cycle_id,\n",
    "    parse_na,\n",
    "    sort_cols,\n",
    "    target_label,\n",
    "    scale_features,\n",
    "    lag_features,\n",
    "    model_transform_features\n",
    ")\n",
    "\n",
    "pd.set_option('display.max_rows', 20)\n",
    "pd.set_option('display.max_columns', 200)\n",
    "\n",
    "%load_ext autoreload\n",
    "%autoreload 2"
   ]
  },
  {
   "cell_type": "code",
   "execution_count": 2,
   "metadata": {},
   "outputs": [],
   "source": [
    "DATA_DIR = '../data'\n",
    "DATA_FILEPATH = os.path.join(DATA_DIR, 'harddrive.csv')\n",
    "NO_DUP_FILEPATH = os.path.join(DATA_DIR, 'harddrive_nodup')\n",
    "PREPROCESSED_FILEPATH = os.path.join(DATA_DIR, 'harddrive_preprocessed')\n",
    "CYCLE_ID_FILEPATH = os.path.join(DATA_DIR, 'cycle_id.csv')\n",
    "CYCLE_ID_FAILURE_FILEPATH = os.path.join(DATA_DIR, 'cycle_id_failure.csv')\n",
    "TRAINING_FILEPATH = os.path.join(DATA_DIR, 'harddrive_training.csv')\n",
    "TRAIN_FILEPATH = os.path.join(DATA_DIR, 'df_train.csv')\n",
    "VAL_FILEPATH = os.path.join(DATA_DIR, 'df_val.csv')\n",
    "TEST_FILEPATH = os.path.join(DATA_DIR, 'df_test.csv')\n",
    "\n",
    "\n",
    "MODELS_DIR = '../models'\n",
    "os.makedirs(MODELS_DIR, exist_ok=True)\n",
    "SCALER_PIPELINE_FILEPATH = os.path.join(MODELS_DIR, 'scaler')\n",
    "ML_MODEL_FILEPATH = os.path.join(MODELS_DIR, 'model')\n",
    "ML_EVAL_SCORES_FILEPATH = os.path.join(MODELS_DIR, 'model_scores.json')\n",
    "PREPROCESSED_COLUMNS_FILEPATH = os.path.join(MODELS_DIR,\n",
    "                                             'preprocessed_columns.json')\n",
    "LAGGED_COLS_FILEPATH = os.path.join(MODELS_DIR, 'lagged_columns.json')\n",
    "NUM_FEATURE_COLUMNS_FILEPATH = os.path.join(MODELS_DIR,\n",
    "                                            'num_feature_columns.json')\n",
    "SCALED_COLUMNS_FILEPATH = os.path.join(MODELS_DIR, 'scaled_columns.json')\n",
    "FEATURE_COLUMNS_FILEPATH = os.path.join(MODELS_DIR, 'feature_columns.json')"
   ]
  },
  {
   "cell_type": "code",
   "execution_count": null,
   "metadata": {},
   "outputs": [],
   "source": []
  },
  {
   "cell_type": "markdown",
   "metadata": {},
   "source": [
    "## Random seed"
   ]
  },
  {
   "cell_type": "code",
   "execution_count": 3,
   "metadata": {},
   "outputs": [],
   "source": [
    "RANDOM_SEED = 42"
   ]
  },
  {
   "cell_type": "markdown",
   "metadata": {},
   "source": [
    "## Load data with PySpark session"
   ]
  },
  {
   "cell_type": "code",
   "execution_count": 4,
   "metadata": {},
   "outputs": [
    {
     "name": "stderr",
     "output_type": "stream",
     "text": [
      "your 131072x1 screen size is bogus. expect trouble\n",
      "24/08/24 19:08:06 WARN Utils: Your hostname, cedric-yu-work resolves to a loopback address: 127.0.1.1; using 10.255.255.254 instead (on interface lo)\n",
      "24/08/24 19:08:06 WARN Utils: Set SPARK_LOCAL_IP if you need to bind to another address\n",
      "Setting default log level to \"WARN\".\n",
      "To adjust logging level use sc.setLogLevel(newLevel). For SparkR, use setLogLevel(newLevel).\n",
      "24/08/24 19:08:06 WARN NativeCodeLoader: Unable to load native-hadoop library for your platform... using builtin-java classes where applicable\n"
     ]
    }
   ],
   "source": [
    "spark = (SparkSession.builder\n",
    "         .config(\"spark.driver.memory\", \"12g\")\n",
    "         .appName(\"SparkSQL\").getOrCreate())"
   ]
  },
  {
   "cell_type": "code",
   "execution_count": 5,
   "metadata": {},
   "outputs": [],
   "source": [
    "date_col = 'date'\n",
    "target_label = 'failure'\n",
    "id_cols = ['serial_number', 'model']\n",
    "cycle_id_col = 'cycle_id'\n"
   ]
  },
  {
   "cell_type": "code",
   "execution_count": 6,
   "metadata": {},
   "outputs": [],
   "source": [
    "with open(PREPROCESSED_COLUMNS_FILEPATH, 'r') as f:\n",
    "    preprocessed_cols = json.load(f)\n",
    "with open(LAGGED_COLS_FILEPATH, 'r') as f:\n",
    "    lagged_cols = json.load(f)\n",
    "with open(NUM_FEATURE_COLUMNS_FILEPATH, 'r') as f:\n",
    "    num_feature_cols = json.load(f)\n",
    "with open(SCALED_COLUMNS_FILEPATH, 'r') as f:\n",
    "    scaled_cols = json.load(f)\n",
    "with open(FEATURE_COLUMNS_FILEPATH, 'r') as f:\n",
    "    feature_cols = json.load(f)\n",
    "for list_ in [preprocessed_cols, lagged_cols, num_feature_cols, scaled_cols, feature_cols]:\n",
    "    if target_label in list_:\n",
    "        list_.remove(target_label)"
   ]
  },
  {
   "cell_type": "code",
   "execution_count": 7,
   "metadata": {},
   "outputs": [
    {
     "name": "stderr",
     "output_type": "stream",
     "text": [
      "24/08/24 19:08:14 WARN SparkStringUtils: Truncated the string representation of a plan since it was too large. This behavior can be adjusted by setting 'spark.sql.debug.maxToStringFields'.\n"
     ]
    }
   ],
   "source": [
    "df_inf = (spark.read.option(\"header\", \"true\")\n",
    "      .option(\"inferSchema\", \"true\")\n",
    "      .csv(PREPROCESSED_FILEPATH))\n",
    "df_inf = df_inf.sort(sort_cols).limit(100).cache()\n",
    "\n",
    "df_inf = df_inf.select(*preprocessed_cols)"
   ]
  },
  {
   "cell_type": "code",
   "execution_count": 8,
   "metadata": {},
   "outputs": [
    {
     "name": "stderr",
     "output_type": "stream",
     "text": [
      "[Stage 2:=====================================================>   (16 + 1) / 17]\r"
     ]
    },
    {
     "name": "stdout",
     "output_type": "stream",
     "text": [
      "+----------+-------------+------------------+--------------------+------------------+-----------+------------------+-----------+------------------+-----------+------------------+-----------+------------------+-----------+------------------+-----------+-------------------+------------+-------------------+------------+-------------+--------------------+-------------+--------------------+-------------+--------------------+-------------+--------------------+-------------+--------------------+-------------+--------------------+-------------+-------------+-------------+-------------+\n",
      "|      date|serial_number|             model|      capacity_bytes|smart_1_normalized|smart_1_raw|smart_3_normalized|smart_3_raw|smart_4_normalized|smart_4_raw|smart_5_normalized|smart_5_raw|smart_7_normalized|smart_7_raw|smart_9_normalized|smart_9_raw|smart_10_normalized|smart_10_raw|smart_12_normalized|smart_12_raw|smart_188_raw|smart_192_normalized|smart_192_raw|smart_193_normalized|smart_193_raw|smart_194_normalized|smart_194_raw|smart_197_normalized|smart_197_raw|smart_198_normalized|smart_198_raw|smart_199_normalized|smart_199_raw|smart_240_raw|smart_241_raw|smart_242_raw|\n",
      "+----------+-------------+------------------+--------------------+------------------+-----------+------------------+-----------+------------------+-----------+------------------+-----------+------------------+-----------+------------------+-----------+-------------------+------------+-------------------+------------+-------------+--------------------+-------------+--------------------+-------------+--------------------+-------------+--------------------+-------------+--------------------+-------------+--------------------+-------------+-------------+-------------+-------------+\n",
      "|2016-01-01|    13H2B97AS|TOSHIBA DT01ACA300|1.4824899095664E-311|                99|     131072|               134|        429|               100|         18|               100|          0|               100|        0.0|                98|      16274|                100|           0|                100|          18|          0.0|                 100|           26|                 100|           26|                 187|           32|                 100|            0|                 100|            0|                 200|           10|          0.0|          0.0|          0.0|\n",
      "|2016-01-02|    13H2B97AS|TOSHIBA DT01ACA300|1.4824899095664E-311|               100|          1|               134|        429|               100|         18|               100|          0|               100|        0.0|                98|      16298|                100|           0|                100|          18|          0.0|                 100|           26|                 100|           26|                 187|           32|                 100|            0|                 100|            0|                 200|           10|          0.0|          0.0|          0.0|\n",
      "|2016-01-03|    13H2B97AS|TOSHIBA DT01ACA300|1.4824899095664E-311|               100|          1|               134|        429|               100|         18|               100|          0|               100|        0.0|                98|      16322|                100|           0|                100|          18|          0.0|                 100|           26|                 100|           26|                 187|           32|                 100|            0|                 100|            0|                 200|           10|          0.0|          0.0|          0.0|\n",
      "|2016-01-04|    13H2B97AS|TOSHIBA DT01ACA300|1.4824899095664E-311|               100|          0|               134|        429|               100|         18|               100|          0|               100|        0.0|                98|      16346|                100|           0|                100|          18|          0.0|                 100|           26|                 100|           26|                 187|           32|                 100|            0|                 100|            0|                 200|           10|          0.0|          0.0|          0.0|\n",
      "|2016-01-05|    13H2B97AS|TOSHIBA DT01ACA300|1.4824899095664E-311|               100|          0|               134|        429|               100|         18|               100|          0|               100|        0.0|                98|      16370|                100|           0|                100|          18|          0.0|                 100|           26|                 100|           26|                 181|           33|                 100|            0|                 100|            0|                 200|           10|          0.0|          0.0|          0.0|\n",
      "|2016-01-06|    13H2B97AS|TOSHIBA DT01ACA300|1.4824899095664E-311|                99|     131073|               134|        429|               100|         18|               100|          0|               100|        0.0|                98|      16395|                100|           0|                100|          18|          0.0|                 100|           26|                 100|           26|                 187|           32|                 100|            0|                 100|            0|                 200|           10|          0.0|          0.0|          0.0|\n",
      "|2016-01-07|    13H2B97AS|TOSHIBA DT01ACA300|1.4824899095664E-311|                96|     458753|               134|        429|               100|         18|               100|          0|               100|        0.0|                98|      16418|                100|           0|                100|          18|          0.0|                 100|           26|                 100|           26|                 181|           33|                 100|            0|                 100|            0|                 200|           10|          0.0|          0.0|          0.0|\n",
      "|2016-01-08|    13H2B97AS|TOSHIBA DT01ACA300|1.4824899095664E-311|               100|          0|               134|        429|               100|         18|               100|          0|               100|        0.0|                98|      16442|                100|           0|                100|          18|          0.0|                 100|           26|                 100|           26|                 187|           32|                 100|            0|                 100|            0|                 200|           10|          0.0|          0.0|          0.0|\n",
      "|2016-01-09|    13H2B97AS|TOSHIBA DT01ACA300|1.4824899095664E-311|                98|     131075|               134|        429|               100|         18|               100|          0|               100|        0.0|                98|      16467|                100|           0|                100|          18|          0.0|                 100|           26|                 100|           26|                 187|           32|                 100|            0|                 100|            0|                 200|           10|          0.0|          0.0|          0.0|\n",
      "|2016-01-10|    13H2B97AS|TOSHIBA DT01ACA300|1.4824899095664E-311|               100|          0|               134|        429|               100|         18|               100|          0|               100|        0.0|                98|      16490|                100|           0|                100|          18|          0.0|                 100|           26|                 100|           26|                 181|           33|                 100|            0|                 100|            0|                 200|           10|          0.0|          0.0|          0.0|\n",
      "|2016-01-11|    13H2B97AS|TOSHIBA DT01ACA300|1.4824899095664E-311|               100|          1|               134|        429|               100|         18|               100|          0|               100|        0.0|                98|      16514|                100|           0|                100|          18|          0.0|                 100|           26|                 100|           26|                 181|           33|                 100|            0|                 100|            0|                 200|           10|          0.0|          0.0|          0.0|\n",
      "|2016-01-12|    13H2B97AS|TOSHIBA DT01ACA300|1.4824899095664E-311|               100|          0|               134|        429|               100|         18|               100|          0|               100|        0.0|                98|      16538|                100|           0|                100|          18|          0.0|                 100|           26|                 100|           26|                 187|           32|                 100|            0|                 100|            0|                 200|           10|          0.0|          0.0|          0.0|\n",
      "|2016-01-13|    13H2B97AS|TOSHIBA DT01ACA300|1.4824899095664E-311|               100|          0|               134|        429|               100|         18|               100|          0|               100|        0.0|                98|      16562|                100|           0|                100|          18|          0.0|                 100|           26|                 100|           26|                 187|           32|                 100|            0|                 100|            0|                 200|           10|          0.0|          0.0|          0.0|\n",
      "|2016-01-14|    13H2B97AS|TOSHIBA DT01ACA300|1.4824899095664E-311|               100|      65536|               134|        429|               100|         18|               100|          0|               100|        0.0|                98|      16586|                100|           0|                100|          18|          0.0|                 100|           26|                 100|           26|                 181|           33|                 100|            0|                 100|            0|                 200|           10|          0.0|          0.0|          0.0|\n",
      "|2016-01-15|    13H2B97AS|TOSHIBA DT01ACA300|1.4824899095664E-311|               100|          0|               134|        429|               100|         18|               100|          0|               100|        0.0|                98|      16610|                100|           0|                100|          18|          0.0|                 100|           26|                 100|           26|                 187|           32|                 100|            0|                 100|            0|                 200|           10|          0.0|          0.0|          0.0|\n",
      "|2016-01-16|    13H2B97AS|TOSHIBA DT01ACA300|1.4824899095664E-311|               100|          0|               134|        429|               100|         18|               100|          0|               100|        0.0|                98|      16635|                100|           0|                100|          18|          0.0|                 100|           26|                 100|           26|                 181|           33|                 100|            0|                 100|            0|                 200|           10|          0.0|          0.0|          0.0|\n",
      "|2016-01-17|    13H2B97AS|TOSHIBA DT01ACA300|1.4824899095664E-311|               100|          0|               134|        429|               100|         18|               100|          0|               100|        0.0|                98|      16658|                100|           0|                100|          18|          0.0|                 100|           26|                 100|           26|                 193|           31|                 100|            0|                 100|            0|                 200|           10|          0.0|          0.0|          0.0|\n",
      "|2016-01-18|    13H2B97AS|TOSHIBA DT01ACA300|1.4824899095664E-311|               100|      65536|               134|        429|               100|         18|               100|          0|               100|        0.0|                98|      16682|                100|           0|                100|          18|          0.0|                 100|           26|                 100|           26|                 206|           29|                 100|            0|                 100|            0|                 200|           10|          0.0|          0.0|          0.0|\n",
      "|2016-01-19|    13H2B97AS|TOSHIBA DT01ACA300|1.4824899095664E-311|                99|      65537|               134|        429|               100|         18|               100|          0|               100|        0.0|                98|      16707|                100|           0|                100|          18|          0.0|                 100|           26|                 100|           26|                 206|           29|                 100|            0|                 100|            0|                 200|           10|          0.0|          0.0|          0.0|\n",
      "|2016-01-20|    13H2B97AS|TOSHIBA DT01ACA300|1.4824899095664E-311|                99|     131073|               134|        429|               100|         18|               100|          0|               100|        0.0|                98|      16730|                100|           0|                100|          18|          0.0|                 100|           26|                 100|           26|                 200|           30|                 100|            0|                 100|            0|                 200|           10|          0.0|          0.0|          0.0|\n",
      "+----------+-------------+------------------+--------------------+------------------+-----------+------------------+-----------+------------------+-----------+------------------+-----------+------------------+-----------+------------------+-----------+-------------------+------------+-------------------+------------+-------------+--------------------+-------------+--------------------+-------------+--------------------+-------------+--------------------+-------------+--------------------+-------------+--------------------+-------------+-------------+-------------+-------------+\n",
      "only showing top 20 rows\n",
      "\n"
     ]
    },
    {
     "name": "stderr",
     "output_type": "stream",
     "text": [
      "                                                                                \r"
     ]
    }
   ],
   "source": [
    "df_inf.show()"
   ]
  },
  {
   "cell_type": "markdown",
   "metadata": {},
   "source": [
    "## Make cycle id"
   ]
  },
  {
   "cell_type": "code",
   "execution_count": 9,
   "metadata": {},
   "outputs": [
    {
     "name": "stderr",
     "output_type": "stream",
     "text": [
      "24/08/24 19:08:18 WARN WindowExec: No Partition Defined for Window operation! Moving all data to a single partition, this can cause serious performance degradation.\n",
      "24/08/24 19:08:18 WARN WindowExec: No Partition Defined for Window operation! Moving all data to a single partition, this can cause serious performance degradation.\n",
      "24/08/24 19:08:18 WARN WindowExec: No Partition Defined for Window operation! Moving all data to a single partition, this can cause serious performance degradation.\n",
      "24/08/24 19:08:18 WARN WindowExec: No Partition Defined for Window operation! Moving all data to a single partition, this can cause serious performance degradation.\n",
      "24/08/24 19:08:18 WARN WindowExec: No Partition Defined for Window operation! Moving all data to a single partition, this can cause serious performance degradation.\n"
     ]
    },
    {
     "data": {
      "text/plain": [
       "DataFrame[serial_number: string, model: string, date: date, cycle_id: int]"
      ]
     },
     "execution_count": 9,
     "metadata": {},
     "output_type": "execute_result"
    }
   ],
   "source": [
    "df_cycle_id = make_cycle_id(df_inf)\n",
    "df_cycle_id.cache()"
   ]
  },
  {
   "cell_type": "code",
   "execution_count": 13,
   "metadata": {},
   "outputs": [
    {
     "name": "stdout",
     "output_type": "stream",
     "text": [
      "+-------------+------------------+----------+--------+\n",
      "|serial_number|             model|      date|cycle_id|\n",
      "+-------------+------------------+----------+--------+\n",
      "|    13H2B97AS|TOSHIBA DT01ACA300|2016-01-01|       1|\n",
      "|    13H2B97AS|TOSHIBA DT01ACA300|2016-01-02|       1|\n",
      "|    13H2B97AS|TOSHIBA DT01ACA300|2016-01-03|       1|\n",
      "|    13H2B97AS|TOSHIBA DT01ACA300|2016-01-04|       1|\n",
      "|    13H2B97AS|TOSHIBA DT01ACA300|2016-01-05|       1|\n",
      "|    13H2B97AS|TOSHIBA DT01ACA300|2016-01-06|       1|\n",
      "|    13H2B97AS|TOSHIBA DT01ACA300|2016-01-07|       1|\n",
      "|    13H2B97AS|TOSHIBA DT01ACA300|2016-01-08|       1|\n",
      "|    13H2B97AS|TOSHIBA DT01ACA300|2016-01-09|       1|\n",
      "|    13H2B97AS|TOSHIBA DT01ACA300|2016-01-10|       1|\n",
      "|    13H2B97AS|TOSHIBA DT01ACA300|2016-01-11|       1|\n",
      "|    13H2B97AS|TOSHIBA DT01ACA300|2016-01-12|       1|\n",
      "|    13H2B97AS|TOSHIBA DT01ACA300|2016-01-13|       1|\n",
      "|    13H2B97AS|TOSHIBA DT01ACA300|2016-01-14|       1|\n",
      "|    13H2B97AS|TOSHIBA DT01ACA300|2016-01-15|       1|\n",
      "|    13H2B97AS|TOSHIBA DT01ACA300|2016-01-16|       1|\n",
      "|    13H2B97AS|TOSHIBA DT01ACA300|2016-01-17|       1|\n",
      "|    13H2B97AS|TOSHIBA DT01ACA300|2016-01-18|       1|\n",
      "|    13H2B97AS|TOSHIBA DT01ACA300|2016-01-19|       1|\n",
      "|    13H2B97AS|TOSHIBA DT01ACA300|2016-01-20|       1|\n",
      "+-------------+------------------+----------+--------+\n",
      "only showing top 20 rows\n",
      "\n"
     ]
    }
   ],
   "source": [
    "df_cycle_id.show()"
   ]
  },
  {
   "cell_type": "code",
   "execution_count": 10,
   "metadata": {},
   "outputs": [],
   "source": [
    "df_inf = df_inf.join(\n",
    "    df_cycle_id,\n",
    "    on=id_cols + [date_col], how='inner'\n",
    ").sort(id_cols + [date_col, cycle_id_col])"
   ]
  },
  {
   "cell_type": "markdown",
   "metadata": {},
   "source": [
    "## Lag features"
   ]
  },
  {
   "cell_type": "code",
   "execution_count": 11,
   "metadata": {},
   "outputs": [],
   "source": [
    "# lag features\n",
    "num_lags = 3\n",
    "df_inf = lag_features(df_inf, num_lags=num_lags)\n",
    "df_inf = df_inf.dropna().sort(sort_cols)"
   ]
  },
  {
   "cell_type": "code",
   "execution_count": 12,
   "metadata": {},
   "outputs": [],
   "source": [
    "df_inf = df_inf.select(*lagged_cols)"
   ]
  },
  {
   "cell_type": "code",
   "execution_count": 14,
   "metadata": {},
   "outputs": [
    {
     "name": "stdout",
     "output_type": "stream",
     "text": [
      "+-------------+------------------+----------+--------------------+------------------+-----------+------------------+-----------+------------------+-----------+------------------+-----------+------------------+-----------+------------------+-----------+-------------------+------------+-------------------+------------+-------------+--------------------+-------------+--------------------+-------------+--------------------+-------------+--------------------+-------------+--------------------+-------------+-------------+-------------+-------------+-------------+--------+--------------------+--------------------+--------------------+------------------------+------------------------+------------------------+-----------------+-----------------+-----------------+------------------------+------------------------+------------------------+-----------------+-----------------+-----------------+------------------------+------------------------+------------------------+-----------------+-----------------+-----------------+------------------------+------------------------+------------------------+-----------------+-----------------+-----------------+------------------------+------------------------+------------------------+-----------------+-----------------+-----------------+------------------------+------------------------+------------------------+-----------------+-----------------+-----------------+-------------------------+-------------------------+-------------------------+------------------+------------------+------------------+-------------------------+-------------------------+-------------------------+------------------+------------------+------------------+-------------------+-------------------+-------------------+--------------------------+--------------------------+--------------------------+-------------------+-------------------+-------------------+--------------------------+--------------------------+--------------------------+-------------------+-------------------+-------------------+--------------------------+--------------------------+--------------------------+-------------------+-------------------+-------------------+--------------------------+--------------------------+--------------------------+-------------------+-------------------+-------------------+--------------------------+--------------------------+--------------------------+-------------------+-------------------+-------------------+-------------------+-------------------+-------------------+-------------------+-------------------+-------------------+-------------------+-------------------+-------------------+-------------------+-------------------+-------------------+\n",
      "|serial_number|             model|      date|      capacity_bytes|smart_1_normalized|smart_1_raw|smart_3_normalized|smart_3_raw|smart_4_normalized|smart_4_raw|smart_5_normalized|smart_5_raw|smart_7_normalized|smart_7_raw|smart_9_normalized|smart_9_raw|smart_10_normalized|smart_10_raw|smart_12_normalized|smart_12_raw|smart_188_raw|smart_192_normalized|smart_192_raw|smart_193_normalized|smart_193_raw|smart_194_normalized|smart_194_raw|smart_197_normalized|smart_197_raw|smart_198_normalized|smart_198_raw|smart_199_raw|smart_240_raw|smart_241_raw|smart_242_raw|cycle_id|capacity_bytes_lag_1|capacity_bytes_lag_2|capacity_bytes_lag_3|smart_1_normalized_lag_1|smart_1_normalized_lag_2|smart_1_normalized_lag_3|smart_1_raw_lag_1|smart_1_raw_lag_2|smart_1_raw_lag_3|smart_3_normalized_lag_1|smart_3_normalized_lag_2|smart_3_normalized_lag_3|smart_3_raw_lag_1|smart_3_raw_lag_2|smart_3_raw_lag_3|smart_4_normalized_lag_1|smart_4_normalized_lag_2|smart_4_normalized_lag_3|smart_4_raw_lag_1|smart_4_raw_lag_2|smart_4_raw_lag_3|smart_5_normalized_lag_1|smart_5_normalized_lag_2|smart_5_normalized_lag_3|smart_5_raw_lag_1|smart_5_raw_lag_2|smart_5_raw_lag_3|smart_7_normalized_lag_1|smart_7_normalized_lag_2|smart_7_normalized_lag_3|smart_7_raw_lag_1|smart_7_raw_lag_2|smart_7_raw_lag_3|smart_9_normalized_lag_1|smart_9_normalized_lag_2|smart_9_normalized_lag_3|smart_9_raw_lag_1|smart_9_raw_lag_2|smart_9_raw_lag_3|smart_10_normalized_lag_1|smart_10_normalized_lag_2|smart_10_normalized_lag_3|smart_10_raw_lag_1|smart_10_raw_lag_2|smart_10_raw_lag_3|smart_12_normalized_lag_1|smart_12_normalized_lag_2|smart_12_normalized_lag_3|smart_12_raw_lag_1|smart_12_raw_lag_2|smart_12_raw_lag_3|smart_188_raw_lag_1|smart_188_raw_lag_2|smart_188_raw_lag_3|smart_192_normalized_lag_1|smart_192_normalized_lag_2|smart_192_normalized_lag_3|smart_192_raw_lag_1|smart_192_raw_lag_2|smart_192_raw_lag_3|smart_193_normalized_lag_1|smart_193_normalized_lag_2|smart_193_normalized_lag_3|smart_193_raw_lag_1|smart_193_raw_lag_2|smart_193_raw_lag_3|smart_194_normalized_lag_1|smart_194_normalized_lag_2|smart_194_normalized_lag_3|smart_194_raw_lag_1|smart_194_raw_lag_2|smart_194_raw_lag_3|smart_197_normalized_lag_1|smart_197_normalized_lag_2|smart_197_normalized_lag_3|smart_197_raw_lag_1|smart_197_raw_lag_2|smart_197_raw_lag_3|smart_198_normalized_lag_1|smart_198_normalized_lag_2|smart_198_normalized_lag_3|smart_198_raw_lag_1|smart_198_raw_lag_2|smart_198_raw_lag_3|smart_199_raw_lag_1|smart_199_raw_lag_2|smart_199_raw_lag_3|smart_240_raw_lag_1|smart_240_raw_lag_2|smart_240_raw_lag_3|smart_241_raw_lag_1|smart_241_raw_lag_2|smart_241_raw_lag_3|smart_242_raw_lag_1|smart_242_raw_lag_2|smart_242_raw_lag_3|\n",
      "+-------------+------------------+----------+--------------------+------------------+-----------+------------------+-----------+------------------+-----------+------------------+-----------+------------------+-----------+------------------+-----------+-------------------+------------+-------------------+------------+-------------+--------------------+-------------+--------------------+-------------+--------------------+-------------+--------------------+-------------+--------------------+-------------+-------------+-------------+-------------+-------------+--------+--------------------+--------------------+--------------------+------------------------+------------------------+------------------------+-----------------+-----------------+-----------------+------------------------+------------------------+------------------------+-----------------+-----------------+-----------------+------------------------+------------------------+------------------------+-----------------+-----------------+-----------------+------------------------+------------------------+------------------------+-----------------+-----------------+-----------------+------------------------+------------------------+------------------------+-----------------+-----------------+-----------------+------------------------+------------------------+------------------------+-----------------+-----------------+-----------------+-------------------------+-------------------------+-------------------------+------------------+------------------+------------------+-------------------------+-------------------------+-------------------------+------------------+------------------+------------------+-------------------+-------------------+-------------------+--------------------------+--------------------------+--------------------------+-------------------+-------------------+-------------------+--------------------------+--------------------------+--------------------------+-------------------+-------------------+-------------------+--------------------------+--------------------------+--------------------------+-------------------+-------------------+-------------------+--------------------------+--------------------------+--------------------------+-------------------+-------------------+-------------------+--------------------------+--------------------------+--------------------------+-------------------+-------------------+-------------------+-------------------+-------------------+-------------------+-------------------+-------------------+-------------------+-------------------+-------------------+-------------------+-------------------+-------------------+-------------------+\n",
      "|    13H2B97AS|TOSHIBA DT01ACA300|2016-01-04|1.4824899095664E-311|               100|          0|               134|        429|               100|         18|               100|          0|               100|        0.0|                98|      16346|                100|           0|                100|          18|          0.0|                 100|           26|                 100|           26|                 187|           32|                 100|            0|                 100|            0|           10|          0.0|          0.0|          0.0|       1|1.4824899095664E-311|1.4824899095664E-311|1.4824899095664E-311|                     100|                     100|                      99|                1|                1|           131072|                     134|                     134|                     134|              429|              429|              429|                     100|                     100|                     100|               18|               18|               18|                     100|                     100|                     100|                0|                0|                0|                     100|                     100|                     100|              0.0|              0.0|              0.0|                      98|                      98|                      98|            16322|            16298|            16274|                      100|                      100|                      100|                 0|                 0|                 0|                      100|                      100|                      100|                18|                18|                18|                0.0|                0.0|                0.0|                       100|                       100|                       100|                 26|                 26|                 26|                       100|                       100|                       100|                 26|                 26|                 26|                       187|                       187|                       187|                 32|                 32|                 32|                       100|                       100|                       100|                  0|                  0|                  0|                       100|                       100|                       100|                  0|                  0|                  0|                 10|                 10|                 10|                0.0|                0.0|                0.0|                0.0|                0.0|                0.0|                0.0|                0.0|                0.0|\n",
      "|    13H2B97AS|TOSHIBA DT01ACA300|2016-01-05|1.4824899095664E-311|               100|          0|               134|        429|               100|         18|               100|          0|               100|        0.0|                98|      16370|                100|           0|                100|          18|          0.0|                 100|           26|                 100|           26|                 181|           33|                 100|            0|                 100|            0|           10|          0.0|          0.0|          0.0|       1|1.4824899095664E-311|1.4824899095664E-311|1.4824899095664E-311|                     100|                     100|                     100|                0|                1|                1|                     134|                     134|                     134|              429|              429|              429|                     100|                     100|                     100|               18|               18|               18|                     100|                     100|                     100|                0|                0|                0|                     100|                     100|                     100|              0.0|              0.0|              0.0|                      98|                      98|                      98|            16346|            16322|            16298|                      100|                      100|                      100|                 0|                 0|                 0|                      100|                      100|                      100|                18|                18|                18|                0.0|                0.0|                0.0|                       100|                       100|                       100|                 26|                 26|                 26|                       100|                       100|                       100|                 26|                 26|                 26|                       187|                       187|                       187|                 32|                 32|                 32|                       100|                       100|                       100|                  0|                  0|                  0|                       100|                       100|                       100|                  0|                  0|                  0|                 10|                 10|                 10|                0.0|                0.0|                0.0|                0.0|                0.0|                0.0|                0.0|                0.0|                0.0|\n",
      "|    13H2B97AS|TOSHIBA DT01ACA300|2016-01-06|1.4824899095664E-311|                99|     131073|               134|        429|               100|         18|               100|          0|               100|        0.0|                98|      16395|                100|           0|                100|          18|          0.0|                 100|           26|                 100|           26|                 187|           32|                 100|            0|                 100|            0|           10|          0.0|          0.0|          0.0|       1|1.4824899095664E-311|1.4824899095664E-311|1.4824899095664E-311|                     100|                     100|                     100|                0|                0|                1|                     134|                     134|                     134|              429|              429|              429|                     100|                     100|                     100|               18|               18|               18|                     100|                     100|                     100|                0|                0|                0|                     100|                     100|                     100|              0.0|              0.0|              0.0|                      98|                      98|                      98|            16370|            16346|            16322|                      100|                      100|                      100|                 0|                 0|                 0|                      100|                      100|                      100|                18|                18|                18|                0.0|                0.0|                0.0|                       100|                       100|                       100|                 26|                 26|                 26|                       100|                       100|                       100|                 26|                 26|                 26|                       181|                       187|                       187|                 33|                 32|                 32|                       100|                       100|                       100|                  0|                  0|                  0|                       100|                       100|                       100|                  0|                  0|                  0|                 10|                 10|                 10|                0.0|                0.0|                0.0|                0.0|                0.0|                0.0|                0.0|                0.0|                0.0|\n",
      "|    13H2B97AS|TOSHIBA DT01ACA300|2016-01-07|1.4824899095664E-311|                96|     458753|               134|        429|               100|         18|               100|          0|               100|        0.0|                98|      16418|                100|           0|                100|          18|          0.0|                 100|           26|                 100|           26|                 181|           33|                 100|            0|                 100|            0|           10|          0.0|          0.0|          0.0|       1|1.4824899095664E-311|1.4824899095664E-311|1.4824899095664E-311|                      99|                     100|                     100|           131073|                0|                0|                     134|                     134|                     134|              429|              429|              429|                     100|                     100|                     100|               18|               18|               18|                     100|                     100|                     100|                0|                0|                0|                     100|                     100|                     100|              0.0|              0.0|              0.0|                      98|                      98|                      98|            16395|            16370|            16346|                      100|                      100|                      100|                 0|                 0|                 0|                      100|                      100|                      100|                18|                18|                18|                0.0|                0.0|                0.0|                       100|                       100|                       100|                 26|                 26|                 26|                       100|                       100|                       100|                 26|                 26|                 26|                       187|                       181|                       187|                 32|                 33|                 32|                       100|                       100|                       100|                  0|                  0|                  0|                       100|                       100|                       100|                  0|                  0|                  0|                 10|                 10|                 10|                0.0|                0.0|                0.0|                0.0|                0.0|                0.0|                0.0|                0.0|                0.0|\n",
      "|    13H2B97AS|TOSHIBA DT01ACA300|2016-01-08|1.4824899095664E-311|               100|          0|               134|        429|               100|         18|               100|          0|               100|        0.0|                98|      16442|                100|           0|                100|          18|          0.0|                 100|           26|                 100|           26|                 187|           32|                 100|            0|                 100|            0|           10|          0.0|          0.0|          0.0|       1|1.4824899095664E-311|1.4824899095664E-311|1.4824899095664E-311|                      96|                      99|                     100|           458753|           131073|                0|                     134|                     134|                     134|              429|              429|              429|                     100|                     100|                     100|               18|               18|               18|                     100|                     100|                     100|                0|                0|                0|                     100|                     100|                     100|              0.0|              0.0|              0.0|                      98|                      98|                      98|            16418|            16395|            16370|                      100|                      100|                      100|                 0|                 0|                 0|                      100|                      100|                      100|                18|                18|                18|                0.0|                0.0|                0.0|                       100|                       100|                       100|                 26|                 26|                 26|                       100|                       100|                       100|                 26|                 26|                 26|                       181|                       187|                       181|                 33|                 32|                 33|                       100|                       100|                       100|                  0|                  0|                  0|                       100|                       100|                       100|                  0|                  0|                  0|                 10|                 10|                 10|                0.0|                0.0|                0.0|                0.0|                0.0|                0.0|                0.0|                0.0|                0.0|\n",
      "|    13H2B97AS|TOSHIBA DT01ACA300|2016-01-09|1.4824899095664E-311|                98|     131075|               134|        429|               100|         18|               100|          0|               100|        0.0|                98|      16467|                100|           0|                100|          18|          0.0|                 100|           26|                 100|           26|                 187|           32|                 100|            0|                 100|            0|           10|          0.0|          0.0|          0.0|       1|1.4824899095664E-311|1.4824899095664E-311|1.4824899095664E-311|                     100|                      96|                      99|                0|           458753|           131073|                     134|                     134|                     134|              429|              429|              429|                     100|                     100|                     100|               18|               18|               18|                     100|                     100|                     100|                0|                0|                0|                     100|                     100|                     100|              0.0|              0.0|              0.0|                      98|                      98|                      98|            16442|            16418|            16395|                      100|                      100|                      100|                 0|                 0|                 0|                      100|                      100|                      100|                18|                18|                18|                0.0|                0.0|                0.0|                       100|                       100|                       100|                 26|                 26|                 26|                       100|                       100|                       100|                 26|                 26|                 26|                       187|                       181|                       187|                 32|                 33|                 32|                       100|                       100|                       100|                  0|                  0|                  0|                       100|                       100|                       100|                  0|                  0|                  0|                 10|                 10|                 10|                0.0|                0.0|                0.0|                0.0|                0.0|                0.0|                0.0|                0.0|                0.0|\n",
      "|    13H2B97AS|TOSHIBA DT01ACA300|2016-01-10|1.4824899095664E-311|               100|          0|               134|        429|               100|         18|               100|          0|               100|        0.0|                98|      16490|                100|           0|                100|          18|          0.0|                 100|           26|                 100|           26|                 181|           33|                 100|            0|                 100|            0|           10|          0.0|          0.0|          0.0|       1|1.4824899095664E-311|1.4824899095664E-311|1.4824899095664E-311|                      98|                     100|                      96|           131075|                0|           458753|                     134|                     134|                     134|              429|              429|              429|                     100|                     100|                     100|               18|               18|               18|                     100|                     100|                     100|                0|                0|                0|                     100|                     100|                     100|              0.0|              0.0|              0.0|                      98|                      98|                      98|            16467|            16442|            16418|                      100|                      100|                      100|                 0|                 0|                 0|                      100|                      100|                      100|                18|                18|                18|                0.0|                0.0|                0.0|                       100|                       100|                       100|                 26|                 26|                 26|                       100|                       100|                       100|                 26|                 26|                 26|                       187|                       187|                       181|                 32|                 32|                 33|                       100|                       100|                       100|                  0|                  0|                  0|                       100|                       100|                       100|                  0|                  0|                  0|                 10|                 10|                 10|                0.0|                0.0|                0.0|                0.0|                0.0|                0.0|                0.0|                0.0|                0.0|\n",
      "|    13H2B97AS|TOSHIBA DT01ACA300|2016-01-11|1.4824899095664E-311|               100|          1|               134|        429|               100|         18|               100|          0|               100|        0.0|                98|      16514|                100|           0|                100|          18|          0.0|                 100|           26|                 100|           26|                 181|           33|                 100|            0|                 100|            0|           10|          0.0|          0.0|          0.0|       1|1.4824899095664E-311|1.4824899095664E-311|1.4824899095664E-311|                     100|                      98|                     100|                0|           131075|                0|                     134|                     134|                     134|              429|              429|              429|                     100|                     100|                     100|               18|               18|               18|                     100|                     100|                     100|                0|                0|                0|                     100|                     100|                     100|              0.0|              0.0|              0.0|                      98|                      98|                      98|            16490|            16467|            16442|                      100|                      100|                      100|                 0|                 0|                 0|                      100|                      100|                      100|                18|                18|                18|                0.0|                0.0|                0.0|                       100|                       100|                       100|                 26|                 26|                 26|                       100|                       100|                       100|                 26|                 26|                 26|                       181|                       187|                       187|                 33|                 32|                 32|                       100|                       100|                       100|                  0|                  0|                  0|                       100|                       100|                       100|                  0|                  0|                  0|                 10|                 10|                 10|                0.0|                0.0|                0.0|                0.0|                0.0|                0.0|                0.0|                0.0|                0.0|\n",
      "|    13H2B97AS|TOSHIBA DT01ACA300|2016-01-12|1.4824899095664E-311|               100|          0|               134|        429|               100|         18|               100|          0|               100|        0.0|                98|      16538|                100|           0|                100|          18|          0.0|                 100|           26|                 100|           26|                 187|           32|                 100|            0|                 100|            0|           10|          0.0|          0.0|          0.0|       1|1.4824899095664E-311|1.4824899095664E-311|1.4824899095664E-311|                     100|                     100|                      98|                1|                0|           131075|                     134|                     134|                     134|              429|              429|              429|                     100|                     100|                     100|               18|               18|               18|                     100|                     100|                     100|                0|                0|                0|                     100|                     100|                     100|              0.0|              0.0|              0.0|                      98|                      98|                      98|            16514|            16490|            16467|                      100|                      100|                      100|                 0|                 0|                 0|                      100|                      100|                      100|                18|                18|                18|                0.0|                0.0|                0.0|                       100|                       100|                       100|                 26|                 26|                 26|                       100|                       100|                       100|                 26|                 26|                 26|                       181|                       181|                       187|                 33|                 33|                 32|                       100|                       100|                       100|                  0|                  0|                  0|                       100|                       100|                       100|                  0|                  0|                  0|                 10|                 10|                 10|                0.0|                0.0|                0.0|                0.0|                0.0|                0.0|                0.0|                0.0|                0.0|\n",
      "|    13H2B97AS|TOSHIBA DT01ACA300|2016-01-13|1.4824899095664E-311|               100|          0|               134|        429|               100|         18|               100|          0|               100|        0.0|                98|      16562|                100|           0|                100|          18|          0.0|                 100|           26|                 100|           26|                 187|           32|                 100|            0|                 100|            0|           10|          0.0|          0.0|          0.0|       1|1.4824899095664E-311|1.4824899095664E-311|1.4824899095664E-311|                     100|                     100|                     100|                0|                1|                0|                     134|                     134|                     134|              429|              429|              429|                     100|                     100|                     100|               18|               18|               18|                     100|                     100|                     100|                0|                0|                0|                     100|                     100|                     100|              0.0|              0.0|              0.0|                      98|                      98|                      98|            16538|            16514|            16490|                      100|                      100|                      100|                 0|                 0|                 0|                      100|                      100|                      100|                18|                18|                18|                0.0|                0.0|                0.0|                       100|                       100|                       100|                 26|                 26|                 26|                       100|                       100|                       100|                 26|                 26|                 26|                       187|                       181|                       181|                 32|                 33|                 33|                       100|                       100|                       100|                  0|                  0|                  0|                       100|                       100|                       100|                  0|                  0|                  0|                 10|                 10|                 10|                0.0|                0.0|                0.0|                0.0|                0.0|                0.0|                0.0|                0.0|                0.0|\n",
      "|    13H2B97AS|TOSHIBA DT01ACA300|2016-01-14|1.4824899095664E-311|               100|      65536|               134|        429|               100|         18|               100|          0|               100|        0.0|                98|      16586|                100|           0|                100|          18|          0.0|                 100|           26|                 100|           26|                 181|           33|                 100|            0|                 100|            0|           10|          0.0|          0.0|          0.0|       1|1.4824899095664E-311|1.4824899095664E-311|1.4824899095664E-311|                     100|                     100|                     100|                0|                0|                1|                     134|                     134|                     134|              429|              429|              429|                     100|                     100|                     100|               18|               18|               18|                     100|                     100|                     100|                0|                0|                0|                     100|                     100|                     100|              0.0|              0.0|              0.0|                      98|                      98|                      98|            16562|            16538|            16514|                      100|                      100|                      100|                 0|                 0|                 0|                      100|                      100|                      100|                18|                18|                18|                0.0|                0.0|                0.0|                       100|                       100|                       100|                 26|                 26|                 26|                       100|                       100|                       100|                 26|                 26|                 26|                       187|                       187|                       181|                 32|                 32|                 33|                       100|                       100|                       100|                  0|                  0|                  0|                       100|                       100|                       100|                  0|                  0|                  0|                 10|                 10|                 10|                0.0|                0.0|                0.0|                0.0|                0.0|                0.0|                0.0|                0.0|                0.0|\n",
      "|    13H2B97AS|TOSHIBA DT01ACA300|2016-01-15|1.4824899095664E-311|               100|          0|               134|        429|               100|         18|               100|          0|               100|        0.0|                98|      16610|                100|           0|                100|          18|          0.0|                 100|           26|                 100|           26|                 187|           32|                 100|            0|                 100|            0|           10|          0.0|          0.0|          0.0|       1|1.4824899095664E-311|1.4824899095664E-311|1.4824899095664E-311|                     100|                     100|                     100|            65536|                0|                0|                     134|                     134|                     134|              429|              429|              429|                     100|                     100|                     100|               18|               18|               18|                     100|                     100|                     100|                0|                0|                0|                     100|                     100|                     100|              0.0|              0.0|              0.0|                      98|                      98|                      98|            16586|            16562|            16538|                      100|                      100|                      100|                 0|                 0|                 0|                      100|                      100|                      100|                18|                18|                18|                0.0|                0.0|                0.0|                       100|                       100|                       100|                 26|                 26|                 26|                       100|                       100|                       100|                 26|                 26|                 26|                       181|                       187|                       187|                 33|                 32|                 32|                       100|                       100|                       100|                  0|                  0|                  0|                       100|                       100|                       100|                  0|                  0|                  0|                 10|                 10|                 10|                0.0|                0.0|                0.0|                0.0|                0.0|                0.0|                0.0|                0.0|                0.0|\n",
      "|    13H2B97AS|TOSHIBA DT01ACA300|2016-01-16|1.4824899095664E-311|               100|          0|               134|        429|               100|         18|               100|          0|               100|        0.0|                98|      16635|                100|           0|                100|          18|          0.0|                 100|           26|                 100|           26|                 181|           33|                 100|            0|                 100|            0|           10|          0.0|          0.0|          0.0|       1|1.4824899095664E-311|1.4824899095664E-311|1.4824899095664E-311|                     100|                     100|                     100|                0|            65536|                0|                     134|                     134|                     134|              429|              429|              429|                     100|                     100|                     100|               18|               18|               18|                     100|                     100|                     100|                0|                0|                0|                     100|                     100|                     100|              0.0|              0.0|              0.0|                      98|                      98|                      98|            16610|            16586|            16562|                      100|                      100|                      100|                 0|                 0|                 0|                      100|                      100|                      100|                18|                18|                18|                0.0|                0.0|                0.0|                       100|                       100|                       100|                 26|                 26|                 26|                       100|                       100|                       100|                 26|                 26|                 26|                       187|                       181|                       187|                 32|                 33|                 32|                       100|                       100|                       100|                  0|                  0|                  0|                       100|                       100|                       100|                  0|                  0|                  0|                 10|                 10|                 10|                0.0|                0.0|                0.0|                0.0|                0.0|                0.0|                0.0|                0.0|                0.0|\n",
      "|    13H2B97AS|TOSHIBA DT01ACA300|2016-01-17|1.4824899095664E-311|               100|          0|               134|        429|               100|         18|               100|          0|               100|        0.0|                98|      16658|                100|           0|                100|          18|          0.0|                 100|           26|                 100|           26|                 193|           31|                 100|            0|                 100|            0|           10|          0.0|          0.0|          0.0|       1|1.4824899095664E-311|1.4824899095664E-311|1.4824899095664E-311|                     100|                     100|                     100|                0|                0|            65536|                     134|                     134|                     134|              429|              429|              429|                     100|                     100|                     100|               18|               18|               18|                     100|                     100|                     100|                0|                0|                0|                     100|                     100|                     100|              0.0|              0.0|              0.0|                      98|                      98|                      98|            16635|            16610|            16586|                      100|                      100|                      100|                 0|                 0|                 0|                      100|                      100|                      100|                18|                18|                18|                0.0|                0.0|                0.0|                       100|                       100|                       100|                 26|                 26|                 26|                       100|                       100|                       100|                 26|                 26|                 26|                       181|                       187|                       181|                 33|                 32|                 33|                       100|                       100|                       100|                  0|                  0|                  0|                       100|                       100|                       100|                  0|                  0|                  0|                 10|                 10|                 10|                0.0|                0.0|                0.0|                0.0|                0.0|                0.0|                0.0|                0.0|                0.0|\n",
      "|    13H2B97AS|TOSHIBA DT01ACA300|2016-01-18|1.4824899095664E-311|               100|      65536|               134|        429|               100|         18|               100|          0|               100|        0.0|                98|      16682|                100|           0|                100|          18|          0.0|                 100|           26|                 100|           26|                 206|           29|                 100|            0|                 100|            0|           10|          0.0|          0.0|          0.0|       1|1.4824899095664E-311|1.4824899095664E-311|1.4824899095664E-311|                     100|                     100|                     100|                0|                0|                0|                     134|                     134|                     134|              429|              429|              429|                     100|                     100|                     100|               18|               18|               18|                     100|                     100|                     100|                0|                0|                0|                     100|                     100|                     100|              0.0|              0.0|              0.0|                      98|                      98|                      98|            16658|            16635|            16610|                      100|                      100|                      100|                 0|                 0|                 0|                      100|                      100|                      100|                18|                18|                18|                0.0|                0.0|                0.0|                       100|                       100|                       100|                 26|                 26|                 26|                       100|                       100|                       100|                 26|                 26|                 26|                       193|                       181|                       187|                 31|                 33|                 32|                       100|                       100|                       100|                  0|                  0|                  0|                       100|                       100|                       100|                  0|                  0|                  0|                 10|                 10|                 10|                0.0|                0.0|                0.0|                0.0|                0.0|                0.0|                0.0|                0.0|                0.0|\n",
      "|    13H2B97AS|TOSHIBA DT01ACA300|2016-01-19|1.4824899095664E-311|                99|      65537|               134|        429|               100|         18|               100|          0|               100|        0.0|                98|      16707|                100|           0|                100|          18|          0.0|                 100|           26|                 100|           26|                 206|           29|                 100|            0|                 100|            0|           10|          0.0|          0.0|          0.0|       1|1.4824899095664E-311|1.4824899095664E-311|1.4824899095664E-311|                     100|                     100|                     100|            65536|                0|                0|                     134|                     134|                     134|              429|              429|              429|                     100|                     100|                     100|               18|               18|               18|                     100|                     100|                     100|                0|                0|                0|                     100|                     100|                     100|              0.0|              0.0|              0.0|                      98|                      98|                      98|            16682|            16658|            16635|                      100|                      100|                      100|                 0|                 0|                 0|                      100|                      100|                      100|                18|                18|                18|                0.0|                0.0|                0.0|                       100|                       100|                       100|                 26|                 26|                 26|                       100|                       100|                       100|                 26|                 26|                 26|                       206|                       193|                       181|                 29|                 31|                 33|                       100|                       100|                       100|                  0|                  0|                  0|                       100|                       100|                       100|                  0|                  0|                  0|                 10|                 10|                 10|                0.0|                0.0|                0.0|                0.0|                0.0|                0.0|                0.0|                0.0|                0.0|\n",
      "|    13H2B97AS|TOSHIBA DT01ACA300|2016-01-20|1.4824899095664E-311|                99|     131073|               134|        429|               100|         18|               100|          0|               100|        0.0|                98|      16730|                100|           0|                100|          18|          0.0|                 100|           26|                 100|           26|                 200|           30|                 100|            0|                 100|            0|           10|          0.0|          0.0|          0.0|       1|1.4824899095664E-311|1.4824899095664E-311|1.4824899095664E-311|                      99|                     100|                     100|            65537|            65536|                0|                     134|                     134|                     134|              429|              429|              429|                     100|                     100|                     100|               18|               18|               18|                     100|                     100|                     100|                0|                0|                0|                     100|                     100|                     100|              0.0|              0.0|              0.0|                      98|                      98|                      98|            16707|            16682|            16658|                      100|                      100|                      100|                 0|                 0|                 0|                      100|                      100|                      100|                18|                18|                18|                0.0|                0.0|                0.0|                       100|                       100|                       100|                 26|                 26|                 26|                       100|                       100|                       100|                 26|                 26|                 26|                       206|                       206|                       193|                 29|                 29|                 31|                       100|                       100|                       100|                  0|                  0|                  0|                       100|                       100|                       100|                  0|                  0|                  0|                 10|                 10|                 10|                0.0|                0.0|                0.0|                0.0|                0.0|                0.0|                0.0|                0.0|                0.0|\n",
      "|    13H2B97AS|TOSHIBA DT01ACA300|2016-01-21|1.4824899095664E-311|                99|     131072|               134|        429|               100|         18|               100|          0|               100|        0.0|                98|      16754|                100|           0|                100|          18|          0.0|                 100|           26|                 100|           26|                 193|           31|                 100|            0|                 100|            0|           10|          0.0|          0.0|          0.0|       1|1.4824899095664E-311|1.4824899095664E-311|1.4824899095664E-311|                      99|                      99|                     100|           131073|            65537|            65536|                     134|                     134|                     134|              429|              429|              429|                     100|                     100|                     100|               18|               18|               18|                     100|                     100|                     100|                0|                0|                0|                     100|                     100|                     100|              0.0|              0.0|              0.0|                      98|                      98|                      98|            16730|            16707|            16682|                      100|                      100|                      100|                 0|                 0|                 0|                      100|                      100|                      100|                18|                18|                18|                0.0|                0.0|                0.0|                       100|                       100|                       100|                 26|                 26|                 26|                       100|                       100|                       100|                 26|                 26|                 26|                       200|                       206|                       206|                 30|                 29|                 29|                       100|                       100|                       100|                  0|                  0|                  0|                       100|                       100|                       100|                  0|                  0|                  0|                 10|                 10|                 10|                0.0|                0.0|                0.0|                0.0|                0.0|                0.0|                0.0|                0.0|                0.0|\n",
      "|    13H2B97AS|TOSHIBA DT01ACA300|2016-04-04|1.4824899095664E-311|                99|     196608|               134|        429|               100|         18|               100|          0|               100|        0.0|                98|      18529|                100|           0|                100|          18|          0.0|                 100|           26|                 100|           26|                 222|           27|                 100|            0|                 100|            0|           10|          0.0|          0.0|          0.0|       2|1.4824899095664E-311|1.4824899095664E-311|1.4824899095664E-311|                     100|                     100|                     100|                0|                1|            65536|                     134|                     134|                     134|              429|              429|              429|                     100|                     100|                     100|               18|               18|               18|                     100|                     100|                     100|                0|                0|                0|                     100|                     100|                     100|              0.0|              0.0|              0.0|                      98|                      98|                      98|            18505|            18482|            18457|                      100|                      100|                      100|                 0|                 0|                 0|                      100|                      100|                      100|                18|                18|                18|                0.0|                0.0|                0.0|                       100|                       100|                       100|                 26|                 26|                 26|                       100|                       100|                       100|                 26|                 26|                 26|                       222|                       230|                       222|                 27|                 26|                 27|                       100|                       100|                       100|                  0|                  0|                  0|                       100|                       100|                       100|                  0|                  0|                  0|                 10|                 10|                 10|                0.0|                0.0|                0.0|                0.0|                0.0|                0.0|                0.0|                0.0|                0.0|\n",
      "|    13H2B97AS|TOSHIBA DT01ACA300|2016-04-05|1.4824899095664E-311|               100|          0|               134|        429|               100|         18|               100|          0|               100|        0.0|                98|      18554|                100|           0|                100|          18|          0.0|                 100|           26|                 100|           26|                 214|           28|                 100|            0|                 100|            0|           10|          0.0|          0.0|          0.0|       2|1.4824899095664E-311|1.4824899095664E-311|1.4824899095664E-311|                      99|                     100|                     100|           196608|                0|                1|                     134|                     134|                     134|              429|              429|              429|                     100|                     100|                     100|               18|               18|               18|                     100|                     100|                     100|                0|                0|                0|                     100|                     100|                     100|              0.0|              0.0|              0.0|                      98|                      98|                      98|            18529|            18505|            18482|                      100|                      100|                      100|                 0|                 0|                 0|                      100|                      100|                      100|                18|                18|                18|                0.0|                0.0|                0.0|                       100|                       100|                       100|                 26|                 26|                 26|                       100|                       100|                       100|                 26|                 26|                 26|                       222|                       222|                       230|                 27|                 27|                 26|                       100|                       100|                       100|                  0|                  0|                  0|                       100|                       100|                       100|                  0|                  0|                  0|                 10|                 10|                 10|                0.0|                0.0|                0.0|                0.0|                0.0|                0.0|                0.0|                0.0|                0.0|\n",
      "+-------------+------------------+----------+--------------------+------------------+-----------+------------------+-----------+------------------+-----------+------------------+-----------+------------------+-----------+------------------+-----------+-------------------+------------+-------------------+------------+-------------+--------------------+-------------+--------------------+-------------+--------------------+-------------+--------------------+-------------+--------------------+-------------+-------------+-------------+-------------+-------------+--------+--------------------+--------------------+--------------------+------------------------+------------------------+------------------------+-----------------+-----------------+-----------------+------------------------+------------------------+------------------------+-----------------+-----------------+-----------------+------------------------+------------------------+------------------------+-----------------+-----------------+-----------------+------------------------+------------------------+------------------------+-----------------+-----------------+-----------------+------------------------+------------------------+------------------------+-----------------+-----------------+-----------------+------------------------+------------------------+------------------------+-----------------+-----------------+-----------------+-------------------------+-------------------------+-------------------------+------------------+------------------+------------------+-------------------------+-------------------------+-------------------------+------------------+------------------+------------------+-------------------+-------------------+-------------------+--------------------------+--------------------------+--------------------------+-------------------+-------------------+-------------------+--------------------------+--------------------------+--------------------------+-------------------+-------------------+-------------------+--------------------------+--------------------------+--------------------------+-------------------+-------------------+-------------------+--------------------------+--------------------------+--------------------------+-------------------+-------------------+-------------------+--------------------------+--------------------------+--------------------------+-------------------+-------------------+-------------------+-------------------+-------------------+-------------------+-------------------+-------------------+-------------------+-------------------+-------------------+-------------------+-------------------+-------------------+-------------------+\n",
      "only showing top 20 rows\n",
      "\n"
     ]
    }
   ],
   "source": [
    "df_inf.show()"
   ]
  },
  {
   "cell_type": "markdown",
   "metadata": {},
   "source": [
    "## Scale features"
   ]
  },
  {
   "cell_type": "code",
   "execution_count": 16,
   "metadata": {},
   "outputs": [],
   "source": [
    "index_cols = df_inf.select(*(id_cols + [date_col])).cache()"
   ]
  },
  {
   "cell_type": "code",
   "execution_count": 18,
   "metadata": {},
   "outputs": [
    {
     "name": "stdout",
     "output_type": "stream",
     "text": [
      "+-------------+------------------+----------+\n",
      "|serial_number|             model|      date|\n",
      "+-------------+------------------+----------+\n",
      "|    13H2B97AS|TOSHIBA DT01ACA300|2016-01-04|\n",
      "|    13H2B97AS|TOSHIBA DT01ACA300|2016-01-05|\n",
      "|    13H2B97AS|TOSHIBA DT01ACA300|2016-01-06|\n",
      "|    13H2B97AS|TOSHIBA DT01ACA300|2016-01-07|\n",
      "|    13H2B97AS|TOSHIBA DT01ACA300|2016-01-08|\n",
      "|    13H2B97AS|TOSHIBA DT01ACA300|2016-01-09|\n",
      "|    13H2B97AS|TOSHIBA DT01ACA300|2016-01-10|\n",
      "|    13H2B97AS|TOSHIBA DT01ACA300|2016-01-11|\n",
      "|    13H2B97AS|TOSHIBA DT01ACA300|2016-01-12|\n",
      "|    13H2B97AS|TOSHIBA DT01ACA300|2016-01-13|\n",
      "|    13H2B97AS|TOSHIBA DT01ACA300|2016-01-14|\n",
      "|    13H2B97AS|TOSHIBA DT01ACA300|2016-01-15|\n",
      "|    13H2B97AS|TOSHIBA DT01ACA300|2016-01-16|\n",
      "|    13H2B97AS|TOSHIBA DT01ACA300|2016-01-17|\n",
      "|    13H2B97AS|TOSHIBA DT01ACA300|2016-01-18|\n",
      "|    13H2B97AS|TOSHIBA DT01ACA300|2016-01-19|\n",
      "|    13H2B97AS|TOSHIBA DT01ACA300|2016-01-20|\n",
      "|    13H2B97AS|TOSHIBA DT01ACA300|2016-01-21|\n",
      "|    13H2B97AS|TOSHIBA DT01ACA300|2016-04-04|\n",
      "|    13H2B97AS|TOSHIBA DT01ACA300|2016-04-05|\n",
      "+-------------+------------------+----------+\n",
      "only showing top 20 rows\n",
      "\n"
     ]
    }
   ],
   "source": [
    "index_cols.show()"
   ]
  },
  {
   "cell_type": "code",
   "execution_count": 19,
   "metadata": {},
   "outputs": [],
   "source": [
    "scalerModel = PipelineModel.load(SCALER_PIPELINE_FILEPATH)"
   ]
  },
  {
   "cell_type": "code",
   "execution_count": 20,
   "metadata": {},
   "outputs": [
    {
     "data": {
      "text/plain": [
       "PipelineModel_125d7a922609"
      ]
     },
     "execution_count": 20,
     "metadata": {},
     "output_type": "execute_result"
    }
   ],
   "source": [
    "scalerModel"
   ]
  },
  {
   "cell_type": "code",
   "execution_count": 35,
   "metadata": {},
   "outputs": [],
   "source": [
    "df_inf_scaled = scale_features(df=df_inf,\n",
    "                                scalerModel=scalerModel,\n",
    "                                num_feature_cols=num_feature_cols,\n",
    "                                inference=True)"
   ]
  },
  {
   "cell_type": "code",
   "execution_count": 36,
   "metadata": {},
   "outputs": [],
   "source": [
    "df_inf_scaled = df_inf_scaled.select(*(id_cols + [date_col] + scaled_cols))"
   ]
  },
  {
   "cell_type": "code",
   "execution_count": 37,
   "metadata": {},
   "outputs": [
    {
     "name": "stdout",
     "output_type": "stream",
     "text": [
      "+-------------+------------------+----------+------------------+--------------------+------------------+-----------+------------------+------------------+------------------+-----------+------------------+------------------+------------------+-------------------+------------+-------------------+------------+-------------+--------------------+-------------+--------------------+--------------------+--------------------+------------------+--------------------+-------------+--------------------+-------------+-------------+------------------------+------------------------+------------------------+--------------------+--------------------+--------------------+------------------------+------------------------+------------------------+-----------------+-----------------+-----------------+------------------------+------------------------+------------------------+------------------+------------------+------------------+------------------------+------------------------+------------------------+-----------------+-----------------+-----------------+------------------------+------------------------+------------------------+------------------------+------------------------+------------------------+------------------+------------------+------------------+-------------------------+-------------------------+-------------------------+------------------+------------------+------------------+-------------------------+-------------------------+-------------------------+------------------+------------------+------------------+-------------------+-------------------+-------------------+--------------------------+--------------------------+--------------------------+-------------------+-------------------+-------------------+--------------------------+--------------------------+--------------------------+--------------------+--------------------+--------------------+--------------------------+--------------------------+--------------------------+-------------------+-------------------+-------------------+--------------------------+--------------------------+--------------------------+-------------------+-------------------+-------------------+--------------------------+--------------------------+--------------------------+-------------------+-------------------+-------------------+-------------------+-------------------+-------------------+\n",
      "|serial_number|             model|      date|smart_1_normalized|         smart_1_raw|smart_3_normalized|smart_3_raw|smart_4_normalized|       smart_4_raw|smart_5_normalized|smart_5_raw|smart_7_normalized|smart_9_normalized|       smart_9_raw|smart_10_normalized|smart_10_raw|smart_12_normalized|smart_12_raw|smart_188_raw|smart_192_normalized|smart_192_raw|smart_193_normalized|       smart_193_raw|smart_194_normalized|     smart_194_raw|smart_197_normalized|smart_197_raw|smart_198_normalized|smart_198_raw|smart_199_raw|smart_1_normalized_lag_1|smart_1_normalized_lag_2|smart_1_normalized_lag_3|   smart_1_raw_lag_1|   smart_1_raw_lag_2|   smart_1_raw_lag_3|smart_3_normalized_lag_1|smart_3_normalized_lag_2|smart_3_normalized_lag_3|smart_3_raw_lag_1|smart_3_raw_lag_2|smart_3_raw_lag_3|smart_4_normalized_lag_1|smart_4_normalized_lag_2|smart_4_normalized_lag_3| smart_4_raw_lag_1| smart_4_raw_lag_2| smart_4_raw_lag_3|smart_5_normalized_lag_1|smart_5_normalized_lag_2|smart_5_normalized_lag_3|smart_5_raw_lag_1|smart_5_raw_lag_2|smart_5_raw_lag_3|smart_7_normalized_lag_1|smart_7_normalized_lag_2|smart_7_normalized_lag_3|smart_9_normalized_lag_1|smart_9_normalized_lag_2|smart_9_normalized_lag_3| smart_9_raw_lag_1| smart_9_raw_lag_2| smart_9_raw_lag_3|smart_10_normalized_lag_1|smart_10_normalized_lag_2|smart_10_normalized_lag_3|smart_10_raw_lag_1|smart_10_raw_lag_2|smart_10_raw_lag_3|smart_12_normalized_lag_1|smart_12_normalized_lag_2|smart_12_normalized_lag_3|smart_12_raw_lag_1|smart_12_raw_lag_2|smart_12_raw_lag_3|smart_188_raw_lag_1|smart_188_raw_lag_2|smart_188_raw_lag_3|smart_192_normalized_lag_1|smart_192_normalized_lag_2|smart_192_normalized_lag_3|smart_192_raw_lag_1|smart_192_raw_lag_2|smart_192_raw_lag_3|smart_193_normalized_lag_1|smart_193_normalized_lag_2|smart_193_normalized_lag_3| smart_193_raw_lag_1| smart_193_raw_lag_2| smart_193_raw_lag_3|smart_194_normalized_lag_1|smart_194_normalized_lag_2|smart_194_normalized_lag_3|smart_194_raw_lag_1|smart_194_raw_lag_2|smart_194_raw_lag_3|smart_197_normalized_lag_1|smart_197_normalized_lag_2|smart_197_normalized_lag_3|smart_197_raw_lag_1|smart_197_raw_lag_2|smart_197_raw_lag_3|smart_198_normalized_lag_1|smart_198_normalized_lag_2|smart_198_normalized_lag_3|smart_198_raw_lag_1|smart_198_raw_lag_2|smart_198_raw_lag_3|smart_199_raw_lag_1|smart_199_raw_lag_2|smart_199_raw_lag_3|\n",
      "+-------------+------------------+----------+------------------+--------------------+------------------+-----------+------------------+------------------+------------------+-----------+------------------+------------------+------------------+-------------------+------------+-------------------+------------+-------------+--------------------+-------------+--------------------+--------------------+--------------------+------------------+--------------------+-------------+--------------------+-------------+-------------+------------------------+------------------------+------------------------+--------------------+--------------------+--------------------+------------------------+------------------------+------------------------+-----------------+-----------------+-----------------+------------------------+------------------------+------------------------+------------------+------------------+------------------+------------------------+------------------------+------------------------+-----------------+-----------------+-----------------+------------------------+------------------------+------------------------+------------------------+------------------------+------------------------+------------------+------------------+------------------+-------------------------+-------------------------+-------------------------+------------------+------------------+------------------+-------------------------+-------------------------+-------------------------+------------------+------------------+------------------+-------------------+-------------------+-------------------+--------------------------+--------------------------+--------------------------+-------------------+-------------------+-------------------+--------------------------+--------------------------+--------------------------+--------------------+--------------------+--------------------+--------------------------+--------------------------+--------------------------+-------------------+-------------------+-------------------+--------------------------+--------------------------+--------------------------+-------------------+-------------------+-------------------+--------------------------+--------------------------+--------------------------+-------------------+-------------------+-------------------+-------------------+-------------------+-------------------+\n",
      "|    13H2B97AS|TOSHIBA DT01ACA300|2016-01-04|14.285714285714285|                 0.0|             16.75|        0.0|               0.0|1.0588235294117647|               0.0|        0.0|              6.25| 5.764705882352941|1.0713068554201075|                0.0|         0.0|                0.0|       1.125|          0.0|                 0.0|          2.6|   5.263157894736842|6.364904893632647E-4|  2.4605263157894735| 4.571428571428571|                 0.0|          0.0|                 0.0|          0.0|          0.0|      14.285714285714285|      14.285714285714285|      14.142857142857142|6.026314359651309E-9|6.063170965656987E-9|7.947119448105926E-4|                   16.75|                   16.75|                   16.75|              0.0|              0.0|              0.0|                     0.0|                     0.0|                     0.0|1.0588235294117647|1.0588235294117647|1.0588235294117647|                     0.0|                     0.0|                     0.0|              0.0|              0.0|              0.0|                    6.25|                    6.25|                    6.25|       5.764705882352941|       5.764705882352941|       5.764705882352941|1.0698040243822509|1.0681609647398087|1.0666579275086845|                      0.0|                      0.0|                      0.0|               0.0|               0.0|               0.0|                      0.0|                      0.0|                      0.0|             1.125|             1.125|             1.125|                0.0|                0.0|                0.0|                       0.0|                       0.0|                       0.0|                2.6|                2.6|                2.6|         5.555555555555555|         5.555555555555555|         5.555555555555555|6.364749082007344E-4|6.364749082007344E-4|6.364593278010331E-4|        2.4605263157894735|        2.4605263157894735|         2.428571428571429|  4.571428571428571|  4.571428571428571|  4.571428571428571|                       0.0|                       0.0|                       0.0|                0.0|                0.0|                0.0|                       0.0|                       0.0|                       0.0|                0.0|                0.0|                0.0|                0.0|                0.0|                0.0|\n",
      "|    13H2B97AS|TOSHIBA DT01ACA300|2016-01-05|14.285714285714285|                 0.0|             16.75|        0.0|               0.0|1.0588235294117647|               0.0|        0.0|              6.25| 5.764705882352941| 1.072879800760257|                0.0|         0.0|                0.0|       1.125|          0.0|                 0.0|          2.6|   5.263157894736842|6.364904893632647E-4|   2.381578947368421| 4.714285714285714|                 0.0|          0.0|                 0.0|          0.0|          0.0|      14.285714285714285|      14.285714285714285|      14.285714285714285|                 0.0|6.063170965656987E-9|6.063170965656987E-9|                   16.75|                   16.75|                   16.75|              0.0|              0.0|              0.0|                     0.0|                     0.0|                     0.0|1.0588235294117647|1.0588235294117647|1.0588235294117647|                     0.0|                     0.0|                     0.0|              0.0|              0.0|              0.0|                    6.25|                    6.25|                    6.25|       5.764705882352941|       5.764705882352941|       5.764705882352941| 1.071377072819034| 1.069733910079958|1.0682309759454678|                      0.0|                      0.0|                      0.0|               0.0|               0.0|               0.0|                      0.0|                      0.0|                      0.0|             1.125|             1.125|             1.125|                0.0|                0.0|                0.0|                       0.0|                       0.0|                       0.0|                2.6|                2.6|                2.6|         5.555555555555555|         5.555555555555555|         5.555555555555555|6.364749082007344E-4|6.364749082007344E-4|6.364593278010331E-4|        2.4605263157894735|        2.4605263157894735|         2.428571428571429|  4.571428571428571|  4.571428571428571|  4.571428571428571|                       0.0|                       0.0|                       0.0|                0.0|                0.0|                0.0|                       0.0|                       0.0|                       0.0|                0.0|                0.0|                0.0|                0.0|                0.0|                0.0|\n",
      "|    13H2B97AS|TOSHIBA DT01ACA300|2016-01-06|14.142857142857142|7.978138683865501E-4|             16.75|        0.0|               0.0|1.0588235294117647|               0.0|        0.0|              6.25| 5.764705882352941|1.0745182854895792|                0.0|         0.0|                0.0|       1.125|          0.0|                 0.0|          2.6|   5.263157894736842|6.364904893632647E-4|  2.4605263157894735| 4.571428571428571|                 0.0|          0.0|                 0.0|          0.0|          0.0|      14.285714285714285|      14.285714285714285|      14.285714285714285|                 0.0|                 0.0|6.063170965656987E-9|                   16.75|                   16.75|                   16.75|              0.0|              0.0|              0.0|                     0.0|                     0.0|                     0.0|1.0588235294117647|1.0588235294117647|1.0588235294117647|                     0.0|                     0.0|                     0.0|              0.0|              0.0|              0.0|                    6.25|                    6.25|                    6.25|       5.764705882352941|       5.764705882352941|       5.764705882352941| 1.072950121255817|1.0713068554201075|1.0698040243822509|                      0.0|                      0.0|                      0.0|               0.0|               0.0|               0.0|                      0.0|                      0.0|                      0.0|             1.125|             1.125|             1.125|                0.0|                0.0|                0.0|                       0.0|                       0.0|                       0.0|                2.6|                2.6|                2.6|         5.555555555555555|         5.555555555555555|         5.555555555555555|6.364749082007344E-4|6.364749082007344E-4|6.364593278010331E-4|         2.381578947368421|        2.4605263157894735|         2.428571428571429|  4.714285714285714|  4.571428571428571|  4.571428571428571|                       0.0|                       0.0|                       0.0|                0.0|                0.0|                0.0|                       0.0|                       0.0|                       0.0|                0.0|                0.0|                0.0|                0.0|                0.0|                0.0|\n",
      "|    13H2B97AS|TOSHIBA DT01ACA300|2016-01-07|13.714285714285714|0.002792333322377111|             16.75|        0.0|               0.0|1.0588235294117647|               0.0|        0.0|              6.25| 5.764705882352941|1.0760256914405557|                0.0|         0.0|                0.0|       1.125|          0.0|                 0.0|          2.6|   5.263157894736842|6.364904893632647E-4|   2.381578947368421| 4.714285714285714|                 0.0|          0.0|                 0.0|          0.0|          0.0|      14.142857142857142|      14.285714285714285|      14.285714285714285| 7.89887102062576E-4|                 0.0|                 0.0|                   16.75|                   16.75|                   16.75|              0.0|              0.0|              0.0|                     0.0|                     0.0|                     0.0|1.0588235294117647|1.0588235294117647|1.0588235294117647|                     0.0|                     0.0|                     0.0|              0.0|              0.0|              0.0|                    6.25|                    6.25|                    6.25|       5.764705882352941|       5.764705882352941|       5.764705882352941| 1.074588713377466| 1.072879800760257| 1.071377072819034|                      0.0|                      0.0|                      0.0|               0.0|               0.0|               0.0|                      0.0|                      0.0|                      0.0|             1.125|             1.125|             1.125|                0.0|                0.0|                0.0|                       0.0|                       0.0|                       0.0|                2.6|                2.6|                2.6|         5.555555555555555|         5.555555555555555|         5.555555555555555|6.364749082007344E-4|6.364749082007344E-4|6.364593278010331E-4|        2.4605263157894735|         2.381578947368421|         2.428571428571429|  4.571428571428571|  4.714285714285714|  4.571428571428571|                       0.0|                       0.0|                       0.0|                0.0|                0.0|                0.0|                       0.0|                       0.0|                       0.0|                0.0|                0.0|                0.0|                0.0|                0.0|                0.0|\n",
      "|    13H2B97AS|TOSHIBA DT01ACA300|2016-01-08|14.285714285714285|                 0.0|             16.75|        0.0|               0.0|1.0588235294117647|               0.0|        0.0|              6.25| 5.764705882352941|1.0775986367807053|                0.0|         0.0|                0.0|       1.125|          0.0|                 0.0|          2.6|   5.263157894736842|6.364904893632647E-4|  2.4605263157894735| 4.571428571428571|                 0.0|          0.0|                 0.0|          0.0|          0.0|      13.714285714285714|      14.142857142857142|      14.285714285714285|0.002764589791433117|7.947180079815583E-4|                 0.0|                   16.75|                   16.75|                   16.75|              0.0|              0.0|              0.0|                     0.0|                     0.0|                     0.0|1.0588235294117647|1.0588235294117647|1.0588235294117647|                     0.0|                     0.0|                     0.0|              0.0|              0.0|              0.0|                    6.25|                    6.25|                    6.25|       5.764705882352941|       5.764705882352941|       5.764705882352941|1.0760962181293834|1.0745182854895792| 1.072950121255817|                      0.0|                      0.0|                      0.0|               0.0|               0.0|               0.0|                      0.0|                      0.0|                      0.0|             1.125|             1.125|             1.125|                0.0|                0.0|                0.0|                       0.0|                       0.0|                       0.0|                2.6|                2.6|                2.6|         5.555555555555555|         5.555555555555555|         5.555555555555555|6.364749082007344E-4|6.364749082007344E-4|6.364593278010331E-4|         2.381578947368421|        2.4605263157894735|        2.3506493506493507|  4.714285714285714|  4.571428571428571|  4.714285714285714|                       0.0|                       0.0|                       0.0|                0.0|                0.0|                0.0|                       0.0|                       0.0|                       0.0|                0.0|                0.0|                0.0|                0.0|                0.0|                0.0|\n",
      "|    13H2B97AS|TOSHIBA DT01ACA300|2016-01-09|              14.0|7.978260419672019E-4|             16.75|        0.0|               0.0|1.0588235294117647|               0.0|        0.0|              6.25| 5.764705882352941|1.0792371215100276|                0.0|         0.0|                0.0|       1.125|          0.0|                 0.0|          2.6|   5.263157894736842|6.364904893632647E-4|  2.4605263157894735| 4.571428571428571|                 0.0|          0.0|                 0.0|          0.0|          0.0|      14.285714285714285|      13.714285714285714|      14.142857142857142|                 0.0| 0.00278149787000804|7.947180079815583E-4|                   16.75|                   16.75|                   16.75|              0.0|              0.0|              0.0|                     0.0|                     0.0|                     0.0|1.0588235294117647|1.0588235294117647|1.0588235294117647|                     0.0|                     0.0|                     0.0|              0.0|              0.0|              0.0|                    6.25|                    6.25|                    6.25|       5.764705882352941|       5.764705882352941|       5.764705882352941|1.0776692665661665|1.0760256914405557| 1.074588713377466|                      0.0|                      0.0|                      0.0|               0.0|               0.0|               0.0|                      0.0|                      0.0|                      0.0|             1.125|             1.125|             1.125|                0.0|                0.0|                0.0|                       0.0|                       0.0|                       0.0|                2.6|                2.6|                2.6|         5.555555555555555|         5.555555555555555|         5.555555555555555|6.364749082007344E-4|6.364749082007344E-4|6.364593278010331E-4|        2.4605263157894735|         2.381578947368421|         2.428571428571429|  4.571428571428571|  4.714285714285714|  4.571428571428571|                       0.0|                       0.0|                       0.0|                0.0|                0.0|                0.0|                       0.0|                       0.0|                       0.0|                0.0|                0.0|                0.0|                0.0|                0.0|                0.0|\n",
      "|    13H2B97AS|TOSHIBA DT01ACA300|2016-01-10|14.285714285714285|                 0.0|             16.75|        0.0|               0.0|1.0588235294117647|               0.0|        0.0|              6.25| 5.764705882352941|1.0807445274610041|                0.0|         0.0|                0.0|       1.125|          0.0|                 0.0|          2.6|   5.263157894736842|6.364904893632647E-4|   2.381578947368421| 4.714285714285714|                 0.0|          0.0|                 0.0|          0.0|          0.0|                    14.0|      14.285714285714285|      13.714285714285714|7.898991546912953E-4|                 0.0| 0.00278149787000804|                   16.75|                   16.75|                   16.75|              0.0|              0.0|              0.0|                     0.0|                     0.0|                     0.0|1.0588235294117647|1.0588235294117647|1.0588235294117647|                     0.0|                     0.0|                     0.0|              0.0|              0.0|              0.0|                    6.25|                    6.25|                    6.25|       5.764705882352941|       5.764705882352941|       5.764705882352941|1.0793078586878155|1.0775986367807053|1.0760962181293834|                      0.0|                      0.0|                      0.0|               0.0|               0.0|               0.0|                      0.0|                      0.0|                      0.0|             1.125|             1.125|             1.125|                0.0|                0.0|                0.0|                       0.0|                       0.0|                       0.0|                2.6|                2.6|                2.6|         5.555555555555555|         5.555555555555555|         5.555555555555555|6.364749082007344E-4|6.364749082007344E-4|6.364593278010331E-4|        2.4605263157894735|        2.4605263157894735|        2.3506493506493507|  4.571428571428571|  4.571428571428571|  4.714285714285714|                       0.0|                       0.0|                       0.0|                0.0|                0.0|                0.0|                       0.0|                       0.0|                       0.0|                0.0|                0.0|                0.0|                0.0|                0.0|                0.0|\n",
      "|    13H2B97AS|TOSHIBA DT01ACA300|2016-01-11|14.285714285714285|6.086790325898928E-9|             16.75|        0.0|               0.0|1.0588235294117647|               0.0|        0.0|              6.25| 5.764705882352941|1.0823174728011535|                0.0|         0.0|                0.0|       1.125|          0.0|                 0.0|          2.6|   5.263157894736842|6.364904893632647E-4|   2.381578947368421| 4.714285714285714|                 0.0|          0.0|                 0.0|          0.0|          0.0|      14.285714285714285|                    14.0|      14.285714285714285|                 0.0|7.947301343234896E-4|                 0.0|                   16.75|                   16.75|                   16.75|              0.0|              0.0|              0.0|                     0.0|                     0.0|                     0.0|1.0588235294117647|1.0588235294117647|1.0588235294117647|                     0.0|                     0.0|                     0.0|              0.0|              0.0|              0.0|                    6.25|                    6.25|                    6.25|       5.764705882352941|       5.764705882352941|       5.764705882352941|1.0808153634397326|1.0792371215100276|1.0776692665661665|                      0.0|                      0.0|                      0.0|               0.0|               0.0|               0.0|                      0.0|                      0.0|                      0.0|             1.125|             1.125|             1.125|                0.0|                0.0|                0.0|                       0.0|                       0.0|                       0.0|                2.6|                2.6|                2.6|         5.555555555555555|         5.555555555555555|         5.555555555555555|6.364749082007344E-4|6.364749082007344E-4|6.364593278010331E-4|         2.381578947368421|        2.4605263157894735|         2.428571428571429|  4.714285714285714|  4.571428571428571|  4.571428571428571|                       0.0|                       0.0|                       0.0|                0.0|                0.0|                0.0|                       0.0|                       0.0|                       0.0|                0.0|                0.0|                0.0|                0.0|                0.0|                0.0|\n",
      "|    13H2B97AS|TOSHIBA DT01ACA300|2016-01-12|14.285714285714285|                 0.0|             16.75|        0.0|               0.0|1.0588235294117647|               0.0|        0.0|              6.25| 5.764705882352941| 1.083890418141303|                0.0|         0.0|                0.0|       1.125|          0.0|                 0.0|          2.6|   5.263157894736842|6.364904893632647E-4|  2.4605263157894735| 4.571428571428571|                 0.0|          0.0|                 0.0|          0.0|          0.0|      14.285714285714285|      14.285714285714285|                    14.0|6.026314359651309E-9|                 0.0|7.947301343234896E-4|                   16.75|                   16.75|                   16.75|              0.0|              0.0|              0.0|                     0.0|                     0.0|                     0.0|1.0588235294117647|1.0588235294117647|1.0588235294117647|                     0.0|                     0.0|                     0.0|              0.0|              0.0|              0.0|                    6.25|                    6.25|                    6.25|       5.764705882352941|       5.764705882352941|       5.764705882352941|1.0823884118765157|1.0807445274610041|1.0793078586878155|                      0.0|                      0.0|                      0.0|               0.0|               0.0|               0.0|                      0.0|                      0.0|                      0.0|             1.125|             1.125|             1.125|                0.0|                0.0|                0.0|                       0.0|                       0.0|                       0.0|                2.6|                2.6|                2.6|         5.555555555555555|         5.555555555555555|         5.555555555555555|6.364749082007344E-4|6.364749082007344E-4|6.364593278010331E-4|         2.381578947368421|         2.381578947368421|         2.428571428571429|  4.714285714285714|  4.714285714285714|  4.571428571428571|                       0.0|                       0.0|                       0.0|                0.0|                0.0|                0.0|                       0.0|                       0.0|                       0.0|                0.0|                0.0|                0.0|                0.0|                0.0|                0.0|\n",
      "|    13H2B97AS|TOSHIBA DT01ACA300|2016-01-13|14.285714285714285|                 0.0|             16.75|        0.0|               0.0|1.0588235294117647|               0.0|        0.0|              6.25| 5.764705882352941|1.0854633634814523|                0.0|         0.0|                0.0|       1.125|          0.0|                 0.0|          2.6|   5.263157894736842|6.364904893632647E-4|  2.4605263157894735| 4.571428571428571|                 0.0|          0.0|                 0.0|          0.0|          0.0|      14.285714285714285|      14.285714285714285|      14.285714285714285|                 0.0|6.063170965656987E-9|                 0.0|                   16.75|                   16.75|                   16.75|              0.0|              0.0|              0.0|                     0.0|                     0.0|                     0.0|1.0588235294117647|1.0588235294117647|1.0588235294117647|                     0.0|                     0.0|                     0.0|              0.0|              0.0|              0.0|                    6.25|                    6.25|                    6.25|       5.764705882352941|       5.764705882352941|       5.764705882352941| 1.083961460313299|1.0823174728011535|1.0808153634397326|                      0.0|                      0.0|                      0.0|               0.0|               0.0|               0.0|                      0.0|                      0.0|                      0.0|             1.125|             1.125|             1.125|                0.0|                0.0|                0.0|                       0.0|                       0.0|                       0.0|                2.6|                2.6|                2.6|         5.555555555555555|         5.555555555555555|         5.555555555555555|6.364749082007344E-4|6.364749082007344E-4|6.364593278010331E-4|        2.4605263157894735|         2.381578947368421|        2.3506493506493507|  4.571428571428571|  4.714285714285714|  4.714285714285714|                       0.0|                       0.0|                       0.0|                0.0|                0.0|                0.0|                       0.0|                       0.0|                       0.0|                0.0|                0.0|                0.0|                0.0|                0.0|                0.0|\n",
      "|    13H2B97AS|TOSHIBA DT01ACA300|2016-01-14|14.285714285714285|3.989038907981121E-4|             16.75|        0.0|               0.0|1.0588235294117647|               0.0|        0.0|              6.25| 5.764705882352941|1.0870363088216017|                0.0|         0.0|                0.0|       1.125|          0.0|                 0.0|          2.6|   5.263157894736842|6.364904893632647E-4|   2.381578947368421| 4.714285714285714|                 0.0|          0.0|                 0.0|          0.0|          0.0|      14.285714285714285|      14.285714285714285|      14.285714285714285|                 0.0|                 0.0|6.063170965656987E-9|                   16.75|                   16.75|                   16.75|              0.0|              0.0|              0.0|                     0.0|                     0.0|                     0.0|1.0588235294117647|1.0588235294117647|1.0588235294117647|                     0.0|                     0.0|                     0.0|              0.0|              0.0|              0.0|                    6.25|                    6.25|                    6.25|       5.764705882352941|       5.764705882352941|       5.764705882352941| 1.085534508750082| 1.083890418141303|1.0823884118765157|                      0.0|                      0.0|                      0.0|               0.0|               0.0|               0.0|                      0.0|                      0.0|                      0.0|             1.125|             1.125|             1.125|                0.0|                0.0|                0.0|                       0.0|                       0.0|                       0.0|                2.6|                2.6|                2.6|         5.555555555555555|         5.555555555555555|         5.555555555555555|6.364749082007344E-4|6.364749082007344E-4|6.364593278010331E-4|        2.4605263157894735|        2.4605263157894735|        2.3506493506493507|  4.571428571428571|  4.571428571428571|  4.714285714285714|                       0.0|                       0.0|                       0.0|                0.0|                0.0|                0.0|                       0.0|                       0.0|                       0.0|                0.0|                0.0|                0.0|                0.0|                0.0|                0.0|\n",
      "|    13H2B97AS|TOSHIBA DT01ACA300|2016-01-15|14.285714285714285|                 0.0|             16.75|        0.0|               0.0|1.0588235294117647|               0.0|        0.0|              6.25| 5.764705882352941|1.0886092541617511|                0.0|         0.0|                0.0|       1.125|          0.0|                 0.0|          2.6|   5.263157894736842|6.364904893632647E-4|  2.4605263157894735| 4.571428571428571|                 0.0|          0.0|                 0.0|          0.0|          0.0|      14.285714285714285|      14.285714285714285|      14.285714285714285|3.949405378741082E-4|                 0.0|                 0.0|                   16.75|                   16.75|                   16.75|              0.0|              0.0|              0.0|                     0.0|                     0.0|                     0.0|1.0588235294117647|1.0588235294117647|1.0588235294117647|                     0.0|                     0.0|                     0.0|              0.0|              0.0|              0.0|                    6.25|                    6.25|                    6.25|       5.764705882352941|       5.764705882352941|       5.764705882352941|1.0871075571868651|1.0854633634814523| 1.083961460313299|                      0.0|                      0.0|                      0.0|               0.0|               0.0|               0.0|                      0.0|                      0.0|                      0.0|             1.125|             1.125|             1.125|                0.0|                0.0|                0.0|                       0.0|                       0.0|                       0.0|                2.6|                2.6|                2.6|         5.555555555555555|         5.555555555555555|         5.555555555555555|6.364749082007344E-4|6.364749082007344E-4|6.364593278010331E-4|         2.381578947368421|        2.4605263157894735|         2.428571428571429|  4.714285714285714|  4.571428571428571|  4.571428571428571|                       0.0|                       0.0|                       0.0|                0.0|                0.0|                0.0|                       0.0|                       0.0|                       0.0|                0.0|                0.0|                0.0|                0.0|                0.0|                0.0|\n",
      "|    13H2B97AS|TOSHIBA DT01ACA300|2016-01-16|14.285714285714285|                 0.0|             16.75|        0.0|               0.0|1.0588235294117647|               0.0|        0.0|              6.25| 5.764705882352941|1.0902477388910736|                0.0|         0.0|                0.0|       1.125|          0.0|                 0.0|          2.6|   5.263157894736842|6.364904893632647E-4|   2.381578947368421| 4.714285714285714|                 0.0|          0.0|                 0.0|          0.0|          0.0|      14.285714285714285|      14.285714285714285|      14.285714285714285|                 0.0|3.973559724052963E-4|                 0.0|                   16.75|                   16.75|                   16.75|              0.0|              0.0|              0.0|                     0.0|                     0.0|                     0.0|1.0588235294117647|1.0588235294117647|1.0588235294117647|                     0.0|                     0.0|                     0.0|              0.0|              0.0|              0.0|                    6.25|                    6.25|                    6.25|       5.764705882352941|       5.764705882352941|       5.764705882352941|1.0886806056236482|1.0870363088216017| 1.085534508750082|                      0.0|                      0.0|                      0.0|               0.0|               0.0|               0.0|                      0.0|                      0.0|                      0.0|             1.125|             1.125|             1.125|                0.0|                0.0|                0.0|                       0.0|                       0.0|                       0.0|                2.6|                2.6|                2.6|         5.555555555555555|         5.555555555555555|         5.555555555555555|6.364749082007344E-4|6.364749082007344E-4|6.364593278010331E-4|        2.4605263157894735|         2.381578947368421|         2.428571428571429|  4.571428571428571|  4.714285714285714|  4.571428571428571|                       0.0|                       0.0|                       0.0|                0.0|                0.0|                0.0|                       0.0|                       0.0|                       0.0|                0.0|                0.0|                0.0|                0.0|                0.0|                0.0|\n",
      "|    13H2B97AS|TOSHIBA DT01ACA300|2016-01-17|14.285714285714285|                 0.0|             16.75|        0.0|               0.0|1.0588235294117647|               0.0|        0.0|              6.25| 5.764705882352941|1.0917551448420502|                0.0|         0.0|                0.0|       1.125|          0.0|                 0.0|          2.6|   5.263157894736842|6.364904893632647E-4|   2.539473684210526| 4.428571428571428|                 0.0|          0.0|                 0.0|          0.0|          0.0|      14.285714285714285|      14.285714285714285|      14.285714285714285|                 0.0|                 0.0|3.973559724052963E-4|                   16.75|                   16.75|                   16.75|              0.0|              0.0|              0.0|                     0.0|                     0.0|                     0.0|1.0588235294117647|1.0588235294117647|1.0588235294117647|                     0.0|                     0.0|                     0.0|              0.0|              0.0|              0.0|                    6.25|                    6.25|                    6.25|       5.764705882352941|       5.764705882352941|       5.764705882352941|1.0903191977452973|1.0886092541617511|1.0871075571868651|                      0.0|                      0.0|                      0.0|               0.0|               0.0|               0.0|                      0.0|                      0.0|                      0.0|             1.125|             1.125|             1.125|                0.0|                0.0|                0.0|                       0.0|                       0.0|                       0.0|                2.6|                2.6|                2.6|         5.555555555555555|         5.555555555555555|         5.555555555555555|6.364749082007344E-4|6.364749082007344E-4|6.364593278010331E-4|         2.381578947368421|        2.4605263157894735|        2.3506493506493507|  4.714285714285714|  4.571428571428571|  4.714285714285714|                       0.0|                       0.0|                       0.0|                0.0|                0.0|                0.0|                       0.0|                       0.0|                       0.0|                0.0|                0.0|                0.0|                0.0|                0.0|                0.0|\n",
      "|    13H2B97AS|TOSHIBA DT01ACA300|2016-01-18|14.285714285714285|3.989038907981121E-4|             16.75|        0.0|               0.0|1.0588235294117647|               0.0|        0.0|              6.25| 5.764705882352941|1.0933280901821996|                0.0|         0.0|                0.0|       1.125|          0.0|                 0.0|          2.6|   5.263157894736842|6.364904893632647E-4|  2.7105263157894735| 4.142857142857142|                 0.0|          0.0|                 0.0|          0.0|          0.0|      14.285714285714285|      14.285714285714285|      14.285714285714285|                 0.0|                 0.0|                 0.0|                   16.75|                   16.75|                   16.75|              0.0|              0.0|              0.0|                     0.0|                     0.0|                     0.0|1.0588235294117647|1.0588235294117647|1.0588235294117647|                     0.0|                     0.0|                     0.0|              0.0|              0.0|              0.0|                    6.25|                    6.25|                    6.25|       5.764705882352941|       5.764705882352941|       5.764705882352941|1.0918267024972144|1.0902477388910736|1.0886806056236482|                      0.0|                      0.0|                      0.0|               0.0|               0.0|               0.0|                      0.0|                      0.0|                      0.0|             1.125|             1.125|             1.125|                0.0|                0.0|                0.0|                       0.0|                       0.0|                       0.0|                2.6|                2.6|                2.6|         5.555555555555555|         5.555555555555555|         5.555555555555555|6.364749082007344E-4|6.364749082007344E-4|6.364593278010331E-4|         2.539473684210526|         2.381578947368421|         2.428571428571429|  4.428571428571428|  4.714285714285714|  4.571428571428571|                       0.0|                       0.0|                       0.0|                0.0|                0.0|                0.0|                       0.0|                       0.0|                       0.0|                0.0|                0.0|                0.0|                0.0|                0.0|                0.0|\n",
      "|    13H2B97AS|TOSHIBA DT01ACA300|2016-01-19|14.142857142857142| 3.98909977588438E-4|             16.75|        0.0|               0.0|1.0588235294117647|               0.0|        0.0|              6.25| 5.764705882352941|1.0949665749115218|                0.0|         0.0|                0.0|       1.125|          0.0|                 0.0|          2.6|   5.263157894736842|6.364904893632647E-4|  2.7105263157894735| 4.142857142857142|                 0.0|          0.0|                 0.0|          0.0|          0.0|      14.285714285714285|      14.285714285714285|      14.285714285714285|3.949405378741082E-4|                 0.0|                 0.0|                   16.75|                   16.75|                   16.75|              0.0|              0.0|              0.0|                     0.0|                     0.0|                     0.0|1.0588235294117647|1.0588235294117647|1.0588235294117647|                     0.0|                     0.0|                     0.0|              0.0|              0.0|              0.0|                    6.25|                    6.25|                    6.25|       5.764705882352941|       5.764705882352941|       5.764705882352941|1.0933997509339977|1.0917551448420502|1.0903191977452973|                      0.0|                      0.0|                      0.0|               0.0|               0.0|               0.0|                      0.0|                      0.0|                      0.0|             1.125|             1.125|             1.125|                0.0|                0.0|                0.0|                       0.0|                       0.0|                       0.0|                2.6|                2.6|                2.6|         5.555555555555555|         5.555555555555555|         5.555555555555555|6.364749082007344E-4|6.364749082007344E-4|6.364593278010331E-4|        2.7105263157894735|         2.539473684210526|        2.3506493506493507|  4.142857142857142|  4.428571428571428|  4.714285714285714|                       0.0|                       0.0|                       0.0|                0.0|                0.0|                0.0|                       0.0|                       0.0|                       0.0|                0.0|                0.0|                0.0|                0.0|                0.0|                0.0|\n",
      "|    13H2B97AS|TOSHIBA DT01ACA300|2016-01-20|14.142857142857142|7.978138683865501E-4|             16.75|        0.0|               0.0|1.0588235294117647|               0.0|        0.0|              6.25| 5.764705882352941|1.0964739808624984|                0.0|         0.0|                0.0|       1.125|          0.0|                 0.0|          2.6|   5.263157894736842|6.364904893632647E-4|   2.631578947368421| 4.285714285714286|                 0.0|          0.0|                 0.0|          0.0|          0.0|      14.142857142857142|      14.285714285714285|      14.285714285714285|3.949465641884678...|3.973559724052963E-4|                 0.0|                   16.75|                   16.75|                   16.75|              0.0|              0.0|              0.0|                     0.0|                     0.0|                     0.0|1.0588235294117647|1.0588235294117647|1.0588235294117647|                     0.0|                     0.0|                     0.0|              0.0|              0.0|              0.0|                    6.25|                    6.25|                    6.25|       5.764705882352941|       5.764705882352941|       5.764705882352941|1.0950383430556467|1.0933280901821996|1.0918267024972144|                      0.0|                      0.0|                      0.0|               0.0|               0.0|               0.0|                      0.0|                      0.0|                      0.0|             1.125|             1.125|             1.125|                0.0|                0.0|                0.0|                       0.0|                       0.0|                       0.0|                2.6|                2.6|                2.6|         5.555555555555555|         5.555555555555555|         5.555555555555555|6.364749082007344E-4|6.364749082007344E-4|6.364593278010331E-4|        2.7105263157894735|        2.7105263157894735|        2.5064935064935066|  4.142857142857142|  4.142857142857142|  4.428571428571428|                       0.0|                       0.0|                       0.0|                0.0|                0.0|                0.0|                       0.0|                       0.0|                       0.0|                0.0|                0.0|                0.0|                0.0|                0.0|                0.0|\n",
      "|    13H2B97AS|TOSHIBA DT01ACA300|2016-01-21|14.142857142857142|7.978077815962243E-4|             16.75|        0.0|               0.0|1.0588235294117647|               0.0|        0.0|              6.25| 5.764705882352941|1.0980469262026478|                0.0|         0.0|                0.0|       1.125|          0.0|                 0.0|          2.6|   5.263157894736842|6.364904893632647E-4|   2.539473684210526| 4.428571428571428|                 0.0|          0.0|                 0.0|          0.0|          0.0|      14.142857142857142|      14.142857142857142|      14.285714285714285| 7.89887102062576E-4| 3.97362035576262E-4|3.973559724052963E-4|                   16.75|                   16.75|                   16.75|              0.0|              0.0|              0.0|                     0.0|                     0.0|                     0.0|1.0588235294117647|1.0588235294117647|1.0588235294117647|                     0.0|                     0.0|                     0.0|              0.0|              0.0|              0.0|                    6.25|                    6.25|                    6.25|       5.764705882352941|       5.764705882352941|       5.764705882352941|1.0965458478075638|1.0949665749115218|1.0933997509339977|                      0.0|                      0.0|                      0.0|               0.0|               0.0|               0.0|                      0.0|                      0.0|                      0.0|             1.125|             1.125|             1.125|                0.0|                0.0|                0.0|                       0.0|                       0.0|                       0.0|                2.6|                2.6|                2.6|         5.555555555555555|         5.555555555555555|         5.555555555555555|6.364749082007344E-4|6.364749082007344E-4|6.364593278010331E-4|         2.631578947368421|        2.7105263157894735|        2.6753246753246755|  4.285714285714286|  4.142857142857142|  4.142857142857142|                       0.0|                       0.0|                       0.0|                0.0|                0.0|                0.0|                       0.0|                       0.0|                       0.0|                0.0|                0.0|                0.0|                0.0|                0.0|                0.0|\n",
      "|    13H2B97AS|TOSHIBA DT01ACA300|2016-04-04|14.142857142857142|0.001196711672394...|             16.75|        0.0|               0.0|1.0588235294117647|               0.0|        0.0|              6.25| 5.764705882352941|1.2143793419845328|                0.0|         0.0|                0.0|       1.125|          0.0|                 0.0|          2.6|   5.263157894736842|6.364904893632647E-4|  2.9210526315789473|3.8571428571428568|                 0.0|          0.0|                 0.0|          0.0|          0.0|      14.285714285714285|      14.285714285714285|      14.285714285714285|                 0.0|6.063170965656987E-9|3.973559724052963E-4|                   16.75|                   16.75|                   16.75|              0.0|              0.0|              0.0|                     0.0|                     0.0|                     0.0|1.0588235294117647|1.0588235294117647|1.0588235294117647|                     0.0|                     0.0|                     0.0|              0.0|              0.0|              0.0|                    6.25|                    6.25|                    6.25|       5.764705882352941|       5.764705882352941|       5.764705882352941|1.2128858884446485|1.2112989906934069|1.2097397915710821|                      0.0|                      0.0|                      0.0|               0.0|               0.0|               0.0|                      0.0|                      0.0|                      0.0|             1.125|             1.125|             1.125|                0.0|                0.0|                0.0|                       0.0|                       0.0|                       0.0|                2.6|                2.6|                2.6|         5.555555555555555|         5.555555555555555|         5.555555555555555|6.364749082007344E-4|6.364749082007344E-4|6.364593278010331E-4|        2.9210526315789473|         3.026315789473684|        2.8831168831168834| 3.8571428571428568|  3.714285714285714| 3.8571428571428568|                       0.0|                       0.0|                       0.0|                0.0|                0.0|                0.0|                       0.0|                       0.0|                       0.0|                0.0|                0.0|                0.0|                0.0|                0.0|                0.0|\n",
      "|    13H2B97AS|TOSHIBA DT01ACA300|2016-04-05|14.285714285714285|                 0.0|             16.75|        0.0|               0.0|1.0588235294117647|               0.0|        0.0|              6.25| 5.764705882352941| 1.216017826713855|                0.0|         0.0|                0.0|       1.125|          0.0|                 0.0|          2.6|   5.263157894736842|6.364904893632647E-4|    2.81578947368421|               4.0|                 0.0|          0.0|                 0.0|          0.0|          0.0|      14.142857142857142|      14.285714285714285|      14.285714285714285|0.001184821613622...|                 0.0|6.063170965656987E-9|                   16.75|                   16.75|                   16.75|              0.0|              0.0|              0.0|                     0.0|                     0.0|                     0.0|1.0588235294117647|1.0588235294117647|1.0588235294117647|                     0.0|                     0.0|                     0.0|              0.0|              0.0|              0.0|                    6.25|                    6.25|                    6.25|       5.764705882352941|       5.764705882352941|       5.764705882352941|1.2144589368814316|1.2128063966443834|1.2113783836927312|                      0.0|                      0.0|                      0.0|               0.0|               0.0|               0.0|                      0.0|                      0.0|                      0.0|             1.125|             1.125|             1.125|                0.0|                0.0|                0.0|                       0.0|                       0.0|                       0.0|                2.6|                2.6|                2.6|         5.555555555555555|         5.555555555555555|         5.555555555555555|6.364749082007344E-4|6.364749082007344E-4|6.364593278010331E-4|        2.9210526315789473|        2.9210526315789473|        2.9870129870129873| 3.8571428571428568| 3.8571428571428568|  3.714285714285714|                       0.0|                       0.0|                       0.0|                0.0|                0.0|                0.0|                       0.0|                       0.0|                       0.0|                0.0|                0.0|                0.0|                0.0|                0.0|                0.0|\n",
      "+-------------+------------------+----------+------------------+--------------------+------------------+-----------+------------------+------------------+------------------+-----------+------------------+------------------+------------------+-------------------+------------+-------------------+------------+-------------+--------------------+-------------+--------------------+--------------------+--------------------+------------------+--------------------+-------------+--------------------+-------------+-------------+------------------------+------------------------+------------------------+--------------------+--------------------+--------------------+------------------------+------------------------+------------------------+-----------------+-----------------+-----------------+------------------------+------------------------+------------------------+------------------+------------------+------------------+------------------------+------------------------+------------------------+-----------------+-----------------+-----------------+------------------------+------------------------+------------------------+------------------------+------------------------+------------------------+------------------+------------------+------------------+-------------------------+-------------------------+-------------------------+------------------+------------------+------------------+-------------------------+-------------------------+-------------------------+------------------+------------------+------------------+-------------------+-------------------+-------------------+--------------------------+--------------------------+--------------------------+-------------------+-------------------+-------------------+--------------------------+--------------------------+--------------------------+--------------------+--------------------+--------------------+--------------------------+--------------------------+--------------------------+-------------------+-------------------+-------------------+--------------------------+--------------------------+--------------------------+-------------------+-------------------+-------------------+--------------------------+--------------------------+--------------------------+-------------------+-------------------+-------------------+-------------------+-------------------+-------------------+\n",
      "only showing top 20 rows\n",
      "\n"
     ]
    }
   ],
   "source": [
    "df_inf_scaled.show()"
   ]
  },
  {
   "cell_type": "markdown",
   "metadata": {},
   "source": [
    "## ML model inference"
   ]
  },
  {
   "cell_type": "code",
   "execution_count": 29,
   "metadata": {},
   "outputs": [],
   "source": [
    "model = GBTClassificationModel.load(ML_MODEL_FILEPATH)"
   ]
  },
  {
   "cell_type": "code",
   "execution_count": 38,
   "metadata": {},
   "outputs": [],
   "source": [
    "df_inf_scaled, assembler_inf = model_transform_features(\n",
    "    df=df_inf_scaled,\n",
    "    feature_cols=feature_cols,\n",
    "    inference=True)"
   ]
  },
  {
   "cell_type": "code",
   "execution_count": 39,
   "metadata": {},
   "outputs": [
    {
     "name": "stdout",
     "output_type": "stream",
     "text": [
      "+-------------+------------------+----------+--------------------+\n",
      "|serial_number|             model|      date|            features|\n",
      "+-------------+------------------+----------+--------------------+\n",
      "|    13H2B97AS|TOSHIBA DT01ACA300|2016-01-04|(108,[0,2,5,8,9,1...|\n",
      "|    13H2B97AS|TOSHIBA DT01ACA300|2016-01-05|(108,[0,2,5,8,9,1...|\n",
      "|    13H2B97AS|TOSHIBA DT01ACA300|2016-01-06|(108,[0,1,2,5,8,9...|\n",
      "|    13H2B97AS|TOSHIBA DT01ACA300|2016-01-07|(108,[0,1,2,5,8,9...|\n",
      "|    13H2B97AS|TOSHIBA DT01ACA300|2016-01-08|(108,[0,2,5,8,9,1...|\n",
      "|    13H2B97AS|TOSHIBA DT01ACA300|2016-01-09|(108,[0,1,2,5,8,9...|\n",
      "|    13H2B97AS|TOSHIBA DT01ACA300|2016-01-10|(108,[0,2,5,8,9,1...|\n",
      "|    13H2B97AS|TOSHIBA DT01ACA300|2016-01-11|(108,[0,1,2,5,8,9...|\n",
      "|    13H2B97AS|TOSHIBA DT01ACA300|2016-01-12|(108,[0,2,5,8,9,1...|\n",
      "|    13H2B97AS|TOSHIBA DT01ACA300|2016-01-13|(108,[0,2,5,8,9,1...|\n",
      "|    13H2B97AS|TOSHIBA DT01ACA300|2016-01-14|(108,[0,1,2,5,8,9...|\n",
      "|    13H2B97AS|TOSHIBA DT01ACA300|2016-01-15|(108,[0,2,5,8,9,1...|\n",
      "|    13H2B97AS|TOSHIBA DT01ACA300|2016-01-16|(108,[0,2,5,8,9,1...|\n",
      "|    13H2B97AS|TOSHIBA DT01ACA300|2016-01-17|(108,[0,2,5,8,9,1...|\n",
      "|    13H2B97AS|TOSHIBA DT01ACA300|2016-01-18|(108,[0,1,2,5,8,9...|\n",
      "|    13H2B97AS|TOSHIBA DT01ACA300|2016-01-19|(108,[0,1,2,5,8,9...|\n",
      "|    13H2B97AS|TOSHIBA DT01ACA300|2016-01-20|(108,[0,1,2,5,8,9...|\n",
      "|    13H2B97AS|TOSHIBA DT01ACA300|2016-01-21|(108,[0,1,2,5,8,9...|\n",
      "|    13H2B97AS|TOSHIBA DT01ACA300|2016-04-04|(108,[0,1,2,5,8,9...|\n",
      "|    13H2B97AS|TOSHIBA DT01ACA300|2016-04-05|(108,[0,2,5,8,9,1...|\n",
      "+-------------+------------------+----------+--------------------+\n",
      "only showing top 20 rows\n",
      "\n"
     ]
    }
   ],
   "source": [
    "df_inf_scaled.show()"
   ]
  },
  {
   "cell_type": "code",
   "execution_count": 25,
   "metadata": {},
   "outputs": [
    {
     "data": {
      "text/plain": [
       "GBTClassificationModel: uid = GBTClassifier_559b68a00181, numTrees=20, numClasses=2, numFeatures=108"
      ]
     },
     "execution_count": 25,
     "metadata": {},
     "output_type": "execute_result"
    }
   ],
   "source": [
    "model"
   ]
  },
  {
   "cell_type": "code",
   "execution_count": 40,
   "metadata": {},
   "outputs": [],
   "source": [
    "pred_inf = model.transform(df_inf_scaled)"
   ]
  },
  {
   "cell_type": "code",
   "execution_count": 41,
   "metadata": {},
   "outputs": [
    {
     "name": "stdout",
     "output_type": "stream",
     "text": [
      "+-------------+------------------+----------+--------------------+--------------------+--------------------+----------+\n",
      "|serial_number|             model|      date|            features|       rawPrediction|         probability|prediction|\n",
      "+-------------+------------------+----------+--------------------+--------------------+--------------------+----------+\n",
      "|    13H2B97AS|TOSHIBA DT01ACA300|2016-01-04|(108,[0,2,5,8,9,1...|[1.21542319000156...|[0.91914945276257...|       0.0|\n",
      "|    13H2B97AS|TOSHIBA DT01ACA300|2016-01-05|(108,[0,2,5,8,9,1...|[1.21542319000156...|[0.91914945276257...|       0.0|\n",
      "|    13H2B97AS|TOSHIBA DT01ACA300|2016-01-06|(108,[0,1,2,5,8,9...|[1.21542319000156...|[0.91914945276257...|       0.0|\n",
      "|    13H2B97AS|TOSHIBA DT01ACA300|2016-01-07|(108,[0,1,2,5,8,9...|[1.15980173125695...|[0.9104876281582,...|       0.0|\n",
      "|    13H2B97AS|TOSHIBA DT01ACA300|2016-01-08|(108,[0,2,5,8,9,1...|[1.21542319000156...|[0.91914945276257...|       0.0|\n",
      "|    13H2B97AS|TOSHIBA DT01ACA300|2016-01-09|(108,[0,1,2,5,8,9...|[1.15980173125695...|[0.9104876281582,...|       0.0|\n",
      "|    13H2B97AS|TOSHIBA DT01ACA300|2016-01-10|(108,[0,2,5,8,9,1...|[1.21542319000156...|[0.91914945276257...|       0.0|\n",
      "|    13H2B97AS|TOSHIBA DT01ACA300|2016-01-11|(108,[0,1,2,5,8,9...|[1.21542319000156...|[0.91914945276257...|       0.0|\n",
      "|    13H2B97AS|TOSHIBA DT01ACA300|2016-01-12|(108,[0,2,5,8,9,1...|[1.15980173125695...|[0.9104876281582,...|       0.0|\n",
      "|    13H2B97AS|TOSHIBA DT01ACA300|2016-01-13|(108,[0,2,5,8,9,1...|[1.15980173125695...|[0.9104876281582,...|       0.0|\n",
      "|    13H2B97AS|TOSHIBA DT01ACA300|2016-01-14|(108,[0,1,2,5,8,9...|[1.21542319000156...|[0.91914945276257...|       0.0|\n",
      "|    13H2B97AS|TOSHIBA DT01ACA300|2016-01-15|(108,[0,2,5,8,9,1...|[1.21542319000156...|[0.91914945276257...|       0.0|\n",
      "|    13H2B97AS|TOSHIBA DT01ACA300|2016-01-16|(108,[0,2,5,8,9,1...|[1.15980173125695...|[0.9104876281582,...|       0.0|\n",
      "|    13H2B97AS|TOSHIBA DT01ACA300|2016-01-17|(108,[0,2,5,8,9,1...|[1.21542319000156...|[0.91914945276257...|       0.0|\n",
      "|    13H2B97AS|TOSHIBA DT01ACA300|2016-01-18|(108,[0,1,2,5,8,9...|[1.15980173125695...|[0.9104876281582,...|       0.0|\n",
      "|    13H2B97AS|TOSHIBA DT01ACA300|2016-01-19|(108,[0,1,2,5,8,9...|[1.21542319000156...|[0.91914945276257...|       0.0|\n",
      "|    13H2B97AS|TOSHIBA DT01ACA300|2016-01-20|(108,[0,1,2,5,8,9...|[1.18400734821714...|[0.91435552026729...|       0.0|\n",
      "|    13H2B97AS|TOSHIBA DT01ACA300|2016-01-21|(108,[0,1,2,5,8,9...|[1.18400734821714...|[0.91435552026729...|       0.0|\n",
      "|    13H2B97AS|TOSHIBA DT01ACA300|2016-04-04|(108,[0,1,2,5,8,9...|[1.18900284930927...|[0.91513467861905...|       0.0|\n",
      "|    13H2B97AS|TOSHIBA DT01ACA300|2016-04-05|(108,[0,2,5,8,9,1...|[1.18900284930927...|[0.91513467861905...|       0.0|\n",
      "+-------------+------------------+----------+--------------------+--------------------+--------------------+----------+\n",
      "only showing top 20 rows\n",
      "\n"
     ]
    },
    {
     "name": "stderr",
     "output_type": "stream",
     "text": [
      "24/08/24 19:13:20 WARN InstanceBuilder: Failed to load implementation from:dev.ludovic.netlib.blas.JNIBLAS\n"
     ]
    }
   ],
   "source": [
    "pred_inf.show()"
   ]
  },
  {
   "cell_type": "code",
   "execution_count": 42,
   "metadata": {},
   "outputs": [
    {
     "data": {
      "text/html": [
       "<div>\n",
       "<style scoped>\n",
       "    .dataframe tbody tr th:only-of-type {\n",
       "        vertical-align: middle;\n",
       "    }\n",
       "\n",
       "    .dataframe tbody tr th {\n",
       "        vertical-align: top;\n",
       "    }\n",
       "\n",
       "    .dataframe thead th {\n",
       "        text-align: right;\n",
       "    }\n",
       "</style>\n",
       "<table border=\"1\" class=\"dataframe\">\n",
       "  <thead>\n",
       "    <tr style=\"text-align: right;\">\n",
       "      <th></th>\n",
       "      <th>serial_number</th>\n",
       "      <th>model</th>\n",
       "      <th>date</th>\n",
       "      <th>features</th>\n",
       "      <th>rawPrediction</th>\n",
       "      <th>probability</th>\n",
       "      <th>prediction</th>\n",
       "    </tr>\n",
       "  </thead>\n",
       "  <tbody>\n",
       "    <tr>\n",
       "      <th>0</th>\n",
       "      <td>13H2B97AS</td>\n",
       "      <td>TOSHIBA DT01ACA300</td>\n",
       "      <td>2016-01-04</td>\n",
       "      <td>(14.285714285714285, 0.0, 16.75, 0.0, 0.0, 1.0...</td>\n",
       "      <td>[1.2154231900015608, -1.2154231900015608]</td>\n",
       "      <td>[0.9191494527625703, 0.08085054723742968]</td>\n",
       "      <td>0.0</td>\n",
       "    </tr>\n",
       "    <tr>\n",
       "      <th>1</th>\n",
       "      <td>13H2B97AS</td>\n",
       "      <td>TOSHIBA DT01ACA300</td>\n",
       "      <td>2016-01-05</td>\n",
       "      <td>(14.285714285714285, 0.0, 16.75, 0.0, 0.0, 1.0...</td>\n",
       "      <td>[1.2154231900015608, -1.2154231900015608]</td>\n",
       "      <td>[0.9191494527625703, 0.08085054723742968]</td>\n",
       "      <td>0.0</td>\n",
       "    </tr>\n",
       "    <tr>\n",
       "      <th>2</th>\n",
       "      <td>13H2B97AS</td>\n",
       "      <td>TOSHIBA DT01ACA300</td>\n",
       "      <td>2016-01-06</td>\n",
       "      <td>(14.142857142857142, 0.0007978138683865501, 16...</td>\n",
       "      <td>[1.2154231900015608, -1.2154231900015608]</td>\n",
       "      <td>[0.9191494527625703, 0.08085054723742968]</td>\n",
       "      <td>0.0</td>\n",
       "    </tr>\n",
       "    <tr>\n",
       "      <th>3</th>\n",
       "      <td>13H2B97AS</td>\n",
       "      <td>TOSHIBA DT01ACA300</td>\n",
       "      <td>2016-01-07</td>\n",
       "      <td>(13.714285714285714, 0.002792333322377111, 16....</td>\n",
       "      <td>[1.159801731256955, -1.159801731256955]</td>\n",
       "      <td>[0.9104876281582, 0.08951237184180005]</td>\n",
       "      <td>0.0</td>\n",
       "    </tr>\n",
       "    <tr>\n",
       "      <th>4</th>\n",
       "      <td>13H2B97AS</td>\n",
       "      <td>TOSHIBA DT01ACA300</td>\n",
       "      <td>2016-01-08</td>\n",
       "      <td>(14.285714285714285, 0.0, 16.75, 0.0, 0.0, 1.0...</td>\n",
       "      <td>[1.2154231900015608, -1.2154231900015608]</td>\n",
       "      <td>[0.9191494527625703, 0.08085054723742968]</td>\n",
       "      <td>0.0</td>\n",
       "    </tr>\n",
       "    <tr>\n",
       "      <th>...</th>\n",
       "      <td>...</td>\n",
       "      <td>...</td>\n",
       "      <td>...</td>\n",
       "      <td>...</td>\n",
       "      <td>...</td>\n",
       "      <td>...</td>\n",
       "      <td>...</td>\n",
       "    </tr>\n",
       "    <tr>\n",
       "      <th>83</th>\n",
       "      <td>13H32WEAS</td>\n",
       "      <td>TOSHIBA DT01ACA300</td>\n",
       "      <td>2016-04-25</td>\n",
       "      <td>(14.285714285714285, 0.0, 12.5, 0.0, 0.0, 0.52...</td>\n",
       "      <td>[0.8605891359793435, -0.8605891359793435]</td>\n",
       "      <td>[0.8482805429642534, 0.15171945703574663]</td>\n",
       "      <td>0.0</td>\n",
       "    </tr>\n",
       "    <tr>\n",
       "      <th>84</th>\n",
       "      <td>13H32WEAS</td>\n",
       "      <td>TOSHIBA DT01ACA300</td>\n",
       "      <td>2016-04-26</td>\n",
       "      <td>(14.285714285714285, 0.0, 12.5, 0.0, 0.0, 0.52...</td>\n",
       "      <td>[0.8605891359793435, -0.8605891359793435]</td>\n",
       "      <td>[0.8482805429642534, 0.15171945703574663]</td>\n",
       "      <td>0.0</td>\n",
       "    </tr>\n",
       "    <tr>\n",
       "      <th>85</th>\n",
       "      <td>13H32WEAS</td>\n",
       "      <td>TOSHIBA DT01ACA300</td>\n",
       "      <td>2016-04-27</td>\n",
       "      <td>(14.285714285714285, 0.0, 12.5, 0.0, 0.0, 0.52...</td>\n",
       "      <td>[0.8605891359793435, -0.8605891359793435]</td>\n",
       "      <td>[0.8482805429642534, 0.15171945703574663]</td>\n",
       "      <td>0.0</td>\n",
       "    </tr>\n",
       "    <tr>\n",
       "      <th>86</th>\n",
       "      <td>13H32WEAS</td>\n",
       "      <td>TOSHIBA DT01ACA300</td>\n",
       "      <td>2016-04-28</td>\n",
       "      <td>(14.285714285714285, 0.0, 12.5, 0.0, 0.0, 0.52...</td>\n",
       "      <td>[0.8605891359793435, -0.8605891359793435]</td>\n",
       "      <td>[0.8482805429642534, 0.15171945703574663]</td>\n",
       "      <td>0.0</td>\n",
       "    </tr>\n",
       "    <tr>\n",
       "      <th>87</th>\n",
       "      <td>13H32WEAS</td>\n",
       "      <td>TOSHIBA DT01ACA300</td>\n",
       "      <td>2016-04-29</td>\n",
       "      <td>(14.285714285714285, 0.0, 12.5, 0.0, 0.0, 0.52...</td>\n",
       "      <td>[0.8605891359793435, -0.8605891359793435]</td>\n",
       "      <td>[0.8482805429642534, 0.15171945703574663]</td>\n",
       "      <td>0.0</td>\n",
       "    </tr>\n",
       "  </tbody>\n",
       "</table>\n",
       "<p>88 rows × 7 columns</p>\n",
       "</div>"
      ],
      "text/plain": [
       "   serial_number               model        date  \\\n",
       "0      13H2B97AS  TOSHIBA DT01ACA300  2016-01-04   \n",
       "1      13H2B97AS  TOSHIBA DT01ACA300  2016-01-05   \n",
       "2      13H2B97AS  TOSHIBA DT01ACA300  2016-01-06   \n",
       "3      13H2B97AS  TOSHIBA DT01ACA300  2016-01-07   \n",
       "4      13H2B97AS  TOSHIBA DT01ACA300  2016-01-08   \n",
       "..           ...                 ...         ...   \n",
       "83     13H32WEAS  TOSHIBA DT01ACA300  2016-04-25   \n",
       "84     13H32WEAS  TOSHIBA DT01ACA300  2016-04-26   \n",
       "85     13H32WEAS  TOSHIBA DT01ACA300  2016-04-27   \n",
       "86     13H32WEAS  TOSHIBA DT01ACA300  2016-04-28   \n",
       "87     13H32WEAS  TOSHIBA DT01ACA300  2016-04-29   \n",
       "\n",
       "                                             features  \\\n",
       "0   (14.285714285714285, 0.0, 16.75, 0.0, 0.0, 1.0...   \n",
       "1   (14.285714285714285, 0.0, 16.75, 0.0, 0.0, 1.0...   \n",
       "2   (14.142857142857142, 0.0007978138683865501, 16...   \n",
       "3   (13.714285714285714, 0.002792333322377111, 16....   \n",
       "4   (14.285714285714285, 0.0, 16.75, 0.0, 0.0, 1.0...   \n",
       "..                                                ...   \n",
       "83  (14.285714285714285, 0.0, 12.5, 0.0, 0.0, 0.52...   \n",
       "84  (14.285714285714285, 0.0, 12.5, 0.0, 0.0, 0.52...   \n",
       "85  (14.285714285714285, 0.0, 12.5, 0.0, 0.0, 0.52...   \n",
       "86  (14.285714285714285, 0.0, 12.5, 0.0, 0.0, 0.52...   \n",
       "87  (14.285714285714285, 0.0, 12.5, 0.0, 0.0, 0.52...   \n",
       "\n",
       "                                rawPrediction  \\\n",
       "0   [1.2154231900015608, -1.2154231900015608]   \n",
       "1   [1.2154231900015608, -1.2154231900015608]   \n",
       "2   [1.2154231900015608, -1.2154231900015608]   \n",
       "3     [1.159801731256955, -1.159801731256955]   \n",
       "4   [1.2154231900015608, -1.2154231900015608]   \n",
       "..                                        ...   \n",
       "83  [0.8605891359793435, -0.8605891359793435]   \n",
       "84  [0.8605891359793435, -0.8605891359793435]   \n",
       "85  [0.8605891359793435, -0.8605891359793435]   \n",
       "86  [0.8605891359793435, -0.8605891359793435]   \n",
       "87  [0.8605891359793435, -0.8605891359793435]   \n",
       "\n",
       "                                  probability  prediction  \n",
       "0   [0.9191494527625703, 0.08085054723742968]         0.0  \n",
       "1   [0.9191494527625703, 0.08085054723742968]         0.0  \n",
       "2   [0.9191494527625703, 0.08085054723742968]         0.0  \n",
       "3      [0.9104876281582, 0.08951237184180005]         0.0  \n",
       "4   [0.9191494527625703, 0.08085054723742968]         0.0  \n",
       "..                                        ...         ...  \n",
       "83  [0.8482805429642534, 0.15171945703574663]         0.0  \n",
       "84  [0.8482805429642534, 0.15171945703574663]         0.0  \n",
       "85  [0.8482805429642534, 0.15171945703574663]         0.0  \n",
       "86  [0.8482805429642534, 0.15171945703574663]         0.0  \n",
       "87  [0.8482805429642534, 0.15171945703574663]         0.0  \n",
       "\n",
       "[88 rows x 7 columns]"
      ]
     },
     "execution_count": 42,
     "metadata": {},
     "output_type": "execute_result"
    }
   ],
   "source": [
    "pred_inf.toPandas()"
   ]
  }
 ],
 "metadata": {
  "kernelspec": {
   "display_name": "Python 3",
   "language": "python",
   "name": "python3"
  },
  "language_info": {
   "codemirror_mode": {
    "name": "ipython",
    "version": 3
   },
   "file_extension": ".py",
   "mimetype": "text/x-python",
   "name": "python",
   "nbconvert_exporter": "python",
   "pygments_lexer": "ipython3",
   "version": "3.10.12"
  }
 },
 "nbformat": 4,
 "nbformat_minor": 2
}
