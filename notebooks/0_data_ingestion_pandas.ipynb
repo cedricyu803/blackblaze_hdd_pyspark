{
 "cells": [
  {
   "cell_type": "code",
   "execution_count": 1,
   "metadata": {},
   "outputs": [],
   "source": [
    "import os\n",
    "\n",
    "import pandas as pd\n",
    "from pyspark.sql import SparkSession\n",
    "from pyspark.sql import functions\n",
    "\n",
    "pd.set_option('display.max_rows', 20)\n",
    "pd.set_option('display.max_columns', 200)\n",
    "\n",
    "%load_ext autoreload\n",
    "%autoreload 2"
   ]
  },
  {
   "cell_type": "code",
   "execution_count": 2,
   "metadata": {},
   "outputs": [
    {
     "data": {
      "text/plain": [
       "True"
      ]
     },
     "execution_count": 2,
     "metadata": {},
     "output_type": "execute_result"
    }
   ],
   "source": [
    "data_filepath = '../data/harddrive.csv'\n",
    "os.path.exists(data_filepath)"
   ]
  },
  {
   "cell_type": "markdown",
   "metadata": {},
   "source": [
    "## Load dataset to pd DataFrame"
   ]
  },
  {
   "cell_type": "code",
   "execution_count": 3,
   "metadata": {},
   "outputs": [],
   "source": [
    "df1 = pd.read_csv(data_filepath,\n",
    "                  usecols=['date', 'serial_number', 'model', 'failure', 'smart_1_raw'])"
   ]
  },
  {
   "cell_type": "code",
   "execution_count": 6,
   "metadata": {},
   "outputs": [
    {
     "name": "stdout",
     "output_type": "stream",
     "text": [
      "<class 'pandas.core.frame.DataFrame'>\n",
      "RangeIndex: 3179295 entries, 0 to 3179294\n",
      "Data columns (total 5 columns):\n",
      " #   Column         Dtype \n",
      "---  ------         ----- \n",
      " 0   date           object\n",
      " 1   serial_number  object\n",
      " 2   model          object\n",
      " 3   failure        int64 \n",
      " 4   smart_1_raw    int64 \n",
      "dtypes: int64(2), object(3)\n",
      "memory usage: 121.3+ MB\n"
     ]
    }
   ],
   "source": [
    "df1.info()"
   ]
  },
  {
   "cell_type": "code",
   "execution_count": 7,
   "metadata": {},
   "outputs": [
    {
     "data": {
      "text/html": [
       "<div>\n",
       "<style scoped>\n",
       "    .dataframe tbody tr th:only-of-type {\n",
       "        vertical-align: middle;\n",
       "    }\n",
       "\n",
       "    .dataframe tbody tr th {\n",
       "        vertical-align: top;\n",
       "    }\n",
       "\n",
       "    .dataframe thead th {\n",
       "        text-align: right;\n",
       "    }\n",
       "</style>\n",
       "<table border=\"1\" class=\"dataframe\">\n",
       "  <thead>\n",
       "    <tr style=\"text-align: right;\">\n",
       "      <th></th>\n",
       "      <th>date</th>\n",
       "      <th>serial_number</th>\n",
       "      <th>model</th>\n",
       "      <th>failure</th>\n",
       "      <th>smart_1_raw</th>\n",
       "    </tr>\n",
       "  </thead>\n",
       "  <tbody>\n",
       "    <tr>\n",
       "      <th>0</th>\n",
       "      <td>2016-01-01</td>\n",
       "      <td>MJ0351YNG9Z0XA</td>\n",
       "      <td>Hitachi HDS5C3030ALA630</td>\n",
       "      <td>0</td>\n",
       "      <td>0</td>\n",
       "    </tr>\n",
       "    <tr>\n",
       "      <th>1</th>\n",
       "      <td>2016-01-01</td>\n",
       "      <td>Z305B2QN</td>\n",
       "      <td>ST4000DM000</td>\n",
       "      <td>0</td>\n",
       "      <td>54551400</td>\n",
       "    </tr>\n",
       "    <tr>\n",
       "      <th>2</th>\n",
       "      <td>2016-01-01</td>\n",
       "      <td>MJ0351YNG9Z7LA</td>\n",
       "      <td>Hitachi HDS5C3030ALA630</td>\n",
       "      <td>0</td>\n",
       "      <td>0</td>\n",
       "    </tr>\n",
       "    <tr>\n",
       "      <th>3</th>\n",
       "      <td>2016-01-01</td>\n",
       "      <td>MJ0351YNGABYAA</td>\n",
       "      <td>Hitachi HDS5C3030ALA630</td>\n",
       "      <td>0</td>\n",
       "      <td>0</td>\n",
       "    </tr>\n",
       "    <tr>\n",
       "      <th>4</th>\n",
       "      <td>2016-01-01</td>\n",
       "      <td>WD-WMC4N2899475</td>\n",
       "      <td>WDC WD30EFRX</td>\n",
       "      <td>0</td>\n",
       "      <td>0</td>\n",
       "    </tr>\n",
       "  </tbody>\n",
       "</table>\n",
       "</div>"
      ],
      "text/plain": [
       "         date    serial_number                    model  failure  smart_1_raw\n",
       "0  2016-01-01   MJ0351YNG9Z0XA  Hitachi HDS5C3030ALA630        0            0\n",
       "1  2016-01-01         Z305B2QN              ST4000DM000        0     54551400\n",
       "2  2016-01-01   MJ0351YNG9Z7LA  Hitachi HDS5C3030ALA630        0            0\n",
       "3  2016-01-01   MJ0351YNGABYAA  Hitachi HDS5C3030ALA630        0            0\n",
       "4  2016-01-01  WD-WMC4N2899475             WDC WD30EFRX        0            0"
      ]
     },
     "execution_count": 7,
     "metadata": {},
     "output_type": "execute_result"
    }
   ],
   "source": [
    "df1.head()"
   ]
  },
  {
   "cell_type": "code",
   "execution_count": 8,
   "metadata": {},
   "outputs": [
    {
     "data": {
      "text/plain": [
       "65993"
      ]
     },
     "execution_count": 8,
     "metadata": {},
     "output_type": "execute_result"
    }
   ],
   "source": [
    "df1['serial_number'].nunique()"
   ]
  },
  {
   "cell_type": "code",
   "execution_count": 9,
   "metadata": {},
   "outputs": [
    {
     "data": {
      "text/plain": [
       "serial_number\n",
       "13H2B97AS    52\n",
       "13H32WEAS    52\n",
       "13H6A21GS    52\n",
       "13H7X2HAS    52\n",
       "13H85BMGS    52\n",
       "             ..\n",
       "Z4D1XY09     52\n",
       "Z4D29XNF     52\n",
       "Z4D2B5EC     52\n",
       "Z4E09K9M     30\n",
       "Z4E09KB7     30\n",
       "Name: date, Length: 65993, dtype: int64"
      ]
     },
     "execution_count": 9,
     "metadata": {},
     "output_type": "execute_result"
    }
   ],
   "source": [
    "df1.groupby(['serial_number'])['date'].count()"
   ]
  },
  {
   "cell_type": "code",
   "execution_count": 10,
   "metadata": {},
   "outputs": [
    {
     "data": {
      "text/plain": [
       "failure\n",
       "0    3179080\n",
       "1        215\n",
       "Name: count, dtype: int64"
      ]
     },
     "execution_count": 10,
     "metadata": {},
     "output_type": "execute_result"
    }
   ],
   "source": [
    "df1['failure'].value_counts()"
   ]
  },
  {
   "cell_type": "code",
   "execution_count": 11,
   "metadata": {},
   "outputs": [
    {
     "data": {
      "text/plain": [
       "serial_number\n",
       "WD-WCC4MKDL77ZK    2\n",
       "Z300KHN0           2\n",
       "Z3015V4D           2\n",
       "W3006E5B           2\n",
       "Z300GYM0           2\n",
       "                  ..\n",
       "W0Q6KWV8           1\n",
       "S300XP36           1\n",
       "W300T2RC           1\n",
       "Z302A13D           1\n",
       "JK11A8B9J90WMF     1\n",
       "Name: count, Length: 205, dtype: int64"
      ]
     },
     "execution_count": 11,
     "metadata": {},
     "output_type": "execute_result"
    }
   ],
   "source": [
    "df1[df1['failure'] == 1]['serial_number'].value_counts()"
   ]
  },
  {
   "cell_type": "code",
   "execution_count": 12,
   "metadata": {},
   "outputs": [
    {
     "data": {
      "text/plain": [
       "205"
      ]
     },
     "execution_count": 12,
     "metadata": {},
     "output_type": "execute_result"
    }
   ],
   "source": [
    "df1[df1['failure'] == 1]['serial_number'].nunique()"
   ]
  },
  {
   "cell_type": "code",
   "execution_count": 5,
   "metadata": {},
   "outputs": [],
   "source": [
    "df2 = pd.read_csv(data_filepath).sort_values(['serial_number', 'model', 'date'])"
   ]
  },
  {
   "cell_type": "code",
   "execution_count": 12,
   "metadata": {},
   "outputs": [
    {
     "data": {
      "text/plain": [
       "(3179295, 95)"
      ]
     },
     "execution_count": 12,
     "metadata": {},
     "output_type": "execute_result"
    }
   ],
   "source": [
    "df2.shape"
   ]
  },
  {
   "cell_type": "code",
   "execution_count": 11,
   "metadata": {},
   "outputs": [
    {
     "data": {
      "text/plain": [
       "(3058798, 95)"
      ]
     },
     "execution_count": 11,
     "metadata": {},
     "output_type": "execute_result"
    }
   ],
   "source": [
    "df2.drop_duplicates().shape"
   ]
  },
  {
   "cell_type": "code",
   "execution_count": 15,
   "metadata": {},
   "outputs": [
    {
     "name": "stdout",
     "output_type": "stream",
     "text": [
      "<class 'pandas.core.frame.DataFrame'>\n",
      "RangeIndex: 10000 entries, 0 to 9999\n",
      "Data columns (total 95 columns):\n",
      " #   Column                Non-Null Count  Dtype  \n",
      "---  ------                --------------  -----  \n",
      " 0   date                  10000 non-null  object \n",
      " 1   serial_number         10000 non-null  object \n",
      " 2   model                 10000 non-null  object \n",
      " 3   capacity_bytes        10000 non-null  float64\n",
      " 4   failure               10000 non-null  int64  \n",
      " 5   smart_1_normalized    10000 non-null  int64  \n",
      " 6   smart_1_raw           10000 non-null  int64  \n",
      " 7   smart_2_normalized    4111 non-null   float64\n",
      " 8   smart_2_raw           4111 non-null   float64\n",
      " 9   smart_3_normalized    10000 non-null  int64  \n",
      " 10  smart_3_raw           10000 non-null  int64  \n",
      " 11  smart_4_normalized    10000 non-null  int64  \n",
      " 12  smart_4_raw           10000 non-null  int64  \n",
      " 13  smart_5_normalized    10000 non-null  int64  \n",
      " 14  smart_5_raw           10000 non-null  int64  \n",
      " 15  smart_7_normalized    10000 non-null  int64  \n",
      " 16  smart_7_raw           10000 non-null  float64\n",
      " 17  smart_8_normalized    4111 non-null   float64\n",
      " 18  smart_8_raw           4111 non-null   float64\n",
      " 19  smart_9_normalized    10000 non-null  int64  \n",
      " 20  smart_9_raw           10000 non-null  int64  \n",
      " 21  smart_10_normalized   10000 non-null  int64  \n",
      " 22  smart_10_raw          10000 non-null  int64  \n",
      " 23  smart_11_normalized   447 non-null    float64\n",
      " 24  smart_11_raw          447 non-null    float64\n",
      " 25  smart_12_normalized   10000 non-null  int64  \n",
      " 26  smart_12_raw          10000 non-null  int64  \n",
      " 27  smart_13_normalized   0 non-null      float64\n",
      " 28  smart_13_raw          0 non-null      float64\n",
      " 29  smart_15_normalized   0 non-null      float64\n",
      " 30  smart_15_raw          0 non-null      float64\n",
      " 31  smart_22_normalized   4 non-null      float64\n",
      " 32  smart_22_raw          4 non-null      float64\n",
      " 33  smart_183_normalized  5515 non-null   float64\n",
      " 34  smart_183_raw         5515 non-null   float64\n",
      " 35  smart_184_normalized  5537 non-null   float64\n",
      " 36  smart_184_raw         5537 non-null   float64\n",
      " 37  smart_187_normalized  5537 non-null   float64\n",
      " 38  smart_187_raw         5537 non-null   float64\n",
      " 39  smart_188_normalized  5537 non-null   float64\n",
      " 40  smart_188_raw         10000 non-null  float64\n",
      " 41  smart_189_normalized  5536 non-null   float64\n",
      " 42  smart_189_raw         5536 non-null   float64\n",
      " 43  smart_190_normalized  5537 non-null   float64\n",
      " 44  smart_190_raw         5537 non-null   float64\n",
      " 45  smart_191_normalized  5616 non-null   float64\n",
      " 46  smart_191_raw         5616 non-null   float64\n",
      " 47  smart_192_normalized  9933 non-null   float64\n",
      " 48  smart_192_raw         9933 non-null   float64\n",
      " 49  smart_193_normalized  9839 non-null   float64\n",
      " 50  smart_193_raw         9839 non-null   float64\n",
      " 51  smart_194_normalized  9999 non-null   float64\n",
      " 52  smart_194_raw         9999 non-null   float64\n",
      " 53  smart_195_normalized  531 non-null    float64\n",
      " 54  smart_195_raw         531 non-null    float64\n",
      " 55  smart_196_normalized  4464 non-null   float64\n",
      " 56  smart_196_raw         4464 non-null   float64\n",
      " 57  smart_197_normalized  10000 non-null  int64  \n",
      " 58  smart_197_raw         10000 non-null  int64  \n",
      " 59  smart_198_normalized  10000 non-null  int64  \n",
      " 60  smart_198_raw         10000 non-null  int64  \n",
      " 61  smart_199_normalized  10000 non-null  int64  \n",
      " 62  smart_199_raw         10000 non-null  int64  \n",
      " 63  smart_200_normalized  447 non-null    float64\n",
      " 64  smart_200_raw         447 non-null    float64\n",
      " 65  smart_201_normalized  0 non-null      float64\n",
      " 66  smart_201_raw         0 non-null      float64\n",
      " 67  smart_220_normalized  28 non-null     float64\n",
      " 68  smart_220_raw         28 non-null     float64\n",
      " 69  smart_222_normalized  28 non-null     float64\n",
      " 70  smart_222_raw         28 non-null     float64\n",
      " 71  smart_223_normalized  122 non-null    float64\n",
      " 72  smart_223_raw         122 non-null    float64\n",
      " 73  smart_224_normalized  28 non-null     float64\n",
      " 74  smart_224_raw         28 non-null     float64\n",
      " 75  smart_225_normalized  94 non-null     float64\n",
      " 76  smart_225_raw         94 non-null     float64\n",
      " 77  smart_226_normalized  28 non-null     float64\n",
      " 78  smart_226_raw         28 non-null     float64\n",
      " 79  smart_240_normalized  5560 non-null   float64\n",
      " 80  smart_240_raw         10000 non-null  float64\n",
      " 81  smart_241_normalized  5528 non-null   float64\n",
      " 82  smart_241_raw         10000 non-null  float64\n",
      " 83  smart_242_normalized  5528 non-null   float64\n",
      " 84  smart_242_raw         10000 non-null  float64\n",
      " 85  smart_250_normalized  11 non-null     float64\n",
      " 86  smart_250_raw         11 non-null     float64\n",
      " 87  smart_251_normalized  11 non-null     float64\n",
      " 88  smart_251_raw         11 non-null     float64\n",
      " 89  smart_252_normalized  11 non-null     float64\n",
      " 90  smart_252_raw         11 non-null     float64\n",
      " 91  smart_254_normalized  21 non-null     float64\n",
      " 92  smart_254_raw         21 non-null     float64\n",
      " 93  smart_255_normalized  0 non-null      float64\n",
      " 94  smart_255_raw         0 non-null      float64\n",
      "dtypes: float64(70), int64(22), object(3)\n",
      "memory usage: 7.2+ MB\n"
     ]
    }
   ],
   "source": [
    "df2.info()"
   ]
  },
  {
   "cell_type": "markdown",
   "metadata": {},
   "source": [
    "## Load data with PySpark session"
   ]
  },
  {
   "cell_type": "code",
   "execution_count": 3,
   "metadata": {},
   "outputs": [
    {
     "name": "stderr",
     "output_type": "stream",
     "text": [
      "your 131072x1 screen size is bogus. expect trouble\n",
      "24/08/23 13:35:50 WARN Utils: Your hostname, cedric-yu-work resolves to a loopback address: 127.0.1.1; using 10.255.255.254 instead (on interface lo)\n",
      "24/08/23 13:35:50 WARN Utils: Set SPARK_LOCAL_IP if you need to bind to another address\n",
      "Setting default log level to \"WARN\".\n",
      "To adjust logging level use sc.setLogLevel(newLevel). For SparkR, use setLogLevel(newLevel).\n",
      "24/08/23 13:35:51 WARN NativeCodeLoader: Unable to load native-hadoop library for your platform... using builtin-java classes where applicable\n",
      "24/08/23 13:35:52 WARN Utils: Service 'SparkUI' could not bind on port 4040. Attempting port 4041.\n",
      "                                                                                \r"
     ]
    }
   ],
   "source": [
    "spark = (SparkSession.builder\n",
    "         .config(\"spark.driver.memory\", \"12g\")\n",
    "         .appName(\"SparkSQL\").getOrCreate())\n",
    "\n",
    "sk_data = (spark.read.option(\"header\", \"true\")\n",
    "           .option(\"inferSchema\", \"true\")\n",
    "           .csv(data_filepath))"
   ]
  },
  {
   "cell_type": "code",
   "execution_count": 4,
   "metadata": {},
   "outputs": [
    {
     "name": "stdout",
     "output_type": "stream",
     "text": [
      "root\n",
      " |-- date: date (nullable = true)\n",
      " |-- serial_number: string (nullable = true)\n",
      " |-- model: string (nullable = true)\n",
      " |-- capacity_bytes: double (nullable = true)\n",
      " |-- failure: integer (nullable = true)\n",
      " |-- smart_1_normalized: integer (nullable = true)\n",
      " |-- smart_1_raw: integer (nullable = true)\n",
      " |-- smart_2_normalized: string (nullable = true)\n",
      " |-- smart_2_raw: string (nullable = true)\n",
      " |-- smart_3_normalized: integer (nullable = true)\n",
      " |-- smart_3_raw: integer (nullable = true)\n",
      " |-- smart_4_normalized: integer (nullable = true)\n",
      " |-- smart_4_raw: integer (nullable = true)\n",
      " |-- smart_5_normalized: integer (nullable = true)\n",
      " |-- smart_5_raw: integer (nullable = true)\n",
      " |-- smart_7_normalized: integer (nullable = true)\n",
      " |-- smart_7_raw: double (nullable = true)\n",
      " |-- smart_8_normalized: string (nullable = true)\n",
      " |-- smart_8_raw: string (nullable = true)\n",
      " |-- smart_9_normalized: integer (nullable = true)\n",
      " |-- smart_9_raw: integer (nullable = true)\n",
      " |-- smart_10_normalized: integer (nullable = true)\n",
      " |-- smart_10_raw: integer (nullable = true)\n",
      " |-- smart_11_normalized: string (nullable = true)\n",
      " |-- smart_11_raw: string (nullable = true)\n",
      " |-- smart_12_normalized: integer (nullable = true)\n",
      " |-- smart_12_raw: integer (nullable = true)\n",
      " |-- smart_13_normalized: string (nullable = true)\n",
      " |-- smart_13_raw: string (nullable = true)\n",
      " |-- smart_15_normalized: string (nullable = true)\n",
      " |-- smart_15_raw: string (nullable = true)\n",
      " |-- smart_22_normalized: string (nullable = true)\n",
      " |-- smart_22_raw: string (nullable = true)\n",
      " |-- smart_183_normalized: string (nullable = true)\n",
      " |-- smart_183_raw: string (nullable = true)\n",
      " |-- smart_184_normalized: string (nullable = true)\n",
      " |-- smart_184_raw: string (nullable = true)\n",
      " |-- smart_187_normalized: string (nullable = true)\n",
      " |-- smart_187_raw: string (nullable = true)\n",
      " |-- smart_188_normalized: string (nullable = true)\n",
      " |-- smart_188_raw: double (nullable = true)\n",
      " |-- smart_189_normalized: string (nullable = true)\n",
      " |-- smart_189_raw: string (nullable = true)\n",
      " |-- smart_190_normalized: string (nullable = true)\n",
      " |-- smart_190_raw: string (nullable = true)\n",
      " |-- smart_191_normalized: string (nullable = true)\n",
      " |-- smart_191_raw: string (nullable = true)\n",
      " |-- smart_192_normalized: string (nullable = true)\n",
      " |-- smart_192_raw: string (nullable = true)\n",
      " |-- smart_193_normalized: string (nullable = true)\n",
      " |-- smart_193_raw: string (nullable = true)\n",
      " |-- smart_194_normalized: string (nullable = true)\n",
      " |-- smart_194_raw: string (nullable = true)\n",
      " |-- smart_195_normalized: string (nullable = true)\n",
      " |-- smart_195_raw: string (nullable = true)\n",
      " |-- smart_196_normalized: string (nullable = true)\n",
      " |-- smart_196_raw: string (nullable = true)\n",
      " |-- smart_197_normalized: integer (nullable = true)\n",
      " |-- smart_197_raw: integer (nullable = true)\n",
      " |-- smart_198_normalized: integer (nullable = true)\n",
      " |-- smart_198_raw: integer (nullable = true)\n",
      " |-- smart_199_normalized: integer (nullable = true)\n",
      " |-- smart_199_raw: integer (nullable = true)\n",
      " |-- smart_200_normalized: string (nullable = true)\n",
      " |-- smart_200_raw: string (nullable = true)\n",
      " |-- smart_201_normalized: string (nullable = true)\n",
      " |-- smart_201_raw: string (nullable = true)\n",
      " |-- smart_220_normalized: string (nullable = true)\n",
      " |-- smart_220_raw: string (nullable = true)\n",
      " |-- smart_222_normalized: string (nullable = true)\n",
      " |-- smart_222_raw: string (nullable = true)\n",
      " |-- smart_223_normalized: string (nullable = true)\n",
      " |-- smart_223_raw: string (nullable = true)\n",
      " |-- smart_224_normalized: string (nullable = true)\n",
      " |-- smart_224_raw: string (nullable = true)\n",
      " |-- smart_225_normalized: string (nullable = true)\n",
      " |-- smart_225_raw: string (nullable = true)\n",
      " |-- smart_226_normalized: string (nullable = true)\n",
      " |-- smart_226_raw: string (nullable = true)\n",
      " |-- smart_240_normalized: string (nullable = true)\n",
      " |-- smart_240_raw: double (nullable = true)\n",
      " |-- smart_241_normalized: string (nullable = true)\n",
      " |-- smart_241_raw: double (nullable = true)\n",
      " |-- smart_242_normalized: string (nullable = true)\n",
      " |-- smart_242_raw: double (nullable = true)\n",
      " |-- smart_250_normalized: string (nullable = true)\n",
      " |-- smart_250_raw: string (nullable = true)\n",
      " |-- smart_251_normalized: string (nullable = true)\n",
      " |-- smart_251_raw: string (nullable = true)\n",
      " |-- smart_252_normalized: string (nullable = true)\n",
      " |-- smart_252_raw: string (nullable = true)\n",
      " |-- smart_254_normalized: string (nullable = true)\n",
      " |-- smart_254_raw: string (nullable = true)\n",
      " |-- smart_255_normalized: string (nullable = true)\n",
      " |-- smart_255_raw: string (nullable = true)\n",
      "\n"
     ]
    }
   ],
   "source": [
    "sk_data.printSchema()"
   ]
  },
  {
   "cell_type": "code",
   "execution_count": 5,
   "metadata": {},
   "outputs": [],
   "source": [
    "date_col = 'date'\n",
    "target_label = 'failure'\n",
    "id_cols = ['serial_number', 'model']\n"
   ]
  },
  {
   "cell_type": "code",
   "execution_count": 7,
   "metadata": {},
   "outputs": [
    {
     "data": {
      "text/plain": [
       "477"
      ]
     },
     "execution_count": 7,
     "metadata": {},
     "output_type": "execute_result"
    }
   ],
   "source": [
    "import gc\n",
    "gc.collect()"
   ]
  },
  {
   "cell_type": "code",
   "execution_count": 10,
   "metadata": {},
   "outputs": [
    {
     "data": {
      "text/plain": [
       "[Row(date=datetime.date(2016, 1, 1), serial_number='MJ0351YNG9Z0XA', model='Hitachi HDS5C3030ALA630', capacity_bytes=1.4824899095664e-311, failure=0, smart_1_normalized=100, smart_1_raw=0, smart_2_normalized='135', smart_2_raw='108', smart_3_normalized=143, smart_3_raw=540, smart_4_normalized=100, smart_4_raw=14, smart_5_normalized=100, smart_5_raw=0, smart_7_normalized=100, smart_7_raw=0.0, smart_8_normalized='122', smart_8_raw='37', smart_9_normalized=97, smart_9_raw=27929, smart_10_normalized=100, smart_10_raw=0, smart_11_normalized='NA', smart_11_raw='NA', smart_12_normalized=100, smart_12_raw=14, smart_13_normalized='NA', smart_13_raw='NA', smart_15_normalized='NA', smart_15_raw='NA', smart_22_normalized='NA', smart_22_raw='NA', smart_183_normalized='NA', smart_183_raw='NA', smart_184_normalized='NA', smart_184_raw='NA', smart_187_normalized='NA', smart_187_raw='NA', smart_188_normalized='NA', smart_188_raw=0.0, smart_189_normalized='NA', smart_189_raw='NA', smart_190_normalized='NA', smart_190_raw='NA', smart_191_normalized='NA', smart_191_raw='NA', smart_192_normalized='100', smart_192_raw='216', smart_193_normalized='100', smart_193_raw='216', smart_194_normalized='253', smart_194_raw='20', smart_195_normalized='NA', smart_195_raw='NA', smart_196_normalized='100', smart_196_raw='0', smart_197_normalized=100, smart_197_raw=0, smart_198_normalized=100, smart_198_raw=0, smart_199_normalized=200, smart_199_raw=0, smart_200_normalized='NA', smart_200_raw='NA', smart_201_normalized='NA', smart_201_raw='NA', smart_220_normalized='NA', smart_220_raw='NA', smart_222_normalized='NA', smart_222_raw='NA', smart_223_normalized='NA', smart_223_raw='NA', smart_224_normalized='NA', smart_224_raw='NA', smart_225_normalized='NA', smart_225_raw='NA', smart_226_normalized='NA', smart_226_raw='NA', smart_240_normalized='NA', smart_240_raw=0.0, smart_241_normalized='NA', smart_241_raw=0.0, smart_242_normalized='NA', smart_242_raw=0.0, smart_250_normalized='NA', smart_250_raw='NA', smart_251_normalized='NA', smart_251_raw='NA', smart_252_normalized='NA', smart_252_raw='NA', smart_254_normalized='NA', smart_254_raw='NA', smart_255_normalized='NA', smart_255_raw='NA'),\n",
       " Row(date=datetime.date(2016, 1, 1), serial_number='Z305B2QN', model='ST4000DM000', capacity_bytes=1.976651427858e-311, failure=0, smart_1_normalized=113, smart_1_raw=54551400, smart_2_normalized='NA', smart_2_raw='NA', smart_3_normalized=96, smart_3_raw=0, smart_4_normalized=100, smart_4_raw=4, smart_5_normalized=100, smart_5_raw=0, smart_7_normalized=63, smart_7_raw=1.2798e-317, smart_8_normalized='NA', smart_8_raw='NA', smart_9_normalized=100, smart_9_raw=411, smart_10_normalized=100, smart_10_raw=0, smart_11_normalized='NA', smart_11_raw='NA', smart_12_normalized=100, smart_12_raw=4, smart_13_normalized='NA', smart_13_raw='NA', smart_15_normalized='NA', smart_15_raw='NA', smart_22_normalized='NA', smart_22_raw='NA', smart_183_normalized='100', smart_183_raw='0', smart_184_normalized='100', smart_184_raw='0', smart_187_normalized='100', smart_187_raw='0', smart_188_normalized='100', smart_188_raw=0.0, smart_189_normalized='100', smart_189_raw='0', smart_190_normalized='70', smart_190_raw='30', smart_191_normalized='100', smart_191_raw='0', smart_192_normalized='100', smart_192_raw='0', smart_193_normalized='92', smart_193_raw='16090', smart_194_normalized='30', smart_194_raw='30', smart_195_normalized='NA', smart_195_raw='NA', smart_196_normalized='NA', smart_196_raw='NA', smart_197_normalized=100, smart_197_raw=0, smart_198_normalized=100, smart_198_raw=0, smart_199_normalized=200, smart_199_raw=0, smart_200_normalized='NA', smart_200_raw='NA', smart_201_normalized='NA', smart_201_raw='NA', smart_220_normalized='NA', smart_220_raw='NA', smart_222_normalized='NA', smart_222_raw='NA', smart_223_normalized='NA', smart_223_raw='NA', smart_224_normalized='NA', smart_224_raw='NA', smart_225_normalized='NA', smart_225_raw='NA', smart_226_normalized='NA', smart_226_raw='NA', smart_240_normalized='100', smart_240_raw=1.32e-321, smart_241_normalized='100', smart_241_raw=3.46796301e-315, smart_242_normalized='100', smart_242_raw=1.316881624e-315, smart_250_normalized='NA', smart_250_raw='NA', smart_251_normalized='NA', smart_251_raw='NA', smart_252_normalized='NA', smart_252_raw='NA', smart_254_normalized='NA', smart_254_raw='NA', smart_255_normalized='NA', smart_255_raw='NA'),\n",
       " Row(date=datetime.date(2016, 1, 1), serial_number='MJ0351YNG9Z7LA', model='Hitachi HDS5C3030ALA630', capacity_bytes=1.4824899095664e-311, failure=0, smart_1_normalized=100, smart_1_raw=0, smart_2_normalized='136', smart_2_raw='104', smart_3_normalized=124, smart_3_raw=566, smart_4_normalized=100, smart_4_raw=19, smart_5_normalized=100, smart_5_raw=0, smart_7_normalized=100, smart_7_raw=0.0, smart_8_normalized='122', smart_8_raw='37', smart_9_normalized=97, smart_9_raw=27492, smart_10_normalized=100, smart_10_raw=0, smart_11_normalized='NA', smart_11_raw='NA', smart_12_normalized=100, smart_12_raw=18, smart_13_normalized='NA', smart_13_raw='NA', smart_15_normalized='NA', smart_15_raw='NA', smart_22_normalized='NA', smart_22_raw='NA', smart_183_normalized='NA', smart_183_raw='NA', smart_184_normalized='NA', smart_184_raw='NA', smart_187_normalized='NA', smart_187_raw='NA', smart_188_normalized='NA', smart_188_raw=0.0, smart_189_normalized='NA', smart_189_raw='NA', smart_190_normalized='NA', smart_190_raw='NA', smart_191_normalized='NA', smart_191_raw='NA', smart_192_normalized='100', smart_192_raw='213', smart_193_normalized='100', smart_193_raw='213', smart_194_normalized='250', smart_194_raw='24', smart_195_normalized='NA', smart_195_raw='NA', smart_196_normalized='100', smart_196_raw='0', smart_197_normalized=100, smart_197_raw=0, smart_198_normalized=100, smart_198_raw=0, smart_199_normalized=200, smart_199_raw=0, smart_200_normalized='NA', smart_200_raw='NA', smart_201_normalized='NA', smart_201_raw='NA', smart_220_normalized='NA', smart_220_raw='NA', smart_222_normalized='NA', smart_222_raw='NA', smart_223_normalized='NA', smart_223_raw='NA', smart_224_normalized='NA', smart_224_raw='NA', smart_225_normalized='NA', smart_225_raw='NA', smart_226_normalized='NA', smart_226_raw='NA', smart_240_normalized='NA', smart_240_raw=0.0, smart_241_normalized='NA', smart_241_raw=0.0, smart_242_normalized='NA', smart_242_raw=0.0, smart_250_normalized='NA', smart_250_raw='NA', smart_251_normalized='NA', smart_251_raw='NA', smart_252_normalized='NA', smart_252_raw='NA', smart_254_normalized='NA', smart_254_raw='NA', smart_255_normalized='NA', smart_255_raw='NA'),\n",
       " Row(date=datetime.date(2016, 1, 1), serial_number='MJ0351YNGABYAA', model='Hitachi HDS5C3030ALA630', capacity_bytes=1.4824899095664e-311, failure=0, smart_1_normalized=100, smart_1_raw=0, smart_2_normalized='136', smart_2_raw='104', smart_3_normalized=137, smart_3_raw=507, smart_4_normalized=100, smart_4_raw=15, smart_5_normalized=100, smart_5_raw=0, smart_7_normalized=100, smart_7_raw=0.0, smart_8_normalized='122', smart_8_raw='37', smart_9_normalized=97, smart_9_raw=26640, smart_10_normalized=100, smart_10_raw=0, smart_11_normalized='NA', smart_11_raw='NA', smart_12_normalized=100, smart_12_raw=15, smart_13_normalized='NA', smart_13_raw='NA', smart_15_normalized='NA', smart_15_raw='NA', smart_22_normalized='NA', smart_22_raw='NA', smart_183_normalized='NA', smart_183_raw='NA', smart_184_normalized='NA', smart_184_raw='NA', smart_187_normalized='NA', smart_187_raw='NA', smart_188_normalized='NA', smart_188_raw=0.0, smart_189_normalized='NA', smart_189_raw='NA', smart_190_normalized='NA', smart_190_raw='NA', smart_191_normalized='NA', smart_191_raw='NA', smart_192_normalized='100', smart_192_raw='241', smart_193_normalized='100', smart_193_raw='241', smart_194_normalized='193', smart_194_raw='31', smart_195_normalized='NA', smart_195_raw='NA', smart_196_normalized='100', smart_196_raw='0', smart_197_normalized=100, smart_197_raw=0, smart_198_normalized=100, smart_198_raw=0, smart_199_normalized=200, smart_199_raw=0, smart_200_normalized='NA', smart_200_raw='NA', smart_201_normalized='NA', smart_201_raw='NA', smart_220_normalized='NA', smart_220_raw='NA', smart_222_normalized='NA', smart_222_raw='NA', smart_223_normalized='NA', smart_223_raw='NA', smart_224_normalized='NA', smart_224_raw='NA', smart_225_normalized='NA', smart_225_raw='NA', smart_226_normalized='NA', smart_226_raw='NA', smart_240_normalized='NA', smart_240_raw=0.0, smart_241_normalized='NA', smart_241_raw=0.0, smart_242_normalized='NA', smart_242_raw=0.0, smart_250_normalized='NA', smart_250_raw='NA', smart_251_normalized='NA', smart_251_raw='NA', smart_252_normalized='NA', smart_252_raw='NA', smart_254_normalized='NA', smart_254_raw='NA', smart_255_normalized='NA', smart_255_raw='NA'),\n",
       " Row(date=datetime.date(2016, 1, 1), serial_number='WD-WMC4N2899475', model='WDC WD30EFRX', capacity_bytes=1.4824899095664e-311, failure=0, smart_1_normalized=200, smart_1_raw=0, smart_2_normalized='NA', smart_2_raw='NA', smart_3_normalized=175, smart_3_raw=6250, smart_4_normalized=100, smart_4_raw=10, smart_5_normalized=200, smart_5_raw=0, smart_7_normalized=100, smart_7_raw=0.0, smart_8_normalized='NA', smart_8_raw='NA', smart_9_normalized=84, smart_9_raw=12198, smart_10_normalized=100, smart_10_raw=0, smart_11_normalized='100', smart_11_raw='0', smart_12_normalized=100, smart_12_raw=10, smart_13_normalized='NA', smart_13_raw='NA', smart_15_normalized='NA', smart_15_raw='NA', smart_22_normalized='NA', smart_22_raw='NA', smart_183_normalized='NA', smart_183_raw='NA', smart_184_normalized='NA', smart_184_raw='NA', smart_187_normalized='NA', smart_187_raw='NA', smart_188_normalized='NA', smart_188_raw=0.0, smart_189_normalized='NA', smart_189_raw='NA', smart_190_normalized='NA', smart_190_raw='NA', smart_191_normalized='NA', smart_191_raw='NA', smart_192_normalized='200', smart_192_raw='3', smart_193_normalized='200', smart_193_raw='361', smart_194_normalized='121', smart_194_raw='29', smart_195_normalized='NA', smart_195_raw='NA', smart_196_normalized='200', smart_196_raw='0', smart_197_normalized=200, smart_197_raw=0, smart_198_normalized=100, smart_198_raw=0, smart_199_normalized=200, smart_199_raw=0, smart_200_normalized='100', smart_200_raw='0', smart_201_normalized='NA', smart_201_raw='NA', smart_220_normalized='NA', smart_220_raw='NA', smart_222_normalized='NA', smart_222_raw='NA', smart_223_normalized='NA', smart_223_raw='NA', smart_224_normalized='NA', smart_224_raw='NA', smart_225_normalized='NA', smart_225_raw='NA', smart_226_normalized='NA', smart_226_raw='NA', smart_240_normalized='NA', smart_240_raw=0.0, smart_241_normalized='NA', smart_241_raw=0.0, smart_242_normalized='NA', smart_242_raw=0.0, smart_250_normalized='NA', smart_250_raw='NA', smart_251_normalized='NA', smart_251_raw='NA', smart_252_normalized='NA', smart_252_raw='NA', smart_254_normalized='NA', smart_254_raw='NA', smart_255_normalized='NA', smart_255_raw='NA'),\n",
       " Row(date=datetime.date(2016, 1, 1), serial_number='PL1321LAG34XWH', model='Hitachi HDS5C4040ALE630', capacity_bytes=1.976651427858e-311, failure=0, smart_1_normalized=100, smart_1_raw=0, smart_2_normalized='134', smart_2_raw='101', smart_3_normalized=131, smart_3_raw=514, smart_4_normalized=100, smart_4_raw=29, smart_5_normalized=100, smart_5_raw=0, smart_7_normalized=100, smart_7_raw=0.0, smart_8_normalized='113', smart_8_raw='42', smart_9_normalized=97, smart_9_raw=24589, smart_10_normalized=100, smart_10_raw=0, smart_11_normalized='NA', smart_11_raw='NA', smart_12_normalized=100, smart_12_raw=29, smart_13_normalized='NA', smart_13_raw='NA', smart_15_normalized='NA', smart_15_raw='NA', smart_22_normalized='NA', smart_22_raw='NA', smart_183_normalized='NA', smart_183_raw='NA', smart_184_normalized='NA', smart_184_raw='NA', smart_187_normalized='NA', smart_187_raw='NA', smart_188_normalized='NA', smart_188_raw=0.0, smart_189_normalized='NA', smart_189_raw='NA', smart_190_normalized='NA', smart_190_raw='NA', smart_191_normalized='NA', smart_191_raw='NA', smart_192_normalized='100', smart_192_raw='40', smart_193_normalized='100', smart_193_raw='40', smart_194_normalized='222', smart_194_raw='27', smart_195_normalized='NA', smart_195_raw='NA', smart_196_normalized='100', smart_196_raw='0', smart_197_normalized=100, smart_197_raw=0, smart_198_normalized=100, smart_198_raw=0, smart_199_normalized=200, smart_199_raw=0, smart_200_normalized='NA', smart_200_raw='NA', smart_201_normalized='NA', smart_201_raw='NA', smart_220_normalized='NA', smart_220_raw='NA', smart_222_normalized='NA', smart_222_raw='NA', smart_223_normalized='NA', smart_223_raw='NA', smart_224_normalized='NA', smart_224_raw='NA', smart_225_normalized='NA', smart_225_raw='NA', smart_226_normalized='NA', smart_226_raw='NA', smart_240_normalized='NA', smart_240_raw=0.0, smart_241_normalized='NA', smart_241_raw=0.0, smart_242_normalized='NA', smart_242_raw=0.0, smart_250_normalized='NA', smart_250_raw='NA', smart_251_normalized='NA', smart_251_raw='NA', smart_252_normalized='NA', smart_252_raw='NA', smart_254_normalized='NA', smart_254_raw='NA', smart_255_normalized='NA', smart_255_raw='NA'),\n",
       " Row(date=datetime.date(2016, 1, 1), serial_number='MJ1323YNG1TJ7C', model='Hitachi HDS5C3030ALA630', capacity_bytes=1.4824899095664e-311, failure=0, smart_1_normalized=100, smart_1_raw=0, smart_2_normalized='100', smart_2_raw='0', smart_3_normalized=122, smart_3_raw=575, smart_4_normalized=100, smart_4_raw=16, smart_5_normalized=100, smart_5_raw=0, smart_7_normalized=100, smart_7_raw=0.0, smart_8_normalized='100', smart_8_raw='0', smart_9_normalized=95, smart_9_raw=37396, smart_10_normalized=100, smart_10_raw=0, smart_11_normalized='NA', smart_11_raw='NA', smart_12_normalized=100, smart_12_raw=16, smart_13_normalized='NA', smart_13_raw='NA', smart_15_normalized='NA', smart_15_raw='NA', smart_22_normalized='NA', smart_22_raw='NA', smart_183_normalized='NA', smart_183_raw='NA', smart_184_normalized='NA', smart_184_raw='NA', smart_187_normalized='NA', smart_187_raw='NA', smart_188_normalized='NA', smart_188_raw=0.0, smart_189_normalized='NA', smart_189_raw='NA', smart_190_normalized='NA', smart_190_raw='NA', smart_191_normalized='NA', smart_191_raw='NA', smart_192_normalized='99', smart_192_raw='1370', smart_193_normalized='99', smart_193_raw='1370', smart_194_normalized='253', smart_194_raw='22', smart_195_normalized='NA', smart_195_raw='NA', smart_196_normalized='100', smart_196_raw='0', smart_197_normalized=100, smart_197_raw=0, smart_198_normalized=100, smart_198_raw=0, smart_199_normalized=200, smart_199_raw=0, smart_200_normalized='NA', smart_200_raw='NA', smart_201_normalized='NA', smart_201_raw='NA', smart_220_normalized='NA', smart_220_raw='NA', smart_222_normalized='NA', smart_222_raw='NA', smart_223_normalized='NA', smart_223_raw='NA', smart_224_normalized='NA', smart_224_raw='NA', smart_225_normalized='NA', smart_225_raw='NA', smart_226_normalized='NA', smart_226_raw='NA', smart_240_normalized='NA', smart_240_raw=0.0, smart_241_normalized='NA', smart_241_raw=0.0, smart_242_normalized='NA', smart_242_raw=0.0, smart_250_normalized='NA', smart_250_raw='NA', smart_251_normalized='NA', smart_251_raw='NA', smart_252_normalized='NA', smart_252_raw='NA', smart_254_normalized='NA', smart_254_raw='NA', smart_255_normalized='NA', smart_255_raw='NA'),\n",
       " Row(date=datetime.date(2016, 1, 1), serial_number='S300Z6K9', model='ST4000DM000', capacity_bytes=1.976651427858e-311, failure=0, smart_1_normalized=107, smart_1_raw=13985080, smart_2_normalized='NA', smart_2_raw='NA', smart_3_normalized=97, smart_3_raw=0, smart_4_normalized=100, smart_4_raw=3, smart_5_normalized=100, smart_5_raw=0, smart_7_normalized=83, smart_7_raw=1.01727805e-315, smart_8_normalized='NA', smart_8_raw='NA', smart_9_normalized=94, smart_9_raw=5506, smart_10_normalized=100, smart_10_raw=0, smart_11_normalized='NA', smart_11_raw='NA', smart_12_normalized=100, smart_12_raw=3, smart_13_normalized='NA', smart_13_raw='NA', smart_15_normalized='NA', smart_15_raw='NA', smart_22_normalized='NA', smart_22_raw='NA', smart_183_normalized='100', smart_183_raw='0', smart_184_normalized='100', smart_184_raw='0', smart_187_normalized='100', smart_187_raw='0', smart_188_normalized='100', smart_188_raw=0.0, smart_189_normalized='100', smart_189_raw='0', smart_190_normalized='74', smart_190_raw='26', smart_191_normalized='100', smart_191_raw='0', smart_192_normalized='100', smart_192_raw='0', smart_193_normalized='85', smart_193_raw='31005', smart_194_normalized='26', smart_194_raw='26', smart_195_normalized='NA', smart_195_raw='NA', smart_196_normalized='NA', smart_196_raw='NA', smart_197_normalized=100, smart_197_raw=0, smart_198_normalized=100, smart_198_raw=0, smart_199_normalized=200, smart_199_raw=0, smart_200_normalized='NA', smart_200_raw='NA', smart_201_normalized='NA', smart_201_raw='NA', smart_220_normalized='NA', smart_220_raw='NA', smart_222_normalized='NA', smart_222_raw='NA', smart_223_normalized='NA', smart_223_raw='NA', smart_224_normalized='NA', smart_224_raw='NA', smart_225_normalized='NA', smart_225_raw='NA', smart_226_normalized='NA', smart_226_raw='NA', smart_240_normalized='100', smart_240_raw=2.656e-320, smart_241_normalized='100', smart_241_raw=1.12366241523e-313, smart_242_normalized='100', smart_242_raw=1.761059118e-314, smart_250_normalized='NA', smart_250_raw='NA', smart_251_normalized='NA', smart_251_raw='NA', smart_252_normalized='NA', smart_252_raw='NA', smart_254_normalized='NA', smart_254_raw='NA', smart_255_normalized='NA', smart_255_raw='NA'),\n",
       " Row(date=datetime.date(2016, 1, 1), serial_number='S300Z6K8', model='ST4000DM000', capacity_bytes=1.976651427858e-311, failure=0, smart_1_normalized=116, smart_1_raw=109242152, smart_2_normalized='NA', smart_2_raw='NA', smart_3_normalized=97, smart_3_raw=0, smart_4_normalized=100, smart_4_raw=3, smart_5_normalized=100, smart_5_raw=0, smart_7_normalized=81, smart_7_raw=7.26655675e-316, smart_8_normalized='NA', smart_8_raw='NA', smart_9_normalized=96, smart_9_raw=4016, smart_10_normalized=100, smart_10_raw=0, smart_11_normalized='NA', smart_11_raw='NA', smart_12_normalized=100, smart_12_raw=3, smart_13_normalized='NA', smart_13_raw='NA', smart_15_normalized='NA', smart_15_raw='NA', smart_22_normalized='NA', smart_22_raw='NA', smart_183_normalized='100', smart_183_raw='0', smart_184_normalized='100', smart_184_raw='0', smart_187_normalized='100', smart_187_raw='0', smart_188_normalized='100', smart_188_raw=0.0, smart_189_normalized='100', smart_189_raw='0', smart_190_normalized='73', smart_190_raw='27', smart_191_normalized='100', smart_191_raw='0', smart_192_normalized='100', smart_192_raw='0', smart_193_normalized='81', smart_193_raw='38958', smart_194_normalized='27', smart_194_raw='27', smart_195_normalized='NA', smart_195_raw='NA', smart_196_normalized='NA', smart_196_raw='NA', smart_197_normalized=100, smart_197_raw=0, smart_198_normalized=100, smart_198_raw=0, smart_199_normalized=200, smart_199_raw=0, smart_200_normalized='NA', smart_200_raw='NA', smart_201_normalized='NA', smart_201_raw='NA', smart_220_normalized='NA', smart_220_raw='NA', smart_222_normalized='NA', smart_222_raw='NA', smart_223_normalized='NA', smart_223_raw='NA', smart_224_normalized='NA', smart_224_raw='NA', smart_225_normalized='NA', smart_225_raw='NA', smart_226_normalized='NA', smart_226_raw='NA', smart_240_normalized='100', smart_240_raw=1.83e-320, smart_241_normalized='100', smart_241_raw=9.0290576737e-314, smart_242_normalized='100', smart_242_raw=2.55173238e-314, smart_250_normalized='NA', smart_250_raw='NA', smart_251_normalized='NA', smart_251_raw='NA', smart_252_normalized='NA', smart_252_raw='NA', smart_254_normalized='NA', smart_254_raw='NA', smart_255_normalized='NA', smart_255_raw='NA'),\n",
       " Row(date=datetime.date(2016, 1, 1), serial_number='Z302PGH8', model='ST4000DM000', capacity_bytes=1.976651427858e-311, failure=0, smart_1_normalized=112, smart_1_raw=46112000, smart_2_normalized='NA', smart_2_raw='NA', smart_3_normalized=92, smart_3_raw=0, smart_4_normalized=100, smart_4_raw=16, smart_5_normalized=100, smart_5_raw=0, smart_7_normalized=84, smart_7_raw=1.488203437e-315, smart_8_normalized='NA', smart_8_raw='NA', smart_9_normalized=95, smart_9_raw=5130, smart_10_normalized=100, smart_10_raw=0, smart_11_normalized='NA', smart_11_raw='NA', smart_12_normalized=100, smart_12_raw=16, smart_13_normalized='NA', smart_13_raw='NA', smart_15_normalized='NA', smart_15_raw='NA', smart_22_normalized='NA', smart_22_raw='NA', smart_183_normalized='100', smart_183_raw='0', smart_184_normalized='100', smart_184_raw='0', smart_187_normalized='100', smart_187_raw='0', smart_188_normalized='100', smart_188_raw=0.0, smart_189_normalized='100', smart_189_raw='0', smart_190_normalized='80', smart_190_raw='20', smart_191_normalized='100', smart_191_raw='0', smart_192_normalized='100', smart_192_raw='2', smart_193_normalized='100', smart_193_raw='203', smart_194_normalized='20', smart_194_raw='20', smart_195_normalized='NA', smart_195_raw='NA', smart_196_normalized='NA', smart_196_raw='NA', smart_197_normalized=100, smart_197_raw=0, smart_198_normalized=100, smart_198_raw=0, smart_199_normalized=200, smart_199_raw=0, smart_200_normalized='NA', smart_200_raw='NA', smart_201_normalized='NA', smart_201_raw='NA', smart_220_normalized='NA', smart_220_raw='NA', smart_222_normalized='NA', smart_222_raw='NA', smart_223_normalized='NA', smart_223_raw='NA', smart_224_normalized='NA', smart_224_raw='NA', smart_225_normalized='NA', smart_225_raw='NA', smart_226_normalized='NA', smart_226_raw='NA', smart_240_normalized='100', smart_240_raw=2.5336e-320, smart_241_normalized='100', smart_241_raw=5.8561054693e-314, smart_242_normalized='100', smart_242_raw=2.3569219648e-313, smart_250_normalized='NA', smart_250_raw='NA', smart_251_normalized='NA', smart_251_raw='NA', smart_252_normalized='NA', smart_252_raw='NA', smart_254_normalized='NA', smart_254_raw='NA', smart_255_normalized='NA', smart_255_raw='NA')]"
      ]
     },
     "execution_count": 10,
     "metadata": {},
     "output_type": "execute_result"
    }
   ],
   "source": [
    "sk_data.take(10)"
   ]
  },
  {
   "cell_type": "code",
   "execution_count": 13,
   "metadata": {},
   "outputs": [
    {
     "name": "stderr",
     "output_type": "stream",
     "text": [
      "                                                                                \r"
     ]
    },
    {
     "name": "stdout",
     "output_type": "stream",
     "text": [
      "Row(min(date)=datetime.date(2016, 1, 1))\n"
     ]
    },
    {
     "name": "stderr",
     "output_type": "stream",
     "text": [
      "[Stage 11:>                                                       (0 + 16) / 16]\r"
     ]
    },
    {
     "name": "stdout",
     "output_type": "stream",
     "text": [
      "Row(max(date)=datetime.date(2016, 4, 29))\n"
     ]
    },
    {
     "name": "stderr",
     "output_type": "stream",
     "text": [
      "                                                                                \r"
     ]
    }
   ],
   "source": [
    "print(sk_data.agg({date_col: \"min\"}).collect()[0])\n",
    "print(sk_data.agg({date_col: \"max\"}).collect()[0])"
   ]
  },
  {
   "cell_type": "code",
   "execution_count": 16,
   "metadata": {},
   "outputs": [
    {
     "name": "stderr",
     "output_type": "stream",
     "text": [
      "[Stage 14:>                                                       (0 + 16) / 16]\r"
     ]
    },
    {
     "name": "stdout",
     "output_type": "stream",
     "text": [
      "+--------------------+\n",
      "|               model|\n",
      "+--------------------+\n",
      "|         ST9250315AS|\n",
      "|         ST4000DM000|\n",
      "|          ST320LT007|\n",
      "|         ST3500320AS|\n",
      "|      WDC WD5002ABYS|\n",
      "|      WDC WD2500BEVT|\n",
      "|Hitachi HDS5C3030...|\n",
      "|        WDC WD60EFRX|\n",
      "|       WDC WD800AAJB|\n",
      "|Hitachi HDS722020...|\n",
      "|      WDC WD3200LPVX|\n",
      "|  TOSHIBA DT01ACA300|\n",
      "|HGST HMS5C4040ALE640|\n",
      "|      WDC WD3200BEKT|\n",
      "| TOSHIBA MD04ABA500V|\n",
      "| TOSHIBA MD04ABA400V|\n",
      "|      WDC WD1600BPVT|\n",
      "|Hitachi HDS723020...|\n",
      "|         WDC WD800BB|\n",
      "|      WDC WD2500AAJS|\n",
      "+--------------------+\n",
      "only showing top 20 rows\n",
      "\n"
     ]
    },
    {
     "name": "stderr",
     "output_type": "stream",
     "text": [
      "                                                                                \r"
     ]
    }
   ],
   "source": [
    "sk_data.select('model').distinct().show()"
   ]
  },
  {
   "cell_type": "code",
   "execution_count": 20,
   "metadata": {},
   "outputs": [
    {
     "name": "stderr",
     "output_type": "stream",
     "text": [
      "                                                                                \r"
     ]
    },
    {
     "data": {
      "text/plain": [
       "[Row(count(DISTINCT model)=69)]"
      ]
     },
     "execution_count": 20,
     "metadata": {},
     "output_type": "execute_result"
    }
   ],
   "source": [
    "sk_data.agg(functions.countDistinct(sk_data.model)).collect()"
   ]
  },
  {
   "cell_type": "code",
   "execution_count": null,
   "metadata": {},
   "outputs": [],
   "source": []
  },
  {
   "cell_type": "code",
   "execution_count": null,
   "metadata": {},
   "outputs": [],
   "source": []
  },
  {
   "cell_type": "code",
   "execution_count": null,
   "metadata": {},
   "outputs": [],
   "source": []
  }
 ],
 "metadata": {
  "kernelspec": {
   "display_name": "Python 3",
   "language": "python",
   "name": "python3"
  },
  "language_info": {
   "codemirror_mode": {
    "name": "ipython",
    "version": 3
   },
   "file_extension": ".py",
   "mimetype": "text/x-python",
   "name": "python",
   "nbconvert_exporter": "python",
   "pygments_lexer": "ipython3",
   "version": "3.10.12"
  }
 },
 "nbformat": 4,
 "nbformat_minor": 2
}
